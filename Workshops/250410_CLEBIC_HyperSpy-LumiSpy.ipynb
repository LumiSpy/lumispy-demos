{
 "cells": [
  {
   "cell_type": "markdown",
   "id": "e5d5f2e2-2a3e-410e-8c98-b7e277ac0bd1",
   "metadata": {},
   "source": [
    "# 2025 Update of HyperSpy/LumiSpy\n",
    "\n",
    "Demo for the **3rd Workshop on Cathodoluminescence and Electron Beam Induced Current**\n",
    "\n",
    "Glasgow, April 10, 2025\n",
    "\n",
    "**Table of Contents:**\n",
    "\n",
    "- [Hyperspectral basic analysis and plotting](#Hyperspectral-basic-analysis-and-plotting)\n",
    "- [Transient fitting](#Transient-fitting)\n",
    "- [Streak image interactivity](#Streak-image-interactivity)\n",
    "- [Streak image fitting](#Streak-image-fitting)"
   ]
  },
  {
   "cell_type": "markdown",
   "id": "a6bbc357-f991-4677-ad8a-8d8e8b3fc0dd",
   "metadata": {},
   "source": [
    "\n",
    "We import the public functions (api = application programming interface) of `HyperSpy`.\n",
    "\n",
    "Some functionalities of `LumiSpy` are directly available if the package is installed, but we can separately load it to access extra utilities.\n",
    "\n",
    "Finally, `matplotlib.pyplot` provides some additional plotting functions and `numpy` numerical operations on arrays that we will use:"
   ]
  },
  {
   "cell_type": "code",
   "execution_count": null,
   "id": "0f8904c6-6f85-4f6c-84da-d704e076e272",
   "metadata": {},
   "outputs": [],
   "source": [
    "import numpy as np \n",
    "\n",
    "import matplotlib.pyplot as plt \n",
    "\n",
    "import hyperspy.api as hs\n",
    "import lumispy as lum\n",
    "\n",
    "# Some environments (like the linked Binder) cannot support the Qt interface, so it may not work properly in those cases.\n",
    "# Consider using alternative backends like %matplotlib inline or %matplotlib notebook for compatibility in such environments.\n",
    "# However, note that some of the presented interactive functionalities will not work with `inline` plotting.\n",
    "%matplotlib qt5"
   ]
  },
  {
   "cell_type": "markdown",
   "id": "392aaed5-2516-40ee-b05d-6409a9879c4d",
   "metadata": {},
   "source": [
    "\n",
    "*We assume the file location as in the demo repository, if you downloaded the notebook and the data files individually, you might need to adapt the path.You can also leave the path empty, a pop-up window will appear to select.*"
   ]
  },
  {
   "cell_type": "markdown",
   "id": "1ed8a813-c049-4d74-885f-c125b602f232",
   "metadata": {},
   "source": [
    "## Hyperspectral basic analysis and plotting\n",
    "\n",
    "*(In the following, we will use the dataset `spectra_map` saved in the Gatan format. The sample contains (In,Ga)N measured by Aidan Campbell at the Paul Drude Institute, Berlin.)*"
   ]
  },
  {
   "cell_type": "code",
   "execution_count": null,
   "id": "7f91d218-6601-4276-bbef-d8f451ece0e4",
   "metadata": {},
   "outputs": [],
   "source": [
    "spectra_map = hs.load('../demo-files/CLEBIC2025/InGaN_hyperspectral.dm4')"
   ]
  },
  {
   "cell_type": "markdown",
   "id": "393ca59e-6b8d-478e-a694-296ee1c39b81",
   "metadata": {},
   "source": [
    "Each HyperSpy signal object has certain attributes that contain the relevant data about the axes, data and metadata.\n",
    "\n",
    "To understand the HyperSpy datastructure, lets have a look at the dataset `spectra_map` (Gatan file).\n",
    "\n",
    "As **LumiSpy** is installed, the dataset is directly recognized as CL data and the `signal_type` set to `CLSpectrum`. (The fallback would be the more generic `Signal1D` if LumiSpy is not installed).\n",
    "\n",
    "The **signal class** provides certain specific routines, for example conversion to energy axis in the case of luminescence data.\n",
    "\n",
    "Our sample dataset has **two navigation dimensions** (60, 60 and **one signal (spectral) dimension** |1336):"
   ]
  },
  {
   "cell_type": "code",
   "execution_count": null,
   "id": "eb44c706-1f86-4c34-801f-cb7b21c3406f",
   "metadata": {
    "tags": []
   },
   "outputs": [],
   "source": [
    "spectra_map"
   ]
  },
  {
   "cell_type": "markdown",
   "id": "256c4c3c-19b8-4016-b9cc-514534aa7965",
   "metadata": {},
   "source": [
    "The information about the axes is stored in the `axes_manager`. Thus, we can get more details about the different axes, by calling the **axes manager**:"
   ]
  },
  {
   "cell_type": "code",
   "execution_count": null,
   "id": "0c39a7d1-eee9-4fa5-af05-64c1986938eb",
   "metadata": {},
   "outputs": [],
   "source": [
    "spectra_map.axes_manager"
   ]
  },
  {
   "cell_type": "markdown",
   "id": "0fecc676-f0a3-4acd-a8fb-0d811ac53717",
   "metadata": {},
   "source": [
    "We can explore the spectrum at every position in the map:"
   ]
  },
  {
   "cell_type": "code",
   "execution_count": null,
   "id": "786b815e-2b20-49e4-815d-bab9f2333e66",
   "metadata": {},
   "outputs": [],
   "source": [
    "spectra_map.plot()"
   ]
  },
  {
   "cell_type": "markdown",
   "id": "665487ff-a826-4a94-9417-d7a4f30d24b6",
   "metadata": {},
   "source": [
    "For most supported file formats, the metadata is automatically parsed into **HyperSpy's metadata tree** and accessed with `.metadata` providing information about the measurement, but potentially also about post-processing. `original_metadata` accesses the **complete metadata from the vendor format** which follows different conventions depending on the format."
   ]
  },
  {
   "cell_type": "code",
   "execution_count": null,
   "id": "fb5b6268-66af-4c42-9d92-866117b79b64",
   "metadata": {},
   "outputs": [],
   "source": [
    "spectra_map.metadata"
   ]
  },
  {
   "cell_type": "markdown",
   "id": "098a7d9d-db39-4f89-96db-f92a02b089b5",
   "metadata": {},
   "source": [
    "The **actual data** (signal intensity) is stored in a numpy array:"
   ]
  },
  {
   "cell_type": "code",
   "execution_count": null,
   "id": "5be19eb8-6370-4ed5-96bf-940bb5f9096d",
   "metadata": {
    "tags": []
   },
   "outputs": [],
   "source": [
    "spectra_map.data"
   ]
  },
  {
   "cell_type": "markdown",
   "id": "9d1d0e90-f19b-4814-9232-db177dfe2331",
   "metadata": {},
   "source": [
    "Numpy style syntax can be used to slice or crop in the navigation and signal axis with `inav` or `isig` respectively. We crop our map to the first 25 pixels in both x and y axes with `inav[x1:x2, y1:y2]`:"
   ]
  },
  {
   "cell_type": "code",
   "execution_count": null,
   "id": "8bd2488d-b120-41dd-af4d-748f4fc50e5b",
   "metadata": {},
   "outputs": [],
   "source": [
    "spectra_map.inav[0:25, 0:25].plot()"
   ]
  },
  {
   "cell_type": "markdown",
   "id": "ae217c70-179f-49e0-9c93-e6e8cb0ac753",
   "metadata": {},
   "source": [
    "Explore spectral map interactively by integrating over an adaptable region of interest (ROI):"
   ]
  },
  {
   "cell_type": "code",
   "execution_count": null,
   "id": "99513031-91f1-4eaf-bc70-e2bce5e5cd8d",
   "metadata": {},
   "outputs": [],
   "source": [
    "hs.plot.plot_roi_map(spectra_map, rois = 2, \n",
    "                     single_figure = True)"
   ]
  },
  {
   "cell_type": "markdown",
   "id": "8221d112-b554-4436-9c31-e27907b25ad9",
   "metadata": {},
   "source": [
    "## Transient fitting"
   ]
  },
  {
   "cell_type": "markdown",
   "id": "3bf2c4b3-5b93-4431-985e-6e17c86dc4ae",
   "metadata": {},
   "source": [
    "*(In the following, we will use the preprocessed dataset `transient_map` saved in the HyperSpy format. The sample contains an (In,Ga)N layer measured by time-correlated single photon counting by Aidan Campbell at the Paul Drude Institute, Berlin.)*"
   ]
  },
  {
   "cell_type": "code",
   "execution_count": null,
   "id": "5c014b49-112a-440f-b39d-605bc664ac29",
   "metadata": {},
   "outputs": [],
   "source": [
    "transient_map = hs.load('../demo-files/CLEBIC2025/InGaN_transient_map.hspy')\n",
    "transient_map.plot()"
   ]
  },
  {
   "cell_type": "markdown",
   "id": "129fa83d-9d12-434b-b8ad-26915f4de83f",
   "metadata": {},
   "source": [
    "For this dataset, we'll obtain the effective lifetimes from our transients.\n",
    "\n",
    "HyperSpy has a range of general models for data fitting."
   ]
  },
  {
   "cell_type": "code",
   "execution_count": null,
   "id": "09bfecb3-1b54-43c4-b2ae-17895250764b",
   "metadata": {},
   "outputs": [],
   "source": [
    "dir(hs.model.components1D)"
   ]
  },
  {
   "cell_type": "markdown",
   "id": "1016cf8c-8bd0-4621-a171-a99a03f086d7",
   "metadata": {},
   "source": [
    "New components can also be defined from custom expressions, we define one for our data as the convolution of a single exponential with a Gaussian - for the instrument response and signal decay, respectively. *Such a component will in the future be directly available in LumiSpy.*"
   ]
  },
  {
   "cell_type": "code",
   "execution_count": null,
   "id": "56fc6b72-e84c-4fca-81b8-732c1ccc5580",
   "metadata": {},
   "outputs": [],
   "source": [
    "Decay1Exp = hs.model.components1D.Expression(\n",
    "    expression =    \"1/2*height*exp(-1*((x-t0) - sigma**2/(2*tau))/tau)*\\\n",
    "                    (1 + erf(((x-t0) - sigma**2/tau)/(sqrt(2)*sigma)))\",\n",
    "    name=\"Decay1Exp\",\n",
    "    height=400,\n",
    "    t0=0.0,\n",
    "    tau=250,\n",
    "    sigma=25,\n",
    "    position=\"t0\",  # Single position parameter for 1D\n",
    "    module=[\"numpy\", \"scipy\"])"
   ]
  },
  {
   "cell_type": "markdown",
   "id": "842a0e61-e5ed-4301-8f1b-5f3ed6535160",
   "metadata": {},
   "source": [
    "We then set up a model using the `Decay1Exp` component and fit this model to all pixels of our map of transients:"
   ]
  },
  {
   "cell_type": "code",
   "execution_count": null,
   "id": "b684af4a-67dc-4147-abe1-658b39965b85",
   "metadata": {},
   "outputs": [],
   "source": [
    "t = Decay1Exp\n",
    "\n",
    "transient_fit = transient_map.create_model()\n",
    "\n",
    "transient_fit.append(t)\n",
    "\n",
    "t.height.value = 300\n",
    "t.t0.value = 2.69\n",
    "t.tau.value = 0.07660186751369041\n",
    "t.sigma.value = 0.114\n",
    "\n",
    "transient_fit.multifit()"
   ]
  },
  {
   "cell_type": "markdown",
   "id": "bacb1133-8472-4cdc-b9ce-4fba588e07d6",
   "metadata": {},
   "source": [
    "To inspect the fit, we can plot our model:"
   ]
  },
  {
   "cell_type": "code",
   "execution_count": null,
   "id": "68b7ff16-012a-4a69-9e27-28256d8b9d04",
   "metadata": {},
   "outputs": [],
   "source": [
    "transient_fit.plot(plot_components=True)"
   ]
  },
  {
   "cell_type": "markdown",
   "id": "e7d6c034-36d5-4d84-9916-be5914b16af0",
   "metadata": {},
   "source": [
    "We now have a fit for all model variables for a transient at every position. We assign the values obtained for the lifetime `tau` to a new signal object:"
   ]
  },
  {
   "cell_type": "code",
   "execution_count": null,
   "id": "3d032038-6076-420d-82f3-c6b5551ac413",
   "metadata": {},
   "outputs": [],
   "source": [
    "tau_fitted = t.tau.as_signal()\n",
    "tau_fitted.plot(cmap = 'plasma', title = 'tau (ns)')"
   ]
  },
  {
   "cell_type": "markdown",
   "id": "2e2cfd62-06ee-4d63-8ca6-895374ff2509",
   "metadata": {},
   "source": [
    "Alternatively, effective lifetimes can be easily obtained from the area under a normalised transient - we use the `map` function that allows to apply any function to every navigation position of a HyperSpy object:"
   ]
  },
  {
   "cell_type": "code",
   "execution_count": null,
   "id": "02c68542-e8ff-4219-a119-b3e648d068c7",
   "metadata": {},
   "outputs": [],
   "source": [
    "transient_map_norm = transient_map.map(lambda I: I / I.max(), \n",
    "                                             inplace = False)\n",
    "\n",
    "tau_integrated = transient_map_norm.integrate1D(axis = 2)"
   ]
  },
  {
   "cell_type": "markdown",
   "id": "fe2dcaf2-03d4-4b76-b661-51cc1ab89b39",
   "metadata": {},
   "source": [
    "Plot the results of the two approaches for comparison. *The value resulting from the normalised, integrated transient is shifted by an offset of about 60 ps due to the Gaussian of the electron pulse being included in the integral*:"
   ]
  },
  {
   "cell_type": "code",
   "execution_count": null,
   "id": "9eb1b3f6-9918-4c31-9a1c-2d162a2c0dc8",
   "metadata": {},
   "outputs": [],
   "source": [
    "hs.plot.plot_images([tau_integrated, tau_fitted],\n",
    "                    cmap = 'plasma', \n",
    "                    axes_decor = None, \n",
    "                    label = ['$τ$ integrated (ns)',\n",
    "                             '$τ$ fit (ns)'],\n",
    "                   scalebar = 'all')"
   ]
  },
  {
   "cell_type": "markdown",
   "id": "403201a9-e31b-43de-9350-bbb50ca567df",
   "metadata": {},
   "source": [
    "## Streak image interactivity"
   ]
  },
  {
   "cell_type": "markdown",
   "id": "6e332185-f47c-40f4-9ebe-ab8f15bcf431",
   "metadata": {},
   "source": [
    "*(In the following, we will use the preprocessed dataset `streak01` saved in the HyperSpy format. The sample contains an AlN layer measured by Domenik Spallek at the Paul Drude Insitute, Berlin.)*"
   ]
  },
  {
   "cell_type": "markdown",
   "id": "1aed43ab-c82f-469d-9766-90c9dfeca57e",
   "metadata": {},
   "source": [
    "The streak images are of the `LumiTransientSpectrum` signal class:"
   ]
  },
  {
   "cell_type": "code",
   "execution_count": null,
   "id": "794d408b-ca40-4f12-9c7c-e44d15d1026a",
   "metadata": {},
   "outputs": [],
   "source": [
    "streak01 = hs.load('../demo-files/CLEBIC2025/AlN_HR_streak_image.hspy')\n",
    "streak01"
   ]
  },
  {
   "cell_type": "code",
   "execution_count": null,
   "id": "75308df4-0074-486a-8e12-0b7f9a267824",
   "metadata": {},
   "outputs": [],
   "source": [
    "streak01.plot(cmap = 'turbo')"
   ]
  },
  {
   "cell_type": "markdown",
   "id": "5901dc00-a063-4b29-b8e8-587eea08fad8",
   "metadata": {},
   "source": [
    "We can interactively inspect our streak image and compare transients from the `sum` of vertical slices on the image using two ROIs:"
   ]
  },
  {
   "cell_type": "code",
   "execution_count": null,
   "id": "8293f292-4f04-44e3-8ce4-656429dc3ea2",
   "metadata": {},
   "outputs": [],
   "source": [
    "# Combine plots in one figure\n",
    "fig = plt.figure(figsize = [8,3.8])\n",
    "subfigs = fig.subfigures(1, 2, wspace=0.07)\n",
    "\n",
    "\n",
    "# Declare regions of interests (ROI)\n",
    "roi1 = hs.roi.SpanROI(left = 204.8, right = 204.9)\n",
    "roi2 = hs.roi.SpanROI(left = 205, right = 205.1)\n",
    "\n",
    "# Plot streak image and add ROIs\n",
    "streak01.plot(fig=subfigs[0], colorbar = False, \n",
    "              title = 'Streak image', cmap = 'turbo')\n",
    "sliced_signal1 = roi1.interactive(streak01, axes=streak01.axes_manager[0], color = 'blue')\n",
    "sliced_signal2 = roi2.interactive(streak01, axes=streak01.axes_manager[0], color = 'red')\n",
    "\n",
    "# Create new signals which are summed from ROI\n",
    "integrated_sliced_signal1 = hs.interactive(\n",
    "    sliced_signal1.sum,\n",
    "    axis=sliced_signal1.axes_manager[0],\n",
    "    event=roi1.events.changed,\n",
    "    recompute_out_event=None)\n",
    "\n",
    "integrated_sliced_signal2 = hs.interactive(\n",
    "    sliced_signal2.sum,\n",
    "    axis=sliced_signal2.axes_manager[0],\n",
    "    event=roi2.events.changed,\n",
    "    recompute_out_event=None)\n",
    "\n",
    "# Plot extracted transients in new figure\n",
    "hs.plot.plot_spectra([integrated_sliced_signal1,\n",
    "                      integrated_sliced_signal2], \n",
    "                     color = ['blue','red'], normalise = True,fig=subfigs[1])"
   ]
  },
  {
   "cell_type": "markdown",
   "id": "1cc1528c-efd2-4dce-89d5-7b0fb7f0fa9d",
   "metadata": {},
   "source": [
    "The sliced signals are automatically cast from the `LumiTransientSpectrum` to the `LumiTransient` signal class of LumiSpy as the signal dimensionality is reduced:"
   ]
  },
  {
   "cell_type": "code",
   "execution_count": null,
   "id": "76b9df93-3636-4ad7-85c0-4e25a5f31e21",
   "metadata": {},
   "outputs": [],
   "source": [
    "integrated_sliced_signal1"
   ]
  },
  {
   "cell_type": "markdown",
   "id": "677eccd1-367e-4740-8c7b-e1a744235e5e",
   "metadata": {},
   "source": [
    "## Streak image fitting"
   ]
  },
  {
   "cell_type": "markdown",
   "id": "e2cc8bab-9401-45b2-8eb7-1eec46d04347",
   "metadata": {},
   "source": [
    "*(In the following, we will use the dataset `streak02`. The sample contains Ga(As,Sb) nanowires measured by Dr. Mikel Gomez from PDI together with Dr. Gunnar Gusch at University of Cambridge and follows an analysis performed in Mikel's doctoral thesis)*"
   ]
  },
  {
   "cell_type": "code",
   "execution_count": null,
   "id": "8ca8d565-84be-4b8c-b7f5-dfdf008b0cf8",
   "metadata": {
    "tags": []
   },
   "outputs": [],
   "source": [
    "streak02 = hs.load(\"../demo-files/CLEBIC2025/GaAsSb_streak_image.hspy\")\n",
    "streak02.axes_manager"
   ]
  },
  {
   "cell_type": "markdown",
   "id": "39f5d52a-e6fb-4b80-9b59-7c7a60466c17",
   "metadata": {},
   "source": [
    "Convert spectral axis from wavelength to energy *(works also for streak images since LumiSpy 0.3)*:"
   ]
  },
  {
   "cell_type": "code",
   "execution_count": null,
   "id": "91124e9a-c00d-4d05-9211-bd8f833c325f",
   "metadata": {},
   "outputs": [],
   "source": [
    "streak02.to_eV(inplace=True)\n",
    "streak02.axes_manager"
   ]
  },
  {
   "cell_type": "code",
   "execution_count": null,
   "id": "b082736b-f3c9-498b-9c7a-d79ea6be2d5e",
   "metadata": {},
   "outputs": [],
   "source": [
    "streak02.plot(cmap = 'turbo')"
   ]
  },
  {
   "cell_type": "markdown",
   "id": "2aca5b52-3e7c-4eef-8270-31cd3a7aac8f",
   "metadata": {},
   "source": [
    "Use the `sum()` wrapper function, we can add up the map in the time axis and get a summed spectrum"
   ]
  },
  {
   "cell_type": "code",
   "execution_count": null,
   "id": "3522dac7-1014-4b3b-b128-938e08e49aff",
   "metadata": {},
   "outputs": [],
   "source": [
    "streak02.sum(axis='Time').plot()"
   ]
  },
  {
   "cell_type": "markdown",
   "id": "c9a07361-deb9-4444-a34a-ebf29be903cc",
   "metadata": {},
   "source": [
    "We identify two convolved peaks, therefore if we want to separate the decays of these two peaks, we cannot simply take vertical slices. \n",
    "\n",
    "Instead, we fit two Gaussians for every pixel along the time axis of the streak image to deconvolute the two contributions:"
   ]
  },
  {
   "cell_type": "code",
   "execution_count": null,
   "id": "7ce5985b-d991-4afb-8171-d31ea332d112",
   "metadata": {
    "scrolled": true,
    "tags": []
   },
   "outputs": [],
   "source": [
    "# We convert our time axis to a navigation axis, \n",
    "# thus our signal becomes a series of spectra \n",
    "# (1D signal) instead of an image (2D Signa):)\n",
    spectral_fit = streak02.time2nav().create_model()
    "\n",
    "g1, g2 = hs.model.components1D.Gaussian(), hs.model.components1D.Gaussian()\n",
    "\n",
    "spectral_fit.extend((g1,g2))\n",
    "\n",
    "g1.centre.bmax = 1.40\n",
    "g1.centre.bmin = 1.39\n",
    "g1.sigma.bmax = 0.04\n",
    "\n",
    "g2.centre.bmin = 1.41\n",
    "g2.sigma.bmax = 0.04\n",
    "\n",
    "spectral_fit.multifit(bounded = True)"
   ]
  },
  {
   "cell_type": "markdown",
   "id": "dab582e2-a813-4853-81ee-3c8b2551479f",
   "metadata": {},
   "source": [
    "Inspect fit:"
   ]
  },
  {
   "cell_type": "code",
   "execution_count": null,
   "id": "a1e5d6d4-bb9e-41a7-9034-a379a945c593",
   "metadata": {},
   "outputs": [],
   "source": [
    "spectral_fit.plot(plot_components = True)"
   ]
  },
  {
   "cell_type": "markdown",
   "id": "185628f2-6508-4904-83ce-3918f97ebf57",
   "metadata": {},
   "source": [
    "From the fit, we use the area parameters of the two Gaussians (A) to create separate signals for the two contributions:"
   ]
  },
  {
   "cell_type": "code",
   "execution_count": null,
   "id": "66528dd2-93c1-47a8-a362-f92ce9998430",
   "metadata": {
    "scrolled": true
   },
   "outputs": [],
   "source": [
    "transient1 = g1.A.as_signal()\n",
    "transient2 = g2.A.as_signal()"
   ]
  },
  {
   "cell_type": "markdown",
   "id": "7da5ce39-c9ae-463b-bde5-d9866803eb3c",
   "metadata": {},
   "source": [
    "Finally, we combine the figures related to this dataset in a single figure:"
   ]
  },
  {
   "cell_type": "code",
   "execution_count": null,
   "id": "0a08756c-4cb0-452b-b94c-4cc992380653",
   "metadata": {},
   "outputs": [],
   "source": [
    "# Define matplotlib figure\n",
    "fig = plt.figure(figsize=[13, 3.6])\n",
    "subfigs = fig.subfigures(1, 3)\n",
    "ax1 = subfigs[1].add_subplot(1, 1, 1)\n",
    "ax2 = subfigs[2].add_subplot(1, 1, 1)\n",
    "\n",
    "\n",
    "# -- Subfig 1: Streak map\n",
    "streak02.plot(cmap='turbo', fig=subfigs[0], title = '')  # Use ax here\n",
    "m = hs.plot.markers.VerticalLines(offsets=[1.394, 1.423], \n",
    "                                  colors=['m', 'g'])\n",
    "streak02.add_marker(m)\n",
    "\n",
    "\n",
    "# -- Subfig 2: Spectra and fit\n",
    "fit = spectral_fit.as_signal()\n",
    "gaussian1 = spectral_fit.as_signal(component_list=['Gaussian'])\n",
    "gaussian2 = spectral_fit.as_signal(component_list=['Gaussian_0'])\n",
    "t = 35 #ps\n",
    "hs.plot.plot_spectra([streak02.isig[:, t],\n",
    "                      fit.inav[t],\n",
    "                      gaussian1.inav[t],\n",
    "                      gaussian2.inav[t]],\n",
    "                     ax=ax1,\n",
    "                     color=['grey', 'k', 'm', 'green'],\n",
    "                     alphas=0.5)\n",
    "ax1.set_xlabel('Energy (eV)')\n",
    "ax1.set_ylabel('CL Intensity (arb. units)')\n",
    "ax1.set_yticks([])\n",
    "\n",
    "\n",
    "# -- Subfig 3: Transients\n",
    "hs.plot.plot_spectra([transient1,\n",
    "                      transient2], \n",
    "                     normalise=True,\n",
    "                     ax=ax2,\n",
    "                     color=['m', 'green'],\n",
    "                     alphas=0.5)\n",
    "ax2.set_yscale('log')\n",
    "ax2.set_ylim(0.01, 1)\n",
    "ax2.set_xlim(0, 250)\n",
    "ax2.set_xlabel('Time (ps)')\n",
    "ax2.set_ylabel('CL Intensity (norm.)')\n",
    "ax2.set_yticks([])"
   ]
  },
  {
   "cell_type": "code",
   "execution_count": null,
   "id": "98c9d894-efc6-4e01-a1f4-505203c1e563",
   "metadata": {},
   "outputs": [],
   "source": []
  }
 ],
 "metadata": {
  "kernelspec": {
   "display_name": "Python 3 (ipykernel)",
   "language": "python",
   "name": "python3"
  },
  "language_info": {
   "codemirror_mode": {
    "name": "ipython",
    "version": 3
   },
   "file_extension": ".py",
   "mimetype": "text/x-python",
   "name": "python",
   "nbconvert_exporter": "python",
   "pygments_lexer": "ipython3",
   "version": "3.13.3"
  }
 },
 "nbformat": 4,
 "nbformat_minor": 5
}
