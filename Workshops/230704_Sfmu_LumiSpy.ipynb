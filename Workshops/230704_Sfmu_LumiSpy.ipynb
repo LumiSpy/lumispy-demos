{
 "cells": [
  {
   "cell_type": "markdown",
   "id": "56268aa7-d0f7-4d53-89bd-102f078c0ac6",
   "metadata": {},
   "source": [
    "# Introduction to LumiSpy\n",
    "\n",
    "> **Luminescence Spectroscopy Data Analysis in Python Using [HyperSpy](https://hyperspy.org)**\n",
    "\n",
    "Tutorial for the **2023 Sfµ Atelier: HyperSpy** at the Sfµ colloque in Rouen\n",
    "\n",
    "> Rouen, July 4, 2023"
   ]
  },
  {
   "cell_type": "markdown",
   "id": "05f59100-c4d5-40ad-b579-068b01e263fa",
   "metadata": {},
   "source": [
    "## Introduction to LumiSpy\n",
    "\n",
    "### What is LumiSpy?\n",
    "\n",
    "- **HyperSpy** extension for luminescence spectroscopy data\n",
    "- Provides the framework to work with photoluminescence (PL), cathodoluminescence (CL), electroluminescence (EL) and Raman spectroscopy\n",
    "- Adds **specific functions**\n",
    "- Work in progress ... open for other contributors"
   ]
  },
  {
   "cell_type": "markdown",
   "id": "f40f9dc5-4607-462e-a96f-01c3d560ec79",
   "metadata": {},
   "source": [
    "### Resources: Getting started and obtaining help\n",
    "- User guide: https://lumispy.org\n",
    "- Tutorial notebooks: https://github.com/LumiSpy/lumispy-demos\n",
    "- HyperSpy resources: [Website](https://hyperspy.org), [User guide](https://hyperspy.org/hyperspy-doc/current/), [Tutorial notebooks](https://github.com/hyperspy/hyperspy-demos), [Gitter chat](https://gitter.im/hyperspy/hyperspy)"
   ]
  },
  {
   "cell_type": "markdown",
   "id": "a07a20b9-7ac8-48c7-a921-af0bfcb45b6a",
   "metadata": {},
   "source": [
    "## Import packages\n",
    "\n",
    "We import the public functions (api = application programming interface) of `HyperSpy`.\n",
    "\n",
    "Object-oriented functionalities of `LumiSpy` are directly available if the package is installed, but we can separately load it to access extra utilities."
   ]
  },
  {
   "cell_type": "code",
   "execution_count": null,
   "id": "25b1b61d-55bc-4b98-89c9-c93318349c1b",
   "metadata": {
    "tags": []
   },
   "outputs": [],
   "source": [
    "# silence some \"WARNINGS\" (only distracting at this stage)\n",
    "import warnings; warnings.simplefilter('ignore')\n",
    "\n",
    "# Use '%matplotlib widget' in JupterLab and '%matplotlib notebook' in JupyterNotebook for interactive inline functionality (e.g. on binder)\n",
    "# For pop-up window plots on your local computer, use '%matplotlib tk' or '%matplotlib qt' instead\n",
    "%matplotlib qt\n",
    "\n",
    "import hyperspy.api as hs\n",
    "import lumispy as lum"
   ]
  },
  {
   "cell_type": "markdown",
   "id": "66376c0a-f096-4731-a7da-a5db842b7429",
   "metadata": {},
   "source": [
    "LumiSpy provides a number of signal classes for luminescence spectroscopy, in particular\n",
    "- Luminescence: wavelength/energy/wavenumber axis\n",
    "  -  CL, PL, EL, ...\n",
    "- Transient: time axis\n",
    "- TransientSpec: 2D signal (e.g. streak camera image) with wavelength/... and time axes\n",
    "\n",
    "We can check the **available signal types**:"
   ]
  },
  {
   "cell_type": "code",
   "execution_count": null,
   "id": "be21b7eb-6fa7-447f-b45a-a20915c94e42",
   "metadata": {
    "tags": []
   },
   "outputs": [],
   "source": [
    "hs.print_known_signal_types()"
   ]
  },
  {
   "cell_type": "markdown",
   "id": "1698fe5e-000b-4d47-9bbf-0ca8bec4c923",
   "metadata": {},
   "source": [
    "## Loading files\n",
    "\n",
    "[HyperSpy](https://hyperspy.org)/[RosettaSciIO](https://hyperspy.org/rosettasciio) support a wide range of spectroscopy related **data file types**:\n",
    "\n",
    "- Gatan `.dm3/.dm4`\n",
    "- Attolight `.sur`\n",
    "- Delmic `.hdf5` (Currently a pull request to RosettaSciIO)\n",
    "- Hamamatsu streak camera images in `.tif` format (Reading the itex `.img` format is currently a pull request to RosettaSciIO)\n",
    "- ... many microscopy specific formats\n",
    "\n",
    "Further spectroscopy-related formats are available through **RosettaSciIO** (fully integrated from HyperSpy v2.0):\n",
    "\n",
    "- Horiba JobinYvon XML `.xml`\n",
    "- TriVista XML `.tvf`\n",
    "- Renishaw wire format `.wdf`\n",
    "\n",
    "We will one spectral map  in the `dm4` format that we will use during the demo:\n",
    "\n",
    "*We assume the file location as in the demo repository, if you downloaded the notebook and the data files individually, you might need to adapt the path.*\n",
    "\n",
    "*You can also leave the path empty. A pop-up window will appear to select.*"
   ]
  },
  {
   "cell_type": "code",
   "execution_count": null,
   "id": "a9c1f7f9-be22-435f-bb50-571fa338c0ad",
   "metadata": {
    "tags": []
   },
   "outputs": [],
   "source": [
    "cl2 = hs.load('../demo-files/load_from_GatanFiles/asymmetric-peak_map.dm4')"
   ]
  },
  {
   "cell_type": "markdown",
   "id": "cc53a990-0a98-4a2d-80fc-e0edd335b7c5",
   "metadata": {},
   "source": [
    "The `signal_type` file is directly set to `CLSpectrum` if LumiSpy is installed. The spectral map contains two navigation and one signal dimension:"
   ]
  },
  {
   "cell_type": "code",
   "execution_count": null,
   "id": "1e629332-30c3-43f4-aa73-47085c9d4da1",
   "metadata": {
    "tags": []
   },
   "outputs": [],
   "source": [
    "cl2"
   ]
  },
  {
   "cell_type": "markdown",
   "id": "23364839-8bfd-4fd1-818e-3b7ddd3f72cb",
   "metadata": {},
   "source": [
    "The `metadata` contains CL specific information from the vendor format in the `Detector`, `Spectrometer` and `Spectrum_image` nodes:"
   ]
  },
  {
   "cell_type": "code",
   "execution_count": null,
   "id": "771702ab-10e2-49d1-99cf-a7fa97f902e4",
   "metadata": {
    "tags": []
   },
   "outputs": [],
   "source": [
    "cl2.metadata"
   ]
  },
  {
   "cell_type": "markdown",
   "id": "4cb37f66-460a-45bd-b8bd-792da12eb8f9",
   "metadata": {},
   "source": [
    "## Plot / Explore\n",
    "\n",
    "We can easily plot and explore the hyperspectral data (drag the marker in the *navigation* window to change the displayed spectrum):"
   ]
  },
  {
   "cell_type": "code",
   "execution_count": null,
   "id": "319b2cd8-caba-4cfa-b422-8d06514e18bd",
   "metadata": {
    "tags": []
   },
   "outputs": [],
   "source": [
    "cl2.plot()"
   ]
  },
  {
   "cell_type": "markdown",
   "id": "8895f840-f1e4-416a-87de-284f743cf027",
   "metadata": {},
   "source": [
    "## Correction of spectral defects\n",
    "\n",
    "The dataset is unprocessed, so we will first use some basic functions for artefact correction:\n",
    "\n",
    "### Remove background (interactive)\n",
    "\n",
    "HyperSpy has an interactive tool for **background removal** that supports various functions, let's start by removing a **simple offset**:\n",
    "1. Select a region to be used to determine the background (lowest signal intensity): On the signal plot click, drag and release\n",
    "2. Select the background type *Offset* (can also be set using the argument `background_type=\"Offset\"`)\n",
    "3. You can still move the region or its boundaries with the mouse and inspect the different spectra using the navigator to make sure the region is right\n",
    "4. Press `Apply`"
   ]
  },
  {
   "cell_type": "code",
   "execution_count": null,
   "id": "9f6c5245-d629-466a-b7d0-5dc3859d7f0e",
   "metadata": {
    "scrolled": true,
    "tags": []
   },
   "outputs": [],
   "source": [
    "cl2.remove_background()"
   ]
  },
  {
   "cell_type": "markdown",
   "id": "d482a077-3c56-4f7e-930b-27bfba6c6e4d",
   "metadata": {},
   "source": [
    "### Remove last pixels from the spectrum\n",
    "\n",
    "The signal beyond 800 nm goes to negative values, so lets remove the last three pixels from every spectrum (using signal indexation) and replace the original signal.\n",
    "\n",
    "*NOTE: Indexation operates on pixel in the signal dimension if the given number is an integer and on the calibrated (wavelength axis) if a float value is used as index.*"
   ]
  },
  {
   "cell_type": "code",
   "execution_count": null,
   "id": "ff4d54bf-6f5b-4e19-b4d9-94172015dbb4",
   "metadata": {
    "tags": []
   },
   "outputs": [],
   "source": [
    "cl2 = cl2.isig[:-3]"
   ]
  },
  {
   "cell_type": "code",
   "execution_count": null,
   "id": "406d8aca-3214-472b-95d2-9a030880f1b9",
   "metadata": {
    "tags": []
   },
   "outputs": [],
   "source": [
    "cl2.plot()"
   ]
  },
  {
   "cell_type": "markdown",
   "id": "60dbd358-01cc-47f4-a231-269ebbcf68d7",
   "metadata": {},
   "source": [
    "### Remove spikes (interactive)\n",
    "\n",
    "There is also a tool for interactive removal of cosmic rays (pixels with sharp spikes), see `Help` for instructions.\n",
    "\n",
    "In brief:\n",
    "- Inspect the derivative histogram\n",
    "- Set a sensible threshold to catch the outliers in the histogram (8 is a sensible threshold for this dataset)\n",
    "- Iterate through `Find next` / `Remove spike` to continue for wrong identifications / remove identified spikes\n",
    "- `Close` when finished\n",
    "\n",
    "*NOTE: The interactive version does not work well with inline plotting (e.g. on binder). You can also do an automatic best guess spikes removal by passing `interactive=False`.*"
   ]
  },
  {
   "cell_type": "code",
   "execution_count": null,
   "id": "4859df00-e774-449f-9d3a-93619f9b8ee0",
   "metadata": {
    "tags": []
   },
   "outputs": [],
   "source": [
    "cl2.spikes_removal_tool()"
   ]
  },
  {
   "cell_type": "markdown",
   "id": "af8a40cd-20fa-4572-a96b-1b808d3260c7",
   "metadata": {},
   "source": [
    "### Data smoothing\n",
    "\n",
    "The current dataset is quite noisy. As the peak is broad in comparison with the spectral resolution, one way to improve that is by **rebinning** the data along the signal axis:"
   ]
  },
  {
   "cell_type": "code",
   "execution_count": null,
   "id": "492be9e3-7ca4-4d43-a77c-d9c4bc10d2f7",
   "metadata": {
    "tags": []
   },
   "outputs": [],
   "source": [
    "cl2 = cl2.rebin(scale=[1,1,2])\n",
    "cl2.plot()"
   ]
  },
  {
   "cell_type": "markdown",
   "id": "6cf3bea2-db20-4aae-982e-97a9f986c391",
   "metadata": {},
   "source": [
    "Additionally, HyperSpy provides three different functions for **data smoothing**:\n",
    "\n",
    "- `smooth_lowess` (lowess smoothing)\n",
    "- `smooth_savitzky_golay` (Savitzky Golay filter)\n",
    "- `smooth_tv` (total variation data smoothing)\n",
    "\n",
    "These functions can be run interactively to choose the right parameters, but the parameters can also be passed to the function. You can play with the parameters and get a live preview, and hit `Apply` when you are happy with the smoothed curve.\n",
    "\n",
    "*As we want to use the non-smoothed data later for fitting the data, we first make a copy of the dataset.*"
   ]
  },
  {
   "cell_type": "code",
   "execution_count": null,
   "id": "eba61e65-fe0c-4bb5-9e5c-639cbc3bfa68",
   "metadata": {
    "tags": []
   },
   "outputs": [],
   "source": [
    "cl2a = cl2.deepcopy()\n",
    "cl2.smooth_lowess(number_of_iterations = 2)"
   ]
  },
  {
   "cell_type": "markdown",
   "id": "7f37d2c2-c702-4ddd-a381-ffc5c7fda9b4",
   "metadata": {},
   "source": [
    "## Peak identification / Centroid / Peak width\n",
    "\n",
    "In particular for asymmetric peaks, fitting might not always be the best way to determine peak characteristics (though asymmetric functions, such as the skew normal distribution are provided). Therefore HyperSpy provides a number of additional routines.\n",
    "\n",
    "Peaks can be identified and characterized using the **peak finder** routine `find_peaks1D_ohaver` that is based on the downwards zero crossing of the first derivative.\n",
    "\n",
    "*For these routines, it is helpful to operate on the smoothed dataset. As we have some side-peaks, we operate on a subrange of the wavelength axis defined by `isig`.*"
   ]
  },
  {
   "cell_type": "code",
   "execution_count": null,
   "id": "e54506f3-d4e6-4fcc-9813-2e333b2f5d9a",
   "metadata": {
    "tags": []
   },
   "outputs": [],
   "source": [
    "peaks = cl2.isig[600.:].find_peaks1D_ohaver(maxpeakn = 1)"
   ]
  },
  {
   "cell_type": "markdown",
   "id": "34d1c50b-9fbd-408b-b57d-3c302e0290cb",
   "metadata": {},
   "source": [
    "The function **returns a structured array** that contains `position`, `height` and `width` for every pixel (potentially each for multiple peaks)."
   ]
  },
  {
   "cell_type": "code",
   "execution_count": null,
   "id": "c6757d77-af4e-4d18-a434-009c870f9fc7",
   "metadata": {
    "tags": []
   },
   "outputs": [],
   "source": [
    "peaks[0,0]"
   ]
  },
  {
   "cell_type": "markdown",
   "id": "e859676b-00b0-4258-8465-66c4ddc3bdd2",
   "metadata": {},
   "source": [
    "Especially for broad, asymmetric emission bands, the position of the maximum intensity might be of limited value. Therefore, **LumiSpy** provides an additional `centroid` function that determines the **centre of mass** of a peak.\n",
    "\n",
    "Required version: lumispy>=0.2.2\n",
    "\n",
    "*Note that, as with fitting, it might make more sense to run these routines in the energy domain after a Jacobian transformation than to convert the result - in particular for broad emission bands.*"
   ]
  },
  {
   "cell_type": "code",
   "execution_count": null,
   "id": "e2bfd214-a3d7-43bc-8c60-9be458e60e19",
   "metadata": {
    "tags": []
   },
   "outputs": [],
   "source": [
    "com = cl2.isig[600.:].centroid()"
   ]
  },
  {
   "cell_type": "markdown",
   "id": "c71be7e5-cae0-4dec-8179-f5b66d1b5d12",
   "metadata": {},
   "source": [
    "The result is a new `signal` that we can plot as a colormap using the HyperSpy functionality:"
   ]
  },
  {
   "cell_type": "code",
   "execution_count": null,
   "id": "28fb5f2e-eb83-45f6-8d28-bfd7f1e8edd5",
   "metadata": {},
   "outputs": [],
   "source": [
    "com.plot(cmap='viridis')"
   ]
  },
  {
   "cell_type": "markdown",
   "id": "aba45f80-5e95-47c7-b42a-dfc18da6c62a",
   "metadata": {},
   "source": [
    "You can also determine the **width of a peak** directly from the signal without fitting a model to the data. Again useful for asymmetric peaks. To plot the FWHM interval, we set `return_interval=True` (the returned list then contains three arrays: *width*, as well as *left position* and *right position* of the interval). \n",
    "\n",
    "The default is to determine the **FWHM**, i.e. a `factor=0.5`. This value can be set to any other fraction of the peak height."
   ]
  },
  {
   "cell_type": "code",
   "execution_count": null,
   "id": "a86d00f1-0334-40f7-9b94-0b217e630d4f",
   "metadata": {
    "tags": []
   },
   "outputs": [],
   "source": [
    "width = cl2.isig[600.:].estimate_peak_width(return_interval=True)"
   ]
  },
  {
   "cell_type": "code",
   "execution_count": null,
   "id": "91e4524f-8576-431f-8443-c298a24ae99e",
   "metadata": {},
   "outputs": [],
   "source": [
    "width[0].plot(cmap='viridis')"
   ]
  },
  {
   "cell_type": "markdown",
   "id": "dc26a5d5-d357-4d46-b1a6-a73cab47e958",
   "metadata": {},
   "source": [
    "Now we can **add markers** for the *FWHM interval* (grey) and the *centre of mass* (black) to the signal object and plot them on the spectra.\n",
    "\n",
    "*Note that all markers will be renamed in HyperSpy 2.0, `vertical_line` will be replaced by `VerticalLine`*"
   ]
  },
  {
   "cell_type": "code",
   "execution_count": null,
   "id": "46483bc2-2869-4577-83d4-89d70f8ab951",
   "metadata": {
    "tags": []
   },
   "outputs": [],
   "source": [
    "mrk = hs.plot.markers.vertical_line(com.data, color='black')\n",
    "mrkl = hs.plot.markers.vertical_line(width[1].data, color='grey')\n",
    "mrkr = hs.plot.markers.vertical_line(width[2].data, color='grey')\n",
    "cl2.add_marker([mrk,mrkl,mrkr], permanent=True)\n",
    "cl2.plot()"
   ]
  },
  {
   "cell_type": "markdown",
   "id": "dc5a8de3-a093-4c65-a25d-e07cf90ae15d",
   "metadata": {},
   "source": [
    "## Axes types / Convert to energy scale\n",
    "\n",
    "*(Required versions: hyperspy>=1.7.0 and lumispy>=0.2.0)*\n",
    "\n",
    "HyperSpy has different types of axes:\n",
    "- The standard `UniformDataAxis` is defined through an `offset` and a `scale` (delta between pixels)\n",
    "- A `FunctionalDataAxis` is defined through a `UniformDataAxis` and a `function` to convert the values\n",
    "- A more general `DataAxis` is defined through an `axis` vector/array\n",
    "\n",
    "The *wavelength* scale of our sample object is a `UniformDataAxis`:"
   ]
  },
  {
   "cell_type": "code",
   "execution_count": null,
   "id": "992b54ca-5055-464e-87a0-42b3eb65bddf",
   "metadata": {},
   "outputs": [],
   "source": [
    "cl2a.axes_manager"
   ]
  },
  {
   "cell_type": "markdown",
   "id": "a9fac1e7-dbbd-4d53-9d89-5edeeb7d7b03",
   "metadata": {},
   "source": [
    "*LumiSpy* provides easy conversions of the signal axis to the **energy scale**:\n",
    "\n",
    "It can either replace the axis in the existing object (default) or create a copy of the signal object with the new axis (`inplace=False`).\n",
    "\n",
    "*The conversion routine also performs a Jacobian transformation on the intensity to ensure that integrated signals in certain ranges remain comparable. See the [user guide](https://docs.lumispy.org/en/latest/user_guide/signal_axis.html#jacobian-transformation) for further information.*"
   ]
  },
  {
   "cell_type": "code",
   "execution_count": null,
   "id": "06b916a9-43c0-49cf-8967-ef1acd064931",
   "metadata": {
    "tags": []
   },
   "outputs": [],
   "source": [
    "cl2_eV = cl2a.to_eV(inplace=False)"
   ]
  },
  {
   "cell_type": "markdown",
   "id": "36854109-e216-45aa-955a-3639b87c909c",
   "metadata": {},
   "source": [
    "The signal axis is now a *non-uniform axis*:"
   ]
  },
  {
   "cell_type": "code",
   "execution_count": null,
   "id": "eff05797-a98b-4767-bdd2-73f216fa35ad",
   "metadata": {
    "tags": []
   },
   "outputs": [],
   "source": [
    "cl2_eV.axes_manager"
   ]
  },
  {
   "cell_type": "markdown",
   "id": "46c12abb-722a-4ad3-9348-cb95d4701a6e",
   "metadata": {},
   "source": [
    "This axis is defined through an axis vector:"
   ]
  },
  {
   "cell_type": "code",
   "execution_count": null,
   "id": "44205936-fb45-4ff5-b851-21764dfc6e61",
   "metadata": {
    "tags": []
   },
   "outputs": [],
   "source": [
    "cl2_eV.axes_manager[-1].axis"
   ]
  },
  {
   "cell_type": "code",
   "execution_count": null,
   "id": "c0be2993-ab58-42b0-a889-d2915e02ede0",
   "metadata": {
    "tags": []
   },
   "outputs": [],
   "source": [
    "cl2_eV.plot()"
   ]
  },
  {
   "cell_type": "markdown",
   "id": "edafa08b-9621-4772-a21c-31c076dde247",
   "metadata": {},
   "source": [
    "## Model fitting\n",
    "\n",
    "We will introduce very basic fitting functionality using the non-smoothed version of our dataset. For more details see other tutorials among the [LumiSpy-demos](https://github.com/LumiSpy/lumispy-demos) and the `Fitting_tutorial` in the [HyperSpy demos repository](https://github.com/hyperspy/hyperspy-demos).\n",
    "\n",
    "Note that HyperSpy has a range of [built-in functions](https://hyperspy.org/hyperspy-doc/current/user_guide/model.html#pre-defined-model-components) covering most needs that can be added as components to a model. However, it also has an intuitive mechanism to [define custom functions](https://hyperspy.org/hyperspy-doc/current/user_guide/model.html#define-components-from-a-mathematical-expression).\n",
    "\n",
    "First, we need to **initialize the model**:"
   ]
  },
  {
   "cell_type": "code",
   "execution_count": null,
   "id": "dad1856e-e34a-490b-9a7f-45a29eda81a5",
   "metadata": {
    "tags": []
   },
   "outputs": [],
   "source": [
    "m = cl2_eV.create_model()"
   ]
  },
  {
   "cell_type": "markdown",
   "id": "ca0ae882-5c1e-4be9-b159-c118d3bcfb0e",
   "metadata": {},
   "source": [
    "**Check the components** of the model (should be empty, but for some types of signals like EDS and EELS, the model is automatically initialized with components):"
   ]
  },
  {
   "cell_type": "code",
   "execution_count": null,
   "id": "c55b8ec5-948f-4d35-9fc4-9f969660cb09",
   "metadata": {
    "tags": []
   },
   "outputs": [],
   "source": [
    "m.components"
   ]
  },
  {
   "cell_type": "markdown",
   "id": "5978513c-e880-464e-9ff5-2b7d96a3f49d",
   "metadata": {},
   "source": [
    "We need to **create some components** and **add them to the model**.\n",
    "\n",
    "As the emission peak in our dataset is rather asymmetric, we will use a single `SkewNormal` component:"
   ]
  },
  {
   "cell_type": "code",
   "execution_count": null,
   "id": "920559d1-c4df-45ec-acc5-358bda51c7bb",
   "metadata": {
    "tags": []
   },
   "outputs": [],
   "source": [
    "g1 = hs.model.components1D.SkewNormal()\n",
    "m.append(g1) # m.extend([g1,g2])\n",
    "m.components"
   ]
  },
  {
   "cell_type": "markdown",
   "id": "79942ef4-5baf-45a1-a4fe-2301e7d0dfec",
   "metadata": {},
   "source": [
    "To see the parameters of our components and their default values, we can **print all parameter values**:"
   ]
  },
  {
   "cell_type": "code",
   "execution_count": null,
   "id": "93d8bbdb-70f0-459c-b1b6-a143ba8fdf9e",
   "metadata": {
    "tags": []
   },
   "outputs": [],
   "source": [
    "m.print_current_values()"
   ]
  },
  {
   "cell_type": "markdown",
   "id": "77bc8c97-0284-4e0e-898e-86b761deb89a",
   "metadata": {},
   "source": [
    "To apply the fit to all the spectra in the map, we use the `multifit` command.\n",
    "\n",
    "In the current case of a single, well defined peak, we achieve a good fit without adjusting the initial values of the parameters or setting any boundaries."
   ]
  },
  {
   "cell_type": "code",
   "execution_count": null,
   "id": "df66873d-98f8-4cbd-bc46-9b16d1e7f137",
   "metadata": {
    "tags": []
   },
   "outputs": [],
   "source": [
    "m.multifit()"
   ]
  },
  {
   "cell_type": "markdown",
   "id": "8832f073-e4e9-487b-96d5-e2155d0a36ac",
   "metadata": {},
   "source": [
    "We can now **plot the model** together with the data:"
   ]
  },
  {
   "cell_type": "code",
   "execution_count": null,
   "id": "e8933b94-c783-4789-b2e5-5cc22d6db509",
   "metadata": {
    "tags": []
   },
   "outputs": [],
   "source": [
    "m.plot()"
   ]
  },
  {
   "cell_type": "markdown",
   "id": "40e95f63-305a-40df-806b-d5032df92bf8",
   "metadata": {},
   "source": [
    "The `SkewNormal` component represents the asymmetry of the peak very well, but does not fully reproduce the height of the main part of the peak.\n",
    "\n",
    "We can also print the parameter values at the current index:"
   ]
  },
  {
   "cell_type": "code",
   "execution_count": null,
   "id": "e7d7dba8-8210-40e6-8451-74e754b680f0",
   "metadata": {
    "tags": []
   },
   "outputs": [],
   "source": [
    "m.print_current_values()"
   ]
  },
  {
   "cell_type": "markdown",
   "id": "6a77e1a3-4e8d-46e5-950d-7729a4ca68df",
   "metadata": {},
   "source": [
    "### Now try with your own data!"
   ]
  }
 ],
 "metadata": {
  "kernelspec": {
   "display_name": "Python 3 (ipykernel)",
   "language": "python",
   "name": "python3"
  },
  "language_info": {
   "codemirror_mode": {
    "name": "ipython",
    "version": 3
   },
   "file_extension": ".py",
   "mimetype": "text/x-python",
   "name": "python",
   "nbconvert_exporter": "python",
   "pygments_lexer": "ipython3",
   "version": "3.11.3"
  }
 },
 "nbformat": 4,
 "nbformat_minor": 5
}
