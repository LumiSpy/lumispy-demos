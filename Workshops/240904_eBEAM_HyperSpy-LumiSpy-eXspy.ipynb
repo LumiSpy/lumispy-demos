{
 "cells": [
  {
   "cell_type": "markdown",
   "metadata": {},
   "source": [
    "# Introduction to *HyperSpy*, *LumiSpy* and *eXSpy*\n",
    "\n",
    "> **Spectroscopy Data Analysis in Python Using [HyperSpy](https://hyperspy.org)**\n",
    "\n",
    "Tutorial for the **eBEAM2024 school on nano-optics with free electrons**\n",
    "\n",
    "> Aussois, September 1-13, 2024\n",
    "\n",
    "**Table of Contents:**\n",
    "\n",
    "- [Import packages](#Import-packages)\n",
    "- [Loading files](#Loading-files)\n",
    "- [Data structure / Axes handling](#Data-structure-/-Axes-handling)\n",
    "- [Metadata](#Metadata)\n",
    "- [Plot / Explore](#Plot-/-Explore)\n",
    "- [Indexing](#Indexing)\n",
    "- [Correction of spectral defects](#Correction-of-spectral-defects)\n",
    "- [Basic model fitting](#Basic-model-fitting)\n",
    "- [Peak identification / Centroid / Peak width](#Peak-identification-/-Centroid-/-Peak-width)\n",
    "- [Axes types / Convert to energy scale](#Axes-types-/-Convert-to-energy-scale)\n",
    "- [Model fitting](#Model-fitting)\n",
    "- [Advanced fitting example](#Advanced-fitting-example)"
   ]
  },
  {
   "cell_type": "markdown",
   "metadata": {},
   "source": [
    "## Import packages\n",
    "\n",
    "We import the public functions (api = application programming interface) of `HyperSpy`.\n",
    "\n",
    "Some functionalities of `LumiSpy` are directly available if the package is installed, but we can separately load it to access extra utilities.\n",
    "\n",
    "Finally, `matplotlib.pyplot` provides some additional plotting functions and `numpy` numerical operations on arrays that we will use:"
   ]
  },
  {
   "cell_type": "code",
   "execution_count": 1,
   "metadata": {},
   "outputs": [],
   "source": [
    "# silence some \"WARNINGS\" (only distracting at this stage)\n",
    "import warnings; warnings.simplefilter('ignore')\n",
    "\n",
    "# Use '%matplotlib widget' in JupterLab and '%matplotlib notebook' in JupyterNotebook for interactive inline functionality (e.g. on binder)\n",
    "# For pop-up window plots on your local computer, use '%matplotlib tk' or '%matplotlib qt' instead\n",
    "%matplotlib widget\n",
    "\n",
    "import hyperspy.api as hs\n",
    "import lumispy as lum\n",
    "import matplotlib.pyplot as plt\n",
    "import numpy as np\n",
    "\n",
    "# Plot multiple inline figures side-by-side horizontally \n",
    "hs.preferences.Plot.widget_plot_style = 'horizontal'"
   ]
  },
  {
   "cell_type": "markdown",
   "metadata": {},
   "source": [
    "**LumiSpy** and **eXSpy** provide dedicated signal classes.\n",
    "\n",
    "We can check the **available signal types**:"
   ]
  },
  {
   "cell_type": "code",
   "execution_count": null,
   "metadata": {},
   "outputs": [],
   "source": [
    "hs.print_known_signal_types()"
   ]
  },
  {
   "cell_type": "markdown",
   "metadata": {},
   "source": [
    "## Loading files\n",
    "\n",
    "For saving analyses, HyperSpy has its own hdf5-based data format `.hspy`.\n",
    "\n",
    "**RosettaSciIO** provides support for a wide range of microscopy (and spectroscopy) related **data file types**!\n",
    "\n",
    "We will load three files that we will use during the demo. A preprocessed dataset saved in the `hspy` format and two maps in the `dm4` (Gatan) format:\n",
    "\n",
    "*We assume the file location as in the demo repository, if you downloaded the notebook and the data files individually, you might need to adapt the path.*\n",
    "\n",
    "*You can also leave the path empty. A pop-up window will appear to select.*"
   ]
  },
  {
   "cell_type": "code",
   "execution_count": 2,
   "metadata": {
    "scrolled": true
   },
   "outputs": [],
   "source": [
    "cl1 = hs.load(\"../demo-files/01/01_demo.hspy\")\n",
    "cl2 = hs.load(\"../demo-files/load_from_GatanFiles/asymmetric-peak_map.dm4\")\n",
    "cl3 = hs.load(\"../demo-files/load_from_GatanFiles/quantum-emitters_map.dm4\")"
   ]
  },
  {
   "cell_type": "markdown",
   "metadata": {},
   "source": [
    "To see **parameters** that the function takes, in Jupyter, you can **display the docstring** by using a `?`:"
   ]
  },
  {
   "cell_type": "code",
   "execution_count": null,
   "metadata": {
    "tags": []
   },
   "outputs": [],
   "source": [
    "hs.load?"
   ]
  },
  {
   "cell_type": "markdown",
   "metadata": {},
   "source": [
    "## Data structure / Axes handling\n",
    "\n",
    "Each HyperSpy signal object has certain attributes that contain the relevant data about the axes, data and metadata.\n",
    "\n",
    "To understand the HyperSpy datastructure, lets have a look at the dataset `cl2` (Gatan file).\n",
    "\n",
    "As **LumiSpy** is installed, the dataset is directly recognized as CL data and the `signal_type` set to `CLSpectrum`. (The fallback would be the more generic `Signal1D` if LumiSpy is not installed).\n",
    "\n",
    "The **signal class** provides certain specific routines, for example conversion to energy axis in the case of luminescence data.\n",
    "\n",
    "Our sample dataset has **two navigation dimensions** and **one signal (spectral) dimension**:"
   ]
  },
  {
   "cell_type": "code",
   "execution_count": null,
   "metadata": {
    "tags": []
   },
   "outputs": [],
   "source": [
    "cl2"
   ]
  },
  {
   "cell_type": "markdown",
   "metadata": {},
   "source": [
    "The information about the axes is stored in the `axes_manager`. Thus, we can get more details about the different axes, by calling the **axes manager**:"
   ]
  },
  {
   "cell_type": "code",
   "execution_count": null,
   "metadata": {
    "tags": []
   },
   "outputs": [],
   "source": [
    "cl2.axes_manager"
   ]
  },
  {
   "cell_type": "markdown",
   "metadata": {},
   "source": [
    "The **actual data** (signal intensity) is stored in a numpy array:"
   ]
  },
  {
   "cell_type": "code",
   "execution_count": null,
   "metadata": {
    "tags": []
   },
   "outputs": [],
   "source": [
    "cl2.data"
   ]
  },
  {
   "cell_type": "markdown",
   "metadata": {
    "tags": []
   },
   "source": [
    "## Metadata\n",
    "\n",
    "For most supported file formats, the metadata is automatically parsed into **HyperSpy's metadata tree**.\n",
    "It contains information about the measurement, but potentially also about post-processing:"
   ]
  },
  {
   "cell_type": "code",
   "execution_count": null,
   "metadata": {},
   "outputs": [],
   "source": [
    "cl2.metadata"
   ]
  },
  {
   "cell_type": "markdown",
   "metadata": {},
   "source": [
    "In a separate tree, the **complete metadata from the vendor format** is read in (which follows different conventions depending on the format):"
   ]
  },
  {
   "cell_type": "code",
   "execution_count": null,
   "metadata": {
    "tags": []
   },
   "outputs": [],
   "source": [
    "cl2.original_metadata"
   ]
  },
  {
   "cell_type": "markdown",
   "metadata": {},
   "source": [
    "## Plot / Explore\n",
    "\n",
    "We can easily plot and explore the hyperspectral data (drag the marker in the *navigation* window to change the displayed spectrum):\n",
    "\n",
    "*(In the following, we will use the preprocessed dataset `cl1`. The sample contains MethylammoniumLead Bromine (MAPbBr3) perovskite single crystals fabricated by Alice Dearle.)*"
   ]
  },
  {
   "cell_type": "code",
   "execution_count": null,
   "metadata": {
    "collapsed": false,
    "jupyter": {
     "outputs_hidden": false
    },
    "pycharm": {
     "name": "#%%\n"
    }
   },
   "outputs": [],
   "source": [
    "cl1.plot()"
   ]
  },
  {
   "cell_type": "markdown",
   "metadata": {},
   "source": [
    "Plot the **average CL spectrum** of the whole map:"
   ]
  },
  {
   "cell_type": "code",
   "execution_count": null,
   "metadata": {},
   "outputs": [],
   "source": [
    "cl1.mean().plot()"
   ]
  },
  {
   "cell_type": "markdown",
   "metadata": {},
   "source": [
    "## Indexing\n",
    "\n",
    "HyperSpy has a powerful numpy (Matlab) style indexing mechanism that distinguishes between navigation and signal axes:\n",
    "\n",
    "- `.inav[x1:x2,y1:y2]`\n",
    "- `.isig[s1:s2]`\n",
    "\n",
    "The index parameters can be either:\n",
    "- Integer: Index in the axis array\n",
    "- Float: Value in calibrated axis units\n",
    "\n",
    "For example, we can either plot a subset of the map in navigation space (selected using pixels as index):"
   ]
  },
  {
   "cell_type": "code",
   "execution_count": null,
   "metadata": {
    "tags": []
   },
   "outputs": [],
   "source": [
    "cl1.inav[2:23,0:20].plot()"
   ]
  },
  {
   "cell_type": "markdown",
   "metadata": {},
   "source": [
    "Or, we can plot the mean spectrum in a certain spectral range (selected using wavelength units):"
   ]
  },
  {
   "cell_type": "code",
   "execution_count": null,
   "metadata": {
    "tags": []
   },
   "outputs": [],
   "source": [
    "cl1.isig[440.:600.].mean().plot()"
   ]
  },
  {
   "cell_type": "markdown",
   "metadata": {},
   "source": [
    "### Chromatic imaging:\n",
    "\n",
    "Indexing can also be used for color-filtered (chromatic) imaging.\n",
    "\n",
    "First, lets plot the **panchromatic image**:\n",
    "\n",
    "*(the object is transposed, so that we plot the intensity over navigation instead of signal dimensions)*"
   ]
  },
  {
   "cell_type": "code",
   "execution_count": null,
   "metadata": {
    "pycharm": {
     "name": "#%%\n"
    }
   },
   "outputs": [],
   "source": [
    "cl1.T.mean().plot(cmap='viridis')"
   ]
  },
  {
   "cell_type": "markdown",
   "metadata": {},
   "source": [
    "Now, we can **plot the intensity in a selected spectral window** (color-filtered image) using indexing:"
   ]
  },
  {
   "cell_type": "code",
   "execution_count": null,
   "metadata": {
    "tags": []
   },
   "outputs": [],
   "source": [
    "cl1.isig[480.:550.].T.mean().plot(cmap='viridis')"
   ]
  },
  {
   "cell_type": "markdown",
   "metadata": {
    "pycharm": {
     "name": "#%% md\n"
    }
   },
   "source": [
    "Alternatively, we can interactively select a spectral window (color-filtered image) using regions of interest:"
   ]
  },
  {
   "cell_type": "code",
   "execution_count": null,
   "metadata": {
    "collapsed": false,
    "jupyter": {
     "outputs_hidden": false
    },
    "pycharm": {
     "name": "#%%\n"
    }
   },
   "outputs": [],
   "source": [
    "im = cl1.T\n",
    "im.plot()\n",
    "roi1 = hs.roi.SpanROI(left=455, right=485) #sets a digitalbandfilter\n",
    "im_roi1 = roi1.interactive(im, color=\"red\")\n",
    "im_roi1_mean = hs.interactive(im_roi1.mean,\n",
    "                          event=roi1.events.changed,\n",
    "                          recompute_out_event=None)\n",
    "im_roi1_mean.plot(cmap='viridis')"
   ]
  },
  {
   "cell_type": "markdown",
   "metadata": {},
   "source": [
    "## Correction of spectral defects\n",
    "\n",
    "Working on the unprocessed dataset `cl2`, we can introduce some basic functions for artefact correction:\n",
    "\n",
    "### Remove background (interactive)\n",
    "\n",
    "HyperSpy has an interactive tool for **background removal** that supports various functions, let's start by removing a **simple offset**:\n",
    "1. Select a region to be used to determine the background (lowest signal intensity): On the signal plot click, drag and release\n",
    "2. Select the background type *Offset* (can also be set using the argument `background_type=\"Offset\"`)\n",
    "3. You can still move the region or its boundaries with the mouse and inspect the different spectra using the navigator to make sure the region is right\n",
    "4. Press `Apply`"
   ]
  },
  {
   "cell_type": "code",
   "execution_count": 3,
   "metadata": {
    "tags": []
   },
   "outputs": [
    {
     "data": {
      "application/vnd.jupyter.widget-view+json": {
       "model_id": "2f9adba6be29430890ba513f2cd1afc7",
       "version_major": 2,
       "version_minor": 0
      },
      "text/plain": [
       "HBox(children=(Canvas(toolbar=Toolbar(toolitems=[('Home', 'Reset original view', 'home', 'home'), ('Back', 'Ba…"
      ]
     },
     "metadata": {},
     "output_type": "display_data"
    },
    {
     "data": {
      "application/vnd.jupyter.widget-view+json": {
       "model_id": "",
       "version_major": 2,
       "version_minor": 0
      },
      "text/plain": [
       "VBox(children=(FloatText(value=nan, description='Left', disabled=True), FloatText(value=nan, description='Righ…"
      ]
     },
     "metadata": {},
     "output_type": "display_data"
    },
    {
     "name": "stderr",
     "output_type": "stream",
     "text": [
      "The module://ipympl.backend_nbagg matplotlib backend is not compatible with the traitsui GUI elements. For more information, read http://hyperspy.readthedocs.io/en/stable/user_guide/getting_started.html#possible-warnings-when-importing-hyperspy.\n"
     ]
    }
   ],
   "source": [
    "cl2.plot()\n",
    "cl2.remove_background(background_type=\"Offset\")"
   ]
  },
  {
   "cell_type": "markdown",
   "metadata": {},
   "source": [
    "### Remove last pixels from the spectrum\n",
    "\n",
    "The signal beyond 800 nm goes to negative values, so lets remove the last three pixels from every spectrum (using signal indexation) and replace the original signal.\n",
    "\n",
    "*NOTE: Indexation operates on pixel in the signal dimension if the given number is an integer and on the calibrated (wavelength axis) if a float value is used as index.*"
   ]
  },
  {
   "cell_type": "code",
   "execution_count": 4,
   "metadata": {
    "tags": []
   },
   "outputs": [],
   "source": [
    "cl2 = cl2.isig[:-3]"
   ]
  },
  {
   "cell_type": "code",
   "execution_count": null,
   "metadata": {},
   "outputs": [],
   "source": [
    "cl2.plot()"
   ]
  },
  {
   "cell_type": "markdown",
   "metadata": {},
   "source": [
    "### Remove spikes (interactive)\n",
    "\n",
    "There is also a tool for interactive removal of cosmic rays (pixels with sharp spikes), see `Help` for instructions.\n",
    "\n",
    "In brief:\n",
    "- Inspect the derivative histogram\n",
    "- Set a sensible threshold to catch the outliers in the histogram (8 is a sensible threshold for this dataset)\n",
    "- Iterate through `Find next` / `Remove spike` to continue for wrong identifications / remove identified spikes\n",
    "- `Close` when finished\n",
    "\n",
    "*NOTE: The interactive version does not work well with inline plotting. You can also do an automatic best guess spikes removal by passing `interactive=False`.*"
   ]
  },
  {
   "cell_type": "code",
   "execution_count": 5,
   "metadata": {
    "tags": []
   },
   "outputs": [
    {
     "name": "stdout",
     "output_type": "stream",
     "text": [
      "\u001b[33;20mWARNING | Hyperspy | Estimated number of bins using `bins='fd'` is too large (3984). Capping the number of bins at `max_num_bins=1000`. Consider using an alternative method for calculating the bins such as `bins='scott'`, or increasing the value of the `max_num_bins` keyword argument. (hyperspy.misc.hist_tools:97)\u001b[0m\n"
     ]
    },
    {
     "data": {
      "text/plain": [
       "<hyperspy.signal_tools.SpikesRemoval at 0x705570b6c510>"
      ]
     },
     "execution_count": 5,
     "metadata": {},
     "output_type": "execute_result"
    }
   ],
   "source": [
    "cl2.spikes_removal_tool(interactive=False)"
   ]
  },
  {
   "cell_type": "markdown",
   "metadata": {
    "tags": []
   },
   "source": [
    "### Data smoothing\n",
    "\n",
    "The current dataset is quite noisy. As the peak is broad in comparison with the spectral resolution, one way to improve that is by **rebinning** the data along the signal axis:"
   ]
  },
  {
   "cell_type": "code",
   "execution_count": 6,
   "metadata": {
    "tags": []
   },
   "outputs": [
    {
     "data": {
      "application/vnd.jupyter.widget-view+json": {
       "model_id": "995c07e02c69462aadd7aba0824ee9af",
       "version_major": 2,
       "version_minor": 0
      },
      "text/plain": [
       "HBox(children=(Canvas(toolbar=Toolbar(toolitems=[('Home', 'Reset original view', 'home', 'home'), ('Back', 'Ba…"
      ]
     },
     "metadata": {},
     "output_type": "display_data"
    }
   ],
   "source": [
    "cl2 = cl2.rebin(scale=[1,1,2])\n",
    "cl2.plot()"
   ]
  },
  {
   "cell_type": "markdown",
   "metadata": {
    "tags": []
   },
   "source": [
    "Additionally, HyperSpy provides three different functions for **data smoothing**:\n",
    "\n",
    "- `smooth_lowess` (lowess smoothing)\n",
    "- `smooth_savitzky_golay` (Savitzky Golay filter)\n",
    "- `smooth_tv` (total variation data smoothing)\n",
    "\n",
    "These functions can be run interactively to choose the right parameters, but the parameters can also be passed to the function. You can play with the parameters and get a live preview, and hit `Apply` when you are happy with the smoothed curve.\n",
    "\n",
    "*As we want to use the non-smoothed data afterwards for fitting the data, we first make a copy of the dataset.*"
   ]
  },
  {
   "cell_type": "code",
   "execution_count": 7,
   "metadata": {
    "tags": []
   },
   "outputs": [
    {
     "data": {
      "application/vnd.jupyter.widget-view+json": {
       "model_id": "dc961870df48423ebfd0d88afa94faf5",
       "version_major": 2,
       "version_minor": 0
      },
      "text/plain": [
       "HBox(children=(Canvas(toolbar=Toolbar(toolitems=[('Home', 'Reset original view', 'home', 'home'), ('Back', 'Ba…"
      ]
     },
     "metadata": {},
     "output_type": "display_data"
    },
    {
     "data": {
      "application/vnd.jupyter.widget-view+json": {
       "model_id": "daff4b9cdcd343b3ac4db08161ca2b9d",
       "version_major": 2,
       "version_minor": 0
      },
      "text/plain": [
       "VBox(children=(HBox(children=(Label(value='Smoothing parameter', layout=Layout(width='auto')), FloatSlider(val…"
      ]
     },
     "metadata": {},
     "output_type": "display_data"
    },
    {
     "name": "stdout",
     "output_type": "stream",
     "text": [
      "[                                        ] | 0% Completed | 1.01 s ms"
     ]
    }
   ],
   "source": [
    "cl2a = cl2.deepcopy()\n",
    "cl2.plot()\n",
    "cl2.smooth_lowess(number_of_iterations = 2)"
   ]
  },
  {
   "cell_type": "code",
   "execution_count": null,
   "metadata": {
    "tags": []
   },
   "outputs": [],
   "source": [
    "cl2.plot()"
   ]
  },
  {
   "cell_type": "markdown",
   "metadata": {},
   "source": [
    "## Basic model fitting\n",
    "\n",
    "We will start by introducing very basic fitting functionality. A more elaborate example on [model fitting](#Model-fitting) will follow later in this notebook. For more details see also the [HyperSpy demos repository](https://github.com/hyperspy/hyperspy-demos).\n",
    "\n",
    "*Note that for simplicity, we do the fitting in the wavelength domain. In particular for luminescence spectroscopy data containing broad emission bands, it might make more sense to run these routines in the [energy domain](#Axes-types-/-Convert-to-energy-scale) after a [Jacobian transformation](#Jacobian-transformation) instead of converting the result. An example is included later in this notebook.*\n",
    "\n",
    "First, we need to **initialize the model** (using the unsmoothed data):"
   ]
  },
  {
   "cell_type": "code",
   "execution_count": null,
   "metadata": {},
   "outputs": [],
   "source": [
    "m = cl2a.create_model()"
   ]
  },
  {
   "cell_type": "markdown",
   "metadata": {},
   "source": [
    "A HyperSpy model can be composed of several **components** (functions).\n",
    "\n",
    "We can **check the components** of the model – should be empty, but for some types of signals like EDS and EELS, the model is automatically initialized with components:"
   ]
  },
  {
   "cell_type": "code",
   "execution_count": null,
   "metadata": {},
   "outputs": [],
   "source": [
    "m.components"
   ]
  },
  {
   "cell_type": "markdown",
   "metadata": {},
   "source": [
    "Thus, we need to **create some components** and **add them to the model**.\n",
    "\n",
    "As the emission peak in our dataset is rather asymmetric, we will use a single `SkewNormal` component.\n",
    "\n",
    "*Note that HyperSpy has a range of [built-in functions](https://hyperspy.org/hyperspy-doc/current/user_guide/model.html#pre-defined-model-components) covering most needs that can be added as components to a model. However, it also has an intuitive mechanism to [define custom functions](https://hyperspy.org/hyperspy-doc/current/user_guide/model.html#define-components-from-a-mathematical-expression).*"
   ]
  },
  {
   "cell_type": "code",
   "execution_count": null,
   "metadata": {},
   "outputs": [],
   "source": [
    "g1 = hs.model.components1D.SkewNormal()\n",
    "m.append(g1) # m.extend([g1,g2])\n",
    "m.components"
   ]
  },
  {
   "cell_type": "markdown",
   "metadata": {},
   "source": [
    "To see the parameters of our components and their default values, we can **print all parameter values**:"
   ]
  },
  {
   "cell_type": "code",
   "execution_count": null,
   "metadata": {},
   "outputs": [],
   "source": [
    "m.print_current_values()"
   ]
  },
  {
   "cell_type": "markdown",
   "metadata": {},
   "source": [
    "To apply the fit to all the spectra in the map, we use the `multifit` command.\n",
    "\n",
    "In the current case of a single, well defined peak, we achieve a good fit without adjusting the initial values of the parameters or setting any boundaries."
   ]
  },
  {
   "cell_type": "code",
   "execution_count": null,
   "metadata": {},
   "outputs": [],
   "source": [
    "m.multifit()"
   ]
  },
  {
   "cell_type": "markdown",
   "metadata": {},
   "source": [
    "We can now **plot the model** together with the data:"
   ]
  },
  {
   "cell_type": "code",
   "execution_count": null,
   "metadata": {},
   "outputs": [],
   "source": [
    "m.plot()"
   ]
  },
  {
   "cell_type": "markdown",
   "metadata": {},
   "source": [
    "The `SkewNormal` component represents the asymmetry of the peak very well, but does not fully reproduce the height of the main part of the peak.\n",
    "\n",
    "We can also print the parameter values at the current index:"
   ]
  },
  {
   "cell_type": "code",
   "execution_count": null,
   "metadata": {},
   "outputs": [],
   "source": [
    "m.print_current_values()"
   ]
  },
  {
   "cell_type": "markdown",
   "metadata": {},
   "source": [
    "## Peak identification / Centroid / Peak width\n",
    "\n",
    "In particular for asymmetric peaks, fitting might not always be the best way to determine peak characteristics (despite asymmetric functions, such as the skew normal distribution, being provided). Therefore, HyperSpy provides a number of additional routines.\n",
    "\n",
    "Peaks can be identified and characterized using the **peak finder** routine `find_peaks1D_ohaver` that is based on the downwards zero crossing of the first derivative.\n",
    "\n",
    "*For these routines, it is helpful to operate on the smoothed dataset. As we have some side-peaks, we operate on a subrange of the wavelength axis defined by `isig`.*"
   ]
  },
  {
   "cell_type": "code",
   "execution_count": 8,
   "metadata": {
    "tags": []
   },
   "outputs": [
    {
     "name": "stdout",
     "output_type": "stream",
     "text": [
      "[########################################] | 100% Completed | 316.48 ms\n"
     ]
    }
   ],
   "source": [
    "peaks = cl2.isig[600.:].find_peaks1D_ohaver(maxpeakn=1)"
   ]
  },
  {
   "cell_type": "markdown",
   "metadata": {},
   "source": [
    "The function **returns a structured array** that contains `position`, `height` and `width` for every pixel (potentially each for multiple peaks)."
   ]
  },
  {
   "cell_type": "code",
   "execution_count": 9,
   "metadata": {
    "tags": []
   },
   "outputs": [
    {
     "data": {
      "text/plain": [
       "array([(668.28143038, 4.69351985, 95.84059918)],\n",
       "      dtype=[('position', '<f8'), ('height', '<f8'), ('width', '<f8')])"
      ]
     },
     "execution_count": 9,
     "metadata": {},
     "output_type": "execute_result"
    }
   ],
   "source": [
    "peaks[0,0]"
   ]
  },
  {
   "cell_type": "markdown",
   "metadata": {},
   "source": [
    "Especially for broad, asymmetric emission bands, the position of the maximum intensity might be of limited value. Therefore, **LumiSpy** provides an additional `centroid` function that determines the **centre of mass** of a peak.\n",
    "\n",
    "Required version: lumispy>=0.2.2\n",
    "\n",
    "*Note that, as with fitting, it might make more sense to run these routines in the [energy domain](#Axes-types-/-Convert-to-energy-scale) after a [Jacobian transformation](#Jacobian-transformation) than to convert the result - in particular for broad emission bands. For simplicity, we introduce it in the wavelength domain.*"
   ]
  },
  {
   "cell_type": "code",
   "execution_count": 10,
   "metadata": {
    "tags": []
   },
   "outputs": [
    {
     "name": "stdout",
     "output_type": "stream",
     "text": [
      "[########################################] | 100% Completed | 101.31 ms\n"
     ]
    }
   ],
   "source": [
    "com = cl2.isig[600.:].centroid()"
   ]
  },
  {
   "cell_type": "markdown",
   "metadata": {},
   "source": [
    "The result is a new `signal` that we can plot as a colormap using the HyperSpy functionality:"
   ]
  },
  {
   "cell_type": "code",
   "execution_count": 11,
   "metadata": {},
   "outputs": [
    {
     "data": {
      "application/vnd.jupyter.widget-view+json": {
       "model_id": "995279d7afdf42c19477f2033cd3abdd",
       "version_major": 2,
       "version_minor": 0
      },
      "image/png": "[encoded data removed]",
      "text/html": [
       "\n",
       "            <div style=\"display: inline-block;\">\n",
       "                <div class=\"jupyter-widgets widget-label\" style=\"text-align: center;\">\n",
       "                    Figure Centroid map of Wavelength (nm) for 880_30K_map2a Signal\n",
       "                </div>\n",
       "                <img src='data:image/png;base64,iVBORw0KGgoAAAANSUhEUgAAAoAAAAE2CAYAAADxtiPWAAAAOXRFWHRTb2Z0d2FyZQBNYXRwbG90bGliIHZlcnNpb24zLjguMywgaHR0cHM6Ly9tYXRwbG90bGliLm9yZy/H5lhTAAAACXBIWXMAAA9hAAAPYQGoP6dpAABz/UlEQVR4nO3dd1gUx/8H8Pd1eu8dOwIKghpFRQNiw9hNDLaIGkSDoqagUZRE1MRuvpJg1FijUYMSY+9J1BhbYosF7IAIIr3f/P7wx8Xz7oC7vUOUz+t59klud2Zn7m5v+TizM8NjjDEQQgghhJAGg/+qK0AIIYQQQuoWBYCEEEIIIQ0MBYCEEEIIIQ0MBYCEEEIIIQ0MBYCEEEIIIQ0MBYCEEEIIIQ0MBYCEEEIIIQ0MBYCEEEIIIQ2M1gLAf/75Bx988AHc3d2hp6cHIyMjtGnTBl999RWePn2qrWIUFBUVYc6cOTh+/LhOzt+1a1d07dq1xnR3794Fj8fDDz/8oJN61GdlZWWIiIiAvb09BAIBfHx8lKabNGkSeDweMjIy5PY/ffoUfD4fIpEIBQUFcscePnwIHo+HqVOn6qr6teLm5obRo0e/0jq8KD4+Hrt27VLY/8MPP4DH4+HcuXOczj9mzBj07NmT0zk0tWbNGjg6OqKwsLDWeT7//HO4uLhAKBTCzMxMd5X7f8eOHUP37t1hY2MDIyMjtGrVCitWrEBlZaVcutLSUnz99dfw8vKCoaEhbG1t0atXL5w6dUrhnOXl5Zg7dy7c3NwgkUjQokULrFy5Uu26PXjwAAMGDECjRo1gaGgIU1NT+Pr64ptvvkFFRYVC+tTUVAwcOBBmZmYwMjJC9+7dceHCBYV0PB4PkyZNUtgfGxsLHo+HCRMmQCqVql3f+uL7779H//794ebmBn19fTRp0gQTJkxAenq61ss6cOAAQkJC4ODgAIlEAgcHB3Tt2hULFiyQS1ff7jv1rT6EI6YFiYmJTCgUMk9PT/a///2PHTt2jB08eJDFx8czd3d31r9/f20Uo9STJ08YABYbG6uT81+9epVdvXq1xnR37txhANi6det0Uo/6bNmyZQwAW7lyJTt16hT7559/lKbbsWMHA8B+/PFHuf0///wzE4lETCQSsX379skd27BhAwPAkpOTdVb/2nB1dWWjRo16pXV4kaGhodL6rFu3jgFgf/31l8bnvnDhAuPz+ZzOwUV5eTlr2rQpmz17dq3S79q1iwFgM2fOZL///rvO633o0CHG5/NZ165d2a5du9ihQ4fYRx99xACwqKgoubQjRoxgfD6fzZw5kx05coRt376d+fn5MaFQyP7880+5tGPHjmUSiYR99dVX7NixY+yzzz5jPB6PzZs3T636Xb9+nY0cOZKtXbuWHT58mO3du5dNmjSJAWDh4eFyaTMzM5mDgwPz9PRkO3fuZL/++ivr1KkTMzY2Zv/++69cWgBs4sSJstdSqVT2vj/77DO16lgfOTg4sLCwMLZ582Z2/Phx9t133zEnJydmb2/PMjIytFZOQkICA8AGDRrEdu7cyY4dO8Y2bNjAIiIimJ+fn1zaCxcusNu3b2utbK7q232QcMM5ADx16hQTCASsZ8+erKSkROF4aWkp2717N9diVFI3ACwsLNRJPRpyADh27Fimr69fY7qsrCzG4/HYhx9+KLc/KiqKdezYkXXo0IF98skncsfGjBnD+Hw+e/bsmVbrrK76duPTZQA4dOhQ9tZbb3GoHXeLFi1ipqamtfq9fvnllwwAe/z4sdbKr67csLAwJpFIWEFBgdz+kJAQZmJiIntdUlLCBAIBGz58uFy6tLQ0hWDxypUrjMfjsfj4eLm048aNY/r6+iw7O5vL22GMPf9ehUKh3H36448/ZiKRiN29e1e2Lzc3l1lZWbGhQ4fK5X8xACwvL2cjRoxgANjXX3/NuW71gbLr56+//mIA2BdffKG1clxcXFiXLl2UHqusrNRaObpQ3+6DhBvOXcDx8fHg8XhITEyERCJROC4Wi/HOO+/I7du2bRs6dOgAQ0NDGBkZoUePHrh48aJcmtGjR8PIyAi3b99G7969YWRkBGdnZ0ybNg2lpaUAnne7WltbAwDmzp0LHo8HHo8na6KeM2cOeDweLly4gMGDB8Pc3ByNGzcGAJSUlCAmJgbu7u4Qi8VwdHTExIkT8ezZM7l6KOsCTktLw9ChQ2FsbAxTU1O8++67Ct2aqlR10R09ehTjxo2DpaUlTExMMHLkSBQWFiIjIwNDhw6FmZkZ7O3tMX36dJSXl8udY+7cuWjfvj0sLCxgYmKCNm3aYM2aNWAvLevs5uaG0NBQJCUloVWrVtDT00OjRo2wYsWKWtW1Np8Rj8fD999/j+LiYtnnr6ob3NLSEt7e3grd9cePH0fXrl0RGBiIY8eOKRxr06YNTE1N8eTJE0RGRqJly5YwMjKCjY0N3n77bfz222+y9OXl5bCxscGIESMUyn/27Bn09fXlupPz8vIwffp0ufc4ZcqUWnU/1jZvVdfZxo0b4eHhAQMDA7Ru3Rp79uxROOfu3bvRqlUrSCQSNGrUCMuXL5ddxy+er7CwEOvXr5d95i9fo/n5+ZgwYQKsrKxgaWmJgQMHIi0trcb39PjxYyQlJSl8fsePHwePx8OPP/6ImTNnwsHBASYmJggODsaNGzfk0nbt2hVeXl44ffo0OnbsCH19fbi5uWHdunUAgF9//RVt2rSBgYEBvL29sX//foV6hIWFIS8vD1u3bq22vm5ubvj8888BALa2tuDxeJgzZw4AQCqV4quvvkKLFi0gkUhgY2ODkSNH4uHDh0rre/LkSXTs2BEGBgYYM2aMyjJFIhHEYjH09fXl9puZmUFPT0/2ms/ng8/nw9TUVC6diYkJ+Hy+XNpdu3aBMYYPPvhALu0HH3yA4uJipZ+RuqytrcHn8yEQCGT7kpKS8Pbbb8PV1VWufgMHDsQvv/yitMu4pKQEgwYNwpYtW/D9999j+vTpatel6t60Z88e+Pr6Ql9fHx4eHrLfxA8//AAPDw8YGhqiXbt2Co80nDt3Du+9956su9bNzQ3Dhg3DvXv35NJV3W8PHTqEDz74ABYWFjA0NETfvn2Rmpoql9bGxkahnn5+fhAIBHjw4IHc/treg5XJzs6Gvb290mN8vvyfZGVdrlevXkVISAgMDAxgbW2NiRMn4tdffwWPx5O7t1Zd13/99Rc6d+4MAwMDNGrUCAsWLJDrqi8pKcG0adPg4+MDU1NTWFhYoEOHDti9e3eN74W85rhEjxUVFczAwIC1b9++1nnmzZvHeDweGzNmDNuzZw/7+eefWYcOHZihoaFcV+uoUaOYWCxmHh4ebNGiRezw4cNs9uzZjMfjsblz5zLGnv8Le//+/bKujdOnT7PTp0/LmsxjY2MZAObq6so+/fRTdujQIbZr1y4mlUpZjx49mFAoZLNmzWIHDx5kixYtYoaGhszX11fuX8iBgYEsMDBQ9rqoqIh5eHgwU1NTtnLlSnbgwAEWFRXFXFxcatUCWNVC4+7uzqZNm8YOHjzIFi5cyAQCARs2bBhr06YN+/LLL9mhQ4fYp59+ygCwxYsXy51j9OjRbM2aNezQoUPs0KFD7IsvvmD6+vqyz6WKq6src3R0ZC4uLmzt2rVs7969LCwsrFb/aq/tZ3T69GnWu3dvpq+vL/v8MzMzVZ538uTJDABLS0tjjP3XKnjgwAG2b98+JhAIWG5uLmOMsfv37zMA7OOPP2aMMfbvv/+yCRMmsK1bt7Ljx4+zPXv2sPDwcMbn89mxY8dkZURHRzN9fX3ZeaqsWrWKAZB1URcWFjIfHx9mZWXFlixZwg4fPsyWL1/OTE1N2dtvv82kUqncZ/niv3zVyQuAubm5sXbt2rGffvqJ7d27l3Xt2pUJhUKWkpIiS7dv3z5Z12JSUhLbvn07a9++PXNzc2Mv/lRPnz7N9PX1We/evWWfedVvp+r6atSoEfvoo4/YgQMH2Pfff8/Mzc1Zt27dqv3OGfuvy/3atWty+48dOyZ7H2FhYezXX39lP/74I3NxcWFNmzZlFRUVsrSBgYHM0tKSNW/enK1Zs4YdOHCAhYaGMgBs7ty5zNvbm/34449s79697K233mISiYQ9evRIoS4eHh5s4MCB1db3woULLDw8nAFg+/fvZ6dPn2YPHjxgjDE2fvx4BoBNmjSJ7d+/n3377bfM2tqaOTs7sydPnsjV18LCgjk7O7OVK1eyY8eOsRMnTqgs88yZM0wikbCJEyeyR48esZycHLZhwwYmEonYokWL5NJOnjyZGRkZsaSkJJabm8vu3LnDhg0bxszNzdmtW7dk6d577z1mbW2tUFZBQQEDwGJiYqr9HJSRSqWsvLycPX36lG3dupUZGhrKnaeoqIjxeDzZ7+tF33zzDQPAbty4IdsHgI0cOZJ17dqVicVitmPHDrXrVMXV1ZU5OTkxLy8v2bXQvn17JhKJ2OzZs1lAQAD7+eefWVJSEmvWrBmztbVlRUVFsvzbt29ns2fPZklJSezEiRNs69atLDAwkFlbW8t9t1W/B2dnZzZmzBi2b98+lpiYyGxsbJizszPLycmptp5V1/3y5cvl9tf2HqxMcHAwEwqFLDY2ll26dEnut6Psc3rxvpOWlsYsLS2Zi4sL++GHH9jevXvZiBEjZPeIF++DVb/Dpk2bsm+//ZYdOnSIRUZGMgBs/fr1snTPnj1jo0ePZhs3bmRHjx5l+/fvZ9OnT2d8Pl8unbL6kNcbpwAwIyODAWDvvfderdLfv3+fCYVC9tFHH8ntz8/PZ3Z2dnJdDqNGjWIA2E8//SSXtnfv3qx58+ay19V1AVcFgC8/S1QVNH711Vdy+7dt28YAsMTERNm+lwPAquc3Xu7WHjdunFoB4MufQf/+/RkAtmTJErn9Pj4+rE2bNirPV1lZycrLy1lcXByztLRUCFp4PB67dOmSXJ7u3bszExOTaru51PmMRo0axQwNDVW/6RdUPa+1ZcsWxhhjO3fuZEKhkOXn57O8vDwmEAjYnj17GGOMrV+/ngFge/fuVXquiooKVl5ezoKCgtiAAQNk+//55x+FOjLGWLt27eSesZk/f77SZ92qnlV8sdyXb3zq5AXAbG1tWV5enmxfRkYG4/P5bP78+bJ9bdu2Zc7Ozqy0tFS2Lz8/n1laWsoFgIzV3AUcGRkpt/+rr75iAFh6erpCnhdNmDCB6evry11HjP33h7B3795y+3/66ScGgJ0+fVq2LzAwkAFg586dk+3Lzs5mAoGA6evrywV7ly5dYgDYihUrFOoSFhbGbG1tq60vY//9zl/8w3/9+nWln8Off/7JALAZM2Yo1PfIkSM1llXljz/+YA4ODgwAA8AEAoHCb4Wx50HY7NmzGZ/Pl6V1cXFhFy9elEvXvXt3ufvai8RiMRs/fnyt61Zl/vz5sjJ5PB6bOXOm3PFHjx4xAHLXYJUtW7YwAOzUqVOyfVXnUvbbUperqyvT19dnDx8+lO2ruhbs7e3l7k1V94zqngOuqKhgBQUFzNDQUC5Yq/o9vHh/YOz59weAffnllyrPmZeXxzw8PJizszPLz89Xma66e7Ayt2/fZl5eXrLPUl9fnwUFBbFvvvmGlZWVyaV9+b7z8ccfMx6Pp/Bceo8ePZQGgAAUnjVt2bIl69Gjh8r6Vd1Xw8PDma+vb7X1Ia+3Op0G5sCBA6ioqMDIkSNRUVEh2/T09BAYGKjQNcjj8dC3b1+5fa1atVJo5q/JoEGD5F4fPXoUABSa1ocMGQJDQ0McOXJE5bmOHTsGY2NjhW7t999/X606hYaGyr328PAAAPTp00dh/8vv9+jRowgODoapqSkEAgFEIhFmz56N7OxsZGZmyqX19PRE69atFeqal5endKTfi2UAmn1G1QkMDASfz5d918ePH4e/vz+MjIxgbGyMNm3ayLqBjx8/DqFQiE6dOsnyf/vtt2jTpg309PQgFAohEolw5MgRXL9+XZbG29sbfn5+si5HALh+/TrOnj0r17W3Z88eeHl5wcfHR+567NGjh0J3ysvUzdutWzcYGxvLXtva2sLGxkb23RYWFuLcuXPo378/xGKxLJ2RkZHCb6A2Xr4+W7VqBQA1/nbS0tJgbW0t1+WsyXnt7e3h5+cne21hYQEbGxv4+PjAwcFBtr/quldWLxsbG2RmZirthqxJ1TX08vXbrl07eHh4KFy/5ubmePvtt2t17vPnz2PAgAHw8/PDL7/8gqNHjyImJgaff/45vvjiC7m08+bNw6JFizBnzhwcO3YMu3fvRvPmzdG9e3eFx15UfeY1HVNl9OjR+Ouvv3DgwAF88skn+Prrr/HRRx+pde6Xj3Xu3BlmZmaYO3cubt++rXadXuTj4wNHR0fZ66proWvXrjAwMFDY/+I1UlBQgE8//RRNmjSBUCiEUCiEkZERCgsL5e4FVcLCwuRed+zYEa6urgqPnFQpKSnBwIEDce/ePWzfvh1GRkZyx9W5B7+scePG+Pvvv3HixAnMnTsXwcHB+OuvvzBp0iR06NABJSUlKvOeOHECXl5eaNmypdz+YcOGKU1vZ2eHdu3aye1T9jd0+/btCAgIgJGRkey+umbNGqWfJXlzCLlktrKygoGBAe7cuVOr9I8fPwYAtG3bVunxl59/MDAwkHtOBgAkEkm1PxBlXn7eIjs7G0KhUPb8YBUejwc7OztkZ2erPFd2djZsbW0V9tvZ2alVJwsLC7nXVX/0le1/8f2ePXsWISEh6Nq1K1avXg0nJyeIxWLs2rUL8+bNQ3FxcY31qtpX0/vU9DOqjpmZGXx8fGQ33mPHjskFvS8+B3js2DH4+/vLAqclS5Zg2rRpiIiIwBdffAErKysIBALMmjVL4UY1ZswYTJw4Ef/++y9atGiBdevWQSKRyN0oHz9+jNu3b0MkEimta1ZWlsr3oW5eS0tLhTQSiUT2feXk5IAxpvTaUravJi+XV/V87svXx8uKi4sVfnOanPfl6xh4fi2ruu6V/ab19PTAGENJSYnCH+CaVF2fyp61cnBwUBqw1tbEiRNha2uLpKQk2fN03bp1A5/Px5w5cxAWFoZGjRrh+vXrmD17Nr766iu55+R69eqFli1bYurUqbJr3dLSEpcuXVIoq7CwEGVlZUo/z5rY2dnJfushISEwNzfHZ599hjFjxsDX1xfm5ubg8XhKf8tVU3e9XG6rVq2wdOlSdO/eXfZbbdasmdp1U3bu6u6BgPw18v777+PIkSOYNWsW2rZtCxMTE/B4PPTu3VvpNa7qPqjsvZeWlmLAgAH4/fffsWfPHrRv317uuLr3YGX4fD66dOmCLl26AHj+PYeHh2Pbtm1Yu3YtIiMjlebLzs6Gu7u7wn5V94ia7jsA8PPPP2Po0KEYMmQIPv74Y9jZ2UEoFCIhIQFr166t8b2Q1xenAFAgECAoKAj79u3Dw4cP4eTkVG16KysrAMCOHTvkHjrWtZf/FWtpaYmKigo8efJELsBhjCEjI0NlgFqV9+zZswr7azsIhKutW7dCJBJhz549Cg+RK6OsXlX7lN0cqnD5jGrSrVs3LF68GP/88w+uXr2Kr776SnYsMDAQS5YswT///IO7d+/KBWybNm1C165dkZCQIHe+/Px8hTKGDRuGqVOn4ocffsC8efOwceNG9O/fH+bm5rI0VlZW0NfXV3mTq7peVR3TNK8yVX+Mq/6R9KK6uraA5/WurmW4Lj19+hQSiUTt4A/479pOT09XuC+lpaUpfD/qtLBdunQJw4YNkxtMATz/h61UKsX169fRqFEj/P3332CMKfxWRCIRWrdujRMnTsj2eXt7Y+vWrcjIyJALVi5fvgwA8PLyqnX9VKlqCbp586Zs4EWTJk1kZbzo8uXL0NfXR6NGjRSO+fn54fDhw+jevTu6deuGo0ePonnz5pzrV1u5ubnYs2cPYmNj8dlnn8n2l5aWqpxzVtV9sEmTJnL7SktL0b9/f1lrbVBQkEI+de/BtWFoaIiYmBhs27YNV65cUZnO0tJS6/eITZs2wd3dHdu2bZP7HVQNtiRvLs5dwDExMWCMYdy4cSgrK1M4Xl5ejl9++QUA0KNHDwiFQqSkpMDf31/ppq7atmy8qOpHvWnTJrn9O3fuRGFhodIffZVu3bohPz8fycnJcvu3bNlS6/K54PF4EAqFcn98iouLsXHjRqXpr169ir///ltu35YtW2Tdrapw+Yxq0q1bNwDPR9Lx+Xy5Lt6q/587d65cWuD5e395pPk///yD06dPK5Rhbm6O/v37Y8OGDdizZw8yMjIURnaGhoYiJSUFlpaWSq9FNzc3le+BS15lDA0N4e/vj127dsn9jgoKCpSOFn75X/Ha0qJFC2RnZyM3N1fr51ZXamqqQldXbVV15758/f7111+4fv06p+vXwcEB586dU5j0ueo6rAo4q7q6z5w5I5eutLQUFy5ckAtM+/XrBx6Ph/Xr18ul/eGHH6Cvr6+VSbmrWhtfDHoGDBiAo0ePyo1yzc/Px88//4x33nkHQqHyNoI2bdrgyJEjKC0tRbdu3fDvv/9yrl9t8Xg8MMYU7gXff/+9wndSZfPmzXKvT506hXv37smNnq9q+Tt69Ch27tyJHj16qCxfnXvwy1RNLF3Vi/HiIxIvCwwMxJUrV3Dt2jW5/TWNlq8Oj8eDWCyWC/4yMjJoFHADwKkFEAA6dOiAhIQEREZGws/PDxMmTICnpyfKy8tx8eJFJCYmwsvLC3379oWbmxvi4uIwc+ZMpKamomfPnjA3N8fjx49x9uxZGBoayv7w15axsTFcXV1l/1qzsLCAlZVVtX+Au3fvjh49euDTTz9FXl4eAgIC8M8//yA2Nha+vr5KpxCpMnLkSCxduhQjR47EvHnz0LRpU+zduxcHDhxQq96a6tOnD5YsWYL3338f48ePR3Z2NhYtWqR0Ch7g+c3knXfewZw5c2Bvb49Nmzbh0KFDWLhwodxzNi/j8hnVpEuXLhAIBEhKSpLr4gWedxG3bt0aSUlJEIlECAgIkB0LDQ3FF198gdjYWAQGBuLGjRuIi4uDu7u70ufExowZg23btmHSpElwcnJCcHCw3PEpU6Zg586d6NKlC6Kjo9GqVStIpVLcv38fBw8exLRp0xS6f7SRV5W4uDj06dMHPXr0wOTJk1FZWYmvv/4aRkZGCi0bVdPp/PLLL7C3t4exsbFWWmG6du0Kxhj+/PNPhISEcD6fpqRSKc6ePYvw8HCN8jdv3hzjx4/HypUrwefz0atXL9y9exezZs2Cs7MzoqOjNa5bdHQ0oqKi0LdvX3z44YcwMDDAkSNHsHjxYgQHB8ueue3UqRPatm2LOXPmoKioCF26dEFubi5WrlyJO3fuyAUMnp6eCA8PR2xsLAQCAdq2bYuDBw8iMTERX375pVpdwLGxsXj8+DG6dOkCR0dHPHv2DPv378fq1asxZMgQuWczp0+fjo0bN6JPnz6Ii4uDRCLBggULUFJSIptORxUfHx8cOXIEQUFBspbAquf1dMnExARdunTB119/LbvXnzhxAmvWrFG5Csy5c+cwduxYDBkyBA8ePMDMmTPh6Ogo19U6ePBg7Nu3DzNnzoSlpaVc4G5iYiL7x4i69+CXeXp6IigoCL169ULjxo1RUlKCP//8E4sXL4atrW211/yUKVOwdu1a9OrVC3FxcbC1tcWWLVtkAfjLj1HVRmhoKH7++WdERkZi8ODBePDgAb744gvY29vj1q1bap+PvEa0NZrk0qVLbNSoUczFxYWJxWLZdCGzZ89WmBZk165drFu3bszExIRJJBLm6urKBg8ezA4fPixLo2pkadWIvxcdPnyY+fr6MolEwgDIRikpGx1Ypbi4mH366afM1dWViUQiZm9vzyZMmKAwLcDLo4AZY+zhw4ds0KBBzMjIiBkbG7NBgwaxU6dOqTUK+OXRo6rqquxzWLt2LWvevDmTSCSsUaNGbP78+WzNmjUMALtz544snaurK+vTpw/bsWMH8/T0ZGKxmLm5uSmMNFaltp+ROqOAq7Rr144BYNOnT1c4NmXKFAaABQQEyO0vLS1l06dPZ46OjkxPT4+1adOG7dq1i40aNYq5uroqnKeyspI5OzvLVolQpqCggH3++eesefPmTCwWM1NTU+bt7c2io6PlZv9XNvqttnnx0goK1Z0zKSmJeXt7M7FYzFxcXNiCBQtYVFQUMzc3l0t36dIlFhAQwAwMDBgA2TWq6vqqGsX74ihBZSorK5mbm5vC6Nmq/Nu3b5fbr2wC9MDAQObp6an0/fbp00dhv7LP58iRIwwAO3/+fLX1ZUz1b6eyspItXLiQNWvWjIlEImZlZcWGDx8umyampvpWZ+fOnaxTp07MysqKGRoaMk9PT/bFF18oTA797NkzNnPmTObh4cEMDAyYjY0N69q1q9KR7WVlZSw2NlZ2D23WrJnS0dE1SU5OZsHBwczW1pYJhUJmZGTE2rVrx1asWMHKy8sV0t++fZv179+fmZiYMAMDAxYUFKT0c1d1Hf/999/MysqK2dra1mrVJMbUuxaqrrEXp66qugebm5szY2Nj1rNnT3blyhWF31TV7+HgwYNsxIgRzMzMTDaF0ovT8FSVrWp7+W9Abe/Bynz33Xds4MCBrFGjRszAwICJxWLWuHFjFhERoXBtKrtHXLlyhQUHBzM9PT1mYWHBwsPDZTMm/P3337J0qq5rZffLBQsWMDc3NyaRSJiHhwdbvXq10r+16o4CLi4uZrm5uWpvxcXFtS6DaI7HWC1mriSvJTc3N3h5eSntQiSvh/LyctloyYMHD9ZJmYsXL8a8efPw6NEjhcmO68qIESOQmpqKP/7445WUT94MP/zwAz744AP89ddfGj1i9LoYP348fvzxR2RnZ8vNIvAqlZSUwN3VCBmZyrvlq2NnZ4c7d+5UOyCNcMe5C5gQoj3h4eHo3r077O3tkZGRgW+//RbXr1/H8uXL66wOEydOxDfffIP//e9/Gq3ywFVKSgq2bdsmm4qIEPKfuLg4ODg4oFGjRrJnhL///nt8/vnn9Sb4A4CysjJkZFbiznlXmBjXvms6L18Kd797KCsrowBQxygAJKQeyc/Px/Tp0/HkyROIRCK0adMGe/fuVXh+UZf09PSwceNGhXnq6sr9+/fxzTffyA0OIs9H4Ksa5FBFIBBoNGegtlRWVla7HBqPx1MYPU3UIxKJ8PXXX+Phw4eoqKhA06ZNsWTJEkyePPlVV00pQ6PnW21VUp9knaEuYEIIeQ1UdWdW59ixYwrrQtclNze3aicbVzbhP3kz5eXlwdTUFJk31G8BtGl+D7m5uTAxMdFhDQm1ABJCyGugb9+++Ouvv6pNU5fz8Snzyy+/VDt/3Isj/knDIAWDFLVvZ1InLeGGAkBCCHkNWFpaVjt5e33g7e39qqtA6hkppJCqmZ7UDQoACSGEEKITlYyhUo0nzdRJS7ipNwGgVCpFWloajI2NX+lDzIQQQsibhDGG/Px8ODg4aDRZNBd10QX86NEjfPrpp9i3bx+Ki4vRrFkzrFmzRjbp+ePHj/Hpp5/i4MGDePbsGbp06YKVK1eiadOmsnN07dpVbnlGAHj33XdrXGVl1apV+Prrr5Geng5PT08sW7YMnTt3Vvs9vAr1JgBMS0uDs7Pzq64GIYQQ8kZ68OCBwtrYuiYFQ6UOA8CcnBwEBASgW7du2LdvH2xsbJCSkiJbFYYxhv79+0MkEmH37t0wMTHBkiVLEBwcjGvXrsHQ0FB2rnHjxiEuLk72uqZ5ULdt24YpU6Zg1apVCAgIwHfffYdevXrh2rVrcHFxUet9vAr1ZhRwbm4uzMzM4PBVDPj6ms39wxNxe3bAwKRE47yFjw1rTlQN88vcpkYQcFy3u9RM81ZXnuIqbOrl55Ydetncvnf9rHKN8wqKuL35Bz1UL8dXG6xRIaf8Yon6k7RWKS7gNueYtEDEKb/ARPPvTRsqudSfx+22K3zG7d/uek+4/eokuZrXv8CJW9lGbbI55TfXK+KUP69U87npMh+acyrb4J5m33tlaQlSVsXh2bNnMDU15VSH2qoaBZzyrx2M1RgFnJ8vReMWGbUeBfzZZ5/hjz/+wG+//ab0+M2bN9G8eXNcuXIFnp6eAJ5PV2RjY4OFCxdi7NixAJ63APr4+GDZsmW1rmv79u3Rpk0bJCQkyPZ5eHigf//+mD9/fq3P86rUmxbAqm5fvr7eKwsABQaa39Q0rbOsbDHHAJBjGC+QcAgAOU7rxfFvIYQcv3ehUPM3IBByCwD5HCc6ZQaaB3AAIJBoXn++tHZrn6pUyS0A5Bu82vnkGJf6c7zo+SXcbt1cfu8AIBBrXn+BHseyDbhdd0J9jr8Zoeblc/47IeH2vb+Kx6t0/QxgcnIyevTogSFDhuDEiROyNZ7HjRsHALJR6S9OKi0QCCAWi/H777/LAkAA2Lx5MzZt2gRbW1v06tULsbGxKkeul5WV4fz58/jss8/k9oeEhODUqVNqvYdXpW4fBiCEEEJIgyHVYAOetyC+uKmaXig1NRUJCQlo2rQpDhw4gIiICERFRWHDhg0AgBYtWsDV1RUxMTHIyclBWVkZFixYgIyMDKSnp8vOExYWhh9//BHHjx/HrFmzsHPnTgwcOFDl+8rKykJlZSVsbW3l9tva2iIjI0P9D+oVqDctgIQQQgh5s1Sq+QxgVdqXxwTExsZizpw5CumlUin8/f0RHx8PAPD19cXVq1eRkJCAkSNHQiQSYefOnQgPD4eFhQUEAgGCg4PRq1cvufNUtRgCgJeXF5o2bQp/f39cuHABbdq0UVnfl1tVGWOvzUBWCgAJIYQQohOVTL3l3arSPnjwQO4ZQIlEede7vb09WrZsKbfPw8MDO3fulL328/PDpUuXkJubi7KyMlhbW6N9+/bw9/dXWY82bdpAJBLh1q1bSgNAKysrCAQChda+zMxMhVbB+oq6gAkhhBCiE5p2AZuYmMhtqgLAgIAA3LhxQ27fzZs34erqqpDW1NQU1tbWuHXrFs6dO4d+/fqprPfVq1dRXl4Oe3t7pcfFYjH8/Pxw6NAhuf2HDh1Cx44dVZ63PqEWQEIIIYTohBQ8VKox14NUzXkhoqOj0bFjR8THx2Po0KE4e/YsEhMTkZiYKEuzfft2WFtbw8XFBZcvX8bkyZPRv39/hISEAABSUlKwefNm9O7dG1ZWVrh27RqmTZsGX19fBAQEyM4TFBSEAQMGYNKkSQCAqVOnYsSIEfD390eHDh2QmJiI+/fvIyIiQq338KpQAEgIIYQQnZCy55s66dXRtm1bJCUlISYmBnFxcXB3d8eyZcsQFhYmS5Oeno6pU6fi8ePHsLe3x8iRIzFr1izZcbFYjCNHjmD58uUoKCiAs7Mz+vTpg9jYWAgE/802kJKSgqysLNnrd999F9nZ2YiLi0N6ejq8vLywd+9epa2P9REFgIQQQgjRiUo1WwDVSVslNDQUoaGhKo9HRUUhKipK5XFnZ2eFVUCUuXv3rsK+yMhIREZG1qqe9Q0FgIQQQgjRiboIAIlmKAAkhBBCiE5IGQ9SpsYzgGqkJdxQAEgIIYQQnaAWwPqLAkBCCCGE6EQl+KhUY8Y5bgv1EXVQAEgIIYQQnWBqdgEz6gKuMxQAEkIIIUQnqAu4/qp3AaDIqBR8A80ugH7NLnMqe8cFP43zOrhn1ZyoGun65pzyCx6LOeU3SVVz8qUXiPM0zwsA5Rp+31WMUws55Rfkl2ic91lrS05lM0HNaapTnq98dvxa5y/S/LoxuMXtmhMWccoOqZjb7UugfG35Wit00vy6lzpofs0BgOihiFN+cT6332wlh6+eV86paBT8ZcUpf65HAaf8vZte0zhvoWU6p7IPiz00yictLuNULheVjI9KpkYXMLdLk6ih3gWAhBBCCHkzSMGDVI1nAKWgCLCu0FrAhBBCCCENDLUAEkIIIUQn6BnA+osCQEIIIYTohPrPAFIXcF2hAJAQQgghOvH8GUA1VgKhFsA6QwEgIYQQQnRCquZE0DQIpO5QAEgIIYQQnaAu4PqLAkBCCCGE6IQUfJoGpp6iAJAQQgghOlHJeKhUY3k3ddISbigAJIQQQohOVKr5DGAltQDWGQoACSGEEKITUsaHVI1nAKX0DGCdoQCQEEIIITpBLYD1FwWAhBBCCNEJKdR7rk+qu6qQl1AASAghhBCdUH8UcO3TEm7qXQDY3O4JRIZijfI+LTPkVLazc7bGeZ/kGXEqW9+4hFP+omIBp/xlxppfCoJSTkVDXMityV9QwK0CJc6mGucttOd2s6owquSUn69XwSm/8L6exnn1szh21XDMLn7M7QRSjne/UjPNv/uKNM0/dwDgcfvaUaHPbaRlkb3mn71UxK2NR5TH7TdnYVLEKb+VqEDjvPnl3L53D/c0jfJVFJbiIaeSNaf+PIAUANYV+qQJIYQQohNVS8Gps6nr0aNHGD58OCwtLWFgYAAfHx+cP39edvzx48cYPXo0HBwcYGBggJ49e+LWrVuy40+fPsVHH32E5s2bw8DAAC4uLoiKikJubm615c6ZMwc8Hk9us7OzU7v+r0q9awEkhBBCyJtB1y2AOTk5CAgIQLdu3bBv3z7Y2NggJSUFZmZmAADGGPr37w+RSITdu3fDxMQES5YsQXBwMK5duwZDQ0OkpaUhLS0NixYtQsuWLXHv3j1EREQgLS0NO3bsqLZ8T09PHD58WPZaIODWG1eXKAAkhBBCiE6oPwpYvQBw4cKFcHZ2xrp162T73NzcZP9/69YtnDlzBleuXIGnpycAYNWqVbCxscGPP/6IsWPHwsvLCzt37pTlady4MebNm4fhw4ejoqICQqHqUEkoFL5WrX4voi5gQgghhOiElPHU3gAgLy9PbistVf6sd3JyMvz9/TFkyBDY2NjA19cXq1evlh2vyqen99/zlwKBAGKxGL///rvKeufm5sLExKTa4A94HmA6ODjA3d0d7733HlJTU2v92bxqFAASQgghRCek/98CWNutahSws7MzTE1NZdv8+fOVnj81NRUJCQlo2rQpDhw4gIiICERFRWHDhg0AgBYtWsDV1RUxMTHIyclBWVkZFixYgIyMDKSnpys9Z3Z2Nr744gt8+OGH1b639u3bY8OGDThw4ABWr16NjIwMdOzYEdnZmg8orUvUBUwIIYQQnVB/JZDnaR88eAATExPZfolEojy9VAp/f3/Ex8cDAHx9fXH16lUkJCRg5MiREIlE2LlzJ8LDw2FhYQGBQIDg4GD06tVL6fny8vLQp08ftGzZErGxsdXW9cVzeHt7o0OHDmjcuDHWr1+PqVOn1vo9vyoUABJCCCFEJyrBQ6UaI3ur0pqYmMgFgKrY29ujZcuWcvs8PDzknunz8/PDpUuXkJubi7KyMlhbW6N9+/bw9/eXy5efn4+ePXvCyMgISUlJEIlEta43ABgaGsLb21tuhHF9Rl3AhBBCCNGJqhZAdTZ1BAQE4MaNG3L7bt68CVdXV4W0pqamsLa2xq1bt3Du3Dn069dPdiwvLw8hISEQi8VITk6We2awtkpLS3H9+nXY29urnfdVoACQEEIIITpRif9aAWu3qSc6OhpnzpxBfHw8bt++jS1btiAxMRETJ06Updm+fTuOHz+O1NRU7N69G927d0f//v0REhIC4HnLX0hICAoLC7FmzRrk5eUhIyMDGRkZqKz8r0ZBQUH45ptvZK+nT5+OEydO4M6dO/jzzz8xePBg5OXlYdSoUVw+sjpDXcCEEEIIeS21bdsWSUlJiImJQVxcHNzd3bFs2TKEhYXJ0qSnp2Pq1Kl4/Pgx7O3tMXLkSMyaNUt2/Pz58/jzzz8BAE2aNJE7/507d2TTyqSkpCArK0t27OHDhxg2bBiysrJgbW2Nt956C2fOnFHa+lgfUQBICCGEEJ3QdBCIOkJDQxEaGqryeFRUFKKiolQe79q1KxireXnDu3fvyr3eunVrretYH1EASAghhBCdoLWA6y8KAAkhhBCiE0zN9X2ZBmsBE81QAEgIIYQQnaAWwPqLAkBCCCGE6MSLy7vVNj2pG/UuAMwuNoCQr3zG75rczzXjVDbjcOHx+VJOZQsF3PLzyrj9q6nMvOYHYFWR5HAqGpKcCk75i11MOeXPaareZJ8vKnTi9r0ZOBZwyl+YacgpP69C82u+rOY5WqtlekfdCR/kSXLKOeWvMBBwyl/+WPPProjH7Y+c3lPNf68AUOjArfxyc82/O34xx3tV02JO+dvZ3OOU/16xpcZ5JQJu9zpNg6NXGVRVLfGmTnpSN+pdAEgIIYSQNwO1ANZfFAASQgghRCek4EOqRqueOmkJNxQAEkIIIUQnKhkPlWq06qmTlnBDASAhhBBCdIK6gOsvCgAJIYQQohNMzZVAGE0DU2coACSEEEKITlSCh0o1JndWJy3hhgJAQgghhOiElKnXrSvlNsMRUQMFgIQQQgjRCamaXcDqpCXcUABICCGEEJ2QqrkWsDppCTcUABJCCCFEJ2gamPqLAkBCCCGE6AR1AddfFAASQgghRCekUHMeQOoCrjMUABJCCCFEJ5iazwAyCgDrDAWAhBBCCNEJWgmk/qIAkBBCCCE6Qc8A1l/1LgDMfGoCfomeRnkrc0Wcyja0K9Q4b2mJmFPZxZXc/tUjLOSWn8s/uoptuZWtnyPglP9pC275SzyKNc7raPOMU9lPCw045eeVcrtZltpUaJxXWMTt9iHO1bxsAJDczOCWX8St/oJia43zivO43avKjLn95vjlnLJzYtLoGaf8ntbcvndHCbfybxbaapz3YpYjp7Izs000yictKuFULhfUAlh/UahNCCGEENLAUABICCGEEJ2omghanU1djx49wvDhw2FpaQkDAwP4+Pjg/PnzsuOPHz/G6NGj4eDgAAMDA/Ts2RO3bt2SO0dpaSk++ugjWFlZwdDQEO+88w4ePnxYY9mrVq2Cu7s79PT04Ofnh99++03t+r8qFAASQgghRCequoDV2dSRk5ODgIAAiEQi7Nu3D9euXcPixYthZmYGAGCMoX///khNTcXu3btx8eJFuLq6Ijg4GIWF/z32NWXKFCQlJWHr1q34/fffUVBQgNDQUFRWVqose9u2bZgyZQpmzpyJixcvonPnzujVqxfu37+v0WdV1+rdM4CEEEIIeTPo+hnAhQsXwtnZGevWrZPtc3Nzk/3/rVu3cObMGVy5cgWenp4Anrfa2djY4Mcff8TYsWORm5uLNWvWYOPGjQgODgYAbNq0Cc7Ozjh8+DB69OihtOwlS5YgPDwcY8eOBQAsW7YMBw4cQEJCAubPn1+r+n/wwQe1Svfi+9MWagEkhBBCiE5o2gKYl5cnt5WWlio9f3JyMvz9/TFkyBDY2NjA19cXq1evlh2vyqen99/gUoFAALFYjN9//x0AcP78eZSXlyMkJESWxsHBAV5eXjh16pTScsvKynD+/Hm5PAAQEhKiMo8yubm5tdp0gVoACSGEEKITmrYAOjs7y+2PjY3FnDlzFNKnpqYiISEBU6dOxYwZM3D27FlERUVBIpFg5MiRaNGiBVxdXRETE4PvvvsOhoaGWLJkCTIyMpCeng4AyMjIgFgshrm5udy5bW1tkZGhfNR5VlYWKisrYWtrW+s8yvz888+1TqttFAASQgghRCcY1Fvejf3/fx88eAATk/+mvZFIJErTS6VS+Pv7Iz4+HgDg6+uLq1evIiEhASNHjoRIJMLOnTsRHh4OCwsLCAQCBAcHo1evXjXXhTHweNXX/eXjtclTX1AASAghhBCd0LQF0MTERC4AVMXe3h4tW7aU2+fh4YGdO3fKXvv5+eHSpUvIzc1FWVkZrK2t0b59e/j7+wMA7OzsUFZWhpycHLlWwMzMTHTs2FFpuVZWVhAIBAqtfZmZmQqtgtV5++23wRhTefzYsWO1Ppe66BlAQgghhOiErkcBBwQE4MaNG3L7bt68CVdXV4W0pqamsLa2xq1bt3Du3Dn069cPwPMAUSQS4dChQ7K06enpuHLlisoAUCwWw8/PTy4PABw6dEhlHmV8fHzg6+sr27y8vCCVSnHp0iW0atWq1ufRBLUAEkIIIUQndD0KODo6Gh07dkR8fDyGDh2Ks2fPIjExEYmJibI027dvh7W1NVxcXHD58mVMnjwZ/fv3lw3gMDU1RXh4OKZNmwZLS0tYWFhg+vTp8Pb2lo0KBoCgoCAMGDAAkyZNAgBMnToVI0aMgL+/Pzp06IDExETcv38fERERta7/kiVLlO7/4osvUFBQoNZnoS4KAAkhhBCiE7oOANu2bYukpCTExMQgLi4O7u7uWLZsGcLCwmRp0tPTMXXqVDx+/Bj29vYYOXIkZs2aJXeepUuXQigUYujQoSguLkZQUBB++OEHCAT/LTWakpKCrKws2et3330X2dnZiIuLQ3p6Ory8vLB3716lrY/qev/999GuXTssXLiQ87lUoQCQEEIIITrBGA9MjaBOnbRVQkNDERoaqvJ4VFQUoqKiqj2Hnp4eVq5ciZUrV6pMc/fuXYV9kZGRiIyMrHVda+vUqVMQi8VaP++LKAAkhBBCiE6ou7ybJkvBvc4GDBgg95oxhvT0dJw7dw6zZ8/WadkUABJCCCFEJ3TdBfy6e3nuQT6fj5YtWyI+Ph5BQUE6LZsCQEIIIYToRF10Ab/O1q5d+8rKrncBoJ5BGQQGml0ABUXc3k5Zqeb52RPlk1TWlsVVbhe9QabqBatrI6eZ5u+9wpBT0Xj0TgWn/DxBGaf8NlZ5Gud99MSMU9nSMkHNiaqjz+17138g0jiv8QMpp7Il6fmc8lc8SuOUn29szCm/2MhA47w8pnleADDI5Ha/KLXgdr+ydXmqcV4L/SJOZdvr6WZZrNqyEBdqnDczq+Z57aojeKBXcyIleCWciuWEWgA1k5WVhbZt2+LOnTs6K4PmASSEEEKITlS1AKqzNSR79uxB8+bNIZFIwOfzZZuNjQ3u378ve60L9a4FkBBCCCFvBqZmC2BDCwCnTZuG7t27IygoSG7KmdzcXIwaNQq7du3SWdkUABJCCCFEJxiAalY6U5q+Ibl79y5mzZqlsHxcZmYmAOCdd97RWdkUABJCCCFEJ6TggUfTwKjk6OgIiUTxmVyBQAA3Nzedlk0BICGEEEJ0gkYBVy81NVXpfktLS5XHtIUGgRBCCCFEJ6pGAauzNTQHDx5Ep06dYGBgACMjIwQGBuLAgQM6L5cCQEIIIYToBGPqbw3JoUOH0LdvX3h4eCAuLg6MMfTu3RvvvvsufvnlF52WTQEgIYQQQsgrEBcXhxkzZmD16tUYOHAg+Hw+Pv30U3zzzTeYO3euTsumAJAQQgghOkHzAFbv4sWLGDJkiML+zp074+rVqzotmwaBEEIIIUQnaBBI9UQikdKJnm/fvg1HR0edls05AMzNzUVSUhJ+++033L17F0VFRbC2toavry969OiBjh07aqOehBBCCHnNSBkPPFoKTqUWLVrgn3/+QYsWLQAAlZWV2Lx5M2bPno1Ro0bptGyNu4DT09Mxbtw42NvbIy4uDoWFhfDx8UFQUBCcnJxw7NgxdO/eHS1btsS2bdu0WWdCCCGEvAZoEEj1xo4di8uXL8tel5WV4ZNPPsHo0aMxc+ZMnZatcQtg69atMXLkSJw9exZeXl5K0xQXF2PXrl1YsmQJHjx4gOnTp2tcUUIIIYS8Xp4Hdep0AeuwMvVQeHi47P8bNWqEgoIC6Onp1UnZGgeAV69ehbW1dbVp9PX1MWzYMAwbNgxPnjzRtChCCCGEvIboGUD11FXwB3AIAGsK/jRNb2ucD6FhmSZVwr0SkUb5qvBvGmqc1/bvSk5lG91+xil/flNTTvlLzTX/Z1elSwmnssXiCk75Wzmkccr/T5qD5pm5/mu1ktvNjl8oqDlRNXgcLlujR6Xcys7J45Rf0LQRp/xlTmac8vPLpJrnLeF2v3ja0oBT/kI3br+5Zka5Gud1MczhVLaRgNt196jUjFP+1AIrjfMyKbffu+SpZvkrS19dUMWg3m2ygTUAQiAQgFXT7CmVan6fqYnWRgE/evQIf/zxBzIzMxUqHBUVpa1iCCGEEPKaoBbA6iUlJcm9Li8vx+XLl7Fu3TrMnj1bp2VrJQBct24dIiIiIBaLYWlpCR7vvy+Qx+NRAEgIIYQ0RNQEWK133nlHYd+gQYPQsmVLbN26Ve4ZQW3TSgA4e/ZszJ49GzExMUrnsyGEEEJIA6Tu5M4NrAVQFX9/f3zwwQc6LUMr0VpRURHee+89Cv4IIYQQIlMX08A8evQIw4cPh6WlJQwMDODj44Pz58/LjhcUFGDSpElwcnKCvr4+PDw8kJCQIDt+9+5d8Hg8pdv27dtVljtnzhyF9HZ2duq/gZcUFRVhxYoV9X8iaOD5MObt27fjs88+08bpCCGEEPIG0PUzgDk5OQgICEC3bt2wb98+2NjYICUlBWZmZrI00dHROHbsGDZt2gQ3NzccPHgQkZGRcHBwQL9+/eDs7Iz09HS58yYmJuKrr75Cr169qi3f09MThw8flr0WCNQbmGdhYSE3CIQxhvz8fBgaGmLz5s1qnUtdWgkA58+fj9DQUOzfvx/e3t4QieRH4y5ZskQbxRBCCCHkdcJ46nXrqhkALly4EM7Ozli3bp1sn5ubm1ya06dPY9SoUejatSsAYPz48fjuu+9w7tw59OvXDwKBQKHlLikpCe+++y6MjIyqLV8oFHJq9Vu+fLlcAMjn82FjY4N27drJBbG6oJUAMD4+HgcOHEDz5s0BQGEQCCGEEEIaHnW7davS5uXJTxMlkUggkUgU0icnJ6NHjx4YMmQITpw4AUdHR0RGRmLcuHGyNJ06dUJycjLGjBkDBwcHHD9+HDdv3sTy5cuV1uH8+fO4dOkS/ve//9VY31u3bsHBwQESiQTt27dHfHw8GjWq/RRVI0aMqHVabdNKALhkyRKsXbsWo0eP1sbpCCGEEPIm0HAUsLOzs9zu2NhYzJkzRyF5amoqEhISMHXqVMyYMQNnz55FVFQUJBIJRo4cCQBYsWIFxo0bBycnJwiFQvD5fHz//ffo1KmT0iqsWbMGHh4e6NixY7VVbd++PTZs2IBmzZrh8ePH+PLLL9GxY0dcvXoVlpaWtXq78+bNQ1lZGebOnQsA2L9/PxISEuDs7Iwvv/xSp62AWgkAJRIJAgICtHEqQgghhLwhNH0G8MGDBzAxMZHtV9b6BzyfKNnf3x/x8fEAAF9fX1y9ehUJCQlyAeCZM2eQnJwMV1dXnDx5EpGRkbC3t0dwcLDc+YqLi7FlyxbMmjWrxrq++Hygt7c3OnTogMaNG2P9+vWYOnVqrd7vjz/+KKt7dnY2Bg0ahGHDhuH06dOYOHGiTp8D1EoAOHnyZKxcuRIrVqzQxukIIYQQ8qbQYGSviYmJXACoir29PVq2bCm3z8PDAzt37gTwPKCbMWMGkpKS0KdPHwBAq1atcOnSJSxatEghANyxYweKiopkwaM6DA0N4e3tjVu3btU6z927d+Hp6QkA+PXXX9GsWTN8//33uHjxInr06KF2HdShlQDw7NmzOHr0KPbs2QNPT0+FQSA///yzNoohhBBCyGtE16OAAwICcOPGDbl9N2/ehKurK4DnK2uUl5crTFMnEAiULrO2Zs0avPPOO2ovdwsApaWluH79Ojp37lzrPPr6+igpeb6c6uHDhxESEgIAsLS0REFBgdp1UIdWAkAzMzMMHDhQG6cihBBCyJtCxyuBREdHo2PHjoiPj8fQoUNx9uxZJCYmIjExEcDzlsTAwEB8/PHH0NfXh6urK06cOIENGzYozFBy+/ZtnDx5Env37lVaVlBQEAYMGIBJkyYBAKZPn46+ffvCxcUFmZmZ+PLLL5GXl4dRo0bVuv6dO3dGTEwMQkNDsWPHDhw5ckRWl5efg9Q2rS0FRwghhBAij/f/mzrpa69t27ZISkpCTEwM4uLi4O7ujmXLliEsLEyWZuvWrYiJiUFYWBiePn0KV1dXzJs3DxEREXLnWrt2LRwdHWWtcC9LSUlBVlaW7PXDhw8xbNgwZGVlwdraGm+99RbOnDkja32sjaVLl2LYsGH45JNPMGnSJHTo0AHAf13XuqSVAFCVmzdvYvr06UhOTtZlMYQQQgipj+pgLeDQ0FCEhoaqPG5nZ1erhqr4+HjZgAxl7t69K/d669atta6jKq6urjh16pTC/qrnFXVJKwGgu7u70vn+cnJyIBaLtVEEIYQQQsgb5d69e9Ued3V1BWMM9+/fV6tlsTa0EgBOmTJF7nVlZSVSUlKwadOmWk2k+KLUVFvw9fU0qockQ1RzomrYXKzQOK/e41JOZRc7G3PK/9RDveVnXlZuU6ZxXnOTIk5lm+qXcMp//q4Lp/zSUs0/O2EWt2uOGSo+hKwOqR63/IISzdfvZnxuk7xXOKv/kPWLih30OeUXFHP77HjlmucvctLsHlelxJrbZ2/l9IxT/jKp5n86CiuUT+dRW/cLzTnlL6rg1ihxL9tC47zCdG7v3SBTg+YxAJVlmuXTijpoAXydNWrUSG4lkCo8Hg+MMUilUjx58gTu7u5KB61wobVpYJR5++23ERsbi8GDB2ujGEIIIYS8TnS8FNzr7uLFizWmsbKywqVLl7Retk6fAWzTpg1SU1N1WQQhhBBC6ilNl4JrKFq1aqV0f1W3L/B8fWBV6bjQaQC4efNmav0jhBBCGirqAq5RWloa7t27h7Ky/x7Fevr0KQYNGoSjR4+Cx+MhMDBQ6+VqJQD09fVVGATy+PFjZGRkwMvLC23atJHtv3DhgjaKJIQQQkh9R13A1Zo3bx5iY2NVPgcYFBQkexZQ27QSAPbv318bpyGEEELIG4THnm/qpG9I/ve//2Ht2rXo27cvBIL/BiQ+efIETZs2RU5OjtJZVrRBKwFgbGysNk5DCCGEkDcJdQFXKzMzE71794a5ufzo9pKSEvB4PJiamuqsbI3ngCgsLNRpekIIIYS85qq6gNXZGpCRI0dCX19xSit9fX21lpTThMYBYJMmTRAfH4+0tDSVaRhjOHToEHr16oUVK1ZoWhQhhBBCXkdMg60BWbt2LQwNDRX2i0QidOvWTadla9wFfPz4cXz++eeYO3cufHx84O/vDwcHB+jp6SEnJwfXrl3D6dOnIRKJEBMTg/Hjx2uz3oQQQgip76gLWIG7uzsuXLig0O0LAJcuXcLq1avx448/gs/nY8SIETqrh8YtgM2bN8f27duRkpKC9957D2lpadixYwdWr16N48ePw9HREatXr8bdu3cxYcIEuYcbCSGEENIAUAuggmfPnuHAgQOy1/n5+fj222/h7++Pdu3a4d69e1i9ejXS09N1Wg/Og0CcnJwQHR2N6OhobdSHEEIIIW8KmgZGwezZszFixAisXbsW9vb22LlzJxwdHTFmzBj88ssvsLe3r5N6aL4QKCGEEEJINaqmgVFne9NFR0fj2rVr8PT0xN69e1FZWYmQkBCEhITUWfAHUABICCGEEF2hLmClmjZtiqVLlyItLQ0bN27E7du30a5dO/j6+mL58uXIzs7WeR0oACSEEEIIeQVEIhEGDx6Mffv24e7duxgyZAi++eYbODo6YtCgQTotmwJAQgghhOgED2p2Ab/qCr9Cjo6OmDFjBm7duoWDBw/C2NhYp+VpZSUQbRI9FYKvp1m1eJXcyi430DwernTS41R2gSO3UdKM4zfJE2u+zmBevgGnsiuk3P4dIi3nlt/wpljjvDyOyzMWmHLr7+AXc3vv4lzNy893knAqu1LMLb8kn9tnJ8rndsMoM9P8uimy4fZ7L3Sr4JTfWMDtvd9/ZqZx3sxCI05lc1Vazu1mWfpY8/udkOP9IvMtzb43aXEl8CO3sjVGg0A00qVLF3Tp0kWnZWilBXD//v34/fffZa//97//wcfHB++//z5ycnK0UQQhhBBCXjf0DGC9pZUA8OOPP0ZeXh4A4PLly5g2bRp69+6N1NRUTJ06VRtFEEIIIeR1QwFgvaWVLuA7d+6gZcuWAICdO3ciNDQU8fHxuHDhAnr37q2NIgghhBDymlF3apeGMA1MfaGVFkCxWIyioiIAwOHDhxESEgIAsLCwkLUMEkIIIaSBqYMWwEePHmH48OGwtLSEgYEBfHx8cP78ednxgoICTJo0CU5OTtDX14eHhwcSEhLkztG1a1fweDy57b333qux7FWrVsHd3R16enrw8/PDb7/9pv4beEW00gLYqVMnTJ06FQEBATh79iy2bdsGALh58yacnJy0UQQhhBBCXjc6Xgs4JycHAQEB6NatG/bt2wcbGxukpKTAzMxMliY6OhrHjh3Dpk2b4ObmhoMHDyIyMhIODg7o16+fLN24ceMQFxcne62vr19t2du2bcOUKVOwatUqBAQE4LvvvkOvXr1w7do1uLi4qPdGAJSXlyM7Oxv6+vowNTVVO7+6tNIC+M0330AoFGLHjh1ISEiAo6MjAGDfvn3o2bOnNooghBBCCJGzcOFCODs7Y926dWjXrh3c3NwQFBSExo0by9KcPn0ao0aNQteuXeHm5obx48ejdevWOHfunNy5DAwMYGdnJ9tqCsKWLFmC8PBwjB07Fh4eHli2bBmcnZ0VWherc+PGDUyfPh3e3t7Q09ODg4MDzM3NYWFhgX79+mHLli0oKytT70OpJa0EgC4uLtizZw/+/vtvhIeHy/YvXboUK1as0EYRhBBCCHnN6HopuOTkZPj7+2PIkCGwsbGBr68vVq9eLZemU6dOSE5OxqNHj8AYw7Fjx3Dz5k306NFDLt3mzZthZWUFT09PTJ8+Hfn5+SrLLSsrw/nz52WPvFUJCQnBqVOnaqz3gwcP8N5778HPzw/379/HuHHjcODAAfz111/47bff8N1336FFixb44osv0KhRI6xZs0aNT6V2NO4CzsvLg4mJiez/q1OVjhBCCCENiIbzAL4cV0gkEkgkinOHpqamIiEhAVOnTsWMGTNw9uxZREVFQSKRYOTIkQCAFStWYNy4cXBycoJQKASfz8f333+PTp06yc4TFhYGd3d32NnZ4cqVK4iJicHff/+NQ4cOKa1mVlYWKisrYWtrK7ff1tYWGRkZNb7N5ORkWbCqasLnIUOGYOHChTh16hTi4uLkGti0QeMA0NzcHOnp6bCxsYGZmRl4PMUvmDEGHo+HykqOMzQTQggh5PWj4TOAzs7OcrtjY2MxZ84cheRSqRT+/v6Ij48HAPj6+uLq1atISEiQCwDPnDmD5ORkuLq64uTJk4iMjIS9vT2Cg4MBPH/+r4qXlxeaNm0Kf39/XLhwAW3atFFZ3Zdjn6q4pyYTJ06sMU2Vjh07Yv/+/bVOX1saB4BHjx6FhYWF7P9r84YJIYQQ0nBoOg3MgwcP5HoPlbX+AYC9vb1sGroqHh4e2LlzJwCguLgYM2bMQFJSEvr06QMAaNWqFS5duoRFixbJAsCXtWnTBiKRCLdu3VIaAFpZWUEgECi09mVmZiq0CtYWYwxPnjwBj8eDlZWVzuMqjQPAwMBA2f937dpVG3UhhBBCyJtEwxZAExOTWj0+FhAQgBs3bsjtu3nzJlxdXQE8H1lbXl4OPl9+yINAIIBUqnptvqtXr6K8vBz29vZKj4vFYvj5+eHQoUMYMGCAbP+hQ4fkRhbXxrNnzzBjxgxs27ZNtnqaubk53n33XcyfP19nI4K1Mg3MrFmzMGfOHAgE8utb5ubmIiIiAj/++KoWISSEEELIK6PuwA41B4FER0ejY8eOiI+Px9ChQ3H27FkkJiYiMTERwPNAMjAwEB9//DH09fXh6uqKEydOYMOGDViyZAkAICUlBZs3b0bv3r1hZWWFa9euYdq0afD19UVAQICsrKCgIAwYMACTJk0CAEydOhUjRoyAv78/OnTogMTERNy/fx8RERG1rn9+fj4CAgLw4MEDhIWFwcPDA4wx3LhxA5s2bcLJkydx+vRplc8JcqGVAHDDhg04dOgQNm/eLBt6ffz4cYwcOVI2JQwhhBBCGhgdzwPYtm1bJCUlISYmBnFxcXB3d8eyZcsQFhYmS7N161bExMQgLCwMT58+haurK+bNmycL1MRiMY4cOYLly5ejoKAAzs7O6NOnD2JjY+UatlJSUpCVlSV7/e677yI7OxtxcXFIT0+Hl5cX9u7dK2t9rI0FCxagoKAAN2/ehJ2dndyx2NhYtGvXDgsWLMC8efPU+2BqQSsB4D///IMPP/wQPj4+WLJkCW7evInly5fjs88+Q2xsrDaKIIQQQsjrRscBIACEhoYiNDRU5XE7OzusW7dO5XFnZ2ecOHGixnLu3r2rsC8yMhKRkZG1qqcyO3fuxJdffqkQ/AHPRxTPmzdPtmmbVgJAU1NTbN26FTNnzsSHH34IoVCIffv2ISgoSBunJ4QQQshriNYCrt69e/fg7++v8ri/v7/SwFMbtBIAAsDKlSuxdOlSDBs2DOfPn0dUVBS2bNmC1q1bq3WeCmMp+PqqH8ysjjhXUHOiapSYaT4vdoUhp6JRZsrtqi+z5DbVjkCgefm2lrmcyuY6zqk404xTfmGR5nnzmmh2rcqIueXXv8P1J6z5957bhNs3V2bO7Zrll3Kbx97wofJRhbXF5Q9VoSO337vYvIRT/tzC6pe4qomeuFzjvEWlYk5lF+bqccovfMKtfJ5Q8+9O1Lz6OXNrEuJyW6N8ZQXl0P40wkQbzM3NIRKJVB4XCoUwNzfXSdlaWQmkV69emDt3LjZs2IDNmzfj4sWL6NKlC9566y189dVX2iiCEEIIIa8bpsHWgHh7e+PkyZMqjx8/fhxeXl46KVsrAWBFRQX++ecfDB48GMDzBZQTEhKwY8cOLF26VBtFEEIIIeQ1o+ul4F53kyZNwsKFC1FUpNgVVVRUhK+++goTJkzQSdla6QJWtVRKnz59cPnyZW0UQQghhJDXUQML6tTRt29fBAYGQk9P8dEGPT09nDt3TmfL6WrtGUBVrKysdF0EIYQQQuqjOhgF/LozMTHB7du3ce3aNfB4PHh4eKBJkybg8/k6C/4ALQWAlZWVWLp0KX766Sfcv38fZWVlcsefPn2qjWIIIYQQ8hqhUcDVy83NxejRo5GcnAyh8HlIVl5ejr59+2L9+vUwMzPTWdlaeQZw7ty5WLJkCYYOHYrc3FxMnToVAwcOBJ/PV7p4MyGEEEIaABoEUq3Jkyfj9u3b+OOPP1BSUoKSkhKcPn0aKSkpiIqK0mnZWgkAN2/ejNWrV2P69OkQCoUYNmwYvv/+e8yePRtnzpzRRhGEEEIIec3QIJDqJScn49tvv8Vbb70FHo8HHo+H9u3bIzExEXv27NFp2VoJADMyMuDt7Q0AMDIyQm7u83nhQkND8euvv2qjCEIIIYS8bqgFsFplZWUwMjJS2G9sbIzS0lKdlq2VANDJyQnp6ekAgCZNmuDgwYMAgL/++gsSCbfJVgkhhBDymqIAsFqBgYH47LPPkJ2dLdv39OlTfPLJJwgMDNRp2VoZBDJgwAAcOXIE7du3x+TJkzFs2DCsWbMG9+/fR3R0tDaKIIQQQshrhgaBVG/FihXo06cPXFxc0KxZM/B4PNy4cQOOjo7Yu3evTsvWSgC4YMEC2f8PHjwYzs7O+OOPP9CkSRO888472iiCEEIIIa8bmgamWo0bN8bVq1eRnJyMa9eugTEGDw8P9O/fHwIBt+Vta6KTeQDbt2+P9u3b6+LUhBBCCHldUABYI4FAgAEDBmDAgAF1Wq7OJ4ImhBBCCCHK/fvvvzh+/DiePHkCqVQqdyw2NlZn5VIASAghhBCdoGcAq5eYmIjIyEhYW1vDzs4OPB5Pdowx1rACQHG2AAI9zfq9pSJuZVcYap631JzjVeuuuBC0OhzN8znlLywVa162US6nsi/+3oxT/grbspoTVYM11/yzt5VwKzsn34BT/hJrbj/hwmYVGuf1a3aXU9kO+tyum+MPm3DKX8TMOOWXCjX/zUv1pTUnqobwDoebFYByI27ll5lrft1X5nG7UUsyuV3zlRJu92pmpfl7b2yVXXOiagj5lRrlk2qYTyuoC7ha8fHxiI+PxyeffFLnZde7AJAQQgghbwZqAaze06dPMXjw4FdStlbmARw9ejROnjypjVMRQggh5E1B8wBWa9CgQdi3b98rKVsrLYD5+fkICQmBs7MzPvjgA4waNQqOjo7aODUhhBBCXlfUBVyt5s2bY/bs2Th16hR8fX0hEsk/IjF58mSdla2VAHDnzp3Izs7Gpk2b8MMPPyA2NhbBwcEIDw9Hv379FN4QIYQQQt58vP/f1EnfkCQmJsLU1BSnT5/G6dOn5Y4xxup/AAgAlpaWmDx5MiZPnoyLFy9i7dq1GDFiBIyMjDB8+HBERkaiadOm2iqOEEIIIfUdtQBWKzU19ZWVrZVnAF+Unp6OgwcP4uDBgxAIBOjduzeuXr2Kli1bYunSpdoujhBCCCH1VNUgEHU2dT169AjDhw+HpaUlDAwM4OPjg/Pnz8uOFxQUYNKkSXBycoK+vj48PDyQkJAgO/706VN89NFHaN68OQwMDODi4oKoqCjk5lY/U8GcOXPA4/HkNjs7O/XfwCuilRbA8vJyJCcnY926dTh48CBatWqF6OhohIWFwdjYGACwdetWTJgwgdYGJoQQQhoKHbcA5uTkICAgAN26dcO+fftgY2ODlJQUmJmZydJER0fj2LFj2LRpE9zc3HDw4EFERkbCwcEB/fr1Q1paGtLS0rBo0SK0bNkS9+7dQ0REBNLS0rBjx45qy/f09MThw4dlr9Vdvu2DDz6o9vi6devUOp86tBIA2tvbQyqVYtiwYTh79ix8fHwU0vTo0UPuCyGEEEJIA6DDbt2FCxfC2dlZLlByc3OTS3P69GmMGjUKXbt2BQCMHz8e3333Hc6dO4d+/frBy8sLO3fulKVv3Lgx5s2bh+HDh6OiogJCoepQSSgUcmr1e7mVsby8HFevXsXTp0/RrVs3jc9bG1oJAJcuXYohQ4ZAT09PZRpzc3PcuXNHG8URQggh5DWg6TyAeXl5cvslEgkkEolC+uTkZPTo0QNDhgzBiRMn4OjoiMjISIwbN06WplOnTkhOTsaYMWPg4OCA48eP4+bNm1i+fLnKeuTm5sLExKTa4A8Abt26BQcHB0gkErRv3x7x8fFo1KhRrd/vzz//rLCPMYZJkyapdR5NaOUZwBEjRlQb/BFCCCGkAdJwHkBnZ2eYmprKtvnz5ys9fWpqKhISEtC0aVMcOHAAERERiIqKwoYNG2RpVqxYgZYtW8LJyQlisRg9e/bEqlWr0KlTJ6XnzM7OxhdffIEPP/yw2rfWvn17bNiwAQcOHMDq1auRkZGBjh07Ijub24ovPB4PkydPxuLFizmdpya0EgghhBBCdELTFsAHDx7AxMREtl9Z6x8ASKVS+Pv7Iz4+HgDg6+uLq1evIiEhASNHjgTwPAA8c+YMkpOT4erqipMnTyIyMhL29vYIDg6WO19eXh769OmDli1b1rgOb69evWT/7+3tjQ4dOqBx48ZYv349pk6dWvs3rcTt27dRVsZtqdGaUABICCGEEN3QcBCIiYmJXACoir29PVq2bCm3z8PDQ/ZMX3FxMWbMmIGkpCT06dMHANCqVStcunQJixYtkgsA8/Pz0bNnTxgZGSEpKUntOYwNDQ3h7e2NW7du1TrPywNjGWNIT0/Hr7/+itGjR6tVvrooACSEEEKITuh6LeCAgADcuHFDbt/Nmzfh6uoK4PmgivLycvD58k+8CQQCSKVS2eu8vDz06NEDEokEycnJGj3WVlpaiuvXr6Nz5861zvP333/Lvebz+bCxscHy5cspACSEEELIa0rH08BER0ejY8eOiI+Px9ChQ3H27FkkJiYiMTERwPOWxMDAQHz88cfQ19eHq6srTpw4gQ0bNmDJkiUA/lvOtqioCJs2bUJeXp5sEIq1tbVsapegoCAMGDAAkyZNAgBMnz4dffv2hYuLCzIzM/Hll18iLy8Po0aNqnX9jx49qt4b1iIKAAkhhBCiGzoOANu2bYukpCTExMQgLi4O7u7uWLZsGcLCwmRptm7dipiYGISFheHp06dwdXXFvHnzEBERAQA4f/48/vzzTwBAkyZN5M5/584d2bQyKSkpyMrKkh17+PAhhg0bhqysLFhbW+Ott97CmTNnZK2PXOTk5GDgwIE4duwY53OpUu8CQEEJINBwziDGcUxzmZnmkxVVmEprTlQNiZBb/kePLDjlFxvp9mHT6rzT/U9O+R+X1vycSHW6mf+rcd4D2Z6cyjYQlXPKr2+TVXOiapRXqjdp6Yt8TB9yKtte9IxT/rvmlpzy33TjePtLNdI4q+Qpt7LFeTWnqU6ZiebfOwCUlil/IL82xEXcVnuVirlNKsc1v1iP22+WCwO+ZvdpAf/V1VnXXcAAEBoaitDQUJXH7ezsqp1QuWvXrmCs5oLv3r0r93rr1q21rqMqf/75J2bPno27d+/KDfqorKzEw4cP4e7uDgA6mUav3gWAhBBCCHlD0FrA1YqIiICbmxsiIiLkVhEpKCjArFmzdLp6GgWAhBBCCNEJHmPg1aJ17cX0Dcm///6LX3/9FQ4ODnL7MzMz8fnnnyMqKkpnZVMASAghhBDdoBbAapWVlamc45DH4/a4RE0oACSEEEKITtTFM4Cvs8rKSqX7bWxsVB7TFq0sBUcIIYQQQtQTFRUl95zfmjVr0Lp1a4SGhuL+/fs6LZsCQEIIIYTohoZrATcU+/fvly0p9+jRI0yYMAGDBw9GRUWFbL5BXaEuYEIIIYToBHUBV+/hw4do1qwZAODXX39Fu3btMGvWLFy7dg2dOnXSadnUAkgIIYQQ3aAWwGqZmJjg6dOnAICDBw/K1iY2MDCQmxdQF6gFkBBCCCE6QS2A1evVqxciIyPx9ttvY8+ePYiNjQUAXLt2TTYJtK5QCyAhhBBCdINaAKu1ZMkSNGrUCHv37sXixYvh7e0N4HnL4Ndff63TsqkFkBBCCCE609Ba9dRhbm6OLVu2KOzX9fN/ALUAEkIIIURXGFN/awBu3bql1jN+V65c0XodKAAkhBBCiE5UPQOoztYQHD9+HE2bNsX8+fNx7949pWnKy8uxZ88eDB48WDZVjDZRFzAhhBBCdIOWglNq3Lhx8Pb2RlxcHGbNmgUHBwd4eXnBwsICxcXFePToEf7++29YWloiMjISGzdu1HodKAAkhBBCiE7wpM83ddI3FG+99Rb27t2LBw8e4PDhw7h48SKePHkCMzMz+Pj4YMGCBQgMDNTZmsD1LgA0SpNCINbsCiix4NajXWrJ4Z8eFdy+oJJsfU75hXkCTvkFpiUa53XQz+VUdiP9J5zyexs+5JS/s36qxnnvl1lyKvuh0JxT/rsFFpzyd7C6o3HeEOPLnMq+VurIKb+lpJBT/rLHrpzyGz/W/DcvyeHWzFFqzu1+w/WPLBNpXv9KPW5lw76UU/YmdtzuN20tlXfX1Ya9+Bmnsu+Xana/qXyVT3tRC2CNnJ2d8cEHH+CDDz6o03LrXQBICCGEkDcDzQNYf1EASAghhBDdUHdkbwMZBVwfUABICCGEEJ2gFsD6iwJAQgghhOgGPQNYb1EASAghhBCdoBbA+osCQEIIIYToBj0DWG/RSiCEEEII0Ym6WAnk0aNHGD58OCwtLWFgYAAfHx+cP39edrygoACTJk2Ck5MT9PX14eHhgYSEBLlzlJaW4qOPPoKVlRUMDQ3xzjvv4OHDmqcYW7VqFdzd3aGnpwc/Pz/89ttv6r+BV4QCQEIIIYToBtNgU0NOTg4CAgIgEomwb98+XLt2DYsXL4aZmZksTXR0NPbv349Nmzbh+vXriI6OxkcffYTdu3fL0kyZMgVJSUnYunUrfv/9dxQUFCA0NBSVlZUqy962bRumTJmCmTNn4uLFi+jcuTN69eqF+/fvq/cmXhEKAAkhhBCiE7puAVy4cCGcnZ2xbt06tGvXDm5ubggKCkLjxo1laU6fPo1Ro0aha9eucHNzw/jx49G6dWucO3cOAJCbm4s1a9Zg8eLFCA4Ohq+vLzZt2oTLly/j8OHDKstesmQJwsPDMXbsWHh4eGDZsmVwdnZWaF2srygAJIQQQohuSJn6G4C8vDy5rbRU+QowycnJ8Pf3x5AhQ2BjYwNfX1+sXr1aLk2nTp2QnJyMR48egTGGY8eO4ebNm+jRowcA4Pz58ygvL0dISIgsT9XavKdOnVJabllZGc6fPy+XBwBCQkJU5qlvKAAkhBBCiG5o2AXs7OwMU1NT2TZ//nylp09NTUVCQgKaNm2KAwcOICIiAlFRUdiwYYMszYoVK9CyZUs4OTlBLBajZ8+eWLVqFTp16gQAyMjIgFgshrm5/NKctra2yMjIUFpuVlYWKisrYWtrW+s89Q2NAiaEEEJIvfLgwQOYmJjIXkskEqXppFIp/P39ER8fDwDw9fXF1atXkZCQgJEjRwJ4HgCeOXMGycnJcHV1xcmTJxEZGQl7e3sEBwerrANjDDxe9etuv3y8NnnqCwoACSGEEKITPKg5D+D//9fExEQuAFTF3t4eLVu2lNvn4eGBnTt3AgCKi4sxY8YMJCUloU+fPgCAVq1a4dKlS1i0aBGCg4NhZ2eHsrIy5OTkyLUCZmZmomPHjkrLtbKygkAgUGjty8zMVGgVrK+oC5gQQgghulE1D6A6mxoCAgJw48YNuX03b96Eq6srAKC8vBzl5eXg8+XDHYFAAKlUCgDw8/ODSCTCoUOHZMfT09Nx5coVlQGgWCyGn5+fXB4AOHTokMo89Q21ABJCCCFEJ3S9Ekh0dDQ6duyI+Ph4DB06FGfPnkViYiISExMBPG9JDAwMxMcffwx9fX24urrixIkT2LBhA5YsWQIAMDU1RXh4OKZNmwZLS0tYWFhg+vTp8Pb2lusiDgoKwoABAzBp0iQAwNSpUzFixAj4+/ujQ4cOSExMxP379xEREaHem3hF6l0AaPSoFEKhZv3nxZb6nMqW6mk+AzkTcpu9nFfJ7ZkBceM8TvkHN7mkcV4RT/U8SbVxvdCBU34vw5on66zO1TIbjfOWSEWcyn5UZMopfwerO5zyh5uf1jivu8iIU9lF0ixO+b9+1J1TfnEOtw4QQYnmv/lSU26/d44/OZRYS7mdgAOphNu9kmu3VW6pHqf81/LsNM77V7krp7IdDHM1yldWWsapXE50vBZw27ZtkZSUhJiYGMTFxcHd3R3Lli1DWFiYLM3WrVsRExODsLAwPH36FK6urpg3b55coLZ06VIIhUIMHToUxcXFCAoKwg8//ACBQCBLk5KSgqys/+5b7777LrKzsxEXF4f09HR4eXlh7969stbH+q7eBYCEEEIIeTPwGANPjW5dddJWCQ0NRWhoqMrjdnZ2WLduXbXn0NPTw8qVK7Fy5UqVae7evauwLzIyEpGRkbWua31CASAhhBBCdEP6/5s66UmdoACQEEIIITpRFy2ARDMUABJCCCFEN3T8DCDRHAWAhBBCCNENdad2oRbAOkMBICGEEEJ0QtfTwBDNUQBICCGEEN2gFsB6iwJAQgghhOgET/p8Uyc9qRsUABJCCCFEN6gFsN6iAJAQQgghukGjgOstCgAJIYQQohM0D2D9RQEgIYQQQnSDuoDrLQoACSGEEKIbDOot70bxX52hAJAQQgghOkFdwPVXvQsAK/SEgEjDavG5lS0s0PwEvHJuZZfZVnDK39Qqi1P+GwW2GufNKDThVHZzs8ec8pcwEaf8F4vcNM77d44jp7IzC4w45c8z0eOU/0RxI43z/l1WxKnsB2WWnPKLhZWc8ucbcvtDU6HP4YbD41Q0KjneuSXZ3G6WFQaaf3aVHPIC4DxTcKWU23sX8jWfp8TLLI1T2d6GDzXKVyyswFZOJXPAoGYXsM5qQl5S7wJAQgghhLwh6BnAeosCQEIIIYTohhTqtXjTRNB1hgJAQgghhOgEPQNYf3F8ao4QQgghhLxuqAWQEEIIIbpBzwDWWxQAEkIIIUQ3KACstygAfMXe92uNsW/5w9rIELeeZWHu6aP467Hqof7DPXww3MMHTkamAIBbOVlYfvEUcnC/rqpMCCGE1A4FgPUWPQP4CvX2aIaZ3bsi4Y8/0WfXDzib8RDrew6Gg6GxyjzphflYePYk+u7agL67NuBU+n2s7j4QzgZ2dVhzQgghpBakGmykTlAA+AqNae+HHZeuYPulK7j97CnizhxFemE+hnv4qsxz5H4Kjj1MxZ28HNzJy8HX535DUXkZWhi7K6Rd3XYu3nHoKrdvme9nGObSW/Z6nvdkjG88BKPchmJt2yVI9PsaQTadIeGLMaHxKKxvtxwrfL+Ej5mn1t43IYSQhqFqFLA6m7oePXqE4cOHw9LSEgYGBvDx8cH58+f/qwOPp3T7+uuvAQB3795VmWb79u0qy50zZ45Ceju716cxhgLAV0TE58PT3ha/37knt//kwzvws63d6hJ8Hg99G7WAvkiEf/PvaFyXt23aIb+8ADMuL8D+jGMY1+h9RDcbj5v5Kfj0n3n4+9lVTGoyBmI+txU3CCGENDBVXcDqbGrIyclBQEAARCIR9u3bh2vXrmHx4sUwMzOTpUlPT5fb1q5dCx6Ph0GDBgEAnJ2dFdLMnTsXhoaG6NWrV7Xle3p6yuW7fPmy2h/Rq0LPAL4i5gb6EPL5yCoolNufVVwEa33DavM2N7dC0jvDIREIUVhehg8P7cJTwwyN63Kn8BF+frQXAJD0aB/6O/ZAfkUBjmT+DgDY8fBX9LDrClcDJ9wq0DzQJIQQ0sBImXrL90nVCwAXLlwIZ2dnrFu3TrbPzc1NLs3LrXK7d+9Gt27d0KjR86UwBQKBQpqkpCS8++67MDKqfrlOoVD4WrX6vYhaAF+xly91Hg9gNSyGmJr7FL2SfkD/5E3YdP0SFgf25vQM4N3C/9anZGDIryjE/aL/9uWW5wEATESqn00khBBCFGjYApiXlye3lZaWKj19cnIy/P39MWTIENjY2MDX1xerV69WWZ3Hjx/j119/RXh4uMo058+fx6VLl6pNU+XWrVtwcHCAu7s73nvvPaSmptaYp76gAPAVySkqRoVUCmsj+dY+Sz0DZBUXVZu3XCrFvbxnuJyVga/OncT1p5no+9KzfqrweYpfeSWrlHvNGEOltFIhHZ/rCvaEEEIaGHWDv+cBoLOzM0xNTWXb/PnzlZ49NTUVCQkJaNq0KQ4cOICIiAhERUVhw4YNStOvX78exsbGGDhwoMoar1mzBh4eHujYsWO176x9+/bYsGEDDhw4gNWrVyMjIwMdO3ZEdnZ27T6aV4y6gF+RcqkUV9MfI8DdBYdu3Jbt7+zohoP3bleTUxEPPIj4yr9KM7GJ7P8FPD6sJGYa1ZcQQghRm4bTwDx48AAmJv/9/ZJIJEqTS6VS+Pv7Iz4+HgDg6+uLq1evIiEhASNHjlRIv3btWoSFhUFPT0/p+YqLi7FlyxbMmjWrxqq++Hygt7c3OnTogMaNG2P9+vWYOnVqjflfNWoBfIXW/nkeQ3y8Mbi1J5qYWWBW+7fhYGSCzf9eAgCMaumLLb3elcvzsX9ntLV1gpORCZqbW+Fj/854y94ZJzLPKS0j2PYttDZrDns9a4xtNAhGQgPY6VnBjLpzCSGE6JqUqb8BMDExkdtUBYD29vZo2bKl3D4PDw/cv684N+5vv/2GGzduYOzYsSqru2PHDhQVFSkNHmtiaGgIb29v3Lp1S+28r0K9awHMdRdBINZstGl59c9q1oin2OtZa9LGxWrn2VP2N0wvCjGx21uYqx+E1IIMfHxpLWBxB44WgKst0MjCGI4u/zUnu1oJsbJ5T1hKTFBYUYLb+emYemEtHpf/A4OXvk0+GC7k/I0PGw+CjZ41/np6Advu70I/x164kvcP/sg6CwFPCiG/Eo+L/gsIKxkf+eUSuX0A8KxUX2EfALgYP1X7vb+oi+lNTvl/zWrFKf/Zu24a5zU2Uv97f5FIyOGiA3Azz4ZT/n+e1m7EuTLpOSY1J6qGg0Uup/xcVZpXcMpfWsJhVDzHuW5FBdwex5CKuVWAcWg6YEJuZXN9EKVSyu0MBeXKA5HayBPpcyr7dF5jjfKVFZQBOMupbI0x6fNNnfRqCAgIwI0bN+T23bx5E66urgpp16xZAz8/P7Ru3Vrl+dasWYN33nkH1tbWatUDAEpLS3H9+nV07txZ7byvQr0LABuazbfPY/Pt87C1yFM4tiblMNakHJbbN//aDqXncVHRoPegKA2JqRvl9iX9/4hfAIi7tvj//++/P+bvnYpXOE/gkenKCyCEEEJU0fFKINHR0ejYsSPi4+MxdOhQnD17FomJiUhMTJRLl5eXh+3bt2Px4sUqzgTcvn0bJ0+exN69e5UeDwoKwoABAzBp0iQAwPTp09G3b1+4uLggMzMTX375JfLy8jBq1Ci13sOrQgEgIYQQQnRD+t/Ajtqnr722bdsiKSkJMTExiIuLg7u7O5YtW4awsDC5dFu3bgVjDMOGDVN5rrVr18LR0REhISFKj6ekpCArK0v2+uHDhxg2bBiysrJgbW2Nt956C2fOnFHa+lgf8RirHwvv5eXlwdTUFJ7j4iEQK384syallsr37xj/PqyMDGo+AYeeAa7dGgI+x/w8xWZzM7EJSipLUVKpfPj8iyqZ5m9eyOe2do+Ex60rLqO0CDMvK7Za1tbr3AVsoV/9iPGalFRo3o35qruAnxVx6057ls3tmRFx+uvbBVxhwK0ClWIOeY243S/4FjXfz6pjwvE3a2ecr3FeRwNu1zxfyX2+NsoKyrCh2zbk5ubKDazQpaq/6cEOH0LIr323eYW0FIfTvqvTujZUDaIF0MrIAHamDXPQg6HQAIbCWgS/rzEzac6rrgIhhBBlGNTsAtZZTchLGkQAmFVQy1aSN6wFUB2vcwvgs3JurWCEEEJ0RMfPABLNNYgAcHDillqlq9TT/MKTunPrVlA2CEQdLsbcWsHSizRvanc24lZ2D4urnPJzHQVMCCFER6RSAGo0Eki5NSiQ2msQASAhhBBCXgFqAay3KAAkhBBCiG5QAFhvUQBICCGEEN3Q8TQwRHO0FBwhhBBCSANDLYCEEEII0QnGpGBqLO+mTlrCDQWAhBBCCNENxtTr1qVnAOsMBYCEEEII0Q2m5jOAFADWGQoACSGEEKIbUimgzkIF1AVcZ+pNAFi1JHFlWYnG56jFkrfVknJYg0ZapHm9AaBCwq3y5fwybuUXaV5+OY9b2cVibiuBlBdyK5/Ld1fJ5/a98TmuBVwh5VZ+RYXmN9tXfc1XFnMbwyYt5nb7k5Zw+O44NnJUlnJbC7iS48pDXObqlQo4/oHncK8CuP9mKzjkL5Nyu1dpvBZwYTmA//7O1ilqAay36k0AmJ//fIHtf9fHveKavBp3Oeb/SxuVeEV+4nyG81qoBalrqa+6AoRo4MqrrgAH+fn5MDU1rdMymVQKpkbgSoNA6k69CQAdHBzw4MEDGBsbg8fj9q9bQgghhDzHGEN+fj4cHBxeReGgFsD6qd4EgHw+H05OTq+6GoQQQsgbp65b/mSkDOBRAFgf1ZsAkBBCCCFvGMYAqDMIhALAukIBICGEEEJ0gkkZmBotgK9koEoDRQEgIYQQQnSDSaFeCyANAqkrtBYwIUTB8ePHwePx8OzZM43PcePGDdjZ2clG+OtKZmYmrK2t8ejRI52WQwhRH5MytTdSNygAJIQo6NixI9LT0zk9OD5z5kxMnDgRxsbGWqyZIhsbG4wYMQKxsbE6LYcQor4KVooKqRob4zihL6k1HqMOd0KIlj18+BCNGjVCampqnYzuv3z5Mtq1a4e0tDSYm5vrvDxCSPVKSkrg7u6OjIwMtfPa2dnhzp070NPT00HNSBVqASSkHnvy5Ans7OwQHx8v2/fnn39CLBbj4MGDKvN9+umnaNasGQwMDNCoUSPMmjUL5eX/rQYQHByMnj17yh64fvbsGVxcXDBz5kwAil3A9+7dQ9++fWFubg5DQ0N4enpi7969Ksv/6aef0Lp1a7ngb86cOfDx8ZFLt2zZMri5uclejx49Gv3790d8fDxsbW1hZmaGuXPnoqKiAh9//DEsLCzg5OSEtWvXyp3H29sbdnZ2SEpKUv1hEkLqjJ6eHu7cuYPc3Fy1Nwr+6gYNAiGkHrO2tsbatWvRv39/hISEoEWLFhg+fDgiIyMREhKiMp+xsTF++OEHODg44PLlyxg3bhyMjY3xySefgMfjYf369fD29saKFSswefJkREREwNbWFnPmzFF6vokTJ6KsrAwnT56EoaEhrl27BiMjI5Xlnzx5Ev7+/hq956NHj8LJyQknT57EH3/8gfDwcJw+fRpdunTBn3/+iW3btiEiIgLdu3eHs7OzLF+7du3w22+/YcyYMRqVSwjRLj09PQrk6jEKAAmp53r37o1x48YhLCwMbdu2hZ6eHhYsWFBtns8//1z2/25ubpg2bRq2bduGTz75BADg6OiI7777DiNGjMDjx4/xyy+/4OLFixCJRErPd//+fQwaNAje3t4AgEaNGlVb/t27d+Hn56fO25SxsLDAihUrwOfz0bx5c3z11VcoKirCjBkzAAAxMTFYsGAB/vjjD7z33nuyfI6Ojrh48aJGZRJCSENDASAhr4FFixbBy8sLP/30E86dO1fjv6p37NiBZcuW4fbt2ygoKEBFRQVMTEzk0gwZMgRJSUmYP38+EhIS0KxZM5Xni4qKwoQJE3Dw4EEEBwdj0KBBaNWqlcr0xcXFGv/L39PTE3z+f0+n2NrawsvLS/ZaIBDA0tISmZmZcvn09fVRVFSkUZmEENLQ0DOAhLwGUlNTkZaWBqlUinv37lWb9syZM3jvvffQq1cv7NmzBxcvXsTMmTNRVlYml66oqAjnz5+HQCDArVu3qj3n2LFjkZqaihEjRuDy5cvw9/fHypUrVaa3srJCTk5Oje+rsrJSYd/LrZA8Hk/pPqlUfr6wp0+fwtrausYyCSGEUABISL1XVlaGsLAwvPvuu/jyyy8RHh6Ox48fq0z/xx9/wNXVFTNnzoS/vz+aNm2qNGicNm0a+Hw+9u3bhxUrVuDo0aPV1sPZ2RkRERH4+eefMW3aNKxevVplWl9fX1y7dk1h/8v1Tk1NrbZMdVy5cgW+vr5aOx8hhLzJKAAkpJ6bOXMmcnNzsWLFCnzyySfw8PBAeHi4yvRNmjTB/fv3sXXrVqSkpGDFihUKo2N//fVXrF27Fps3b0b37t3x2WefYdSoUSpb7aZMmYIDBw7gzp07uHDhAo4ePQoPDw+VdejRowdOnz6t0MKXkZGBuLg4pKamYufOndi4cSNycnLw77//qvGJKKpqzaxuYAwhhJD/UABISD12/PhxLFu2DBs3boSJiQn4fD42btyI33//HQkJCUrz9OvXD9HR0Zg0aRJ8fHxw6tQpzJo1S3b8yZMnCA8Px5w5c9CmTRsAQGxsLBwcHBAREaH0nJWVlZg4cSI8PDzQs2dPNG/eHKtWrVJZ7969e0MkEuHw4cNy+728vHDz5k14enpi1qxZ+P777yEWizF9+nR1Pxo5u3fvhouLCzp37szpPIQQ0lDQRNCEEJ1YtWoVdu/ejQMHDgB4Pg/grl27cOnSJa2X1a5dO0yZMgXvv/++1s9NCCFvIhoFTAjRifHjxyMnJwf5+fk6XQ4uMzMTgwcPxrBhw3RWBiGEvGmoBZAQUid02QJICCFEPRQAEkIIIYQ0MDQIhBBCCCGkgaEAkBBCCCGkgaEAkBBCCCGkgaEAkBBCCCGkgaEAkBBCCCGkgaEAkBBCCCGkgaEAkBBCCCGkgaEAkBBCCCGkgfk/dltT71z40GQAAAAASUVORK5CYII=' width=640.0/>\n",
       "            </div>\n",
       "        "
      ],
      "text/plain": [
       "Canvas(toolbar=Toolbar(toolitems=[('Home', 'Reset original view', 'home', 'home'), ('Back', 'Back to previous …"
      ]
     },
     "metadata": {},
     "output_type": "display_data"
    }
   ],
   "source": [
    "com.plot(cmap='viridis')"
   ]
  },
  {
   "cell_type": "markdown",
   "metadata": {
    "tags": []
   },
   "source": [
    "You can also determine the **width of a peak** directly from the signal without fitting a model to the data. Again useful for asymmetric peaks. To plot the FWHM interval, we set `return_interval=True` (the returned list then contains three arrays: *width*, as well as *left position* and *right position* of the interval). \n",
    "\n",
    "The default is to determine the **FWHM**, i.e. a `factor=0.5`. This value can be set to any other fraction of the peak height."
   ]
  },
  {
   "cell_type": "code",
   "execution_count": 12,
   "metadata": {
    "tags": []
   },
   "outputs": [
    {
     "name": "stdout",
     "output_type": "stream",
     "text": [
      "[########################################] | 100% Completed | 101.93 ms\n"
     ]
    }
   ],
   "source": [
    "width = cl2.isig[600.:].estimate_peak_width(return_interval=True)"
   ]
  },
  {
   "cell_type": "code",
   "execution_count": 13,
   "metadata": {},
   "outputs": [
    {
     "data": {
      "application/vnd.jupyter.widget-view+json": {
       "model_id": "8814a98317eb4b75bb323c21af7d855e",
       "version_major": 2,
       "version_minor": 0
      },
      "image/png": "[encoded data removed]",
      "text/html": [
       "\n",
       "            <div style=\"display: inline-block;\">\n",
       "                <div class=\"jupyter-widgets widget-label\" style=\"text-align: center;\">\n",
       "                    Figure 880_30K_map2a FWHM Signal\n",
       "                </div>\n",
       "                <img src='data:image/png;base64,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' width=640.0/>\n",
       "            </div>\n",
       "        "
      ],
      "text/plain": [
       "Canvas(toolbar=Toolbar(toolitems=[('Home', 'Reset original view', 'home', 'home'), ('Back', 'Back to previous …"
      ]
     },
     "metadata": {},
     "output_type": "display_data"
    }
   ],
   "source": [
    "width[0].plot(cmap='viridis')"
   ]
  },
  {
   "cell_type": "markdown",
   "metadata": {},
   "source": [
    "Now we can **add markers** for the *FWHM interval* and the *centre of mass* to the signal object and plot them on the spectra:"
   ]
  },
  {
   "cell_type": "code",
   "execution_count": 28,
   "metadata": {},
   "outputs": [],
   "source": [
    "# Temporary fix as with the HyperSpy 2.0 release, the signals used to create markers need to be of `ragged` type\n",
    "def to_ragged(s):\n",
    "    s2 = hs.signals.BaseSignal(np.empty(s.T.axes_manager.navigation_shape[::-1], dtype=object), ragged=True)\n",
    "    for indices in np.ndindex(s2.data.shape):\n",
    "        s2.data[indices] = np.array([s.data[indices]])\n",
    "    return s2"
   ]
  },
  {
   "cell_type": "code",
   "execution_count": 24,
   "metadata": {},
   "outputs": [
    {
     "data": {
      "text/plain": [
       "(16, 30)"
      ]
     },
     "execution_count": 24,
     "metadata": {},
     "output_type": "execute_result"
    }
   ],
   "source": [
    "width[1].T.axes_manager.navigation_shape[::-1]"
   ]
  },
  {
   "cell_type": "code",
   "execution_count": 29,
   "metadata": {},
   "outputs": [
    {
     "data": {
      "application/vnd.jupyter.widget-view+json": {
       "model_id": "fdf90c780ea44e24a0fd3af8d3aa85c4",
       "version_major": 2,
       "version_minor": 0
      },
      "text/plain": [
       "HBox(children=(Canvas(toolbar=Toolbar(toolitems=[('Home', 'Reset original view', 'home', 'home'), ('Back', 'Ba…"
      ]
     },
     "metadata": {},
     "output_type": "display_data"
    }
   ],
   "source": [
    "mrk = hs.plot.markers.VerticalLines.from_signal(to_ragged(com), color='black', signal_axes=None)\n",
    "mrkl = hs.plot.markers.VerticalLines.from_signal(to_ragged(width[1]), color='grey', signal_axes=None)\n",
    "mrkr = hs.plot.markers.VerticalLines.from_signal(to_ragged(width[2]), color='grey', signal_axes=None)\n",
    "cl2.add_marker([mrk,mrkl,mrkr], permanent=True)\n",
    "cl2.plot()"
   ]
  },
  {
   "cell_type": "code",
   "execution_count": 30,
   "metadata": {
    "tags": []
   },
   "outputs": [
    {
     "ename": "ValueError",
     "evalue": "setting an array element with a sequence. The requested array has an inhomogeneous shape after 3 dimensions. The detected shape was (16, 2, 2) + inhomogeneous part.",
     "output_type": "error",
     "traceback": [
      "\u001b[0;31m---------------------------------------------------------------------------\u001b[0m",
      "\u001b[0;31mValueError\u001b[0m                                Traceback (most recent call last)",
      "Cell \u001b[0;32mIn[30], line 4\u001b[0m\n\u001b[1;32m      2\u001b[0m mrkl \u001b[38;5;241m=\u001b[39m hs\u001b[38;5;241m.\u001b[39mplot\u001b[38;5;241m.\u001b[39mmarkers\u001b[38;5;241m.\u001b[39mVerticalLines\u001b[38;5;241m.\u001b[39mfrom_signal(width[\u001b[38;5;241m1\u001b[39m]\u001b[38;5;241m.\u001b[39mT, color\u001b[38;5;241m=\u001b[39m\u001b[38;5;124m'\u001b[39m\u001b[38;5;124mgrey\u001b[39m\u001b[38;5;124m'\u001b[39m, signal_axes\u001b[38;5;241m=\u001b[39m\u001b[38;5;28;01mNone\u001b[39;00m)\n\u001b[1;32m      3\u001b[0m mrkr \u001b[38;5;241m=\u001b[39m hs\u001b[38;5;241m.\u001b[39mplot\u001b[38;5;241m.\u001b[39mmarkers\u001b[38;5;241m.\u001b[39mVerticalLines\u001b[38;5;241m.\u001b[39mfrom_signal(width[\u001b[38;5;241m2\u001b[39m]\u001b[38;5;241m.\u001b[39mT, color\u001b[38;5;241m=\u001b[39m\u001b[38;5;124m'\u001b[39m\u001b[38;5;124mgrey\u001b[39m\u001b[38;5;124m'\u001b[39m, signal_axes\u001b[38;5;241m=\u001b[39m\u001b[38;5;28;01mNone\u001b[39;00m)\n\u001b[0;32m----> 4\u001b[0m \u001b[43mcl2\u001b[49m\u001b[38;5;241;43m.\u001b[39;49m\u001b[43madd_marker\u001b[49m\u001b[43m(\u001b[49m\u001b[43m[\u001b[49m\u001b[43mmrk\u001b[49m\u001b[43m,\u001b[49m\u001b[43mmrkl\u001b[49m\u001b[43m,\u001b[49m\u001b[43mmrkr\u001b[49m\u001b[43m]\u001b[49m\u001b[43m,\u001b[49m\u001b[43m \u001b[49m\u001b[43mpermanent\u001b[49m\u001b[38;5;241;43m=\u001b[39;49m\u001b[38;5;28;43;01mTrue\u001b[39;49;00m\u001b[43m)\u001b[49m\n\u001b[1;32m      5\u001b[0m cl2\u001b[38;5;241m.\u001b[39mplot()\n",
      "File \u001b[0;32m~/conda/hyperspy/hyperspy/signal.py:6576\u001b[0m, in \u001b[0;36mBaseSignal.add_marker\u001b[0;34m(self, marker, plot_on_signal, plot_marker, permanent, plot_signal, render_figure)\u001b[0m\n\u001b[1;32m   6571\u001b[0m             \u001b[38;5;28;01mraise\u001b[39;00m \u001b[38;5;167;01mValueError\u001b[39;00m(\n\u001b[1;32m   6572\u001b[0m                 \u001b[38;5;124m\"\u001b[39m\u001b[38;5;124mAttempted to plot marker on navigator_plot when none is\u001b[39m\u001b[38;5;124m\"\u001b[39m\n\u001b[1;32m   6573\u001b[0m                 \u001b[38;5;124m\"\u001b[39m\u001b[38;5;124mactive.\u001b[39m\u001b[38;5;124m\"\u001b[39m\n\u001b[1;32m   6574\u001b[0m             )\n\u001b[1;32m   6575\u001b[0m         \u001b[38;5;28mself\u001b[39m\u001b[38;5;241m.\u001b[39m_plot\u001b[38;5;241m.\u001b[39mnavigator_plot\u001b[38;5;241m.\u001b[39madd_marker(m)\n\u001b[0;32m-> 6576\u001b[0m     \u001b[43mm\u001b[49m\u001b[38;5;241;43m.\u001b[39;49m\u001b[43mplot\u001b[49m\u001b[43m(\u001b[49m\u001b[43mrender_figure\u001b[49m\u001b[38;5;241;43m=\u001b[39;49m\u001b[38;5;28;43;01mFalse\u001b[39;49;00m\u001b[43m)\u001b[49m\n\u001b[1;32m   6578\u001b[0m \u001b[38;5;28;01mif\u001b[39;00m permanent:\n\u001b[1;32m   6579\u001b[0m     \u001b[38;5;28;01mfor\u001b[39;00m marker_object \u001b[38;5;129;01min\u001b[39;00m marker_object_list:\n",
      "File \u001b[0;32m~/conda/hyperspy/hyperspy/drawing/markers.py:750\u001b[0m, in \u001b[0;36mMarkers.plot\u001b[0;34m(self, render_figure)\u001b[0m\n\u001b[1;32m    744\u001b[0m \u001b[38;5;28;01mif\u001b[39;00m \u001b[38;5;28mself\u001b[39m\u001b[38;5;241m.\u001b[39max \u001b[38;5;129;01mis\u001b[39;00m \u001b[38;5;28;01mNone\u001b[39;00m:\n\u001b[1;32m    745\u001b[0m     \u001b[38;5;28;01mraise\u001b[39;00m \u001b[38;5;167;01mAttributeError\u001b[39;00m(\n\u001b[1;32m    746\u001b[0m         \u001b[38;5;124m\"\u001b[39m\u001b[38;5;124mTo use this method the marker needs to be first add to a \u001b[39m\u001b[38;5;124m\"\u001b[39m\n\u001b[1;32m    747\u001b[0m         \u001b[38;5;241m+\u001b[39m \u001b[38;5;124m\"\u001b[39m\u001b[38;5;124mfigure using `s._plot.signal_plot.add_marker(m)` or \u001b[39m\u001b[38;5;124m\"\u001b[39m\n\u001b[1;32m    748\u001b[0m         \u001b[38;5;241m+\u001b[39m \u001b[38;5;124m\"\u001b[39m\u001b[38;5;124m`s._plot.navigator_plot.add_marker(m)`\u001b[39m\u001b[38;5;124m\"\u001b[39m\n\u001b[1;32m    749\u001b[0m     )\n\u001b[0;32m--> 750\u001b[0m \u001b[38;5;28;43mself\u001b[39;49m\u001b[38;5;241;43m.\u001b[39;49m\u001b[43m_initialize_collection\u001b[49m\u001b[43m(\u001b[49m\u001b[43m)\u001b[49m\n\u001b[1;32m    751\u001b[0m \u001b[38;5;28mself\u001b[39m\u001b[38;5;241m.\u001b[39m_collection\u001b[38;5;241m.\u001b[39mset_animated(\u001b[38;5;28mself\u001b[39m\u001b[38;5;241m.\u001b[39max\u001b[38;5;241m.\u001b[39mfigure\u001b[38;5;241m.\u001b[39mcanvas\u001b[38;5;241m.\u001b[39msupports_blit)\n\u001b[1;32m    752\u001b[0m \u001b[38;5;28mself\u001b[39m\u001b[38;5;241m.\u001b[39max\u001b[38;5;241m.\u001b[39madd_collection(\u001b[38;5;28mself\u001b[39m\u001b[38;5;241m.\u001b[39m_collection)\n",
      "File \u001b[0;32m~/conda/hyperspy/hyperspy/drawing/markers.py:726\u001b[0m, in \u001b[0;36mMarkers._initialize_collection\u001b[0;34m(self)\u001b[0m\n\u001b[1;32m    724\u001b[0m \u001b[38;5;28;01mdef\u001b[39;00m \u001b[38;5;21m_initialize_collection\u001b[39m(\u001b[38;5;28mself\u001b[39m):\n\u001b[1;32m    725\u001b[0m     \u001b[38;5;28mself\u001b[39m\u001b[38;5;241m.\u001b[39m_collection \u001b[38;5;241m=\u001b[39m \u001b[38;5;28mself\u001b[39m\u001b[38;5;241m.\u001b[39m_collection_class(\n\u001b[0;32m--> 726\u001b[0m         \u001b[38;5;241m*\u001b[39m\u001b[38;5;241m*\u001b[39m\u001b[38;5;28;43mself\u001b[39;49m\u001b[38;5;241;43m.\u001b[39;49m\u001b[43mget_current_kwargs\u001b[49m\u001b[43m(\u001b[49m\u001b[43m)\u001b[49m,\n\u001b[1;32m    727\u001b[0m         offset_transform\u001b[38;5;241m=\u001b[39m\u001b[38;5;28mself\u001b[39m\u001b[38;5;241m.\u001b[39moffset_transform,\n\u001b[1;32m    728\u001b[0m     )\n\u001b[1;32m    729\u001b[0m     \u001b[38;5;28mself\u001b[39m\u001b[38;5;241m.\u001b[39m_collection\u001b[38;5;241m.\u001b[39mset_transform(\u001b[38;5;28mself\u001b[39m\u001b[38;5;241m.\u001b[39mtransform)\n",
      "File \u001b[0;32m~/conda/hyperspy/hyperspy/drawing/_markers/vertical_lines.py:80\u001b[0m, in \u001b[0;36mVerticalLines.get_current_kwargs\u001b[0;34m(self, only_variable_length)\u001b[0m\n\u001b[1;32m     78\u001b[0m \u001b[38;5;66;03m# Need to take a deepcopy to avoid changing `self.kwargs`\u001b[39;00m\n\u001b[1;32m     79\u001b[0m kwds \u001b[38;5;241m=\u001b[39m copy\u001b[38;5;241m.\u001b[39mdeepcopy(kwargs)\n\u001b[0;32m---> 80\u001b[0m kwds[\u001b[38;5;28mself\u001b[39m\u001b[38;5;241m.\u001b[39m_position_key_to_set] \u001b[38;5;241m=\u001b[39m np\u001b[38;5;241m.\u001b[39marray(\n\u001b[1;32m     81\u001b[0m     [[[x, \u001b[38;5;241m0\u001b[39m], [x, \u001b[38;5;241m1\u001b[39m]] \u001b[38;5;28;01mfor\u001b[39;00m x \u001b[38;5;129;01min\u001b[39;00m kwds\u001b[38;5;241m.\u001b[39mpop(\u001b[38;5;28mself\u001b[39m\u001b[38;5;241m.\u001b[39m_position_key)]\n\u001b[1;32m     82\u001b[0m )\n\u001b[1;32m     83\u001b[0m \u001b[38;5;28;01mreturn\u001b[39;00m kwds\n",
      "\u001b[0;31mValueError\u001b[0m: setting an array element with a sequence. The requested array has an inhomogeneous shape after 3 dimensions. The detected shape was (16, 2, 2) + inhomogeneous part."
     ]
    }
   ],
   "source": [
    "mrk = hs.plot.markers.VerticalLines.from_signal(com.T, color='black', signal_axes=None)\n",
    "mrkl = hs.plot.markers.VerticalLines.from_signal(width[1].T, color='grey', signal_axes=None)\n",
    "mrkr = hs.plot.markers.VerticalLines.from_signal(width[2].T, color='grey', signal_axes=None)\n",
    "cl2.add_marker([mrk,mrkl,mrkr], permanent=True)\n",
    "cl2.plot()"
   ]
  },
  {
   "cell_type": "markdown",
   "metadata": {
    "pycharm": {
     "name": "#%% md\n"
    }
   },
   "source": [
    "## Axes types / Convert to energy scale\n",
    "\n",
    "*(Required versions: hyperspy>=1.7.0 and lumispy>=0.2.0)*\n",
    "\n",
    "HyperSpy has different types of axes:\n",
    "- The standard `UniformDataAxis` is defined through an `offset` and a `scale` (delta between pixels)\n",
    "- A `FunctionalDataAxis` is defined through a `UniformDataAxis` and a `function` to convert the values\n",
    "- A more general `DataAxis` is defined through an `axis` vector/array\n",
    "\n",
    "The *wavelength* scale of our sample object is a `UniformDataAxis`:"
   ]
  },
  {
   "cell_type": "code",
   "execution_count": null,
   "metadata": {},
   "outputs": [],
   "source": [
    "cl1.axes_manager"
   ]
  },
  {
   "cell_type": "markdown",
   "metadata": {},
   "source": [
    "*LumiSpy* provides easy conversions of the signal axis to the **energy scale**:\n",
    "\n",
    "It can either replace the axis in the existing object (default) or create a copy of the signal object with the new axis (`inplace=False`):"
   ]
  },
  {
   "cell_type": "code",
   "execution_count": null,
   "metadata": {
    "collapsed": false,
    "jupyter": {
     "outputs_hidden": false
    },
    "pycharm": {
     "name": "#%%\n"
    }
   },
   "outputs": [],
   "source": [
    "cl1_eV = cl1.to_eV(inplace=False)"
   ]
  },
  {
   "cell_type": "markdown",
   "metadata": {},
   "source": [
    "The signal axis is now a *non-uniform axis*:"
   ]
  },
  {
   "cell_type": "code",
   "execution_count": null,
   "metadata": {
    "tags": []
   },
   "outputs": [],
   "source": [
    "cl1_eV.axes_manager"
   ]
  },
  {
   "cell_type": "markdown",
   "metadata": {},
   "source": [
    "This axis is defined through an axis vector:"
   ]
  },
  {
   "cell_type": "code",
   "execution_count": null,
   "metadata": {},
   "outputs": [],
   "source": [
    "cl1_eV.axes_manager[-1].axis"
   ]
  },
  {
   "cell_type": "markdown",
   "metadata": {},
   "source": [
    "To explore the data in the energy domain, we again plot the signal:"
   ]
  },
  {
   "cell_type": "code",
   "execution_count": null,
   "metadata": {
    "tags": []
   },
   "outputs": [],
   "source": [
    "cl1_eV.plot()"
   ]
  },
  {
   "cell_type": "markdown",
   "metadata": {},
   "source": [
    "### Jacobian transformation\n",
    "\n",
    "To preserve the integrated intensity per spectral window, a *Jacobian* transformation has to be applied to the signal intensity:\n",
    "\n",
    "As we require $I(E)dE = I(\\lambda)d\\lambda$, the scale transformation $E=hc/\\lambda$ implies\n",
    "\n",
    "$$I(E) = I(\\lambda)\\frac{d\\lambda}{dE} = I(\\lambda)\\frac{d}{dE}\n",
    "\\frac{h c}{E} = - I(\\lambda) \\frac{h c}{E^2}$$\n",
    "\n",
    "(where the minus sign just reflects the different directions of integration in the wavelength and energy domains)\n",
    "\n",
    "This transformation is the default in LumiSpy, but can be deactivated by setting `jacobian=False`.\n",
    "\n",
    "To visualize the effect of the *Jacobian transformation*, we can plot a signal with constant intensity before and after the transformation:"
   ]
  },
  {
   "cell_type": "code",
   "execution_count": null,
   "metadata": {
    "tags": []
   },
   "outputs": [],
   "source": [
    "# Create a model signal with linear intensity\n",
    "axis = {'offset': 300, 'scale': 4, 'units': 'nm', 'size': 101, 'name': 'Wavelength'}\n",
    "s = hs.signals.Signal1D(np.ones(101), axes=[axis])\n",
    "s.set_signal_type(\"Luminescence\")\n",
    "s2 = s.to_eV(inplace=False)"
   ]
  },
  {
   "cell_type": "code",
   "execution_count": null,
   "metadata": {
    "tags": []
   },
   "outputs": [],
   "source": [
    "# Some additional arrays to help with visualizing the spectral bins during plotting\n",
    "x = np.arange(9)*50+300\n",
    "x2 = lum.nm2eV(x)\n",
    "y2 = hs.signals.Signal1D(np.ones(9), axes=[{'offset': 300, 'scale': 50, 'size': 9,}])\n",
    "y2.set_signal_type(\"Luminescence\")\n",
    "y2.to_eV()"
   ]
  },
  {
   "cell_type": "code",
   "execution_count": null,
   "metadata": {
    "tags": []
   },
   "outputs": [],
   "source": [
    "# Plot comparative figures\n",
    "fig1 = plt.figure(figsize=(10,4))\n",
    "ax0 = plt.subplot(121)\n",
    "plt.ylim(0,1.3)\n",
    "plt.xlabel('Wavelength (nm)')\n",
    "ax0.plot(s.axes_manager[0].axis,s.data,color='orange')\n",
    "ax0.vlines(x,0,1,color='orange')\n",
    "ax0.fill_between(s.axes_manager[0].axis,0,s.data, facecolor='orange', alpha=0.3)\n",
    "ax1 = plt.subplot(122)\n",
    "plt.ylim(0,0.43)\n",
    "plt.xlabel('Energy (eV)')\n",
    "ax1.plot(s2.axes_manager[0].axis,s2.data,color='orange')\n",
    "ax1.vlines(x2,0,y2.data[::-1],color='orange')\n",
    "ax1.fill_between(s2.axes_manager[0].axis,0,s2.data, facecolor='orange', alpha=0.3)"
   ]
  },
  {
   "cell_type": "markdown",
   "metadata": {},
   "source": [
    "## Model fitting\n",
    "\n",
    "We will introduce some extended fitting functionality using our sample dataset `cl1`, for more details see the `Fitting_tutorial` in the [HyperSpy demos repository](https://github.com/hyperspy/hyperspy-demos).\n",
    "\n",
    "Note again that HyperSpy has a range of [built-in functions](https://hyperspy.org/hyperspy-doc/current/user_guide/model.html#pre-defined-model-components) covering most needs that can be added as components to a model. However, it also has an intuitive mechanism to [define custom functions](https://hyperspy.org/hyperspy-doc/current/user_guide/model.html#define-components-from-a-mathematical-expression).\n",
    "\n",
    "First, we need to **initialize the model**:"
   ]
  },
  {
   "cell_type": "code",
   "execution_count": null,
   "metadata": {
    "pycharm": {
     "name": "#%%\n"
    }
   },
   "outputs": [],
   "source": [
    "m = cl1_eV.create_model()"
   ]
  },
  {
   "cell_type": "markdown",
   "metadata": {
    "collapsed": false,
    "jupyter": {
     "outputs_hidden": false
    },
    "pycharm": {
     "name": "#%%\n"
    }
   },
   "source": [
    "**Check the components** of the model:"
   ]
  },
  {
   "cell_type": "code",
   "execution_count": null,
   "metadata": {
    "tags": []
   },
   "outputs": [],
   "source": [
    "m.components"
   ]
  },
  {
   "cell_type": "markdown",
   "metadata": {
    "pycharm": {
     "name": "#%% md\n"
    }
   },
   "source": [
    "**Create some components** and **add them to the model**.\n",
    "\n",
    "We will use a constant `Offset` and a Gaussian (defined through height and FWHM, hence `GaussianHF`):"
   ]
  },
  {
   "cell_type": "code",
   "execution_count": null,
   "metadata": {
    "collapsed": false,
    "jupyter": {
     "outputs_hidden": false
    },
    "pycharm": {
     "name": "#%%\n"
    }
   },
   "outputs": [],
   "source": [
    "bkg = hs.model.components1D.Offset()\n",
    "g1 = hs.model.components1D.GaussianHF()\n",
    "m.extend([g1, bkg])\n",
    "m.components"
   ]
  },
  {
   "cell_type": "markdown",
   "metadata": {},
   "source": [
    "To see the parameters of our components and their default values, we can **print all parameter values**:"
   ]
  },
  {
   "cell_type": "code",
   "execution_count": null,
   "metadata": {
    "collapsed": false,
    "jupyter": {
     "outputs_hidden": false
    },
    "pycharm": {
     "name": "#%%\n"
    }
   },
   "outputs": [],
   "source": [
    "m.print_current_values()"
   ]
  },
  {
   "cell_type": "markdown",
   "metadata": {
    "collapsed": false,
    "jupyter": {
     "outputs_hidden": false
    },
    "pycharm": {
     "name": "#%%\n"
    }
   },
   "source": [
    "Lets set some **sensible starting values** for our components, for a position in the map where we know that there should be signal (as it is not the case everywhere for our sample dataset):\n",
    "\n",
    "*Note that we could also use the estimate parameters function of the `GaussianHF` component (commented out line). However, this approach does not work as well as using manual starting values for this rather noisy dataset where many pixels do not contain spectra, unless additional boundaries are set to the parameters below.*"
   ]
  },
  {
   "cell_type": "code",
   "execution_count": null,
   "metadata": {
    "pycharm": {
     "name": "#%%\n"
    }
   },
   "outputs": [],
   "source": [
    "# g1.estimate_parameters(cl1_eV,2.3,2.5)\n",
    "cl1.axes_manager.indices = (7,7)\n",
    "g1.centre.value = 2.4        # Gaussian centre\n",
    "g1.fwhm.value = 0.1      # Gaussian width\n",
    "g1.height.value = 5      # Gaussian height\n",
    "bkg.offset.value = 0.1   # background offset"
   ]
  },
  {
   "cell_type": "markdown",
   "metadata": {},
   "source": [
    "We can also **set boundaries** (`bmin` and `bmax`) for some of the parameters:"
   ]
  },
  {
   "cell_type": "code",
   "execution_count": null,
   "metadata": {
    "tags": []
   },
   "outputs": [],
   "source": [
    "g1.centre.bmax = g1.centre.value + 0.2\n",
    "g1.centre.bmin = g1.centre.value - 0.2\n",
    "g1.fwhm.bmin = 0.01"
   ]
  },
  {
   "cell_type": "markdown",
   "metadata": {
    "tags": []
   },
   "source": [
    "We can now **fit the model at the chosen position**, copy the result as starting value to all positions, and **plot** the result:"
   ]
  },
  {
   "cell_type": "code",
   "execution_count": null,
   "metadata": {
    "tags": []
   },
   "outputs": [],
   "source": [
    "m.fit(bounded=True)\n",
    "m.assign_current_values_to_all()\n",
    "m.plot()"
   ]
  },
  {
   "cell_type": "markdown",
   "metadata": {
    "tags": []
   },
   "source": [
    "Again, we can also **print the updated parameters**:"
   ]
  },
  {
   "cell_type": "code",
   "execution_count": null,
   "metadata": {
    "tags": []
   },
   "outputs": [],
   "source": [
    "m.print_current_values()"
   ]
  },
  {
   "cell_type": "markdown",
   "metadata": {},
   "source": [
    "The model now has the result from our chosen pixel everywhere. Using this as optimized starting paramters, we can now **fit all pixels**. When plotting, we activate additional plotting of the individual components:"
   ]
  },
  {
   "cell_type": "code",
   "execution_count": null,
   "metadata": {
    "tags": []
   },
   "outputs": [],
   "source": [
    "m.multifit(bounded=True, show_progressbar=True)\n",
    "m.plot(plot_components=True)"
   ]
  },
  {
   "cell_type": "markdown",
   "metadata": {},
   "source": [
    "To plot maps of the parameters of the Gaussian, we create signal objects from these datasets:"
   ]
  },
  {
   "cell_type": "code",
   "execution_count": null,
   "metadata": {
    "jupyter": {
     "source_hidden": true
    },
    "tags": []
   },
   "outputs": [],
   "source": [
    "m_centre = g1.centre.as_signal()\n",
    "m_centre.plot(cmap='bwr_r', centre_colormap=False) # Otherwise, it would be centred around `0` and we would see little difference between pixels\n",
    "m_intensity = g1.height.as_signal()\n",
    "m_intensity.plot(cmap='viridis')"
   ]
  },
  {
   "cell_type": "markdown",
   "metadata": {},
   "source": [
    "### Particle segmentation\n",
    "\n",
    "We can use the fit model as basis to do a particle segmentation by **creating a mask** for all pixels, where the intensity is below the mean value:"
   ]
  },
  {
   "cell_type": "code",
   "execution_count": null,
   "metadata": {
    "jupyter": {
     "source_hidden": true
    },
    "pycharm": {
     "name": "#%%\n"
    }
   },
   "outputs": [],
   "source": [
    "mask_treshold = m_intensity.data.mean()\n",
    "mask = m_intensity.data > mask_treshold #Returns a boolean matrix mask\n",
    "plt.figure()\n",
    "plt.imshow(mask)"
   ]
  },
  {
   "cell_type": "markdown",
   "metadata": {},
   "source": [
    "We can now plot the previous graph of the centre-parametre, after applying the mask:"
   ]
  },
  {
   "cell_type": "code",
   "execution_count": null,
   "metadata": {
    "tags": []
   },
   "outputs": [],
   "source": [
    "(m_centre * mask).plot(cmap='bwr_r', vmin=2.3, centre_colormap=False) "
   ]
  },
  {
   "cell_type": "markdown",
   "metadata": {},
   "source": [
    "# TODO\n",
    "\n",
    "- Provide zip file to download all datasets for this notebook at once.\n",
    "\n",
    "## Basics that could be added at the start of the notebook:\n",
    "- python basics? Variable types, numpy arrays, Signal object, methods (general, what are the data types you have to deal with, when using hyperspy?)\n",
    "\n",
    "## Examples that could be added to this notebook to have enough potentially new stuff also for advanced users:\n",
    "- import textfiles? molding onto BaseSignal? (necessary?)\n",
    "- Getting the position of the maximum from each spectrum\n",
    "- Usage of the map function\n",
    "- Extracting a line profile using a ROI\n",
    "- Custom component using expression\n",
    "- Machine learning on the example of EELS"
   ]
  },
  {
   "cell_type": "markdown",
   "metadata": {},
   "source": [
    "## Advanced fitting example\n",
    "\n",
    "Finally, to showcase the power of fitting with a programming language, lets fit the more complicated dataset `cl3`:\n",
    "\n",
    "1. Fit a spectrum with a skew normal component on a broad Gaussian as background.\n",
    "\n",
    "2. Then add a variable number of sharp Gaussians depending on the number of peaks found by the peak finder routine.\n",
    "\n",
    "*The presented dataset is a CL map of luminescent centers in h-BN on SiO$_2$, similar as discussed in Hernández-Mínguez et al., [Phys. Rev. Appl. 10, 2331](https://doi.org/10.1103/PhysRevApplied.10.044031) (2018). The analysis is simplified for instructive purposes.*\n",
    "\n",
    "*For reasons of calculation time, we run the fit on a single spectrum, but it could of course be looped across a complete spectral map - even with a variable number of peaks per spectrum. To apply functions defined for individual spectra on a complete spectral image, HyperSpy provides the [`map` function](https://hyperspy.org/hyperspy-doc/current/user_guide/signal.html#iterating-external-functions-with-the-map-method).*"
   ]
  },
  {
   "cell_type": "code",
   "execution_count": null,
   "metadata": {
    "tags": []
   },
   "outputs": [],
   "source": [
    "cl3 = cl3.inav[10,8]\n",
    "m = cl3.create_model()\n",
    "g1 = hs.model.components1D.SkewNormal()\n",
    "g2 = hs.model.components1D.GaussianHF()\n",
    "m.extend((g1,g2))\n",
    "g1.x0.value=655\n",
    "g1.scale.value=50\n",
    "g1.shape.value=2\n",
    "g1.A.value=220\n",
    "g1.x0.bmin=635\n",
    "g1.x0.bmax=675\n",
    "g1.x0.bounded=True\n",
    "g2.centre.value=580\n",
    "g2.fwhm.value=180\n",
    "g2.height.value=20\n",
    "m.fit()\n",
    "m.plot()"
   ]
  },
  {
   "cell_type": "code",
   "execution_count": null,
   "metadata": {},
   "outputs": [],
   "source": [
    "def getPeaks(S2):\n",
    "    S2=S2.rebin(new_shape=[334])\n",
    "    S2.smooth_savitzky_golay(window_length=15,polynomial_order=2)\n",
    "    peaks = S2.find_peaks1D_ohaver(amp_thresh=0.2*np.max(S2.data),maxpeakn=10)[0]\n",
    "    return peaks"
   ]
  },
  {
   "cell_type": "code",
   "execution_count": null,
   "metadata": {
    "tags": []
   },
   "outputs": [],
   "source": [
    "ng=10\n",
    "S2 = cl3.deepcopy()\n",
    "g = list()\n",
    "for i in np.arange(ng):\n",
    "    g.append(hs.model.components1D.GaussianHF())\n",
    "m.extend(g)\n",
    "for i in np.arange(ng):\n",
    "    g[i].active_is_multidimensional = True\n",
    "# The following code would need to be in a loop to run for a whole spectral image\n",
    "# m.axes_manager.indices = cl3.axes_manager.indices\n",
    "peaks = getPeaks(S2.inav[cl3.axes_manager.indices])\n",
    "for i in np.arange(np.size(peaks)):\n",
    "    g[i].centre.value=peaks['position'][i]\n",
    "    g[i].centre.bmin=peaks['position'][i]-3\n",
    "    g[i].centre.bmax=peaks['position'][i]+3\n",
    "    g[i].centre.bounded=True\n",
    "    g[i].fwhm.value=5\n",
    "    g[i].fwhm.bmax=10\n",
    "    g[i].fwhm.bmin=1\n",
    "    g[i].fwhm.bounded=True\n",
    "    g[i].height.value=20\n",
    "    g[i].height.bmin=1\n",
    "    g[i].height.bounded=True\n",
    "if np.size(peaks)<ng:\n",
    "    for i in np.arange(np.size(peaks),ng):\n",
    "        g[i].active = False\n",
    "m.fit(bounded=True)\n",
    "m.plot()"
   ]
  },
  {
   "cell_type": "markdown",
   "metadata": {
    "pycharm": {
     "name": "#%% md\n"
    },
    "tags": []
   },
   "source": [
    "## Now try with your own data!\n"
   ]
  },
  {
   "cell_type": "code",
   "execution_count": null,
   "metadata": {},
   "outputs": [],
   "source": []
  }
 ],
 "metadata": {
  "kernelspec": {
   "display_name": "hyperspy-dev",
   "language": "python",
   "name": "hyperspy-dev"
  },
  "language_info": {
   "codemirror_mode": {
    "name": "ipython",
    "version": 3
   },
   "file_extension": ".py",
   "mimetype": "text/x-python",
   "name": "python",
   "nbconvert_exporter": "python",
   "pygments_lexer": "ipython3",
   "version": "3.11.6"
  }
 },
 "nbformat": 4,
 "nbformat_minor": 4
}
