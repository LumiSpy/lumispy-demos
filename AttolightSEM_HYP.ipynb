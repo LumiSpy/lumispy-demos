{
 "cells": [
  {
   "cell_type": "markdown",
   "metadata": {},
   "source": [
    "# Demo for LumiSpy package working with AttoLight SEM CL data\n",
    "\n",
    "This notebook shows:\n",
    "\n",
    "- Loading a `HYPCard.bin` file correctly with the lumispy load function\n",
    "- Plotting cathodoluminescence data in different ways\n",
    "- Dealing with metadata\n",
    "- Correcting for spectral defects"
   ]
  },
  {
   "cell_type": "markdown",
   "metadata": {},
   "source": [
    "Import packages:"
   ]
  },
  {
   "cell_type": "code",
   "execution_count": 2,
   "metadata": {},
   "outputs": [],
   "source": [
    "%matplotlib qt\n",
    "#For pop-up window plots, with interactive functionalities. If error, use instead %matplotlib tk \n",
    "import lumispy as lum"
   ]
  },
  {
   "cell_type": "markdown",
   "metadata": {},
   "source": [
    "## Loading HYPCard files"
   ]
  },
  {
   "cell_type": "markdown",
   "metadata": {},
   "source": [
    "Use the `load_hypcard` function to load the AttoLight SEM specific files. State the relative path to the `HYPCard.bin` file.\n",
    "\n",
    "*You can also leave the path empty. A pop-up window will appear to select the `HYPCard.bin` file from the browser.*"
   ]
  },
  {
   "cell_type": "code",
   "execution_count": 32,
   "metadata": {},
   "outputs": [
    {
     "data": {
      "text/plain": [
       "<CLSEMSpectrum, title: , dimensions: (64, 64|1024)>"
      ]
     },
     "execution_count": 32,
     "metadata": {},
     "output_type": "execute_result"
    }
   ],
   "source": [
    "path = \"DemoSample_fromAttoLightSEM/HYPCard.bin\"\n",
    "cl_sem = lum.load_hypcard(path)\n",
    "cl_sem"
   ]
  },
  {
   "cell_type": "code",
   "execution_count": 31,
   "metadata": {},
   "outputs": [],
   "source": [
    "cl_sem.plot()"
   ]
  },
  {
   "cell_type": "markdown",
   "metadata": {},
   "source": [
    "## Correction of spectral defects\n",
    "\n",
    "Let's start some post-processing methods."
   ]
  },
  {
   "cell_type": "markdown",
   "metadata": {},
   "source": [
    "### Background removal\n",
    "\n",
    "Check if a background was saved during image acquisiton (in the AttoLight system). If so, it has been stored automatically in the signal object.\n",
    "\n",
    "Otherwise, manually load a background file, using `np.loadtxt(path_to_file)`."
   ]
  },
  {
   "cell_type": "code",
   "execution_count": 33,
   "metadata": {},
   "outputs": [
    {
     "data": {
      "text/plain": [
       "True"
      ]
     },
     "execution_count": 33,
     "metadata": {},
     "output_type": "execute_result"
    }
   ],
   "source": [
    "cl_sem.background != None"
   ]
  },
  {
   "cell_type": "markdown",
   "metadata": {},
   "source": [
    "Run background substraction. No arguments required if the background is stored in the signal object. Otherwise, a background array of shape `[wavelength, bacgkround intensity]` needs to be passed as a `background` argument.\n",
    "\n",
    "Optional arguments are `background`: to substract an external background file, `inplace`: if `True` it will overwrite the original signal, if `False` if outputs a copy of the signal, with the background substracted (this is by default)."
   ]
  },
  {
   "cell_type": "code",
   "execution_count": 34,
   "metadata": {},
   "outputs": [
    {
     "data": {
      "application/vnd.jupyter.widget-view+json": {
       "model_id": "8b8d5bbdec3a4f5bbe944d7eac727718",
       "version_major": 2,
       "version_minor": 0
      },
      "text/plain": [
       "HBox(children=(IntProgress(value=0, max=4096), HTML(value='')))"
      ]
     },
     "metadata": {},
     "output_type": "display_data"
    }
   ],
   "source": [
    "cl_sem_bkg = cl_sem\n",
    "cl_sem_bkg = cl_sem.background_substraction()"
   ]
  },
  {
   "cell_type": "markdown",
   "metadata": {},
   "source": [
    "### Correction of acquisiton defects\n",
    "\n",
    "Correct for the intrinsic shift caused by the misalignment of the grating with the spectrometer aperture centre. For the AttoLight in Cambridge, we have created a function to correct for it"
   ]
  },
  {
   "cell_type": "code",
   "execution_count": 35,
   "metadata": {},
   "outputs": [
    {
     "data": {
      "application/vnd.jupyter.widget-view+json": {
       "model_id": "a2116531a59c4614acbe9b9c2acbb05a",
       "version_major": 2,
       "version_minor": 0
      },
      "text/plain": [
       "HBox(children=(IntProgress(value=0, max=4096), HTML(value='')))"
      ]
     },
     "metadata": {},
     "output_type": "display_data"
    }
   ],
   "source": [
    "cl_sem_bkg.correct_grating_shift()"
   ]
  },
  {
   "cell_type": "markdown",
   "metadata": {},
   "source": [
    "The edges of the scan get higher intensities, so they can be cropped. \n",
    "If you set the `inplace` parameter to `True` the original CLSEMSpectrum object will be modified, if `False` a cropped copy of it will be created."
   ]
  },
  {
   "cell_type": "code",
   "execution_count": 8,
   "metadata": {},
   "outputs": [],
   "source": [
    "cl_sem_bkg = cl_sem_bkg.crop_edges(crop_px=5)"
   ]
  },
  {
   "cell_type": "markdown",
   "metadata": {},
   "source": [
    "There are also corrections for the cosmic rays (pixels with sharp spikes):"
   ]
  },
  {
   "cell_type": "code",
   "execution_count": 36,
   "metadata": {},
   "outputs": [
    {
     "data": {
      "application/vnd.jupyter.widget-view+json": {
       "model_id": "42052ccdabe54f37827b0b9182f4e95d",
       "version_major": 2,
       "version_minor": 0
      },
      "text/plain": [
       "HBox(children=(IntProgress(value=0, max=4096), HTML(value='')))"
      ]
     },
     "metadata": {},
     "output_type": "display_data"
    },
    {
     "name": "stdout",
     "output_type": "stream",
     "text": [
      "\n"
     ]
    }
   ],
   "source": [
    "cl_sem_bkg_spikes = cl_sem_bkg.cosmic_rays_substraction(extra_percent=50)"
   ]
  },
  {
   "cell_type": "markdown",
   "metadata": {},
   "source": [
    "## Plotting data\n",
    "\n",
    "Plot the corrected data:"
   ]
  },
  {
   "cell_type": "markdown",
   "metadata": {},
   "source": [
    "### Panchromatic image:"
   ]
  },
  {
   "cell_type": "code",
   "execution_count": 62,
   "metadata": {},
   "outputs": [],
   "source": [
    "cl_sem_bkg_spikes.T.mean().plot(cmap='viridis')"
   ]
  },
  {
   "cell_type": "markdown",
   "metadata": {},
   "source": [
    "Plot the average CL spectrum:"
   ]
  },
  {
   "cell_type": "code",
   "execution_count": 57,
   "metadata": {},
   "outputs": [],
   "source": [
    "cl_sem_bkg_spikes.mean().plot()"
   ]
  },
  {
   "cell_type": "markdown",
   "metadata": {},
   "source": [
    "### CL signal with the SEM image as navigator axis"
   ]
  },
  {
   "cell_type": "markdown",
   "metadata": {},
   "source": [
    "Plot with the SEM image instead of the panchromatic navigation image.\n",
    "\n",
    "*Note: if you cropped the edges before, you'll also need to crop the SEM image*"
   ]
  },
  {
   "cell_type": "code",
   "execution_count": 60,
   "metadata": {},
   "outputs": [],
   "source": [
    "#Find the folder, path of the SE_Scan file and load the file\n",
    "import os\n",
    "se_path = os.path.join(os.path.split(path)[0], \"SE_Scan*.png\")\n",
    "SE = lum.hyperspyload(se_path)"
   ]
  },
  {
   "cell_type": "code",
   "execution_count": 61,
   "metadata": {},
   "outputs": [],
   "source": [
    "#Crop the SEM image (if you have cropped the edges beforehand) and plot\n",
    "try:\n",
    "    crop = cl_sem_bkg_spikes.metadata.Signal.cropped_edges\n",
    "    size_x = cl_sem_bkg_spikes.metadata.Acquisition_instrument.SEM.resolution_x\n",
    "    size_y = cl_sem_bkg_spikes.metadata.Acquisition_instrument.SEM.resolution_x\n",
    "    SE = SE.isig[crop:size_x-crop, crop:size_y-crop]\n",
    "    cl_sem_bkg_spikes.plot(navigator=SE)\n",
    "#Simply plot with the SEM image\n",
    "except:\n",
    "    cl_sem_bkg_spikes.plot(navigator=SE)"
   ]
  },
  {
   "cell_type": "markdown",
   "metadata": {},
   "source": [
    "## Metadata\n",
    "\n",
    "All the microscope & spectrometer parameters are saved in the metadata, as well as the data processing steps applied. It can be assessed via:"
   ]
  },
  {
   "cell_type": "code",
   "execution_count": 19,
   "metadata": {},
   "outputs": [
    {
     "data": {
      "text/plain": [
       "├── Acquisition_instrument\n",
       "│   ├── CCD\n",
       "│   │   ├── amplification = 1\n",
       "│   │   ├── binning = 1\n",
       "│   │   ├── channels = 1024\n",
       "│   │   ├── exposure_time_s = 0.3\n",
       "│   │   └── readout_rate_khz = 1\n",
       "│   ├── SEM\n",
       "│   │   ├── FOV = 26391.201172\n",
       "│   │   ├── aperture_um = 100.0\n",
       "│   │   ├── beam_acc_voltage_kv = 5.998\n",
       "│   │   ├── chamber_pressure_torr = 1.0426e-07\n",
       "│   │   ├── dwell_time_scan_s = 0.30000001200000004\n",
       "│   │   ├── gun_lens_amps = 1.2\n",
       "│   │   ├── obj_lens_amps = 0.325544\n",
       "│   │   ├── real_magnification = 26391.2011\n",
       "│   │   ├── resolution_x = 64\n",
       "│   │   └── resolution_y = 64\n",
       "│   ├── Spectrometer\n",
       "│   │   ├── central_wavelength_nm = 700.01\n",
       "│   │   └── grating = 150.0\n",
       "│   └── acquisition_system = cambridge_attolight\n",
       "├── General\n",
       "│   └── title = \n",
       "└── Signal\n",
       "    ├── background_substracted = True\n",
       "    ├── binned = False\n",
       "    ├── cosmic_rays_substracted_extra_percent = 50\n",
       "    ├── cropped_edges = 5\n",
       "    ├── grating_corrected = True\n",
       "    └── signal_type = cl_sem_spectrum"
      ]
     },
     "execution_count": 19,
     "metadata": {},
     "output_type": "execute_result"
    }
   ],
   "source": [
    "cl_sem_bkg_spikes.metadata"
   ]
  },
  {
   "cell_type": "code",
   "execution_count": null,
   "metadata": {},
   "outputs": [],
   "source": []
  }
 ],
 "metadata": {
  "kernelspec": {
   "display_name": "Python 3",
   "language": "python",
   "name": "python3"
  },
  "language_info": {
   "codemirror_mode": {
    "name": "ipython",
    "version": 3
   },
   "file_extension": ".py",
   "mimetype": "text/x-python",
   "name": "python",
   "nbconvert_exporter": "python",
   "pygments_lexer": "ipython3",
   "version": "3.6.9"
  }
 },
 "nbformat": 4,
 "nbformat_minor": 4
}
