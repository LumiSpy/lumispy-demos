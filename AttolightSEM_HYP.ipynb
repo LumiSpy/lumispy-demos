{
 "cells": [
  {
   "cell_type": "markdown",
   "metadata": {},
   "source": [
    "# Demo for LumiSpy package working with AttoLight SEM CL data\n",
    "\n",
    "This notebook shows:\n",
    "\n",
    "- Loading a `HYPCard.sur` file correctly with the lumispy load function\n",
    "- Plotting cathodoluminescence data in different ways\n",
    "- Dealing with metadata\n",
    "- Correcting for spectral defects"
   ]
  },
  {
   "cell_type": "markdown",
   "metadata": {},
   "source": [
    "Import packages:"
   ]
  },
  {
   "cell_type": "code",
   "execution_count": 6,
   "metadata": {},
   "outputs": [],
   "source": [
    "%matplotlib qt\n",
    "#For pop-up window plots, with interactive functionality. If error, use instead %matplotlib tk\n",
    "import lumispy as lum\n",
    "import hyperspy.api as hs\n",
    "import matplotlib.pyplot as plt\n",
    "import os"
   ]
  },
  {
   "cell_type": "markdown",
   "metadata": {},
   "source": [
    "## Loading HYPCard files"
   ]
  },
  {
   "cell_type": "markdown",
   "metadata": {},
   "source": [
    "Use the `hs.load()` function with the `signal_type` class for AttoLight CL-SEM specific data (`CL_SEM`).\n",
    "State the relative path to the `HYPCard.bin` file.\n",
    "\n",
    "*You can also leave the path empty. A pop-up window will appear to select the `HYPCard.sur` file from the browser.*"
   ]
  },
  {
   "cell_type": "code",
   "execution_count": 82,
   "metadata": {},
   "outputs": [
    {
     "name": "stderr",
     "output_type": "stream",
     "text": [
      "WARNING:hyperspy.io:`signal_type='CL_SEM'` not understood. See `hs.print_known_signal_types()` for a list of installed signal types or https://github.com/hyperspy/hyperspy-extensions-list for the list of all hyperspy extensions providing signals.\n"
     ]
    },
    {
     "data": {
      "text/plain": "<Signal1D, title: , dimensions: (64, 64|1024)>"
     },
     "execution_count": 82,
     "metadata": {},
     "output_type": "execute_result"
    }
   ],
   "source": [
    "root_folder = \"demo-files/load_from_AttoLightSEM/\"\n",
    "import glob\n",
    "path = os.path.join(root_folder, 'HYPCard.sur')\n",
    "\n",
    "cl = hs.load(path, signal_type='CL_SEM',)\n",
    "cl"
   ]
  },
  {
   "cell_type": "code",
   "execution_count": 8,
   "outputs": [
    {
     "name": "stderr",
     "output_type": "stream",
     "text": [
      "WARNING:hyperspy.io:`signal_type='CL_SEM'` not understood. See `hs.print_known_signal_types()` for a list of installed signal types or https://github.com/hyperspy/hyperspy-extensions-list for the list of all hyperspy extensions providing signals.\n",
      "WARNING:hyperspy.io:`signal_type='CL_SEM'` not understood. See `hs.print_known_signal_types()` for a list of installed signal types or https://github.com/hyperspy/hyperspy-extensions-list for the list of all hyperspy extensions providing signals.\n"
     ]
    }
   ],
   "source": [
    "cl.plot()"
   ],
   "metadata": {
    "collapsed": false,
    "pycharm": {
     "name": "#%%\n"
    }
   }
  },
  {
   "cell_type": "code",
   "execution_count": 83,
   "outputs": [],
   "source": [
    "cl = lum.signals.CLSEMSpectrum(cl)\n",
    "cl.axes_manager.signal_axes[0].offset = 426.7578430175781\n",
    "cl.axes_manager.signal_axes[0].scale = 0.5366604924201965\n",
    "cl.axes_manager.signal_axes[0].units = 'nm'"
   ],
   "metadata": {
    "collapsed": false,
    "pycharm": {
     "name": "#%%\n"
    }
   }
  },
  {
   "cell_type": "markdown",
   "metadata": {
    "pycharm": {
     "name": "#%% md\n"
    }
   },
   "source": [
    "## Metadata\n",
    "\n",
    "The `.sur` file contains the general Hyperspy-specific metadata (`cl.metadata`).\n",
    "A more detailed metadata is also available via `cl.original_metadata`:"
   ]
  },
  {
   "cell_type": "code",
   "execution_count": 84,
   "outputs": [],
   "source": [
    "#cl.metadata"
   ],
   "metadata": {
    "collapsed": false,
    "pycharm": {
     "name": "#%%\n"
    }
   }
  },
  {
   "cell_type": "code",
   "execution_count": 85,
   "outputs": [
    {
     "ename": "AttributeError",
     "evalue": "'DictionaryTreeBrowser' object has no attribute 'Object_0_Channel_0'",
     "output_type": "error",
     "traceback": [
      "\u001B[1;31m---------------------------------------------------------------------------\u001B[0m",
      "\u001B[1;31mAttributeError\u001B[0m                            Traceback (most recent call last)",
      "\u001B[1;32m<ipython-input-85-606aa85983ca>\u001B[0m in \u001B[0;36m<module>\u001B[1;34m()\u001B[0m\n\u001B[0;32m      1\u001B[0m \u001B[1;33m\u001B[0m\u001B[0m\n\u001B[1;32m----> 2\u001B[1;33m \u001B[0mcl\u001B[0m\u001B[1;33m.\u001B[0m\u001B[0moriginal_metadata\u001B[0m\u001B[1;33m.\u001B[0m\u001B[0mObject_0_Channel_0\u001B[0m\u001B[1;33m.\u001B[0m\u001B[0mParsed\u001B[0m\u001B[1;33m\u001B[0m\u001B[1;33m\u001B[0m\u001B[0m\n\u001B[0m\u001B[0;32m      3\u001B[0m \u001B[1;33m\u001B[0m\u001B[0m\n",
      "\u001B[1;32mC:\\Users\\jf631\\Documents\\GitHub\\jordiferrero\\hyperspy\\hyperspy\\misc\\utils.py\u001B[0m in \u001B[0;36m__getattribute__\u001B[1;34m(self, name)\u001B[0m\n\u001B[0;32m    398\u001B[0m             \u001B[0mname\u001B[0m \u001B[1;33m=\u001B[0m \u001B[0mname\u001B[0m\u001B[1;33m.\u001B[0m\u001B[0mdecode\u001B[0m\u001B[1;33m(\u001B[0m\u001B[1;33m)\u001B[0m\u001B[1;33m\u001B[0m\u001B[1;33m\u001B[0m\u001B[0m\n\u001B[0;32m    399\u001B[0m         \u001B[0mname\u001B[0m \u001B[1;33m=\u001B[0m \u001B[0mslugify\u001B[0m\u001B[1;33m(\u001B[0m\u001B[0mname\u001B[0m\u001B[1;33m,\u001B[0m \u001B[0mvalid_variable_name\u001B[0m\u001B[1;33m=\u001B[0m\u001B[1;32mTrue\u001B[0m\u001B[1;33m)\u001B[0m\u001B[1;33m\u001B[0m\u001B[1;33m\u001B[0m\u001B[0m\n\u001B[1;32m--> 400\u001B[1;33m         \u001B[0mitem\u001B[0m \u001B[1;33m=\u001B[0m \u001B[0msuper\u001B[0m\u001B[1;33m(\u001B[0m\u001B[0mDictionaryTreeBrowser\u001B[0m\u001B[1;33m,\u001B[0m \u001B[0mself\u001B[0m\u001B[1;33m)\u001B[0m\u001B[1;33m.\u001B[0m\u001B[0m__getattribute__\u001B[0m\u001B[1;33m(\u001B[0m\u001B[0mname\u001B[0m\u001B[1;33m)\u001B[0m\u001B[1;33m\u001B[0m\u001B[1;33m\u001B[0m\u001B[0m\n\u001B[0m\u001B[0;32m    401\u001B[0m         \u001B[1;32mif\u001B[0m \u001B[0misinstance\u001B[0m\u001B[1;33m(\u001B[0m\u001B[0mitem\u001B[0m\u001B[1;33m,\u001B[0m \u001B[0mdict\u001B[0m\u001B[1;33m)\u001B[0m \u001B[1;32mand\u001B[0m \u001B[1;34m'_dtb_value_'\u001B[0m \u001B[1;32min\u001B[0m \u001B[0mitem\u001B[0m \u001B[1;32mand\u001B[0m \u001B[1;34m\"key\"\u001B[0m \u001B[1;32min\u001B[0m \u001B[0mitem\u001B[0m\u001B[1;33m:\u001B[0m\u001B[1;33m\u001B[0m\u001B[1;33m\u001B[0m\u001B[0m\n\u001B[0;32m    402\u001B[0m             \u001B[1;32mreturn\u001B[0m \u001B[0mitem\u001B[0m\u001B[1;33m[\u001B[0m\u001B[1;34m'_dtb_value_'\u001B[0m\u001B[1;33m]\u001B[0m\u001B[1;33m\u001B[0m\u001B[1;33m\u001B[0m\u001B[0m\n",
      "\u001B[1;31mAttributeError\u001B[0m: 'DictionaryTreeBrowser' object has no attribute 'Object_0_Channel_0'"
     ]
    }
   ],
   "source": [
    "cl.original_metadata.Object_0_Channel_0.Parsed"
   ],
   "metadata": {
    "collapsed": false,
    "pycharm": {
     "name": "#%%\n"
    }
   }
  },
  {
   "cell_type": "markdown",
   "metadata": {},
   "source": [
    "## Data pre-processing\n",
    "\n",
    "Let's start some pre-processing methods:"
   ]
  },
  {
   "cell_type": "markdown",
   "metadata": {},
   "source": [
    "### Background removal\n",
    "\n",
    "In the AttoLight system, if a background is taken before mapping, the background is stored automatically in the signal folder.\n",
    "\n",
    "Otherwise, manually load a background file, using `np.loadtxt(path_to_file)`."
   ]
  },
  {
   "cell_type": "code",
   "execution_count": null,
   "outputs": [],
   "source": [],
   "metadata": {
    "collapsed": false,
    "pycharm": {
     "name": "#%%\n"
    }
   }
  },
  {
   "cell_type": "code",
   "execution_count": 86,
   "metadata": {},
   "outputs": [],
   "source": [
    "try:\n",
    "    bkg_path = os.path.join(root_folder, 'Background*.txt')\n",
    "    bkg_path = glob.glob(bkg_path)[0]\n",
    "except IndexError:\n",
    "    print('Please, specify a `background.txt` file path below:')\n",
    "    bkg_path = ''"
   ]
  },
  {
   "cell_type": "code",
   "execution_count": 87,
   "outputs": [
    {
     "name": "stdout",
     "output_type": "stream",
     "text": [
      "(1024,)\n"
     ]
    }
   ],
   "source": [
    "import numpy as np\n",
    "cl_bkg = np.loadtxt(bkg_path)[1]\n",
    "print(cl_bkg.shape)\n",
    "\n",
    "# Run background subtraction\n",
    "cl = cl - cl_bkg"
   ],
   "metadata": {
    "collapsed": false,
    "pycharm": {
     "name": "#%%\n"
    }
   }
  },
  {
   "cell_type": "markdown",
   "metadata": {},
   "source": [
    "### Correction of acquisition defects\n",
    "\n",
    "Correct for the intrinsic shift caused by the misalignment of the grating with the spectrometer aperture centre."
   ]
  },
  {
   "cell_type": "code",
   "execution_count": 48,
   "outputs": [
    {
     "data": {
      "text/plain": "├── CCD\n│   ├── Baseline Clamp = Off\n│   ├── Camera Model = A.920\n│   ├── Capture Depth = 1024\n│   ├── Exposure Time = 0.3\n│   ├── Exposure Time_units = s\n│   ├── Horizontal Binning = 1\n│   ├── Pixel Width = 0.026\n│   ├── Pixel Width_units = mm\n│   ├── ReadMode = FVB\n│   ├── Readout Rate (horizontal pixel shift) = 1Mhz\n│   ├── Signal Amplification = x1\n│   ├── Speed (vertical pixel shift) = 3.3\n│   ├── Temperature = -69\n│   ├── Temperature_units = °C\n│   └── Voltage Amplitude (vertical pixel shift) = normal\n├── CHANNELS\n│   ├── Channel1 = SE\n│   └── Channel2 = CCD\n├── SCAN\n│   ├── HYP Dwelltime = 300.000012\n│   ├── HYP Dwelltime_units = ms\n│   ├── Mode = HYP\n│   ├── Reference_Size_X = 512\n│   ├── Reference_Size_Y = 512\n│   ├── Resolution_X = 64\n│   ├── Resolution_X_units = pixels\n│   ├── Resolution_Y = 64\n│   ├── Resolution_Y_units = pixels\n│   ├── Rotate = 0.0\n│   ├── Rotate_units = deg\n│   ├── Size_X = 1024\n│   ├── Size_Y = 1024\n│   ├── Start_X = 0\n│   ├── Start_Y = 0\n│   ├── Voltage Calibration Range_X = 9.2\n│   ├── Voltage Calibration Range_X_units = V\n│   ├── Voltage Calibration Range_Y = 9.2\n│   └── Voltage Calibration Range_Y_units = V\n├── SEM\n│   ├── Aperture = 100\n│   ├── Aperture Chamber Pressure = 1.0426e-07\n│   ├── Aperture Chamber Pressure_units = Torr\n│   ├── Aperture_units = um\n│   ├── Astigmatism 1 X = -0.01\n│   ├── Astigmatism 1 X_units = V\n│   ├── Astigmatism 1 Y = 0.0\n│   ├── Astigmatism 1 Y_units = V\n│   ├── Astigmatism 2 X = 17.97\n│   ├── Astigmatism 2 X_units = V\n│   ├── Astigmatism 2 Y = -6.64\n│   ├── Astigmatism 2 Y_units = V\n│   ├── Attomic ReadedMagnification = 22000.0\n│   ├── Attomic zoom = 40\n│   ├── Beam Current = 0.0\n│   ├── Beam Current_units = uA\n│   ├── Beam Energy = 5998.0\n│   ├── Beam Energy_units = V\n│   ├── Blanker = Off\n│   ├── Blanker_units = um\n│   ├── Cathode Heating Current = 1.44\n│   ├── Cathode Heating Current_units = A\n│   ├── Cathode Heating Voltage = 0.8\n│   ├── Cathode Heating Voltage_units = V\n│   ├── Deflector 1 X = 0.0\n│   ├── Deflector 1 X_units = V\n│   ├── Deflector 1 Y = 0.0\n│   ├── Deflector 1 Y_units = V\n│   ├── Deflector 2 X = -0.21\n│   ├── Deflector 2 X_units = V\n│   ├── Deflector 2 Y = -0.15\n│   ├── Deflector 2 Y_units = V\n│   ├── Emission Current = 0.0\n│   ├── Emission Current_units = uA\n│   ├── Emission Status = ON\n│   ├── Extractor Voltage = 4749.0\n│   ├── Extractor Voltage_units = V\n│   ├── Gun Chamber Pressure = 3.8028e-10\n│   ├── Gun Chamber Pressure_units = Torr\n│   ├── Gun Lens = 1.2\n│   ├── Gun Lens_units = A\n│   ├── Isolation Valve = Opened\n│   ├── Objective Lens = 0.325544\n│   ├── Objective Lens_units = A\n│   ├── Real Magnification = 26391.201172\n│   ├── Scintillator Voltage = 6010.0\n│   ├── Scintillator Voltage_units = V\n│   ├── Suppressor Bias = 1004.0\n│   └── Suppressor Bias_units = V\n├── SITE IMAGE\n│   ├── Dwell Time = 300000.011921\n│   ├── Dwell Time_units = us\n│   ├── Field of view = 0.005\n│   ├── Field of view_units = um\n│   ├── Number of pixels (x axis) = 64\n│   ├── Number of pixels (x axis)_units = px\n│   ├── Number of pixels (y axis) = 64\n│   ├── Number of pixels (y axis)_units = px\n│   ├── stage_model = 10010\n│   ├── stage_position_x = -4.600102\n│   ├── stage_position_y = -0.743008\n│   ├── stage_position_z = -1.368159\n│   ├── stage_rotation_x = -0.0\n│   ├── stage_rotation_y = -0.0\n│   └── stage_rotation_z = -0.0\n├── SPECTROMETER\n│   ├── Central wavelength = 700.01\n│   ├── Central wavelength_units = nm\n│   ├── Entrance slit width = 7000\n│   ├── Entrance slit width_units = um\n│   ├── Exit mirror position = lateral\n│   ├── Exit slit width = 0\n│   ├── Exit slit width_units = um\n│   ├── Exit spectral resolution = 0\n│   ├── Exit spectral resolution_units = nm\n│   ├── Filter = None\n│   ├── Grating = 150/500\n│   ├── Grating - Blaze Angle = 0\n│   ├── Grating - Groove Density = 150\n│   ├── Grating - Groove Density_units = gr/mm\n│   ├── Turret = IHR\n│   ├── Turret id = 0\n│   └── Turret_units = 320\n└── WAFER\n    ├── Center Position X = 0.0\n    ├── Center Position X_units = mm\n    ├── Center Position Y = 0.0\n    ├── Center Position Y_units = mm\n    ├── Diameter = 0\n    ├── Diameter_units = mm\n    ├── Edge Exclusion = 0.0\n    ├── Edge Exclusion_units = mm\n    ├── Flat Length = 0.0\n    ├── Flat Length_units = mm\n    ├── ID = WAFER_0000\n    ├── Lot Number = LOT_0000\n    ├── Orientation = 0.0\n    ├── Orientation_units = deg\n    └── Type = ROUNDWITHFLAT",
      "text/html": "<ul style=\"margin: 0px; list-style-position: outside;\">\n                    <details open>\n                    <summary style=\"display: list-item;\">\n                    <li style=\"display: inline;\">\n                    CCD\n                    </li></summary>\n                    \n    <ul style=\"margin: 0px; list-style-position: outside;\">\n    <li style='margin-left:1em; padding-left: 0.5em'>Baseline Clamp = Off</li></ul>\n    \n    <ul style=\"margin: 0px; list-style-position: outside;\">\n    <li style='margin-left:1em; padding-left: 0.5em'>Camera Model = A.920</li></ul>\n    \n    <ul style=\"margin: 0px; list-style-position: outside;\">\n    <li style='margin-left:1em; padding-left: 0.5em'>Capture Depth = 1024</li></ul>\n    \n    <ul style=\"margin: 0px; list-style-position: outside;\">\n    <li style='margin-left:1em; padding-left: 0.5em'>Exposure Time = 0.3</li></ul>\n    \n    <ul style=\"margin: 0px; list-style-position: outside;\">\n    <li style='margin-left:1em; padding-left: 0.5em'>Exposure Time_units = s</li></ul>\n    \n    <ul style=\"margin: 0px; list-style-position: outside;\">\n    <li style='margin-left:1em; padding-left: 0.5em'>Horizontal Binning = 1</li></ul>\n    \n    <ul style=\"margin: 0px; list-style-position: outside;\">\n    <li style='margin-left:1em; padding-left: 0.5em'>Pixel Width = 0.026</li></ul>\n    \n    <ul style=\"margin: 0px; list-style-position: outside;\">\n    <li style='margin-left:1em; padding-left: 0.5em'>Pixel Width_units = mm</li></ul>\n    \n    <ul style=\"margin: 0px; list-style-position: outside;\">\n    <li style='margin-left:1em; padding-left: 0.5em'>ReadMode = FVB</li></ul>\n    \n    <ul style=\"margin: 0px; list-style-position: outside;\">\n    <li style='margin-left:1em; padding-left: 0.5em'>Readout Rate (horizontal pixel shift) = 1Mhz</li></ul>\n    \n    <ul style=\"margin: 0px; list-style-position: outside;\">\n    <li style='margin-left:1em; padding-left: 0.5em'>Signal Amplification = x1</li></ul>\n    \n    <ul style=\"margin: 0px; list-style-position: outside;\">\n    <li style='margin-left:1em; padding-left: 0.5em'>Speed (vertical pixel shift) = 3.3</li></ul>\n    \n    <ul style=\"margin: 0px; list-style-position: outside;\">\n    <li style='margin-left:1em; padding-left: 0.5em'>Temperature = -69</li></ul>\n    \n    <ul style=\"margin: 0px; list-style-position: outside;\">\n    <li style='margin-left:1em; padding-left: 0.5em'>Temperature_units = °C</li></ul>\n    \n    <ul style=\"margin: 0px; list-style-position: outside;\">\n    <li style='margin-left:1em; padding-left: 0.5em'>Voltage Amplitude (vertical pixel shift) = normal</li></ul>\n    </details></ul><ul style=\"margin: 0px; list-style-position: outside;\">\n                    <details open>\n                    <summary style=\"display: list-item;\">\n                    <li style=\"display: inline;\">\n                    CHANNELS\n                    </li></summary>\n                    \n    <ul style=\"margin: 0px; list-style-position: outside;\">\n    <li style='margin-left:1em; padding-left: 0.5em'>Channel1 = SE</li></ul>\n    \n    <ul style=\"margin: 0px; list-style-position: outside;\">\n    <li style='margin-left:1em; padding-left: 0.5em'>Channel2 = CCD</li></ul>\n    </details></ul><ul style=\"margin: 0px; list-style-position: outside;\">\n                    <details open>\n                    <summary style=\"display: list-item;\">\n                    <li style=\"display: inline;\">\n                    SCAN\n                    </li></summary>\n                    \n    <ul style=\"margin: 0px; list-style-position: outside;\">\n    <li style='margin-left:1em; padding-left: 0.5em'>HYP Dwelltime = 300.000012</li></ul>\n    \n    <ul style=\"margin: 0px; list-style-position: outside;\">\n    <li style='margin-left:1em; padding-left: 0.5em'>HYP Dwelltime_units = ms</li></ul>\n    \n    <ul style=\"margin: 0px; list-style-position: outside;\">\n    <li style='margin-left:1em; padding-left: 0.5em'>Mode = HYP</li></ul>\n    \n    <ul style=\"margin: 0px; list-style-position: outside;\">\n    <li style='margin-left:1em; padding-left: 0.5em'>Reference_Size_X = 512</li></ul>\n    \n    <ul style=\"margin: 0px; list-style-position: outside;\">\n    <li style='margin-left:1em; padding-left: 0.5em'>Reference_Size_Y = 512</li></ul>\n    \n    <ul style=\"margin: 0px; list-style-position: outside;\">\n    <li style='margin-left:1em; padding-left: 0.5em'>Resolution_X = 64</li></ul>\n    \n    <ul style=\"margin: 0px; list-style-position: outside;\">\n    <li style='margin-left:1em; padding-left: 0.5em'>Resolution_X_units = pixels</li></ul>\n    \n    <ul style=\"margin: 0px; list-style-position: outside;\">\n    <li style='margin-left:1em; padding-left: 0.5em'>Resolution_Y = 64</li></ul>\n    \n    <ul style=\"margin: 0px; list-style-position: outside;\">\n    <li style='margin-left:1em; padding-left: 0.5em'>Resolution_Y_units = pixels</li></ul>\n    \n    <ul style=\"margin: 0px; list-style-position: outside;\">\n    <li style='margin-left:1em; padding-left: 0.5em'>Rotate = 0.0</li></ul>\n    \n    <ul style=\"margin: 0px; list-style-position: outside;\">\n    <li style='margin-left:1em; padding-left: 0.5em'>Rotate_units = deg</li></ul>\n    \n    <ul style=\"margin: 0px; list-style-position: outside;\">\n    <li style='margin-left:1em; padding-left: 0.5em'>Size_X = 1024</li></ul>\n    \n    <ul style=\"margin: 0px; list-style-position: outside;\">\n    <li style='margin-left:1em; padding-left: 0.5em'>Size_Y = 1024</li></ul>\n    \n    <ul style=\"margin: 0px; list-style-position: outside;\">\n    <li style='margin-left:1em; padding-left: 0.5em'>Start_X = 0</li></ul>\n    \n    <ul style=\"margin: 0px; list-style-position: outside;\">\n    <li style='margin-left:1em; padding-left: 0.5em'>Start_Y = 0</li></ul>\n    \n    <ul style=\"margin: 0px; list-style-position: outside;\">\n    <li style='margin-left:1em; padding-left: 0.5em'>Voltage Calibration Range_X = 9.2</li></ul>\n    \n    <ul style=\"margin: 0px; list-style-position: outside;\">\n    <li style='margin-left:1em; padding-left: 0.5em'>Voltage Calibration Range_X_units = V</li></ul>\n    \n    <ul style=\"margin: 0px; list-style-position: outside;\">\n    <li style='margin-left:1em; padding-left: 0.5em'>Voltage Calibration Range_Y = 9.2</li></ul>\n    \n    <ul style=\"margin: 0px; list-style-position: outside;\">\n    <li style='margin-left:1em; padding-left: 0.5em'>Voltage Calibration Range_Y_units = V</li></ul>\n    </details></ul><ul style=\"margin: 0px; list-style-position: outside;\">\n                    <details open>\n                    <summary style=\"display: list-item;\">\n                    <li style=\"display: inline;\">\n                    SEM\n                    </li></summary>\n                    \n    <ul style=\"margin: 0px; list-style-position: outside;\">\n    <li style='margin-left:1em; padding-left: 0.5em'>Aperture = 100</li></ul>\n    \n    <ul style=\"margin: 0px; list-style-position: outside;\">\n    <li style='margin-left:1em; padding-left: 0.5em'>Aperture Chamber Pressure = 1.0426e-07</li></ul>\n    \n    <ul style=\"margin: 0px; list-style-position: outside;\">\n    <li style='margin-left:1em; padding-left: 0.5em'>Aperture Chamber Pressure_units = Torr</li></ul>\n    \n    <ul style=\"margin: 0px; list-style-position: outside;\">\n    <li style='margin-left:1em; padding-left: 0.5em'>Aperture_units = um</li></ul>\n    \n    <ul style=\"margin: 0px; list-style-position: outside;\">\n    <li style='margin-left:1em; padding-left: 0.5em'>Astigmatism 1 X = -0.01</li></ul>\n    \n    <ul style=\"margin: 0px; list-style-position: outside;\">\n    <li style='margin-left:1em; padding-left: 0.5em'>Astigmatism 1 X_units = V</li></ul>\n    \n    <ul style=\"margin: 0px; list-style-position: outside;\">\n    <li style='margin-left:1em; padding-left: 0.5em'>Astigmatism 1 Y = 0.0</li></ul>\n    \n    <ul style=\"margin: 0px; list-style-position: outside;\">\n    <li style='margin-left:1em; padding-left: 0.5em'>Astigmatism 1 Y_units = V</li></ul>\n    \n    <ul style=\"margin: 0px; list-style-position: outside;\">\n    <li style='margin-left:1em; padding-left: 0.5em'>Astigmatism 2 X = 17.97</li></ul>\n    \n    <ul style=\"margin: 0px; list-style-position: outside;\">\n    <li style='margin-left:1em; padding-left: 0.5em'>Astigmatism 2 X_units = V</li></ul>\n    \n    <ul style=\"margin: 0px; list-style-position: outside;\">\n    <li style='margin-left:1em; padding-left: 0.5em'>Astigmatism 2 Y = -6.64</li></ul>\n    \n    <ul style=\"margin: 0px; list-style-position: outside;\">\n    <li style='margin-left:1em; padding-left: 0.5em'>Astigmatism 2 Y_units = V</li></ul>\n    \n    <ul style=\"margin: 0px; list-style-position: outside;\">\n    <li style='margin-left:1em; padding-left: 0.5em'>Attomic ReadedMagnification = 22000.0</li></ul>\n    \n    <ul style=\"margin: 0px; list-style-position: outside;\">\n    <li style='margin-left:1em; padding-left: 0.5em'>Attomic zoom = 40</li></ul>\n    \n    <ul style=\"margin: 0px; list-style-position: outside;\">\n    <li style='margin-left:1em; padding-left: 0.5em'>Beam Current = 0.0</li></ul>\n    \n    <ul style=\"margin: 0px; list-style-position: outside;\">\n    <li style='margin-left:1em; padding-left: 0.5em'>Beam Current_units = uA</li></ul>\n    \n    <ul style=\"margin: 0px; list-style-position: outside;\">\n    <li style='margin-left:1em; padding-left: 0.5em'>Beam Energy = 5998.0</li></ul>\n    \n    <ul style=\"margin: 0px; list-style-position: outside;\">\n    <li style='margin-left:1em; padding-left: 0.5em'>Beam Energy_units = V</li></ul>\n    \n    <ul style=\"margin: 0px; list-style-position: outside;\">\n    <li style='margin-left:1em; padding-left: 0.5em'>Blanker = Off</li></ul>\n    \n    <ul style=\"margin: 0px; list-style-position: outside;\">\n    <li style='margin-left:1em; padding-left: 0.5em'>Blanker_units = um</li></ul>\n    \n    <ul style=\"margin: 0px; list-style-position: outside;\">\n    <li style='margin-left:1em; padding-left: 0.5em'>Cathode Heating Current = 1.44</li></ul>\n    \n    <ul style=\"margin: 0px; list-style-position: outside;\">\n    <li style='margin-left:1em; padding-left: 0.5em'>Cathode Heating Current_units = A</li></ul>\n    \n    <ul style=\"margin: 0px; list-style-position: outside;\">\n    <li style='margin-left:1em; padding-left: 0.5em'>Cathode Heating Voltage = 0.8</li></ul>\n    \n    <ul style=\"margin: 0px; list-style-position: outside;\">\n    <li style='margin-left:1em; padding-left: 0.5em'>Cathode Heating Voltage_units = V</li></ul>\n    \n    <ul style=\"margin: 0px; list-style-position: outside;\">\n    <li style='margin-left:1em; padding-left: 0.5em'>Deflector 1 X = 0.0</li></ul>\n    \n    <ul style=\"margin: 0px; list-style-position: outside;\">\n    <li style='margin-left:1em; padding-left: 0.5em'>Deflector 1 X_units = V</li></ul>\n    \n    <ul style=\"margin: 0px; list-style-position: outside;\">\n    <li style='margin-left:1em; padding-left: 0.5em'>Deflector 1 Y = 0.0</li></ul>\n    \n    <ul style=\"margin: 0px; list-style-position: outside;\">\n    <li style='margin-left:1em; padding-left: 0.5em'>Deflector 1 Y_units = V</li></ul>\n    \n    <ul style=\"margin: 0px; list-style-position: outside;\">\n    <li style='margin-left:1em; padding-left: 0.5em'>Deflector 2 X = -0.21</li></ul>\n    \n    <ul style=\"margin: 0px; list-style-position: outside;\">\n    <li style='margin-left:1em; padding-left: 0.5em'>Deflector 2 X_units = V</li></ul>\n    \n    <ul style=\"margin: 0px; list-style-position: outside;\">\n    <li style='margin-left:1em; padding-left: 0.5em'>Deflector 2 Y = -0.15</li></ul>\n    \n    <ul style=\"margin: 0px; list-style-position: outside;\">\n    <li style='margin-left:1em; padding-left: 0.5em'>Deflector 2 Y_units = V</li></ul>\n    \n    <ul style=\"margin: 0px; list-style-position: outside;\">\n    <li style='margin-left:1em; padding-left: 0.5em'>Emission Current = 0.0</li></ul>\n    \n    <ul style=\"margin: 0px; list-style-position: outside;\">\n    <li style='margin-left:1em; padding-left: 0.5em'>Emission Current_units = uA</li></ul>\n    \n    <ul style=\"margin: 0px; list-style-position: outside;\">\n    <li style='margin-left:1em; padding-left: 0.5em'>Emission Status = ON</li></ul>\n    \n    <ul style=\"margin: 0px; list-style-position: outside;\">\n    <li style='margin-left:1em; padding-left: 0.5em'>Extractor Voltage = 4749.0</li></ul>\n    \n    <ul style=\"margin: 0px; list-style-position: outside;\">\n    <li style='margin-left:1em; padding-left: 0.5em'>Extractor Voltage_units = V</li></ul>\n    \n    <ul style=\"margin: 0px; list-style-position: outside;\">\n    <li style='margin-left:1em; padding-left: 0.5em'>Gun Chamber Pressure = 3.8028e-10</li></ul>\n    \n    <ul style=\"margin: 0px; list-style-position: outside;\">\n    <li style='margin-left:1em; padding-left: 0.5em'>Gun Chamber Pressure_units = Torr</li></ul>\n    \n    <ul style=\"margin: 0px; list-style-position: outside;\">\n    <li style='margin-left:1em; padding-left: 0.5em'>Gun Lens = 1.2</li></ul>\n    \n    <ul style=\"margin: 0px; list-style-position: outside;\">\n    <li style='margin-left:1em; padding-left: 0.5em'>Gun Lens_units = A</li></ul>\n    \n    <ul style=\"margin: 0px; list-style-position: outside;\">\n    <li style='margin-left:1em; padding-left: 0.5em'>Isolation Valve = Opened</li></ul>\n    \n    <ul style=\"margin: 0px; list-style-position: outside;\">\n    <li style='margin-left:1em; padding-left: 0.5em'>Objective Lens = 0.325544</li></ul>\n    \n    <ul style=\"margin: 0px; list-style-position: outside;\">\n    <li style='margin-left:1em; padding-left: 0.5em'>Objective Lens_units = A</li></ul>\n    \n    <ul style=\"margin: 0px; list-style-position: outside;\">\n    <li style='margin-left:1em; padding-left: 0.5em'>Real Magnification = 26391.201172</li></ul>\n    \n    <ul style=\"margin: 0px; list-style-position: outside;\">\n    <li style='margin-left:1em; padding-left: 0.5em'>Scintillator Voltage = 6010.0</li></ul>\n    \n    <ul style=\"margin: 0px; list-style-position: outside;\">\n    <li style='margin-left:1em; padding-left: 0.5em'>Scintillator Voltage_units = V</li></ul>\n    \n    <ul style=\"margin: 0px; list-style-position: outside;\">\n    <li style='margin-left:1em; padding-left: 0.5em'>Suppressor Bias = 1004.0</li></ul>\n    \n    <ul style=\"margin: 0px; list-style-position: outside;\">\n    <li style='margin-left:1em; padding-left: 0.5em'>Suppressor Bias_units = V</li></ul>\n    </details></ul><ul style=\"margin: 0px; list-style-position: outside;\">\n                    <details open>\n                    <summary style=\"display: list-item;\">\n                    <li style=\"display: inline;\">\n                    SITE IMAGE\n                    </li></summary>\n                    \n    <ul style=\"margin: 0px; list-style-position: outside;\">\n    <li style='margin-left:1em; padding-left: 0.5em'>Dwell Time = 300000.011921</li></ul>\n    \n    <ul style=\"margin: 0px; list-style-position: outside;\">\n    <li style='margin-left:1em; padding-left: 0.5em'>Dwell Time_units = us</li></ul>\n    \n    <ul style=\"margin: 0px; list-style-position: outside;\">\n    <li style='margin-left:1em; padding-left: 0.5em'>Field of view = 0.005</li></ul>\n    \n    <ul style=\"margin: 0px; list-style-position: outside;\">\n    <li style='margin-left:1em; padding-left: 0.5em'>Field of view_units = um</li></ul>\n    \n    <ul style=\"margin: 0px; list-style-position: outside;\">\n    <li style='margin-left:1em; padding-left: 0.5em'>Number of pixels (x axis) = 64</li></ul>\n    \n    <ul style=\"margin: 0px; list-style-position: outside;\">\n    <li style='margin-left:1em; padding-left: 0.5em'>Number of pixels (x axis)_units = px</li></ul>\n    \n    <ul style=\"margin: 0px; list-style-position: outside;\">\n    <li style='margin-left:1em; padding-left: 0.5em'>Number of pixels (y axis) = 64</li></ul>\n    \n    <ul style=\"margin: 0px; list-style-position: outside;\">\n    <li style='margin-left:1em; padding-left: 0.5em'>Number of pixels (y axis)_units = px</li></ul>\n    \n    <ul style=\"margin: 0px; list-style-position: outside;\">\n    <li style='margin-left:1em; padding-left: 0.5em'>stage_model = 10010</li></ul>\n    \n    <ul style=\"margin: 0px; list-style-position: outside;\">\n    <li style='margin-left:1em; padding-left: 0.5em'>stage_position_x = -4.600102</li></ul>\n    \n    <ul style=\"margin: 0px; list-style-position: outside;\">\n    <li style='margin-left:1em; padding-left: 0.5em'>stage_position_y = -0.743008</li></ul>\n    \n    <ul style=\"margin: 0px; list-style-position: outside;\">\n    <li style='margin-left:1em; padding-left: 0.5em'>stage_position_z = -1.368159</li></ul>\n    \n    <ul style=\"margin: 0px; list-style-position: outside;\">\n    <li style='margin-left:1em; padding-left: 0.5em'>stage_rotation_x = -0.0</li></ul>\n    \n    <ul style=\"margin: 0px; list-style-position: outside;\">\n    <li style='margin-left:1em; padding-left: 0.5em'>stage_rotation_y = -0.0</li></ul>\n    \n    <ul style=\"margin: 0px; list-style-position: outside;\">\n    <li style='margin-left:1em; padding-left: 0.5em'>stage_rotation_z = -0.0</li></ul>\n    </details></ul><ul style=\"margin: 0px; list-style-position: outside;\">\n                    <details open>\n                    <summary style=\"display: list-item;\">\n                    <li style=\"display: inline;\">\n                    SPECTROMETER\n                    </li></summary>\n                    \n    <ul style=\"margin: 0px; list-style-position: outside;\">\n    <li style='margin-left:1em; padding-left: 0.5em'>Central wavelength = 700.01</li></ul>\n    \n    <ul style=\"margin: 0px; list-style-position: outside;\">\n    <li style='margin-left:1em; padding-left: 0.5em'>Central wavelength_units = nm</li></ul>\n    \n    <ul style=\"margin: 0px; list-style-position: outside;\">\n    <li style='margin-left:1em; padding-left: 0.5em'>Entrance slit width = 7000</li></ul>\n    \n    <ul style=\"margin: 0px; list-style-position: outside;\">\n    <li style='margin-left:1em; padding-left: 0.5em'>Entrance slit width_units = um</li></ul>\n    \n    <ul style=\"margin: 0px; list-style-position: outside;\">\n    <li style='margin-left:1em; padding-left: 0.5em'>Exit mirror position = lateral</li></ul>\n    \n    <ul style=\"margin: 0px; list-style-position: outside;\">\n    <li style='margin-left:1em; padding-left: 0.5em'>Exit slit width = 0</li></ul>\n    \n    <ul style=\"margin: 0px; list-style-position: outside;\">\n    <li style='margin-left:1em; padding-left: 0.5em'>Exit slit width_units = um</li></ul>\n    \n    <ul style=\"margin: 0px; list-style-position: outside;\">\n    <li style='margin-left:1em; padding-left: 0.5em'>Exit spectral resolution = 0</li></ul>\n    \n    <ul style=\"margin: 0px; list-style-position: outside;\">\n    <li style='margin-left:1em; padding-left: 0.5em'>Exit spectral resolution_units = nm</li></ul>\n    \n    <ul style=\"margin: 0px; list-style-position: outside;\">\n    <li style='margin-left:1em; padding-left: 0.5em'>Filter = None</li></ul>\n    \n    <ul style=\"margin: 0px; list-style-position: outside;\">\n    <li style='margin-left:1em; padding-left: 0.5em'>Grating = 150/500</li></ul>\n    \n    <ul style=\"margin: 0px; list-style-position: outside;\">\n    <li style='margin-left:1em; padding-left: 0.5em'>Grating - Blaze Angle = 0</li></ul>\n    \n    <ul style=\"margin: 0px; list-style-position: outside;\">\n    <li style='margin-left:1em; padding-left: 0.5em'>Grating - Groove Density = 150</li></ul>\n    \n    <ul style=\"margin: 0px; list-style-position: outside;\">\n    <li style='margin-left:1em; padding-left: 0.5em'>Grating - Groove Density_units = gr/mm</li></ul>\n    \n    <ul style=\"margin: 0px; list-style-position: outside;\">\n    <li style='margin-left:1em; padding-left: 0.5em'>Turret = IHR</li></ul>\n    \n    <ul style=\"margin: 0px; list-style-position: outside;\">\n    <li style='margin-left:1em; padding-left: 0.5em'>Turret id = 0</li></ul>\n    \n    <ul style=\"margin: 0px; list-style-position: outside;\">\n    <li style='margin-left:1em; padding-left: 0.5em'>Turret_units = 320</li></ul>\n    </details></ul><ul style=\"margin: 0px; list-style-position: outside;\">\n                    <details open>\n                    <summary style=\"display: list-item;\">\n                    <li style=\"display: inline;\">\n                    WAFER\n                    </li></summary>\n                    \n    <ul style=\"margin: 0px; list-style-position: outside;\">\n    <li style='margin-left:1em; padding-left: 0.5em'>Center Position X = 0.0</li></ul>\n    \n    <ul style=\"margin: 0px; list-style-position: outside;\">\n    <li style='margin-left:1em; padding-left: 0.5em'>Center Position X_units = mm</li></ul>\n    \n    <ul style=\"margin: 0px; list-style-position: outside;\">\n    <li style='margin-left:1em; padding-left: 0.5em'>Center Position Y = 0.0</li></ul>\n    \n    <ul style=\"margin: 0px; list-style-position: outside;\">\n    <li style='margin-left:1em; padding-left: 0.5em'>Center Position Y_units = mm</li></ul>\n    \n    <ul style=\"margin: 0px; list-style-position: outside;\">\n    <li style='margin-left:1em; padding-left: 0.5em'>Diameter = 0</li></ul>\n    \n    <ul style=\"margin: 0px; list-style-position: outside;\">\n    <li style='margin-left:1em; padding-left: 0.5em'>Diameter_units = mm</li></ul>\n    \n    <ul style=\"margin: 0px; list-style-position: outside;\">\n    <li style='margin-left:1em; padding-left: 0.5em'>Edge Exclusion = 0.0</li></ul>\n    \n    <ul style=\"margin: 0px; list-style-position: outside;\">\n    <li style='margin-left:1em; padding-left: 0.5em'>Edge Exclusion_units = mm</li></ul>\n    \n    <ul style=\"margin: 0px; list-style-position: outside;\">\n    <li style='margin-left:1em; padding-left: 0.5em'>Flat Length = 0.0</li></ul>\n    \n    <ul style=\"margin: 0px; list-style-position: outside;\">\n    <li style='margin-left:1em; padding-left: 0.5em'>Flat Length_units = mm</li></ul>\n    \n    <ul style=\"margin: 0px; list-style-position: outside;\">\n    <li style='margin-left:1em; padding-left: 0.5em'>ID = WAFER_0000</li></ul>\n    \n    <ul style=\"margin: 0px; list-style-position: outside;\">\n    <li style='margin-left:1em; padding-left: 0.5em'>Lot Number = LOT_0000</li></ul>\n    \n    <ul style=\"margin: 0px; list-style-position: outside;\">\n    <li style='margin-left:1em; padding-left: 0.5em'>Orientation = 0.0</li></ul>\n    \n    <ul style=\"margin: 0px; list-style-position: outside;\">\n    <li style='margin-left:1em; padding-left: 0.5em'>Orientation_units = deg</li></ul>\n    \n    <ul style=\"margin: 0px; list-style-position: outside;\">\n    <li style='margin-left:1em; padding-left: 0.5em'>Type = ROUNDWITHFLAT</li></ul>\n    </details></ul>"
     },
     "execution_count": 48,
     "metadata": {},
     "output_type": "execute_result"
    }
   ],
   "source": [
    "cl.original_metadata.Object_0_Channel_0.Parsed"
   ],
   "metadata": {
    "collapsed": false,
    "pycharm": {
     "name": "#%%\n"
    }
   }
  },
  {
   "cell_type": "code",
   "execution_count": 67,
   "metadata": {},
   "outputs": [
    {
     "data": {
      "text/plain": "{'cal_factor': 131072,\n 'corr_factor_grating': 0.000273,\n 'field_of_view_um': 0.005}"
     },
     "execution_count": 67,
     "metadata": {},
     "output_type": "execute_result"
    }
   ],
   "source": [
    "calibration_factor = 131072\n",
    "grating = int(cl.original_metadata.Object_0_Channel_0.Parsed.SPECTROMETER.Grating__Groove_Density)\n",
    "\n",
    "if grating == 150:\n",
    "    correction_factor_grating = 2.73E-04 # 150 gr/mm grating\n",
    "elif grating == 600:\n",
    "    correction_factor_grating = 6.693659836087227e-05 # 600 gr/mm grating\n",
    "else:\n",
    "    raise ImportError('Grating correction not available')\n",
    "\n",
    "fov = cl.original_metadata.Object_0_Channel_0.Parsed.SITE_IMAGE.Field_of_view\n",
    "\n",
    "grating_calibrations = {\n",
    "    'cal_factor' : calibration_factor,\n",
    "    'corr_factor_grating' : correction_factor_grating,\n",
    "    'field_of_view_um' : fov,\n",
    "}"
   ]
  },
  {
   "cell_type": "code",
   "execution_count": 74,
   "outputs": [
    {
     "ename": "ValueError",
     "evalue": "The value is out of the axis limits",
     "output_type": "error",
     "traceback": [
      "\u001B[1;31m---------------------------------------------------------------------------\u001B[0m",
      "\u001B[1;31mAttributeError\u001B[0m                            Traceback (most recent call last)",
      "\u001B[1;32mC:\\Users\\jf631\\Documents\\GitHub\\jordiferrero\\lumispy\\lumispy\\signals\\cl_spectrum.py\u001B[0m in \u001B[0;36mcorrect_grating_shift\u001B[1;34m(self, cal_factor_x_axis, corr_factor_grating, sem_magnification, **kwargs)\u001B[0m\n\u001B[0;32m    151\u001B[0m         \u001B[1;32mtry\u001B[0m\u001B[1;33m:\u001B[0m\u001B[1;33m\u001B[0m\u001B[1;33m\u001B[0m\u001B[0m\n\u001B[1;32m--> 152\u001B[1;33m             \u001B[0mself\u001B[0m\u001B[1;33m.\u001B[0m\u001B[0mmetadata\u001B[0m\u001B[1;33m.\u001B[0m\u001B[0mSignal\u001B[0m\u001B[1;33m.\u001B[0m\u001B[0mgrating_corrected\u001B[0m \u001B[1;33m==\u001B[0m \u001B[1;32mTrue\u001B[0m\u001B[1;33m\u001B[0m\u001B[1;33m\u001B[0m\u001B[0m\n\u001B[0m\u001B[0;32m    153\u001B[0m         \u001B[1;32mexcept\u001B[0m \u001B[0mAttributeError\u001B[0m\u001B[1;33m:\u001B[0m\u001B[1;33m\u001B[0m\u001B[1;33m\u001B[0m\u001B[0m\n",
      "\u001B[1;32mC:\\Users\\jf631\\Documents\\GitHub\\jordiferrero\\hyperspy\\hyperspy\\misc\\utils.py\u001B[0m in \u001B[0;36m__getattribute__\u001B[1;34m(self, name)\u001B[0m\n\u001B[0;32m    399\u001B[0m         \u001B[0mname\u001B[0m \u001B[1;33m=\u001B[0m \u001B[0mslugify\u001B[0m\u001B[1;33m(\u001B[0m\u001B[0mname\u001B[0m\u001B[1;33m,\u001B[0m \u001B[0mvalid_variable_name\u001B[0m\u001B[1;33m=\u001B[0m\u001B[1;32mTrue\u001B[0m\u001B[1;33m)\u001B[0m\u001B[1;33m\u001B[0m\u001B[1;33m\u001B[0m\u001B[0m\n\u001B[1;32m--> 400\u001B[1;33m         \u001B[0mitem\u001B[0m \u001B[1;33m=\u001B[0m \u001B[0msuper\u001B[0m\u001B[1;33m(\u001B[0m\u001B[0mDictionaryTreeBrowser\u001B[0m\u001B[1;33m,\u001B[0m \u001B[0mself\u001B[0m\u001B[1;33m)\u001B[0m\u001B[1;33m.\u001B[0m\u001B[0m__getattribute__\u001B[0m\u001B[1;33m(\u001B[0m\u001B[0mname\u001B[0m\u001B[1;33m)\u001B[0m\u001B[1;33m\u001B[0m\u001B[1;33m\u001B[0m\u001B[0m\n\u001B[0m\u001B[0;32m    401\u001B[0m         \u001B[1;32mif\u001B[0m \u001B[0misinstance\u001B[0m\u001B[1;33m(\u001B[0m\u001B[0mitem\u001B[0m\u001B[1;33m,\u001B[0m \u001B[0mdict\u001B[0m\u001B[1;33m)\u001B[0m \u001B[1;32mand\u001B[0m \u001B[1;34m'_dtb_value_'\u001B[0m \u001B[1;32min\u001B[0m \u001B[0mitem\u001B[0m \u001B[1;32mand\u001B[0m \u001B[1;34m\"key\"\u001B[0m \u001B[1;32min\u001B[0m \u001B[0mitem\u001B[0m\u001B[1;33m:\u001B[0m\u001B[1;33m\u001B[0m\u001B[1;33m\u001B[0m\u001B[0m\n",
      "\u001B[1;31mAttributeError\u001B[0m: 'DictionaryTreeBrowser' object has no attribute 'grating_corrected'",
      "\nDuring handling of the above exception, another exception occurred:\n",
      "\u001B[1;31mValueError\u001B[0m                                Traceback (most recent call last)",
      "\u001B[1;32m<ipython-input-74-9a2acd8ba797>\u001B[0m in \u001B[0;36m<module>\u001B[1;34m()\u001B[0m\n\u001B[1;32m----> 1\u001B[1;33m \u001B[0mcl\u001B[0m\u001B[1;33m.\u001B[0m\u001B[0mcorrect_grating_shift\u001B[0m\u001B[1;33m(\u001B[0m\u001B[1;33m*\u001B[0m\u001B[0mgrating_calibrations\u001B[0m\u001B[1;33m.\u001B[0m\u001B[0mvalues\u001B[0m\u001B[1;33m(\u001B[0m\u001B[1;33m)\u001B[0m\u001B[1;33m)\u001B[0m\u001B[1;33m\u001B[0m\u001B[1;33m\u001B[0m\u001B[0m\n\u001B[0m\u001B[0;32m      2\u001B[0m \u001B[1;33m\u001B[0m\u001B[0m\n",
      "\u001B[1;32mC:\\Users\\jf631\\Documents\\GitHub\\jordiferrero\\lumispy\\lumispy\\signals\\cl_spectrum.py\u001B[0m in \u001B[0;36mcorrect_grating_shift\u001B[1;34m(self, cal_factor_x_axis, corr_factor_grating, sem_magnification, **kwargs)\u001B[0m\n\u001B[0;32m    165\u001B[0m             \u001B[0mbarray\u001B[0m \u001B[1;33m=\u001B[0m \u001B[0mnp\u001B[0m\u001B[1;33m.\u001B[0m\u001B[0mfull\u001B[0m\u001B[1;33m(\u001B[0m\u001B[1;33m(\u001B[0m\u001B[0mny\u001B[0m\u001B[1;33m,\u001B[0m \u001B[0mnx\u001B[0m\u001B[1;33m)\u001B[0m\u001B[1;33m,\u001B[0m \u001B[0mgarray\u001B[0m\u001B[1;33m)\u001B[0m\u001B[1;33m\u001B[0m\u001B[1;33m\u001B[0m\u001B[0m\n\u001B[0;32m    166\u001B[0m \u001B[1;33m\u001B[0m\u001B[0m\n\u001B[1;32m--> 167\u001B[1;33m             \u001B[0mself\u001B[0m\u001B[1;33m.\u001B[0m\u001B[0mshift1D\u001B[0m\u001B[1;33m(\u001B[0m\u001B[0mbarray\u001B[0m\u001B[1;33m,\u001B[0m \u001B[1;33m**\u001B[0m\u001B[0mkwargs\u001B[0m\u001B[1;33m)\u001B[0m\u001B[1;33m\u001B[0m\u001B[1;33m\u001B[0m\u001B[0m\n\u001B[0m\u001B[0;32m    168\u001B[0m \u001B[1;33m\u001B[0m\u001B[0m\n\u001B[0;32m    169\u001B[0m             \u001B[1;31m# Store modification in metadata\u001B[0m\u001B[1;33m\u001B[0m\u001B[1;33m\u001B[0m\u001B[1;33m\u001B[0m\u001B[0m\n",
      "\u001B[1;32mC:\\Users\\jf631\\Documents\\GitHub\\jordiferrero\\hyperspy\\hyperspy\\_signals\\signal1d.py\u001B[0m in \u001B[0;36mshift1D\u001B[1;34m(self, shift_array, interpolation_method, crop, expand, fill_value, parallel, show_progressbar, max_workers)\u001B[0m\n\u001B[0;32m    432\u001B[0m             ihigh = 1 + axis.value2index(\n\u001B[0;32m    433\u001B[0m                 \u001B[0maxis\u001B[0m\u001B[1;33m.\u001B[0m\u001B[0mhigh_value\u001B[0m \u001B[1;33m+\u001B[0m \u001B[0mminimum\u001B[0m\u001B[1;33m,\u001B[0m\u001B[1;33m\u001B[0m\u001B[1;33m\u001B[0m\u001B[0m\n\u001B[1;32m--> 434\u001B[1;33m                 rounding=math.floor)\n\u001B[0m\u001B[0;32m    435\u001B[0m         \u001B[1;32melse\u001B[0m\u001B[1;33m:\u001B[0m\u001B[1;33m\u001B[0m\u001B[1;33m\u001B[0m\u001B[0m\n\u001B[0;32m    436\u001B[0m             \u001B[0mihigh\u001B[0m \u001B[1;33m=\u001B[0m \u001B[0maxis\u001B[0m\u001B[1;33m.\u001B[0m\u001B[0mhigh_index\u001B[0m \u001B[1;33m+\u001B[0m \u001B[1;36m1\u001B[0m\u001B[1;33m\u001B[0m\u001B[1;33m\u001B[0m\u001B[0m\n",
      "\u001B[1;32mC:\\Users\\jf631\\Documents\\GitHub\\jordiferrero\\hyperspy\\hyperspy\\axes.py\u001B[0m in \u001B[0;36mvalue2index\u001B[1;34m(self, value, rounding)\u001B[0m\n\u001B[0;32m    987\u001B[0m                 \u001B[1;32mreturn\u001B[0m \u001B[0mindex\u001B[0m\u001B[1;33m\u001B[0m\u001B[1;33m\u001B[0m\u001B[0m\n\u001B[0;32m    988\u001B[0m             \u001B[1;32melse\u001B[0m\u001B[1;33m:\u001B[0m\u001B[1;33m\u001B[0m\u001B[1;33m\u001B[0m\u001B[0m\n\u001B[1;32m--> 989\u001B[1;33m                 \u001B[1;32mraise\u001B[0m \u001B[0mValueError\u001B[0m\u001B[1;33m(\u001B[0m\u001B[1;34m\"The value is out of the axis limits\"\u001B[0m\u001B[1;33m)\u001B[0m\u001B[1;33m\u001B[0m\u001B[1;33m\u001B[0m\u001B[0m\n\u001B[0m\u001B[0;32m    990\u001B[0m \u001B[1;33m\u001B[0m\u001B[0m\n\u001B[0;32m    991\u001B[0m     \u001B[1;32mdef\u001B[0m \u001B[0mupdate_axis\u001B[0m\u001B[1;33m(\u001B[0m\u001B[0mself\u001B[0m\u001B[1;33m)\u001B[0m\u001B[1;33m:\u001B[0m\u001B[1;33m\u001B[0m\u001B[1;33m\u001B[0m\u001B[0m\n",
      "\u001B[1;31mValueError\u001B[0m: The value is out of the axis limits"
     ]
    }
   ],
   "source": [
    "cl.correct_grating_shift(*grating_calibrations.values())"
   ],
   "metadata": {
    "collapsed": false,
    "pycharm": {
     "name": "#%%\n"
    }
   }
  },
  {
   "cell_type": "markdown",
   "metadata": {},
   "source": [
    "The edges of the scan get higher intensities, so they can be cropped. \n",
    "If you set the `inplace` parameter to `True` the original CLSEMSpectrum object will be modified, if `False` a cropped copy of it will be created."
   ]
  },
  {
   "cell_type": "code",
   "execution_count": 88,
   "metadata": {},
   "outputs": [],
   "source": [
    "cl = cl.crop_edges(crop_px=5)"
   ]
  },
  {
   "cell_type": "markdown",
   "metadata": {},
   "source": [
    "There are also corrections for the cosmic rays (pixels with sharp spikes):"
   ]
  },
  {
   "cell_type": "code",
   "execution_count": 95,
   "metadata": {},
   "outputs": [
    {
     "name": "stderr",
     "output_type": "stream",
     "text": [
      "WARNING:hyperspy.misc.hist_tools:Estimated number of bins using `bins='fd'` is too large (8673). Capping the number of bins at `max_num_bins=1000`. Consider using an alternative method for calculating the bins such as `bins='scott'`, or increasing the value of the `max_num_bins` keyword argument.\n",
      "C:\\Users\\jf631\\Documents\\GitHub\\jordiferrero\\lumispy\\lumispy\\signals\\cl_spectrum.py:91: UserWarning: Threshold value: 24.00\n",
      "  warn('Threshold value: {:.2f}'.format(spikes_removal.threshold), UserWarning)\n"
     ]
    }
   ],
   "source": [
    "cl_clean = cl.remove_spikes()"
   ]
  },
  {
   "cell_type": "code",
   "execution_count": 100,
   "outputs": [
    {
     "name": "stderr",
     "output_type": "stream",
     "text": [
      "WARNING:hyperspy.io:`signal_type='CL_SEM'` not understood. See `hs.print_known_signal_types()` for a list of installed signal types or https://github.com/hyperspy/hyperspy-extensions-list for the list of all hyperspy extensions providing signals.\n",
      "WARNING:hyperspy.io:`signal_type='CL_SEM'` not understood. See `hs.print_known_signal_types()` for a list of installed signal types or https://github.com/hyperspy/hyperspy-extensions-list for the list of all hyperspy extensions providing signals.\n",
      "WARNING:hyperspy.misc.hist_tools:Estimated number of bins using `bins='fd'` is too large (1248). Capping the number of bins at `max_num_bins=1000`. Consider using an alternative method for calculating the bins such as `bins='scott'`, or increasing the value of the `max_num_bins` keyword argument.\n"
     ]
    },
    {
     "data": {
      "text/plain": "VBox(children=(VBox(children=(Button(description='Show derivative histogram', layout=Layout(width='auto'), sty…",
      "application/vnd.jupyter.widget-view+json": {
       "version_major": 2,
       "version_minor": 0,
       "model_id": "8f919b90e81d4f22ab8110584dad90ca"
      }
     },
     "metadata": {},
     "output_type": "display_data"
    },
    {
     "ename": "AttributeError",
     "evalue": "'NoneType' object has no attribute 'threshold'",
     "output_type": "error",
     "traceback": [
      "\u001B[1;31m---------------------------------------------------------------------------\u001B[0m",
      "\u001B[1;31mAttributeError\u001B[0m                            Traceback (most recent call last)",
      "\u001B[1;32m<ipython-input-100-88e5999b43d7>\u001B[0m in \u001B[0;36m<module>\u001B[1;34m()\u001B[0m\n\u001B[0;32m      1\u001B[0m \u001B[1;31m# If not all spikes are removed, you can use the GUI to manually select pixels:\u001B[0m\u001B[1;33m\u001B[0m\u001B[1;33m\u001B[0m\u001B[1;33m\u001B[0m\u001B[0m\n\u001B[1;32m----> 2\u001B[1;33m \u001B[0mcl_clean\u001B[0m\u001B[1;33m.\u001B[0m\u001B[0mremove_spikes\u001B[0m\u001B[1;33m(\u001B[0m\u001B[0minteractive\u001B[0m\u001B[1;33m=\u001B[0m\u001B[1;32mTrue\u001B[0m\u001B[1;33m,\u001B[0m \u001B[0minplace\u001B[0m\u001B[1;33m=\u001B[0m\u001B[1;32mTrue\u001B[0m\u001B[1;33m)\u001B[0m\u001B[1;33m\u001B[0m\u001B[1;33m\u001B[0m\u001B[0m\n\u001B[0m\u001B[0;32m      3\u001B[0m \u001B[1;33m\u001B[0m\u001B[0m\n",
      "\u001B[1;32mC:\\Users\\jf631\\Documents\\GitHub\\jordiferrero\\lumispy\\lumispy\\signals\\cl_spectrum.py\u001B[0m in \u001B[0;36mremove_spikes\u001B[1;34m(self, threshold, show_diagnosis_histogram, inplace, luminescence_roi, signal_mask, add_noise, navigation_mask, interactive, **kwargs)\u001B[0m\n\u001B[0;32m     89\u001B[0m \u001B[1;33m\u001B[0m\u001B[0m\n\u001B[0;32m     90\u001B[0m         \u001B[1;32mif\u001B[0m \u001B[0mthreshold\u001B[0m \u001B[1;33m==\u001B[0m \u001B[1;34m'auto'\u001B[0m\u001B[1;33m:\u001B[0m\u001B[1;33m\u001B[0m\u001B[1;33m\u001B[0m\u001B[0m\n\u001B[1;32m---> 91\u001B[1;33m             \u001B[0mwarn\u001B[0m\u001B[1;33m(\u001B[0m\u001B[1;34m'Threshold value: {:.2f}'\u001B[0m\u001B[1;33m.\u001B[0m\u001B[0mformat\u001B[0m\u001B[1;33m(\u001B[0m\u001B[0mspikes_removal\u001B[0m\u001B[1;33m.\u001B[0m\u001B[0mthreshold\u001B[0m\u001B[1;33m)\u001B[0m\u001B[1;33m,\u001B[0m \u001B[0mUserWarning\u001B[0m\u001B[1;33m)\u001B[0m\u001B[1;33m\u001B[0m\u001B[1;33m\u001B[0m\u001B[0m\n\u001B[0m\u001B[0;32m     92\u001B[0m \u001B[1;33m\u001B[0m\u001B[0m\n\u001B[0;32m     93\u001B[0m         \u001B[1;32mif\u001B[0m \u001B[0minplace\u001B[0m\u001B[1;33m:\u001B[0m\u001B[1;33m\u001B[0m\u001B[1;33m\u001B[0m\u001B[0m\n",
      "\u001B[1;31mAttributeError\u001B[0m: 'NoneType' object has no attribute 'threshold'"
     ]
    }
   ],
   "source": [
    "# If not all spikes are removed, you can use the GUI to manually select pixels:\n",
    "cl_clean.remove_spikes(interactive=True, inplace=True)"
   ],
   "metadata": {
    "collapsed": false,
    "pycharm": {
     "name": "#%%\n"
    }
   }
  },
  {
   "cell_type": "markdown",
   "metadata": {},
   "source": [
    "## Plotting data\n",
    "\n",
    "Plot the corrected data:"
   ]
  },
  {
   "cell_type": "code",
   "execution_count": 101,
   "outputs": [
    {
     "name": "stderr",
     "output_type": "stream",
     "text": [
      "WARNING:hyperspy.io:`signal_type='CL_SEM'` not understood. See `hs.print_known_signal_types()` for a list of installed signal types or https://github.com/hyperspy/hyperspy-extensions-list for the list of all hyperspy extensions providing signals.\n",
      "WARNING:hyperspy.io:`signal_type='CL_SEM'` not understood. See `hs.print_known_signal_types()` for a list of installed signal types or https://github.com/hyperspy/hyperspy-extensions-list for the list of all hyperspy extensions providing signals.\n"
     ]
    }
   ],
   "source": [
    "cl_clean.plot()"
   ],
   "metadata": {
    "collapsed": false,
    "pycharm": {
     "name": "#%%\n"
    }
   }
  },
  {
   "cell_type": "markdown",
   "metadata": {},
   "source": [
    "### Panchromatic image:"
   ]
  },
  {
   "cell_type": "code",
   "execution_count": 106,
   "metadata": {},
   "outputs": [
    {
     "name": "stderr",
     "output_type": "stream",
     "text": [
      "WARNING:hyperspy.io:`signal_type='CL_SEM'` not understood. See `hs.print_known_signal_types()` for a list of installed signal types or https://github.com/hyperspy/hyperspy-extensions-list for the list of all hyperspy extensions providing signals.\n"
     ]
    }
   ],
   "source": [
    "cl_clean.T.mean().plot(cmap='viridis')"
   ]
  },
  {
   "cell_type": "markdown",
   "metadata": {},
   "source": [
    "Plot the average CL spectrum:"
   ]
  },
  {
   "cell_type": "code",
   "execution_count": 107,
   "metadata": {},
   "outputs": [],
   "source": [
    "cl_clean.mean().plot()"
   ]
  },
  {
   "cell_type": "markdown",
   "metadata": {
    "pycharm": {
     "name": "#%% md\n"
    }
   },
   "source": [
    "## Work in eV units"
   ]
  },
  {
   "cell_type": "code",
   "execution_count": 108,
   "outputs": [
    {
     "name": "stderr",
     "output_type": "stream",
     "text": [
      "ERROR:traits:Exception occurred in traits notification handler for object: <Axes manager, axes: (54, 54|)>\n",
      "            Name |   size |  index |  offset |   scale |  units \n",
      "================ | ====== | ====== | ======= | ======= | ====== \n",
      "     <undefined> |     54 |      1 |       6 |       1 | <undefined> \n",
      "     <undefined> |     54 |     10 |       6 |       1 | <undefined> \n",
      "---------------- | ------ | ------ | ------- | ------- | ------ , trait: _axes_items, old value: <undefined>, new value: TraitListEvent(index=2, removed=[<Unnamed axis, size: 1024>], added=[])\n",
      "Traceback (most recent call last):\n",
      "  File \"C:\\Users\\jf631\\.conda\\envs\\dev\\lib\\site-packages\\traits\\trait_notifiers.py\", line 522, in _dispatch_change_event\n",
      "    self.dispatch(handler, *args)\n",
      "  File \"C:\\Users\\jf631\\.conda\\envs\\dev\\lib\\site-packages\\traits\\trait_notifiers.py\", line 484, in dispatch\n",
      "    handler(*args)\n",
      "  File \"C:\\Users\\jf631\\Documents\\GitHub\\jordiferrero\\hyperspy\\hyperspy\\axes.py\", line 1568, in _on_size_changed\n",
      "    self.events.any_axis_changed.trigger(obj=self)\n",
      "  File \"<string>\", line 4, in trigger\n",
      "  File \"C:\\Users\\jf631\\Documents\\GitHub\\jordiferrero\\hyperspy\\hyperspy\\events.py\", line 422, in trigger\n",
      "    function(**{kw: kwargs.get(kw, None) for kw in kwsl})\n",
      "  File \"C:\\Users\\jf631\\Documents\\GitHub\\jordiferrero\\hyperspy\\hyperspy\\interactive.py\", line 113, in recompute_out\n",
      "    out = self.f(*self.args, **self.kwargs)\n",
      "  File \"C:\\Users\\jf631\\Documents\\GitHub\\jordiferrero\\hyperspy\\hyperspy\\signal.py\", line 3632, in sum\n",
      "    axes = self.axes_manager[axis]\n",
      "  File \"C:\\Users\\jf631\\Documents\\GitHub\\jordiferrero\\hyperspy\\hyperspy\\axes.py\", line 1294, in __getitem__\n",
      "    axes = [self._axes_getter(ax) for ax in y]\n",
      "  File \"C:\\Users\\jf631\\Documents\\GitHub\\jordiferrero\\hyperspy\\hyperspy\\axes.py\", line 1294, in <listcomp>\n",
      "    axes = [self._axes_getter(ax) for ax in y]\n",
      "  File \"C:\\Users\\jf631\\Documents\\GitHub\\jordiferrero\\hyperspy\\hyperspy\\axes.py\", line 1310, in _axes_getter\n",
      "    elif (isfloat(y.real) and not y.real.is_integer() or\n",
      "AttributeError: 'UniformDataAxis' object has no attribute 'real'\n"
     ]
    },
    {
     "ename": "AttributeError",
     "evalue": "'UniformDataAxis' object has no attribute 'real'",
     "output_type": "error",
     "traceback": [
      "\u001B[1;31m---------------------------------------------------------------------------\u001B[0m",
      "\u001B[1;31mAttributeError\u001B[0m                            Traceback (most recent call last)",
      "\u001B[1;32m<ipython-input-108-ad153fc08333>\u001B[0m in \u001B[0;36m<module>\u001B[1;34m()\u001B[0m\n\u001B[1;32m----> 1\u001B[1;33m \u001B[0mcl_clean\u001B[0m\u001B[1;33m.\u001B[0m\u001B[0mto_eV\u001B[0m\u001B[1;33m(\u001B[0m\u001B[1;33m)\u001B[0m\u001B[1;33m\u001B[0m\u001B[1;33m\u001B[0m\u001B[0m\n\u001B[0m\u001B[0;32m      2\u001B[0m \u001B[1;33m\u001B[0m\u001B[0m\n",
      "\u001B[1;32mC:\\Users\\jf631\\Documents\\GitHub\\jordiferrero\\lumispy\\lumispy\\signals\\luminescence_spectrum.py\u001B[0m in \u001B[0;36mto_eV\u001B[1;34m(self, inplace, jacobian)\u001B[0m\n\u001B[0;32m     92\u001B[0m             \u001B[1;32melse\u001B[0m\u001B[1;33m:\u001B[0m\u001B[1;33m\u001B[0m\u001B[1;33m\u001B[0m\u001B[0m\n\u001B[0;32m     93\u001B[0m                 \u001B[0mself\u001B[0m\u001B[1;33m.\u001B[0m\u001B[0mdata\u001B[0m \u001B[1;33m=\u001B[0m \u001B[0mself\u001B[0m\u001B[1;33m.\u001B[0m\u001B[0misig\u001B[0m\u001B[1;33m[\u001B[0m\u001B[1;33m:\u001B[0m\u001B[1;33m:\u001B[0m\u001B[1;33m-\u001B[0m\u001B[1;36m1\u001B[0m\u001B[1;33m]\u001B[0m\u001B[1;33m.\u001B[0m\u001B[0mdata\u001B[0m\u001B[1;33m\u001B[0m\u001B[1;33m\u001B[0m\u001B[0m\n\u001B[1;32m---> 94\u001B[1;33m             \u001B[0mself\u001B[0m\u001B[1;33m.\u001B[0m\u001B[0maxes_manager\u001B[0m\u001B[1;33m.\u001B[0m\u001B[0mremove\u001B[0m\u001B[1;33m(\u001B[0m\u001B[1;33m-\u001B[0m\u001B[1;36m1\u001B[0m\u001B[1;33m)\u001B[0m\u001B[1;33m\u001B[0m\u001B[1;33m\u001B[0m\u001B[0m\n\u001B[0m\u001B[0;32m     95\u001B[0m             \u001B[0mself\u001B[0m\u001B[1;33m.\u001B[0m\u001B[0maxes_manager\u001B[0m\u001B[1;33m.\u001B[0m\u001B[0m_axes\u001B[0m\u001B[1;33m.\u001B[0m\u001B[0mappend\u001B[0m\u001B[1;33m(\u001B[0m\u001B[0mevaxis\u001B[0m\u001B[1;33m)\u001B[0m\u001B[1;33m\u001B[0m\u001B[1;33m\u001B[0m\u001B[0m\n\u001B[0;32m     96\u001B[0m         \u001B[1;31m# create and return new signal\u001B[0m\u001B[1;33m\u001B[0m\u001B[1;33m\u001B[0m\u001B[1;33m\u001B[0m\u001B[0m\n",
      "\u001B[1;32mC:\\Users\\jf631\\Documents\\GitHub\\jordiferrero\\hyperspy\\hyperspy\\axes.py\u001B[0m in \u001B[0;36mremove\u001B[1;34m(self, axes)\u001B[0m\n\u001B[0;32m   1383\u001B[0m             \u001B[0maxes\u001B[0m \u001B[1;33m=\u001B[0m \u001B[1;33m(\u001B[0m\u001B[0maxes\u001B[0m\u001B[1;33m,\u001B[0m\u001B[1;33m)\u001B[0m\u001B[1;33m\u001B[0m\u001B[1;33m\u001B[0m\u001B[0m\n\u001B[0;32m   1384\u001B[0m         \u001B[1;32mfor\u001B[0m \u001B[0max\u001B[0m \u001B[1;32min\u001B[0m \u001B[0maxes\u001B[0m\u001B[1;33m:\u001B[0m\u001B[1;33m\u001B[0m\u001B[1;33m\u001B[0m\u001B[0m\n\u001B[1;32m-> 1385\u001B[1;33m             \u001B[0mself\u001B[0m\u001B[1;33m.\u001B[0m\u001B[0m_remove_one_axis\u001B[0m\u001B[1;33m(\u001B[0m\u001B[0max\u001B[0m\u001B[1;33m)\u001B[0m\u001B[1;33m\u001B[0m\u001B[1;33m\u001B[0m\u001B[0m\n\u001B[0m\u001B[0;32m   1386\u001B[0m \u001B[1;33m\u001B[0m\u001B[0m\n\u001B[0;32m   1387\u001B[0m     \u001B[1;32mdef\u001B[0m \u001B[0m_remove_one_axis\u001B[0m\u001B[1;33m(\u001B[0m\u001B[0mself\u001B[0m\u001B[1;33m,\u001B[0m \u001B[0maxis\u001B[0m\u001B[1;33m)\u001B[0m\u001B[1;33m:\u001B[0m\u001B[1;33m\u001B[0m\u001B[1;33m\u001B[0m\u001B[0m\n",
      "\u001B[1;32mC:\\Users\\jf631\\Documents\\GitHub\\jordiferrero\\hyperspy\\hyperspy\\axes.py\u001B[0m in \u001B[0;36m_remove_one_axis\u001B[1;34m(self, axis)\u001B[0m\n\u001B[0;32m   1396\u001B[0m         \u001B[0maxis\u001B[0m \u001B[1;33m=\u001B[0m \u001B[0mself\u001B[0m\u001B[1;33m.\u001B[0m\u001B[0m_axes_getter\u001B[0m\u001B[1;33m(\u001B[0m\u001B[0maxis\u001B[0m\u001B[1;33m)\u001B[0m\u001B[1;33m\u001B[0m\u001B[1;33m\u001B[0m\u001B[0m\n\u001B[0;32m   1397\u001B[0m         \u001B[0maxis\u001B[0m\u001B[1;33m.\u001B[0m\u001B[0maxes_manager\u001B[0m \u001B[1;33m=\u001B[0m \u001B[1;32mNone\u001B[0m\u001B[1;33m\u001B[0m\u001B[1;33m\u001B[0m\u001B[0m\n\u001B[1;32m-> 1398\u001B[1;33m         \u001B[0mself\u001B[0m\u001B[1;33m.\u001B[0m\u001B[0m_axes\u001B[0m\u001B[1;33m.\u001B[0m\u001B[0mremove\u001B[0m\u001B[1;33m(\u001B[0m\u001B[0maxis\u001B[0m\u001B[1;33m)\u001B[0m\u001B[1;33m\u001B[0m\u001B[1;33m\u001B[0m\u001B[0m\n\u001B[0m\u001B[0;32m   1399\u001B[0m \u001B[1;33m\u001B[0m\u001B[0m\n\u001B[0;32m   1400\u001B[0m     \u001B[1;32mdef\u001B[0m \u001B[0m__delitem__\u001B[0m\u001B[1;33m(\u001B[0m\u001B[0mself\u001B[0m\u001B[1;33m,\u001B[0m \u001B[0mi\u001B[0m\u001B[1;33m)\u001B[0m\u001B[1;33m:\u001B[0m\u001B[1;33m\u001B[0m\u001B[1;33m\u001B[0m\u001B[0m\n",
      "\u001B[1;32mC:\\Users\\jf631\\.conda\\envs\\dev\\lib\\site-packages\\traits\\trait_list_object.py\u001B[0m in \u001B[0;36mremove\u001B[1;34m(self, value)\u001B[0m\n\u001B[0;32m    799\u001B[0m \u001B[1;33m\u001B[0m\u001B[0m\n\u001B[0;32m    800\u001B[0m         \u001B[0mself\u001B[0m\u001B[1;33m.\u001B[0m\u001B[0m_validate_length\u001B[0m\u001B[1;33m(\u001B[0m\u001B[0mmax\u001B[0m\u001B[1;33m(\u001B[0m\u001B[0mlen\u001B[0m\u001B[1;33m(\u001B[0m\u001B[0mself\u001B[0m\u001B[1;33m)\u001B[0m \u001B[1;33m-\u001B[0m \u001B[1;36m1\u001B[0m\u001B[1;33m,\u001B[0m \u001B[1;36m0\u001B[0m\u001B[1;33m)\u001B[0m\u001B[1;33m)\u001B[0m\u001B[1;33m\u001B[0m\u001B[1;33m\u001B[0m\u001B[0m\n\u001B[1;32m--> 801\u001B[1;33m         \u001B[0msuper\u001B[0m\u001B[1;33m(\u001B[0m\u001B[1;33m)\u001B[0m\u001B[1;33m.\u001B[0m\u001B[0mremove\u001B[0m\u001B[1;33m(\u001B[0m\u001B[0mvalue\u001B[0m\u001B[1;33m)\u001B[0m\u001B[1;33m\u001B[0m\u001B[1;33m\u001B[0m\u001B[0m\n\u001B[0m\u001B[0;32m    802\u001B[0m \u001B[1;33m\u001B[0m\u001B[0m\n\u001B[0;32m    803\u001B[0m     \u001B[1;31m# -- pickle and copy support ----------------------------------------------\u001B[0m\u001B[1;33m\u001B[0m\u001B[1;33m\u001B[0m\u001B[1;33m\u001B[0m\u001B[0m\n",
      "\u001B[1;32mC:\\Users\\jf631\\.conda\\envs\\dev\\lib\\site-packages\\traits\\trait_list_object.py\u001B[0m in \u001B[0;36mremove\u001B[1;34m(self, value)\u001B[0m\n\u001B[0;32m    459\u001B[0m             \u001B[0mremoved\u001B[0m \u001B[1;33m=\u001B[0m \u001B[1;33m[\u001B[0m\u001B[0mself\u001B[0m\u001B[1;33m[\u001B[0m\u001B[0mindex\u001B[0m\u001B[1;33m]\u001B[0m\u001B[1;33m]\u001B[0m\u001B[1;33m\u001B[0m\u001B[1;33m\u001B[0m\u001B[0m\n\u001B[0;32m    460\u001B[0m         \u001B[0msuper\u001B[0m\u001B[1;33m(\u001B[0m\u001B[1;33m)\u001B[0m\u001B[1;33m.\u001B[0m\u001B[0mremove\u001B[0m\u001B[1;33m(\u001B[0m\u001B[0mvalue\u001B[0m\u001B[1;33m)\u001B[0m\u001B[1;33m\u001B[0m\u001B[1;33m\u001B[0m\u001B[0m\n\u001B[1;32m--> 461\u001B[1;33m         \u001B[0mself\u001B[0m\u001B[1;33m.\u001B[0m\u001B[0mnotify\u001B[0m\u001B[1;33m(\u001B[0m\u001B[0mindex\u001B[0m\u001B[1;33m,\u001B[0m \u001B[0mremoved\u001B[0m\u001B[1;33m,\u001B[0m \u001B[1;33m[\u001B[0m\u001B[1;33m]\u001B[0m\u001B[1;33m)\u001B[0m\u001B[1;33m\u001B[0m\u001B[1;33m\u001B[0m\u001B[0m\n\u001B[0m\u001B[0;32m    462\u001B[0m \u001B[1;33m\u001B[0m\u001B[0m\n\u001B[0;32m    463\u001B[0m     \u001B[1;32mdef\u001B[0m \u001B[0mreverse\u001B[0m\u001B[1;33m(\u001B[0m\u001B[0mself\u001B[0m\u001B[1;33m)\u001B[0m\u001B[1;33m:\u001B[0m\u001B[1;33m\u001B[0m\u001B[1;33m\u001B[0m\u001B[0m\n",
      "\u001B[1;32mC:\\Users\\jf631\\.conda\\envs\\dev\\lib\\site-packages\\traits\\trait_list_object.py\u001B[0m in \u001B[0;36mnotify\u001B[1;34m(self, index, removed, added)\u001B[0m\n\u001B[0;32m    232\u001B[0m         \"\"\"\n\u001B[0;32m    233\u001B[0m         \u001B[1;32mfor\u001B[0m \u001B[0mnotifier\u001B[0m \u001B[1;32min\u001B[0m \u001B[0mself\u001B[0m\u001B[1;33m.\u001B[0m\u001B[0mnotifiers\u001B[0m\u001B[1;33m:\u001B[0m\u001B[1;33m\u001B[0m\u001B[1;33m\u001B[0m\u001B[0m\n\u001B[1;32m--> 234\u001B[1;33m             \u001B[0mnotifier\u001B[0m\u001B[1;33m(\u001B[0m\u001B[0mself\u001B[0m\u001B[1;33m,\u001B[0m \u001B[0mindex\u001B[0m\u001B[1;33m,\u001B[0m \u001B[0mremoved\u001B[0m\u001B[1;33m,\u001B[0m \u001B[0madded\u001B[0m\u001B[1;33m)\u001B[0m\u001B[1;33m\u001B[0m\u001B[1;33m\u001B[0m\u001B[0m\n\u001B[0m\u001B[0;32m    235\u001B[0m \u001B[1;33m\u001B[0m\u001B[0m\n\u001B[0;32m    236\u001B[0m     \u001B[1;31m# -- list interface -------------------------------------------------------\u001B[0m\u001B[1;33m\u001B[0m\u001B[1;33m\u001B[0m\u001B[1;33m\u001B[0m\u001B[0m\n",
      "\u001B[1;32mC:\\Users\\jf631\\.conda\\envs\\dev\\lib\\site-packages\\traits\\trait_list_object.py\u001B[0m in \u001B[0;36mnotifier\u001B[1;34m(self, trait_list, index, removed, added)\u001B[0m\n\u001B[0;32m    616\u001B[0m         \u001B[0mevent\u001B[0m \u001B[1;33m=\u001B[0m \u001B[0mTraitListEvent\u001B[0m\u001B[1;33m(\u001B[0m\u001B[0mindex\u001B[0m\u001B[1;33m,\u001B[0m \u001B[0mremoved\u001B[0m\u001B[1;33m,\u001B[0m \u001B[0madded\u001B[0m\u001B[1;33m)\u001B[0m\u001B[1;33m\u001B[0m\u001B[1;33m\u001B[0m\u001B[0m\n\u001B[0;32m    617\u001B[0m         \u001B[0mitems_event\u001B[0m \u001B[1;33m=\u001B[0m \u001B[0mself\u001B[0m\u001B[1;33m.\u001B[0m\u001B[0mtrait\u001B[0m\u001B[1;33m.\u001B[0m\u001B[0mitems_event\u001B[0m\u001B[1;33m(\u001B[0m\u001B[1;33m)\u001B[0m\u001B[1;33m\u001B[0m\u001B[1;33m\u001B[0m\u001B[0m\n\u001B[1;32m--> 618\u001B[1;33m         \u001B[0mobject\u001B[0m\u001B[1;33m.\u001B[0m\u001B[0mtrait_items_event\u001B[0m\u001B[1;33m(\u001B[0m\u001B[0mself\u001B[0m\u001B[1;33m.\u001B[0m\u001B[0mname_items\u001B[0m\u001B[1;33m,\u001B[0m \u001B[0mevent\u001B[0m\u001B[1;33m,\u001B[0m \u001B[0mitems_event\u001B[0m\u001B[1;33m)\u001B[0m\u001B[1;33m\u001B[0m\u001B[1;33m\u001B[0m\u001B[0m\n\u001B[0m\u001B[0;32m    619\u001B[0m \u001B[1;33m\u001B[0m\u001B[0m\n\u001B[0;32m    620\u001B[0m     \u001B[1;31m# -- list interface -------------------------------------------------------\u001B[0m\u001B[1;33m\u001B[0m\u001B[1;33m\u001B[0m\u001B[1;33m\u001B[0m\u001B[0m\n",
      "\u001B[1;32mC:\\Users\\jf631\\.conda\\envs\\dev\\lib\\site-packages\\traits\\trait_notifiers.py\u001B[0m in \u001B[0;36m__call__\u001B[1;34m(self, object, trait_name, old, new)\u001B[0m\n\u001B[0;32m    474\u001B[0m         \u001B[1;31m# `_notify_method_listener` or `_notify_function_listener` to\u001B[0m\u001B[1;33m\u001B[0m\u001B[1;33m\u001B[0m\u001B[1;33m\u001B[0m\u001B[0m\n\u001B[0;32m    475\u001B[0m         \u001B[1;31m# prevent cyclic garbage (issue #100).\u001B[0m\u001B[1;33m\u001B[0m\u001B[1;33m\u001B[0m\u001B[1;33m\u001B[0m\u001B[0m\n\u001B[1;32m--> 476\u001B[1;33m         \u001B[0mself\u001B[0m\u001B[1;33m.\u001B[0m\u001B[0mnotify_listener\u001B[0m\u001B[1;33m(\u001B[0m\u001B[0mself\u001B[0m\u001B[1;33m,\u001B[0m \u001B[0mobject\u001B[0m\u001B[1;33m,\u001B[0m \u001B[0mtrait_name\u001B[0m\u001B[1;33m,\u001B[0m \u001B[0mold\u001B[0m\u001B[1;33m,\u001B[0m \u001B[0mnew\u001B[0m\u001B[1;33m)\u001B[0m\u001B[1;33m\u001B[0m\u001B[1;33m\u001B[0m\u001B[0m\n\u001B[0m\u001B[0;32m    477\u001B[0m \u001B[1;33m\u001B[0m\u001B[0m\n\u001B[0;32m    478\u001B[0m     \u001B[1;32mdef\u001B[0m \u001B[0mdispatch\u001B[0m\u001B[1;33m(\u001B[0m\u001B[0mself\u001B[0m\u001B[1;33m,\u001B[0m \u001B[0mhandler\u001B[0m\u001B[1;33m,\u001B[0m \u001B[1;33m*\u001B[0m\u001B[0margs\u001B[0m\u001B[1;33m)\u001B[0m\u001B[1;33m:\u001B[0m\u001B[1;33m\u001B[0m\u001B[1;33m\u001B[0m\u001B[0m\n",
      "\u001B[1;32mC:\\Users\\jf631\\.conda\\envs\\dev\\lib\\site-packages\\traits\\trait_notifiers.py\u001B[0m in \u001B[0;36m_notify_method_listener\u001B[1;34m(self, object, trait_name, old, new)\u001B[0m\n\u001B[0;32m    548\u001B[0m                 \u001B[0mlistener\u001B[0m \u001B[1;33m=\u001B[0m \u001B[0mgetattr\u001B[0m\u001B[1;33m(\u001B[0m\u001B[0mobj\u001B[0m\u001B[1;33m,\u001B[0m \u001B[0mself\u001B[0m\u001B[1;33m.\u001B[0m\u001B[0mname\u001B[0m\u001B[1;33m)\u001B[0m\u001B[1;33m\u001B[0m\u001B[1;33m\u001B[0m\u001B[0m\n\u001B[0;32m    549\u001B[0m                 self._dispatch_change_event(\n\u001B[1;32m--> 550\u001B[1;33m                     \u001B[0mobject\u001B[0m\u001B[1;33m,\u001B[0m \u001B[0mtrait_name\u001B[0m\u001B[1;33m,\u001B[0m \u001B[0mold\u001B[0m\u001B[1;33m,\u001B[0m \u001B[0mnew\u001B[0m\u001B[1;33m,\u001B[0m \u001B[0mlistener\u001B[0m\u001B[1;33m\u001B[0m\u001B[1;33m\u001B[0m\u001B[0m\n\u001B[0m\u001B[0;32m    551\u001B[0m                 )\n\u001B[0;32m    552\u001B[0m \u001B[1;33m\u001B[0m\u001B[0m\n",
      "\u001B[1;32mC:\\Users\\jf631\\.conda\\envs\\dev\\lib\\site-packages\\traits\\trait_notifiers.py\u001B[0m in \u001B[0;36m_dispatch_change_event\u001B[1;34m(self, object, trait_name, old, new, handler)\u001B[0m\n\u001B[0;32m    528\u001B[0m             \u001B[1;31m# This call needs to be made inside the `except` block in case\u001B[0m\u001B[1;33m\u001B[0m\u001B[1;33m\u001B[0m\u001B[1;33m\u001B[0m\u001B[0m\n\u001B[0;32m    529\u001B[0m             \u001B[1;31m# the handler wants to re-raise the exception.\u001B[0m\u001B[1;33m\u001B[0m\u001B[1;33m\u001B[0m\u001B[1;33m\u001B[0m\u001B[0m\n\u001B[1;32m--> 530\u001B[1;33m             \u001B[0mhandle_exception\u001B[0m\u001B[1;33m(\u001B[0m\u001B[0mobject\u001B[0m\u001B[1;33m,\u001B[0m \u001B[0mtrait_name\u001B[0m\u001B[1;33m,\u001B[0m \u001B[0mold\u001B[0m\u001B[1;33m,\u001B[0m \u001B[0mnew\u001B[0m\u001B[1;33m)\u001B[0m\u001B[1;33m\u001B[0m\u001B[1;33m\u001B[0m\u001B[0m\n\u001B[0m\u001B[0;32m    531\u001B[0m         \u001B[1;32melse\u001B[0m\u001B[1;33m:\u001B[0m\u001B[1;33m\u001B[0m\u001B[1;33m\u001B[0m\u001B[0m\n\u001B[0;32m    532\u001B[0m             \u001B[1;32mif\u001B[0m \u001B[0m_post_change_event_tracer\u001B[0m \u001B[1;32mis\u001B[0m \u001B[1;32mnot\u001B[0m \u001B[1;32mNone\u001B[0m\u001B[1;33m:\u001B[0m\u001B[1;33m\u001B[0m\u001B[1;33m\u001B[0m\u001B[0m\n",
      "\u001B[1;32mC:\\Users\\jf631\\.conda\\envs\\dev\\lib\\site-packages\\traits\\trait_notifiers.py\u001B[0m in \u001B[0;36m_handle_exception\u001B[1;34m(self, object, trait_name, old, new)\u001B[0m\n\u001B[0;32m    146\u001B[0m             \u001B[0mexcp\u001B[0m\u001B[1;33m,\u001B[0m \u001B[0mTraitNotificationError\u001B[0m\u001B[1;33m\u001B[0m\u001B[1;33m\u001B[0m\u001B[0m\n\u001B[0;32m    147\u001B[0m         ):\n\u001B[1;32m--> 148\u001B[1;33m             \u001B[1;32mraise\u001B[0m \u001B[0mexcp\u001B[0m\u001B[1;33m\u001B[0m\u001B[1;33m\u001B[0m\u001B[0m\n\u001B[0m\u001B[0;32m    149\u001B[0m \u001B[1;33m\u001B[0m\u001B[0m\n\u001B[0;32m    150\u001B[0m     \u001B[1;32mdef\u001B[0m \u001B[0m_get_handlers\u001B[0m\u001B[1;33m(\u001B[0m\u001B[0mself\u001B[0m\u001B[1;33m)\u001B[0m\u001B[1;33m:\u001B[0m\u001B[1;33m\u001B[0m\u001B[1;33m\u001B[0m\u001B[0m\n",
      "\u001B[1;32mC:\\Users\\jf631\\.conda\\envs\\dev\\lib\\site-packages\\traits\\trait_notifiers.py\u001B[0m in \u001B[0;36m_dispatch_change_event\u001B[1;34m(self, object, trait_name, old, new, handler)\u001B[0m\n\u001B[0;32m    520\u001B[0m         \u001B[1;31m# Dispatch the event to the listener.\u001B[0m\u001B[1;33m\u001B[0m\u001B[1;33m\u001B[0m\u001B[1;33m\u001B[0m\u001B[0m\n\u001B[0;32m    521\u001B[0m         \u001B[1;32mtry\u001B[0m\u001B[1;33m:\u001B[0m\u001B[1;33m\u001B[0m\u001B[1;33m\u001B[0m\u001B[0m\n\u001B[1;32m--> 522\u001B[1;33m             \u001B[0mself\u001B[0m\u001B[1;33m.\u001B[0m\u001B[0mdispatch\u001B[0m\u001B[1;33m(\u001B[0m\u001B[0mhandler\u001B[0m\u001B[1;33m,\u001B[0m \u001B[1;33m*\u001B[0m\u001B[0margs\u001B[0m\u001B[1;33m)\u001B[0m\u001B[1;33m\u001B[0m\u001B[1;33m\u001B[0m\u001B[0m\n\u001B[0m\u001B[0;32m    523\u001B[0m         \u001B[1;32mexcept\u001B[0m \u001B[0mException\u001B[0m \u001B[1;32mas\u001B[0m \u001B[0me\u001B[0m\u001B[1;33m:\u001B[0m\u001B[1;33m\u001B[0m\u001B[1;33m\u001B[0m\u001B[0m\n\u001B[0;32m    524\u001B[0m             \u001B[1;32mif\u001B[0m \u001B[0m_post_change_event_tracer\u001B[0m \u001B[1;32mis\u001B[0m \u001B[1;32mnot\u001B[0m \u001B[1;32mNone\u001B[0m\u001B[1;33m:\u001B[0m\u001B[1;33m\u001B[0m\u001B[1;33m\u001B[0m\u001B[0m\n",
      "\u001B[1;32mC:\\Users\\jf631\\.conda\\envs\\dev\\lib\\site-packages\\traits\\trait_notifiers.py\u001B[0m in \u001B[0;36mdispatch\u001B[1;34m(self, handler, *args)\u001B[0m\n\u001B[0;32m    482\u001B[0m         \u001B[0ma\u001B[0m \u001B[0msubclass\u001B[0m \u001B[0mto\u001B[0m \u001B[0mimplement\u001B[0m \u001B[0mthe\u001B[0m \u001B[0msubclass\u001B[0m\u001B[0;31m'\u001B[0m\u001B[0ms\u001B[0m \u001B[0mdispatch\u001B[0m \u001B[0mmechanism\u001B[0m\u001B[1;33m.\u001B[0m\u001B[1;33m\u001B[0m\u001B[1;33m\u001B[0m\u001B[0m\n\u001B[0;32m    483\u001B[0m         \"\"\"\n\u001B[1;32m--> 484\u001B[1;33m         \u001B[0mhandler\u001B[0m\u001B[1;33m(\u001B[0m\u001B[1;33m*\u001B[0m\u001B[0margs\u001B[0m\u001B[1;33m)\u001B[0m\u001B[1;33m\u001B[0m\u001B[1;33m\u001B[0m\u001B[0m\n\u001B[0m\u001B[0;32m    485\u001B[0m \u001B[1;33m\u001B[0m\u001B[0m\n\u001B[0;32m    486\u001B[0m     \u001B[1;32mdef\u001B[0m \u001B[0mequals\u001B[0m\u001B[1;33m(\u001B[0m\u001B[0mself\u001B[0m\u001B[1;33m,\u001B[0m \u001B[0mhandler\u001B[0m\u001B[1;33m)\u001B[0m\u001B[1;33m:\u001B[0m\u001B[1;33m\u001B[0m\u001B[1;33m\u001B[0m\u001B[0m\n",
      "\u001B[1;32mC:\\Users\\jf631\\Documents\\GitHub\\jordiferrero\\hyperspy\\hyperspy\\axes.py\u001B[0m in \u001B[0;36m_on_size_changed\u001B[1;34m(self)\u001B[0m\n\u001B[0;32m   1566\u001B[0m     \u001B[1;32mdef\u001B[0m \u001B[0m_on_size_changed\u001B[0m\u001B[1;33m(\u001B[0m\u001B[0mself\u001B[0m\u001B[1;33m)\u001B[0m\u001B[1;33m:\u001B[0m\u001B[1;33m\u001B[0m\u001B[1;33m\u001B[0m\u001B[0m\n\u001B[0;32m   1567\u001B[0m         \u001B[0mself\u001B[0m\u001B[1;33m.\u001B[0m\u001B[0m_update_attributes\u001B[0m\u001B[1;33m(\u001B[0m\u001B[1;33m)\u001B[0m\u001B[1;33m\u001B[0m\u001B[1;33m\u001B[0m\u001B[0m\n\u001B[1;32m-> 1568\u001B[1;33m         \u001B[0mself\u001B[0m\u001B[1;33m.\u001B[0m\u001B[0mevents\u001B[0m\u001B[1;33m.\u001B[0m\u001B[0many_axis_changed\u001B[0m\u001B[1;33m.\u001B[0m\u001B[0mtrigger\u001B[0m\u001B[1;33m(\u001B[0m\u001B[0mobj\u001B[0m\u001B[1;33m=\u001B[0m\u001B[0mself\u001B[0m\u001B[1;33m)\u001B[0m\u001B[1;33m\u001B[0m\u001B[1;33m\u001B[0m\u001B[0m\n\u001B[0m\u001B[0;32m   1569\u001B[0m \u001B[1;33m\u001B[0m\u001B[0m\n\u001B[0;32m   1570\u001B[0m     \u001B[1;32mdef\u001B[0m \u001B[0m_on_scale_changed\u001B[0m\u001B[1;33m(\u001B[0m\u001B[0mself\u001B[0m\u001B[1;33m)\u001B[0m\u001B[1;33m:\u001B[0m\u001B[1;33m\u001B[0m\u001B[1;33m\u001B[0m\u001B[0m\n",
      "\u001B[1;32mC:\\Users\\jf631\\Documents\\GitHub\\jordiferrero\\hyperspy\\hyperspy\\events.py\u001B[0m in \u001B[0;36mtrigger\u001B[1;34m(self, obj)\u001B[0m\n",
      "\u001B[1;32mC:\\Users\\jf631\\Documents\\GitHub\\jordiferrero\\hyperspy\\hyperspy\\events.py\u001B[0m in \u001B[0;36mtrigger\u001B[1;34m(self, **kwargs)\u001B[0m\n\u001B[0;32m    420\u001B[0m         \u001B[1;32mfor\u001B[0m \u001B[0mfunction\u001B[0m\u001B[1;33m,\u001B[0m \u001B[0mkwsl\u001B[0m \u001B[1;32min\u001B[0m \u001B[0mconnected_some\u001B[0m\u001B[1;33m:\u001B[0m\u001B[1;33m\u001B[0m\u001B[1;33m\u001B[0m\u001B[0m\n\u001B[0;32m    421\u001B[0m             \u001B[1;32mif\u001B[0m \u001B[0mfunction\u001B[0m \u001B[1;32mnot\u001B[0m \u001B[1;32min\u001B[0m \u001B[0mself\u001B[0m\u001B[1;33m.\u001B[0m\u001B[0m_suppressed_callbacks\u001B[0m\u001B[1;33m:\u001B[0m\u001B[1;33m\u001B[0m\u001B[1;33m\u001B[0m\u001B[0m\n\u001B[1;32m--> 422\u001B[1;33m                 \u001B[0mfunction\u001B[0m\u001B[1;33m(\u001B[0m\u001B[1;33m**\u001B[0m\u001B[1;33m{\u001B[0m\u001B[0mkw\u001B[0m\u001B[1;33m:\u001B[0m \u001B[0mkwargs\u001B[0m\u001B[1;33m.\u001B[0m\u001B[0mget\u001B[0m\u001B[1;33m(\u001B[0m\u001B[0mkw\u001B[0m\u001B[1;33m,\u001B[0m \u001B[1;32mNone\u001B[0m\u001B[1;33m)\u001B[0m \u001B[1;32mfor\u001B[0m \u001B[0mkw\u001B[0m \u001B[1;32min\u001B[0m \u001B[0mkwsl\u001B[0m\u001B[1;33m}\u001B[0m\u001B[1;33m)\u001B[0m\u001B[1;33m\u001B[0m\u001B[1;33m\u001B[0m\u001B[0m\n\u001B[0m\u001B[0;32m    423\u001B[0m         \u001B[1;32mfor\u001B[0m \u001B[0mfunction\u001B[0m\u001B[1;33m,\u001B[0m \u001B[0mkwsd\u001B[0m \u001B[1;32min\u001B[0m \u001B[0mconnected_map\u001B[0m\u001B[1;33m:\u001B[0m\u001B[1;33m\u001B[0m\u001B[1;33m\u001B[0m\u001B[0m\n\u001B[0;32m    424\u001B[0m             \u001B[1;32mif\u001B[0m \u001B[0mfunction\u001B[0m \u001B[1;32mnot\u001B[0m \u001B[1;32min\u001B[0m \u001B[0mself\u001B[0m\u001B[1;33m.\u001B[0m\u001B[0m_suppressed_callbacks\u001B[0m\u001B[1;33m:\u001B[0m\u001B[1;33m\u001B[0m\u001B[1;33m\u001B[0m\u001B[0m\n",
      "\u001B[1;32mC:\\Users\\jf631\\Documents\\GitHub\\jordiferrero\\hyperspy\\hyperspy\\interactive.py\u001B[0m in \u001B[0;36mrecompute_out\u001B[1;34m(self)\u001B[0m\n\u001B[0;32m    111\u001B[0m \u001B[1;33m\u001B[0m\u001B[0m\n\u001B[0;32m    112\u001B[0m     \u001B[1;32mdef\u001B[0m \u001B[0mrecompute_out\u001B[0m\u001B[1;33m(\u001B[0m\u001B[0mself\u001B[0m\u001B[1;33m)\u001B[0m\u001B[1;33m:\u001B[0m\u001B[1;33m\u001B[0m\u001B[1;33m\u001B[0m\u001B[0m\n\u001B[1;32m--> 113\u001B[1;33m         \u001B[0mout\u001B[0m \u001B[1;33m=\u001B[0m \u001B[0mself\u001B[0m\u001B[1;33m.\u001B[0m\u001B[0mf\u001B[0m\u001B[1;33m(\u001B[0m\u001B[1;33m*\u001B[0m\u001B[0mself\u001B[0m\u001B[1;33m.\u001B[0m\u001B[0margs\u001B[0m\u001B[1;33m,\u001B[0m \u001B[1;33m**\u001B[0m\u001B[0mself\u001B[0m\u001B[1;33m.\u001B[0m\u001B[0mkwargs\u001B[0m\u001B[1;33m)\u001B[0m\u001B[1;33m\u001B[0m\u001B[1;33m\u001B[0m\u001B[0m\n\u001B[0m\u001B[0;32m    114\u001B[0m         \u001B[1;32mif\u001B[0m \u001B[0mout\u001B[0m\u001B[1;33m.\u001B[0m\u001B[0mdata\u001B[0m\u001B[1;33m.\u001B[0m\u001B[0mshape\u001B[0m \u001B[1;33m==\u001B[0m \u001B[0mself\u001B[0m\u001B[1;33m.\u001B[0m\u001B[0mout\u001B[0m\u001B[1;33m.\u001B[0m\u001B[0mdata\u001B[0m\u001B[1;33m.\u001B[0m\u001B[0mshape\u001B[0m\u001B[1;33m:\u001B[0m\u001B[1;33m\u001B[0m\u001B[1;33m\u001B[0m\u001B[0m\n\u001B[0;32m    115\u001B[0m             \u001B[1;31m# Keep the same array if possible.\u001B[0m\u001B[1;33m\u001B[0m\u001B[1;33m\u001B[0m\u001B[1;33m\u001B[0m\u001B[0m\n",
      "\u001B[1;32mC:\\Users\\jf631\\Documents\\GitHub\\jordiferrero\\hyperspy\\hyperspy\\signal.py\u001B[0m in \u001B[0;36msum\u001B[1;34m(self, axis, out, rechunk)\u001B[0m\n\u001B[0;32m   3630\u001B[0m             \u001B[0maxis\u001B[0m \u001B[1;33m=\u001B[0m \u001B[0mself\u001B[0m\u001B[1;33m.\u001B[0m\u001B[0maxes_manager\u001B[0m\u001B[1;33m.\u001B[0m\u001B[0mnavigation_axes\u001B[0m\u001B[1;33m\u001B[0m\u001B[1;33m\u001B[0m\u001B[0m\n\u001B[0;32m   3631\u001B[0m \u001B[1;33m\u001B[0m\u001B[0m\n\u001B[1;32m-> 3632\u001B[1;33m         \u001B[0maxes\u001B[0m \u001B[1;33m=\u001B[0m \u001B[0mself\u001B[0m\u001B[1;33m.\u001B[0m\u001B[0maxes_manager\u001B[0m\u001B[1;33m[\u001B[0m\u001B[0maxis\u001B[0m\u001B[1;33m]\u001B[0m\u001B[1;33m\u001B[0m\u001B[1;33m\u001B[0m\u001B[0m\n\u001B[0m\u001B[0;32m   3633\u001B[0m         \u001B[1;32mif\u001B[0m \u001B[1;32mnot\u001B[0m \u001B[0mnp\u001B[0m\u001B[1;33m.\u001B[0m\u001B[0miterable\u001B[0m\u001B[1;33m(\u001B[0m\u001B[0maxes\u001B[0m\u001B[1;33m)\u001B[0m\u001B[1;33m:\u001B[0m\u001B[1;33m\u001B[0m\u001B[1;33m\u001B[0m\u001B[0m\n\u001B[0;32m   3634\u001B[0m             \u001B[0maxes\u001B[0m \u001B[1;33m=\u001B[0m \u001B[1;33m(\u001B[0m\u001B[0maxes\u001B[0m\u001B[1;33m,\u001B[0m\u001B[1;33m)\u001B[0m\u001B[1;33m\u001B[0m\u001B[1;33m\u001B[0m\u001B[0m\n",
      "\u001B[1;32mC:\\Users\\jf631\\Documents\\GitHub\\jordiferrero\\hyperspy\\hyperspy\\axes.py\u001B[0m in \u001B[0;36m__getitem__\u001B[1;34m(self, y)\u001B[0m\n\u001B[0;32m   1292\u001B[0m         \u001B[1;32mif\u001B[0m \u001B[0misinstance\u001B[0m\u001B[1;33m(\u001B[0m\u001B[0my\u001B[0m\u001B[1;33m,\u001B[0m \u001B[0mstr\u001B[0m\u001B[1;33m)\u001B[0m \u001B[1;32mor\u001B[0m \u001B[1;32mnot\u001B[0m \u001B[0mnp\u001B[0m\u001B[1;33m.\u001B[0m\u001B[0miterable\u001B[0m\u001B[1;33m(\u001B[0m\u001B[0my\u001B[0m\u001B[1;33m)\u001B[0m\u001B[1;33m:\u001B[0m\u001B[1;33m\u001B[0m\u001B[1;33m\u001B[0m\u001B[0m\n\u001B[0;32m   1293\u001B[0m             \u001B[1;32mreturn\u001B[0m \u001B[0mself\u001B[0m\u001B[1;33m[\u001B[0m\u001B[1;33m(\u001B[0m\u001B[0my\u001B[0m\u001B[1;33m,\u001B[0m\u001B[1;33m)\u001B[0m\u001B[1;33m]\u001B[0m\u001B[1;33m[\u001B[0m\u001B[1;36m0\u001B[0m\u001B[1;33m]\u001B[0m\u001B[1;33m\u001B[0m\u001B[1;33m\u001B[0m\u001B[0m\n\u001B[1;32m-> 1294\u001B[1;33m         \u001B[0maxes\u001B[0m \u001B[1;33m=\u001B[0m \u001B[1;33m[\u001B[0m\u001B[0mself\u001B[0m\u001B[1;33m.\u001B[0m\u001B[0m_axes_getter\u001B[0m\u001B[1;33m(\u001B[0m\u001B[0max\u001B[0m\u001B[1;33m)\u001B[0m \u001B[1;32mfor\u001B[0m \u001B[0max\u001B[0m \u001B[1;32min\u001B[0m \u001B[0my\u001B[0m\u001B[1;33m]\u001B[0m\u001B[1;33m\u001B[0m\u001B[1;33m\u001B[0m\u001B[0m\n\u001B[0m\u001B[0;32m   1295\u001B[0m         _, indices = np.unique(\n\u001B[0;32m   1296\u001B[0m             [_id for _id in map(id, axes)], return_index=True)\n",
      "\u001B[1;32mC:\\Users\\jf631\\Documents\\GitHub\\jordiferrero\\hyperspy\\hyperspy\\axes.py\u001B[0m in \u001B[0;36m<listcomp>\u001B[1;34m(.0)\u001B[0m\n\u001B[0;32m   1292\u001B[0m         \u001B[1;32mif\u001B[0m \u001B[0misinstance\u001B[0m\u001B[1;33m(\u001B[0m\u001B[0my\u001B[0m\u001B[1;33m,\u001B[0m \u001B[0mstr\u001B[0m\u001B[1;33m)\u001B[0m \u001B[1;32mor\u001B[0m \u001B[1;32mnot\u001B[0m \u001B[0mnp\u001B[0m\u001B[1;33m.\u001B[0m\u001B[0miterable\u001B[0m\u001B[1;33m(\u001B[0m\u001B[0my\u001B[0m\u001B[1;33m)\u001B[0m\u001B[1;33m:\u001B[0m\u001B[1;33m\u001B[0m\u001B[1;33m\u001B[0m\u001B[0m\n\u001B[0;32m   1293\u001B[0m             \u001B[1;32mreturn\u001B[0m \u001B[0mself\u001B[0m\u001B[1;33m[\u001B[0m\u001B[1;33m(\u001B[0m\u001B[0my\u001B[0m\u001B[1;33m,\u001B[0m\u001B[1;33m)\u001B[0m\u001B[1;33m]\u001B[0m\u001B[1;33m[\u001B[0m\u001B[1;36m0\u001B[0m\u001B[1;33m]\u001B[0m\u001B[1;33m\u001B[0m\u001B[1;33m\u001B[0m\u001B[0m\n\u001B[1;32m-> 1294\u001B[1;33m         \u001B[0maxes\u001B[0m \u001B[1;33m=\u001B[0m \u001B[1;33m[\u001B[0m\u001B[0mself\u001B[0m\u001B[1;33m.\u001B[0m\u001B[0m_axes_getter\u001B[0m\u001B[1;33m(\u001B[0m\u001B[0max\u001B[0m\u001B[1;33m)\u001B[0m \u001B[1;32mfor\u001B[0m \u001B[0max\u001B[0m \u001B[1;32min\u001B[0m \u001B[0my\u001B[0m\u001B[1;33m]\u001B[0m\u001B[1;33m\u001B[0m\u001B[1;33m\u001B[0m\u001B[0m\n\u001B[0m\u001B[0;32m   1295\u001B[0m         _, indices = np.unique(\n\u001B[0;32m   1296\u001B[0m             [_id for _id in map(id, axes)], return_index=True)\n",
      "\u001B[1;32mC:\\Users\\jf631\\Documents\\GitHub\\jordiferrero\\hyperspy\\hyperspy\\axes.py\u001B[0m in \u001B[0;36m_axes_getter\u001B[1;34m(self, y)\u001B[0m\n\u001B[0;32m   1308\u001B[0m                     \u001B[1;32mreturn\u001B[0m \u001B[0maxis\u001B[0m\u001B[1;33m\u001B[0m\u001B[1;33m\u001B[0m\u001B[0m\n\u001B[0;32m   1309\u001B[0m             \u001B[1;32mraise\u001B[0m \u001B[0mValueError\u001B[0m\u001B[1;33m(\u001B[0m\u001B[1;34m\"There is no DataAxis named %s\"\u001B[0m \u001B[1;33m%\u001B[0m \u001B[0my\u001B[0m\u001B[1;33m)\u001B[0m\u001B[1;33m\u001B[0m\u001B[1;33m\u001B[0m\u001B[0m\n\u001B[1;32m-> 1310\u001B[1;33m         elif (isfloat(y.real) and not y.real.is_integer() or\n\u001B[0m\u001B[0;32m   1311\u001B[0m                 isfloat(y.imag) and not y.imag.is_integer()):\n\u001B[0;32m   1312\u001B[0m             raise TypeError(\"axesmanager indices must be integers, \"\n",
      "\u001B[1;31mAttributeError\u001B[0m: 'UniformDataAxis' object has no attribute 'real'"
     ]
    }
   ],
   "source": [
    "cl_clean.to_eV()"
   ],
   "metadata": {
    "collapsed": false,
    "pycharm": {
     "name": "#%%\n"
    }
   }
  },
  {
   "cell_type": "code",
   "execution_count": 109,
   "outputs": [
    {
     "ename": "ValueError",
     "evalue": "axes don't match array",
     "output_type": "error",
     "traceback": [
      "\u001B[1;31m---------------------------------------------------------------------------\u001B[0m",
      "\u001B[1;31mValueError\u001B[0m                                Traceback (most recent call last)",
      "\u001B[1;32m<ipython-input-109-f966685e855c>\u001B[0m in \u001B[0;36m<module>\u001B[1;34m()\u001B[0m\n\u001B[1;32m----> 1\u001B[1;33m \u001B[0mcl_clean\u001B[0m\u001B[1;33m.\u001B[0m\u001B[0mplot\u001B[0m\u001B[1;33m(\u001B[0m\u001B[1;33m)\u001B[0m\u001B[1;33m\u001B[0m\u001B[1;33m\u001B[0m\u001B[0m\n\u001B[0m\u001B[0;32m      2\u001B[0m \u001B[1;33m\u001B[0m\u001B[0m\n",
      "\u001B[1;32mC:\\Users\\jf631\\Documents\\GitHub\\jordiferrero\\hyperspy\\hyperspy\\_signals\\signal1d.py\u001B[0m in \u001B[0;36mplot\u001B[1;34m(self, navigator, plot_markers, autoscale, norm, axes_manager, navigator_kwds, **kwargs)\u001B[0m\n\u001B[0;32m   1620\u001B[0m                      \u001B[0maxes_manager\u001B[0m\u001B[1;33m=\u001B[0m\u001B[0maxes_manager\u001B[0m\u001B[1;33m,\u001B[0m\u001B[1;33m\u001B[0m\u001B[1;33m\u001B[0m\u001B[0m\n\u001B[0;32m   1621\u001B[0m                      \u001B[0mnavigator_kwds\u001B[0m\u001B[1;33m=\u001B[0m\u001B[0mnavigator_kwds\u001B[0m\u001B[1;33m,\u001B[0m\u001B[1;33m\u001B[0m\u001B[1;33m\u001B[0m\u001B[0m\n\u001B[1;32m-> 1622\u001B[1;33m                      **kwargs)\n\u001B[0m\u001B[0;32m   1623\u001B[0m     plot.__doc__ %= (BASE_PLOT_DOCSTRING, BASE_PLOT_DOCSTRING_PARAMETERS,\n\u001B[0;32m   1624\u001B[0m                      PLOT1D_DOCSTRING)\n",
      "\u001B[1;32mC:\\Users\\jf631\\Documents\\GitHub\\jordiferrero\\hyperspy\\hyperspy\\signal.py\u001B[0m in \u001B[0;36mplot\u001B[1;34m(self, navigator, axes_manager, plot_markers, **kwargs)\u001B[0m\n\u001B[0;32m   2645\u001B[0m                         \u001B[0mnavigator\u001B[0m\u001B[1;33m.\u001B[0m\u001B[0mevents\u001B[0m\u001B[1;33m.\u001B[0m\u001B[0mdata_changed\u001B[0m\u001B[1;33m,\u001B[0m\u001B[1;33m\u001B[0m\u001B[1;33m\u001B[0m\u001B[0m\n\u001B[0;32m   2646\u001B[0m                         \u001B[0mnavigator\u001B[0m\u001B[1;33m.\u001B[0m\u001B[0maxes_manager\u001B[0m\u001B[1;33m.\u001B[0m\u001B[0mevents\u001B[0m\u001B[1;33m.\u001B[0m\u001B[0many_axis_changed\u001B[0m\u001B[1;33m,\u001B[0m\u001B[1;33m\u001B[0m\u001B[1;33m\u001B[0m\u001B[0m\n\u001B[1;32m-> 2647\u001B[1;33m                         (0, 1))\n\u001B[0m\u001B[0;32m   2648\u001B[0m             \u001B[1;32melse\u001B[0m\u001B[1;33m:\u001B[0m\u001B[1;33m\u001B[0m\u001B[1;33m\u001B[0m\u001B[0m\n\u001B[0;32m   2649\u001B[0m                 \u001B[0mnavigator\u001B[0m \u001B[1;33m=\u001B[0m \u001B[1;32mNone\u001B[0m\u001B[1;33m\u001B[0m\u001B[1;33m\u001B[0m\u001B[0m\n",
      "\u001B[1;32mC:\\Users\\jf631\\Documents\\GitHub\\jordiferrero\\hyperspy\\hyperspy\\interactive.py\u001B[0m in \u001B[0;36minteractive\u001B[1;34m(f, event, recompute_out_event, *args, **kwargs)\u001B[0m\n\u001B[0;32m    126\u001B[0m \u001B[1;33m\u001B[0m\u001B[0m\n\u001B[0;32m    127\u001B[0m \u001B[1;32mdef\u001B[0m \u001B[0minteractive\u001B[0m\u001B[1;33m(\u001B[0m\u001B[0mf\u001B[0m\u001B[1;33m,\u001B[0m \u001B[0mevent\u001B[0m\u001B[1;33m=\u001B[0m\u001B[1;34m\"auto\"\u001B[0m\u001B[1;33m,\u001B[0m \u001B[0mrecompute_out_event\u001B[0m\u001B[1;33m=\u001B[0m\u001B[1;34m\"auto\"\u001B[0m\u001B[1;33m,\u001B[0m \u001B[1;33m*\u001B[0m\u001B[0margs\u001B[0m\u001B[1;33m,\u001B[0m \u001B[1;33m**\u001B[0m\u001B[0mkwargs\u001B[0m\u001B[1;33m)\u001B[0m\u001B[1;33m:\u001B[0m\u001B[1;33m\u001B[0m\u001B[1;33m\u001B[0m\u001B[0m\n\u001B[1;32m--> 128\u001B[1;33m     \u001B[0mcls\u001B[0m \u001B[1;33m=\u001B[0m \u001B[0mInteractive\u001B[0m\u001B[1;33m(\u001B[0m\u001B[0mf\u001B[0m\u001B[1;33m,\u001B[0m \u001B[0mevent\u001B[0m\u001B[1;33m,\u001B[0m \u001B[0mrecompute_out_event\u001B[0m\u001B[1;33m,\u001B[0m \u001B[1;33m*\u001B[0m\u001B[0margs\u001B[0m\u001B[1;33m,\u001B[0m \u001B[1;33m**\u001B[0m\u001B[0mkwargs\u001B[0m\u001B[1;33m)\u001B[0m\u001B[1;33m\u001B[0m\u001B[1;33m\u001B[0m\u001B[0m\n\u001B[0m\u001B[0;32m    129\u001B[0m     \u001B[1;32mreturn\u001B[0m \u001B[0mcls\u001B[0m\u001B[1;33m.\u001B[0m\u001B[0mout\u001B[0m\u001B[1;33m\u001B[0m\u001B[1;33m\u001B[0m\u001B[0m\n\u001B[0;32m    130\u001B[0m \u001B[1;33m\u001B[0m\u001B[0m\n",
      "\u001B[1;32mC:\\Users\\jf631\\Documents\\GitHub\\jordiferrero\\hyperspy\\hyperspy\\interactive.py\u001B[0m in \u001B[0;36m__init__\u001B[1;34m(self, f, event, recompute_out_event, *args, **kwargs)\u001B[0m\n\u001B[0;32m     79\u001B[0m             \u001B[0mself\u001B[0m\u001B[1;33m.\u001B[0m\u001B[0mout\u001B[0m \u001B[1;33m=\u001B[0m \u001B[0mself\u001B[0m\u001B[1;33m.\u001B[0m\u001B[0mkwargs\u001B[0m\u001B[1;33m.\u001B[0m\u001B[0mpop\u001B[0m\u001B[1;33m(\u001B[0m\u001B[1;34m'out'\u001B[0m\u001B[1;33m)\u001B[0m\u001B[1;33m\u001B[0m\u001B[1;33m\u001B[0m\u001B[0m\n\u001B[0;32m     80\u001B[0m         \u001B[1;32melse\u001B[0m\u001B[1;33m:\u001B[0m\u001B[1;33m\u001B[0m\u001B[1;33m\u001B[0m\u001B[0m\n\u001B[1;32m---> 81\u001B[1;33m             \u001B[0mself\u001B[0m\u001B[1;33m.\u001B[0m\u001B[0mout\u001B[0m \u001B[1;33m=\u001B[0m \u001B[0mself\u001B[0m\u001B[1;33m.\u001B[0m\u001B[0mf\u001B[0m\u001B[1;33m(\u001B[0m\u001B[1;33m*\u001B[0m\u001B[0mself\u001B[0m\u001B[1;33m.\u001B[0m\u001B[0margs\u001B[0m\u001B[1;33m,\u001B[0m \u001B[1;33m**\u001B[0m\u001B[0mself\u001B[0m\u001B[1;33m.\u001B[0m\u001B[0mkwargs\u001B[0m\u001B[1;33m)\u001B[0m\u001B[1;33m\u001B[0m\u001B[1;33m\u001B[0m\u001B[0m\n\u001B[0m\u001B[0;32m     82\u001B[0m         \u001B[1;31m# Reuse the `_plot_kwargs` for the roi if available\u001B[0m\u001B[1;33m\u001B[0m\u001B[1;33m\u001B[0m\u001B[1;33m\u001B[0m\u001B[0m\n\u001B[0;32m     83\u001B[0m         \u001B[1;32mif\u001B[0m \u001B[0m_plot_kwargs\u001B[0m \u001B[1;32mand\u001B[0m \u001B[1;34m'signal'\u001B[0m \u001B[1;32min\u001B[0m \u001B[0mself\u001B[0m\u001B[1;33m.\u001B[0m\u001B[0mkwargs\u001B[0m\u001B[1;33m:\u001B[0m\u001B[1;33m\u001B[0m\u001B[1;33m\u001B[0m\u001B[0m\n",
      "\u001B[1;32mC:\\Users\\jf631\\Documents\\GitHub\\jordiferrero\\hyperspy\\hyperspy\\signal.py\u001B[0m in \u001B[0;36mas_signal2D\u001B[1;34m(self, image_axes, out, optimize)\u001B[0m\n\u001B[0;32m   5362\u001B[0m             raise DataDimensionError(\n\u001B[0;32m   5363\u001B[0m                 \"A Signal dimension must be >= 2 to be converted to a Signal2D\")\n\u001B[1;32m-> 5364\u001B[1;33m         \u001B[0mim\u001B[0m \u001B[1;33m=\u001B[0m \u001B[0mself\u001B[0m\u001B[1;33m.\u001B[0m\u001B[0mtranspose\u001B[0m\u001B[1;33m(\u001B[0m\u001B[0msignal_axes\u001B[0m\u001B[1;33m=\u001B[0m\u001B[0mimage_axes\u001B[0m\u001B[1;33m,\u001B[0m \u001B[0moptimize\u001B[0m\u001B[1;33m=\u001B[0m\u001B[0moptimize\u001B[0m\u001B[1;33m)\u001B[0m\u001B[1;33m\u001B[0m\u001B[1;33m\u001B[0m\u001B[0m\n\u001B[0m\u001B[0;32m   5365\u001B[0m         \u001B[1;32mif\u001B[0m \u001B[0mout\u001B[0m \u001B[1;32mis\u001B[0m \u001B[1;32mNone\u001B[0m\u001B[1;33m:\u001B[0m\u001B[1;33m\u001B[0m\u001B[1;33m\u001B[0m\u001B[0m\n\u001B[0;32m   5366\u001B[0m             \u001B[1;32mreturn\u001B[0m \u001B[0mim\u001B[0m\u001B[1;33m\u001B[0m\u001B[1;33m\u001B[0m\u001B[0m\n",
      "\u001B[1;32mC:\\Users\\jf631\\Documents\\GitHub\\jordiferrero\\hyperspy\\hyperspy\\signal.py\u001B[0m in \u001B[0;36mtranspose\u001B[1;34m(self, signal_axes, navigation_axes, optimize)\u001B[0m\n\u001B[0;32m   5949\u001B[0m             ax.index_in_array for ax in navigation_axes)\n\u001B[0;32m   5950\u001B[0m         \u001B[0marray_order\u001B[0m \u001B[1;33m+=\u001B[0m \u001B[0mtuple\u001B[0m\u001B[1;33m(\u001B[0m\u001B[0max\u001B[0m\u001B[1;33m.\u001B[0m\u001B[0mindex_in_array\u001B[0m \u001B[1;32mfor\u001B[0m \u001B[0max\u001B[0m \u001B[1;32min\u001B[0m \u001B[0msignal_axes\u001B[0m\u001B[1;33m)\u001B[0m\u001B[1;33m\u001B[0m\u001B[1;33m\u001B[0m\u001B[0m\n\u001B[1;32m-> 5951\u001B[1;33m         \u001B[0mnewdata\u001B[0m \u001B[1;33m=\u001B[0m \u001B[0mself\u001B[0m\u001B[1;33m.\u001B[0m\u001B[0mdata\u001B[0m\u001B[1;33m.\u001B[0m\u001B[0mtranspose\u001B[0m\u001B[1;33m(\u001B[0m\u001B[0marray_order\u001B[0m\u001B[1;33m)\u001B[0m\u001B[1;33m\u001B[0m\u001B[1;33m\u001B[0m\u001B[0m\n\u001B[0m\u001B[0;32m   5952\u001B[0m         \u001B[0mres\u001B[0m \u001B[1;33m=\u001B[0m \u001B[0mself\u001B[0m\u001B[1;33m.\u001B[0m\u001B[0m_deepcopy_with_new_data\u001B[0m\u001B[1;33m(\u001B[0m\u001B[0mnewdata\u001B[0m\u001B[1;33m,\u001B[0m \u001B[0mcopy_variance\u001B[0m\u001B[1;33m=\u001B[0m\u001B[1;32mTrue\u001B[0m\u001B[1;33m)\u001B[0m\u001B[1;33m\u001B[0m\u001B[1;33m\u001B[0m\u001B[0m\n\u001B[0;32m   5953\u001B[0m \u001B[1;33m\u001B[0m\u001B[0m\n",
      "\u001B[1;31mValueError\u001B[0m: axes don't match array"
     ]
    }
   ],
   "source": [
    "cl_clean.plot()"
   ],
   "metadata": {
    "collapsed": false,
    "pycharm": {
     "name": "#%%\n"
    }
   }
  },
  {
   "cell_type": "markdown",
   "source": [
    "## Post-processing\n",
    "\n",
    "Look for other `lumispy-demos` notebooks to find examples on fitting luminescence data.\n",
    "\n",
    "\n"
   ],
   "metadata": {
    "collapsed": false,
    "pycharm": {
     "name": "#%% md\n"
    }
   }
  }
 ],
 "metadata": {
  "kernelspec": {
   "name": "python3",
   "language": "python",
   "display_name": "Python 3"
  },
  "language_info": {
   "codemirror_mode": {
    "name": "ipython",
    "version": 3
   },
   "file_extension": ".py",
   "mimetype": "text/x-python",
   "name": "python",
   "nbconvert_exporter": "python",
   "pygments_lexer": "ipython3",
   "version": "3.6.9"
  }
 },
 "nbformat": 4,
 "nbformat_minor": 4
}