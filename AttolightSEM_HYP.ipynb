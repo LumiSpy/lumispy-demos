{
 "cells": [
  {
   "cell_type": "markdown",
   "metadata": {},
   "source": [
    "# Demo for LumiSpy package working with AttoLight SEM CL data\n",
    "\n",
    "This notebook shows:\n",
    "\n",
    "- Loading a `HYPCard.bin` file correctly with the lumispy load function\n",
    "- Plotting cathodoluminescence data in different ways\n",
    "- Dealing with metadata\n",
    "- Correcting for spectral defects"
   ]
  },
  {
   "cell_type": "markdown",
   "metadata": {},
   "source": [
    "Import packages:"
   ]
  },
  {
   "cell_type": "code",
   "execution_count": 1,
   "metadata": {},
   "outputs": [],
   "source": [
    "%matplotlib qt\n",
    "#For pop-up window plots, with interactive functionality. If error, use instead %matplotlib tk \n",
    "import lumispy as lum"
   ]
  },
  {
   "cell_type": "markdown",
   "metadata": {},
   "source": [
    "## Loading HYPCard files"
   ]
  },
  {
   "cell_type": "markdown",
   "metadata": {},
   "source": [
    "Use the `load_hypcard` function to load the AttoLight SEM specific files. State the relative path to the `HYPCard.bin` file.\n",
    "\n",
    "*You can also leave the path empty. A pop-up window will appear to select the `HYPCard.bin` file from the browser.*"
   ]
  },
  {
   "cell_type": "code",
   "execution_count": 18,
   "metadata": {},
   "outputs": [
    {
     "data": {
      "text/plain": "<CLSEMSpectrum, title: load_from_AttoLightSEM, dimensions: (64, 64|1024)>"
     },
     "execution_count": 18,
     "metadata": {},
     "output_type": "execute_result"
    }
   ],
   "source": [
    "path = \"demo-files/load_from_AttoLightSEM/HYPCard.bin\"\n",
    "cl_sem = lum.load(path)\n",
    "cl_sem"
   ]
  },
  {
   "cell_type": "code",
   "execution_count": 19,
   "metadata": {},
   "outputs": [],
   "source": [
    "cl_sem.plot()"
   ]
  },
  {
   "cell_type": "markdown",
   "metadata": {},
   "source": [
    "## Correction of spectral defects\n",
    "\n",
    "Let's start some post-processing methods."
   ]
  },
  {
   "cell_type": "markdown",
   "metadata": {},
   "source": [
    "### Background removal\n",
    "\n",
    "Check if a background was saved during image acquisiton (in the AttoLight system). If so, it has been stored automatically in the signal object.\n",
    "\n",
    "Otherwise, manually load a background file, using `np.loadtxt(path_to_file)`."
   ]
  },
  {
   "cell_type": "code",
   "execution_count": 20,
   "metadata": {},
   "outputs": [
    {
     "data": {
      "text/plain": "True"
     },
     "execution_count": 20,
     "metadata": {},
     "output_type": "execute_result"
    }
   ],
   "source": [
    "cl_sem.metadata.Signal.background is not None"
   ]
  },
  {
   "cell_type": "markdown",
   "metadata": {},
   "source": [
    "Run background subtraction. No arguments required if the background is stored in the signal object. Otherwise, a background array of shape `[wavelength, bacgkround intensity]` needs to be passed as a `background` argument.\n",
    "\n",
    "Optional arguments are `background`: to subtract an external background file, `inplace`: if `True` it will overwrite the original signal, if `False` if outputs a copy of the signal, with the background substracted (this is by default)."
   ]
  },
  {
   "cell_type": "code",
   "execution_count": 21,
   "metadata": {},
   "outputs": [
    {
     "data": {
      "text/plain": "HBox(children=(IntProgress(value=0, max=4096), HTML(value='')))",
      "application/vnd.jupyter.widget-view+json": {
       "version_major": 2,
       "version_minor": 0,
       "model_id": "b0dc55e6dc3a444e9d84febcb884691d"
      }
     },
     "metadata": {},
     "output_type": "display_data"
    }
   ],
   "source": [
    "cl_sem_bkg = cl_sem\n",
    "cl_sem_bkg = cl_sem.background_subtraction()"
   ]
  },
  {
   "cell_type": "markdown",
   "metadata": {},
   "source": [
    "### Correction of acquisition defects\n",
    "\n",
    "Correct for the intrinsic shift caused by the misalignment of the grating with the spectrometer aperture centre. For the AttoLight in Cambridge, we have created a function to correct for it"
   ]
  },
  {
   "cell_type": "code",
   "execution_count": 22,
   "metadata": {},
   "outputs": [
    {
     "data": {
      "text/plain": "HBox(children=(IntProgress(value=0, max=4096), HTML(value='')))",
      "application/vnd.jupyter.widget-view+json": {
       "version_major": 2,
       "version_minor": 0,
       "model_id": "74847218f4814b6b901ee4b176bed0ef"
      }
     },
     "metadata": {},
     "output_type": "display_data"
    }
   ],
   "source": [
    "cl_sem_bkg.correct_grating_shift()"
   ]
  },
  {
   "cell_type": "markdown",
   "metadata": {},
   "source": [
    "The edges of the scan get higher intensities, so they can be cropped. \n",
    "If you set the `inplace` parameter to `True` the original CLSEMSpectrum object will be modified, if `False` a cropped copy of it will be created."
   ]
  },
  {
   "cell_type": "code",
   "execution_count": 23,
   "metadata": {},
   "outputs": [],
   "source": [
    "cl_sem_bkg = cl_sem_bkg.crop_edges(crop_px=5)"
   ]
  },
  {
   "cell_type": "markdown",
   "metadata": {},
   "source": [
    "There are also corrections for the cosmic rays (pixels with sharp spikes):"
   ]
  },
  {
   "cell_type": "code",
   "execution_count": 24,
   "metadata": {},
   "outputs": [
    {
     "data": {
      "text/plain": "HBox(children=(IntProgress(value=0, max=2916), HTML(value='')))",
      "application/vnd.jupyter.widget-view+json": {
       "version_major": 2,
       "version_minor": 0,
       "model_id": "3adfe3f333e34ae081115431be689052"
      }
     },
     "metadata": {},
     "output_type": "display_data"
    }
   ],
   "source": [
    "cl_sem_bkg_spikes = cl_sem_bkg.cosmic_rays_subtraction(extra_percent=50)"
   ]
  },
  {
   "cell_type": "markdown",
   "metadata": {},
   "source": [
    "## Plotting data\n",
    "\n",
    "Plot the corrected data:"
   ]
  },
  {
   "cell_type": "code",
   "execution_count": 26,
   "outputs": [],
   "source": [
    "cl_sem_bkg_spikes.plot()"
   ],
   "metadata": {
    "collapsed": false,
    "pycharm": {
     "name": "#%%\n"
    }
   }
  },
  {
   "cell_type": "markdown",
   "metadata": {},
   "source": [
    "### Panchromatic image:"
   ]
  },
  {
   "cell_type": "code",
   "execution_count": 16,
   "metadata": {},
   "outputs": [],
   "source": [
    "cl_sem_bkg_spikes.T.mean().plot(cmap='viridis')"
   ]
  },
  {
   "cell_type": "markdown",
   "metadata": {},
   "source": [
    "Plot the average CL spectrum:"
   ]
  },
  {
   "cell_type": "code",
   "execution_count": 14,
   "metadata": {},
   "outputs": [],
   "source": [
    "cl_sem_bkg_spikes.mean().plot()"
   ]
  },
  {
   "cell_type": "markdown",
   "metadata": {},
   "source": [
    "### CL signal with the SEM image as navigator axis"
   ]
  },
  {
   "cell_type": "markdown",
   "metadata": {},
   "source": [
    "Plot with the SEM image instead of the panchromatic navigation image.\n",
    "\n",
    "*Note: if you cropped the edges before, you'll also need to crop the SEM image*"
   ]
  },
  {
   "cell_type": "code",
   "execution_count": 12,
   "metadata": {},
   "outputs": [],
   "source": [
    "#Find the folder, path of the SE_Scan file and load the file\n",
    "import os\n",
    "se_path = os.path.join(os.path.split(path)[0], \"SE_Scan*.png\")\n",
    "SE = lum.hyperspyload(se_path)"
   ]
  },
  {
   "cell_type": "code",
   "execution_count": 13,
   "metadata": {},
   "outputs": [],
   "source": [
    "#Crop the SEM image (if you have cropped the edges beforehand) and plot\n",
    "try:\n",
    "    crop = cl_sem_bkg_spikes.metadata.Signal.cropped_edges\n",
    "    size_x = cl_sem_bkg_spikes.metadata.Acquisition_instrument.SEM.resolution_x\n",
    "    size_y = cl_sem_bkg_spikes.metadata.Acquisition_instrument.SEM.resolution_x\n",
    "    SE = SE.isig[crop:size_x-crop, crop:size_y-crop]\n",
    "    cl_sem_bkg_spikes.plot(navigator=SE)\n",
    "#Simply plot with the SEM image\n",
    "except:\n",
    "    cl_sem_bkg_spikes.plot(navigator=SE)"
   ]
  },
  {
   "cell_type": "markdown",
   "metadata": {},
   "source": [
    "## Metadata\n",
    "\n",
    "All the microscope & spectrometer parameters are saved in the metadata, as well as the data processing steps applied. It can be assessed via:"
   ]
  },
  {
   "cell_type": "code",
   "execution_count": null,
   "metadata": {},
   "outputs": [],
   "source": [
    "cl_sem_bkg_spikes.metadata"
   ]
  },
  {
   "cell_type": "code",
   "execution_count": null,
   "metadata": {},
   "outputs": [],
   "source": []
  }
 ],
 "metadata": {
  "kernelspec": {
   "name": "python3",
   "language": "python",
   "display_name": "Python 3"
  },
  "language_info": {
   "codemirror_mode": {
    "name": "ipython",
    "version": 3
   },
   "file_extension": ".py",
   "mimetype": "text/x-python",
   "name": "python",
   "nbconvert_exporter": "python",
   "pygments_lexer": "ipython3",
   "version": "3.6.9"
  }
 },
 "nbformat": 4,
 "nbformat_minor": 4
}