{
 "cells": [
  {
   "cell_type": "markdown",
   "metadata": {},
   "source": [
    "# 01: General `lumispy` workflow\n",
    "\n",
    "## Energy conversion and model fitting\n",
    "\n",
    "This notebook shows:\n",
    "\n",
    "- Plotting cathodoluminescence data in different ways (and interactively)\n",
    "- Converting wavelength signal axis to energy signal axis\n",
    "(**If `non-uniform-axes` hyperspy branch is installed.**)\n",
    "- Gaussian fitting"
   ]
  },
  {
   "cell_type": "markdown",
   "metadata": {},
   "source": [
    "Import packages:"
   ]
  },
  {
   "cell_type": "code",
   "execution_count": 3,
   "metadata": {},
   "outputs": [
    {
     "name": "stderr",
     "output_type": "stream",
     "text": [
      "WARNING:hyperspy.api:The traitsui GUI elements are not available, probably because the hyperspy_gui_traitsui package is not installed.\n"
     ]
    }
   ],
   "source": [
    "%matplotlib qt\n",
    "#For pop-up window plots, with interactive functionality. If error, use instead %matplotlib tk \n",
    "import lumispy as lum\n",
    "import hyperspy.api as hs\n",
    "import os\n",
    "import matplotlib.pyplot as plt"
   ]
  },
  {
   "cell_type": "markdown",
   "metadata": {},
   "source": [
    "## Loading the pre-processed CL-SEM file"
   ]
  },
  {
   "cell_type": "markdown",
   "metadata": {},
   "source": [
    "Load the `.hspy` file, which has already been pre-processed (background subtracted, spike removed and spectral corrected). See microscope-specific tutorials on how to do that.\n",
    "\n",
    "*You can also leave the path empty. A pop-up window will appear to select the `.hspy` file from the browser.*"
   ]
  },
  {
   "cell_type": "code",
   "execution_count": 4,
   "metadata": {},
   "outputs": [
    {
     "name": "stdout",
     "output_type": "stream",
     "text": [
      "<CLSEMSpectrum, title: cathodoluminescence_example, dimensions: (40, 30|1015)>\n"
     ]
    }
   ],
   "source": [
    "# Load file\n",
    "path = os.path.relpath(\"demo-files/01/01_demo.hspy\")\n",
    "cl_sem = hs.load(path, signal_type='CL_SEM')\n",
    "\n",
    "print(cl_sem)"
   ]
  },
  {
   "cell_type": "code",
   "execution_count": 5,
   "metadata": {},
   "outputs": [
    {
     "data": {
      "text/plain": "├── Acquisition_instrument\n│   ├── CCD\n│   │   ├── amplification = 1\n│   │   ├── binning = 1\n│   │   ├── channels = 1024\n│   │   ├── exposure_time_s = 0.05\n│   │   └── readout_rate_khz = 1\n│   ├── SEM\n│   │   ├── FOV = 8356.175781\n│   │   ├── aperture_um = 100.0\n│   │   ├── beam_acc_voltage_kv = 6.003\n│   │   ├── chamber_pressure_torr = 1.1101e-07\n│   │   ├── dwell_time_scan_s = 0.050000000999999995\n│   │   ├── gun_lens_amps = 1.2\n│   │   ├── obj_lens_amps = 0.326228\n│   │   ├── real_magnification = 8356.1757\n│   │   ├── resolution_x = 256\n│   │   └── resolution_y = 256\n│   ├── Spectrometer\n│   │   ├── central_wavelength_nm = 500.0\n│   │   └── grating = 150.0\n│   └── acquisition_system = cambridge_uk_attolight\n├── General\n│   ├── folder_path = C:\\Users\\jf631\\Documents\\GitHub\\jordiferrero\\nanoDTC\\python_demo_notebooks\\luminescence_demos\\data\\cathodoluminescence_example\n│   └── title = cathodoluminescence_example\n└── Signal\n    ├── background = array([[224.11201, 224.65461, 225.1972 , ..., 771.68262, 772.21087,\n        77 ... 4.     , 654.     , 654.     , ..., 653.     , 654.     ,\n        654.     ]])\n    ├── binned = False\n    ├── cosmic_rays_subtracted_extra_percent = 50\n    ├── cropped_edges = 5\n    ├── grating_corrected = True\n    └── signal_type = CL_SEM",
      "text/html": "<ul style=\"margin: 0px; list-style-position: outside;\">\n                    <details open>\n                    <summary style=\"display: list-item;\">\n                    <li style=\"display: inline;\">\n                    Acquisition_instrument\n                    </li></summary>\n                    <ul style=\"margin: 0px; list-style-position: outside;\">\n                    <details closed>\n                    <summary style=\"display: list-item;\">\n                    <li style=\"display: inline;\">\n                    CCD\n                    </li></summary>\n                    \n    <ul style=\"margin: 0px; list-style-position: outside;\">\n    <li style='margin-left:1em; padding-left: 0.5em'>amplification = 1</li></ul>\n    \n    <ul style=\"margin: 0px; list-style-position: outside;\">\n    <li style='margin-left:1em; padding-left: 0.5em'>binning = 1</li></ul>\n    \n    <ul style=\"margin: 0px; list-style-position: outside;\">\n    <li style='margin-left:1em; padding-left: 0.5em'>channels = 1024</li></ul>\n    \n    <ul style=\"margin: 0px; list-style-position: outside;\">\n    <li style='margin-left:1em; padding-left: 0.5em'>exposure_time_s = 0.05</li></ul>\n    \n    <ul style=\"margin: 0px; list-style-position: outside;\">\n    <li style='margin-left:1em; padding-left: 0.5em'>readout_rate_khz = 1</li></ul>\n    </details></ul><ul style=\"margin: 0px; list-style-position: outside;\">\n                    <details closed>\n                    <summary style=\"display: list-item;\">\n                    <li style=\"display: inline;\">\n                    SEM\n                    </li></summary>\n                    \n    <ul style=\"margin: 0px; list-style-position: outside;\">\n    <li style='margin-left:1em; padding-left: 0.5em'>FOV = 8356.175781</li></ul>\n    \n    <ul style=\"margin: 0px; list-style-position: outside;\">\n    <li style='margin-left:1em; padding-left: 0.5em'>aperture_um = 100.0</li></ul>\n    \n    <ul style=\"margin: 0px; list-style-position: outside;\">\n    <li style='margin-left:1em; padding-left: 0.5em'>beam_acc_voltage_kv = 6.003</li></ul>\n    \n    <ul style=\"margin: 0px; list-style-position: outside;\">\n    <li style='margin-left:1em; padding-left: 0.5em'>chamber_pressure_torr = 1.1101e-07</li></ul>\n    \n    <ul style=\"margin: 0px; list-style-position: outside;\">\n    <li style='margin-left:1em; padding-left: 0.5em'>dwell_time_scan_s = 0.050000000999999995</li></ul>\n    \n    <ul style=\"margin: 0px; list-style-position: outside;\">\n    <li style='margin-left:1em; padding-left: 0.5em'>gun_lens_amps = 1.2</li></ul>\n    \n    <ul style=\"margin: 0px; list-style-position: outside;\">\n    <li style='margin-left:1em; padding-left: 0.5em'>obj_lens_amps = 0.326228</li></ul>\n    \n    <ul style=\"margin: 0px; list-style-position: outside;\">\n    <li style='margin-left:1em; padding-left: 0.5em'>real_magnification = 8356.1757</li></ul>\n    \n    <ul style=\"margin: 0px; list-style-position: outside;\">\n    <li style='margin-left:1em; padding-left: 0.5em'>resolution_x = 256</li></ul>\n    \n    <ul style=\"margin: 0px; list-style-position: outside;\">\n    <li style='margin-left:1em; padding-left: 0.5em'>resolution_y = 256</li></ul>\n    </details></ul><ul style=\"margin: 0px; list-style-position: outside;\">\n                    <details closed>\n                    <summary style=\"display: list-item;\">\n                    <li style=\"display: inline;\">\n                    Spectrometer\n                    </li></summary>\n                    \n    <ul style=\"margin: 0px; list-style-position: outside;\">\n    <li style='margin-left:1em; padding-left: 0.5em'>central_wavelength_nm = 500.0</li></ul>\n    \n    <ul style=\"margin: 0px; list-style-position: outside;\">\n    <li style='margin-left:1em; padding-left: 0.5em'>grating = 150.0</li></ul>\n    </details></ul>\n    <ul style=\"margin: 0px; list-style-position: outside;\">\n    <li style='margin-left:1em; padding-left: 0.5em'>acquisition_system = cambridge_uk_attolight</li></ul>\n    </details></ul><ul style=\"margin: 0px; list-style-position: outside;\">\n                    <details open>\n                    <summary style=\"display: list-item;\">\n                    <li style=\"display: inline;\">\n                    General\n                    </li></summary>\n                    \n    <ul style=\"margin: 0px; list-style-position: outside;\">\n    <li style='margin-left:1em; padding-left: 0.5em'>folder_path = C:\\Users\\jf631\\Documents\\GitHub\\jordiferrero\\nanoDTC\\python_demo_notebooks\\luminescence_demos\\data\\cathodoluminescence_example</li></ul>\n    \n    <ul style=\"margin: 0px; list-style-position: outside;\">\n    <li style='margin-left:1em; padding-left: 0.5em'>title = cathodoluminescence_example</li></ul>\n    </details></ul><ul style=\"margin: 0px; list-style-position: outside;\">\n                    <details open>\n                    <summary style=\"display: list-item;\">\n                    <li style=\"display: inline;\">\n                    Signal\n                    </li></summary>\n                    \n    <ul style=\"margin: 0px; list-style-position: outside;\">\n    <li style='margin-left:1em; padding-left: 0.5em'>background = array([[224.11201, 224.65461, 225.1972 , ..., 771.68262, 772.21087,\n        77 ... 4.     , 654.     , 654.     , ..., 653.     , 654.     ,\n        654.     ]])</li></ul>\n    \n    <ul style=\"margin: 0px; list-style-position: outside;\">\n    <li style='margin-left:1em; padding-left: 0.5em'>binned = False</li></ul>\n    \n    <ul style=\"margin: 0px; list-style-position: outside;\">\n    <li style='margin-left:1em; padding-left: 0.5em'>cosmic_rays_subtracted_extra_percent = 50</li></ul>\n    \n    <ul style=\"margin: 0px; list-style-position: outside;\">\n    <li style='margin-left:1em; padding-left: 0.5em'>cropped_edges = 5</li></ul>\n    \n    <ul style=\"margin: 0px; list-style-position: outside;\">\n    <li style='margin-left:1em; padding-left: 0.5em'>grating_corrected = True</li></ul>\n    \n    <ul style=\"margin: 0px; list-style-position: outside;\">\n    <li style='margin-left:1em; padding-left: 0.5em'>signal_type = CL_SEM</li></ul>\n    </details></ul>"
     },
     "execution_count": 5,
     "metadata": {},
     "output_type": "execute_result"
    }
   ],
   "source": [
    "cl_sem.metadata"
   ]
  },
  {
   "cell_type": "markdown",
   "metadata": {},
   "source": [
    "## Plotting data\n",
    "\n",
    "Plot the hyperspectral data:"
   ]
  },
  {
   "cell_type": "code",
   "execution_count": 6,
   "outputs": [],
   "source": [
    "cl_sem.plot()"
   ],
   "metadata": {
    "collapsed": false,
    "pycharm": {
     "name": "#%%\n"
    }
   }
  },
  {
   "cell_type": "markdown",
   "metadata": {},
   "source": [
    "Plot the average CL spectrum:"
   ]
  },
  {
   "cell_type": "code",
   "execution_count": 7,
   "metadata": {},
   "outputs": [],
   "source": [
    "cl_sem.mean().plot()"
   ]
  },
  {
   "cell_type": "markdown",
   "source": [
    "### Chromatic imaging:\n",
    "\n",
    "Plot the panchromatic image:"
   ],
   "metadata": {
    "collapsed": false
   }
  },
  {
   "cell_type": "code",
   "metadata": {
    "pycharm": {
     "name": "#%%\n"
    }
   },
   "source": [
    "cl_sem.T.mean().plot(cmap='viridis')"
   ],
   "execution_count": 8,
   "outputs": []
  },
  {
   "cell_type": "markdown",
   "source": [
    "Get the colour filtered panchromatic images.\n",
    "Select the energy region to plot as coloured image interactively."
   ],
   "metadata": {
    "collapsed": false,
    "pycharm": {
     "name": "#%% md\n"
    }
   }
  },
  {
   "cell_type": "code",
   "execution_count": 9,
   "outputs": [],
   "source": [
    "im = cl_sem.T\n",
    "im.plot()\n",
    "roi1 = hs.roi.SpanROI(left=455, right=485) #sets a digitalbandfilter\n",
    "im_roi1 = roi1.interactive(im, color=\"red\")\n",
    "im_roi1_mean = hs.interactive(im_roi1.mean,\n",
    "                          event=roi1.events.changed,\n",
    "                          recompute_out_event=None)\n",
    "im_roi1_mean.plot(cmap='viridis')"
   ],
   "metadata": {
    "collapsed": false,
    "pycharm": {
     "name": "#%%\n"
    }
   }
  },
  {
   "cell_type": "code",
   "execution_count": 11,
   "outputs": [],
   "source": [
    "im_filtered = roi1(im).mean()\n",
    "\n",
    "roi_width = roi1.right - roi1.left\n",
    "roi_centre = roi1.left + 0.5* roi_width\n",
    "\n",
    "im_filtered.metadata.General.title = \"Colour filtered image of {:.0f} $\\pm$ {:.0f} nm\".format(roi_centre, roi_width)\n",
    "im_filtered.plot(cmap='viridis')"
   ],
   "metadata": {
    "collapsed": false,
    "pycharm": {
     "name": "#%%\n"
    }
   }
  },
  {
   "cell_type": "markdown",
   "source": [
    "## Wavelength to energy conversion\n",
    "\n",
    "If you have installed the `non-uniform-axes` development hyperspy version, this will work:"
   ],
   "metadata": {
    "collapsed": false,
    "pycharm": {
     "name": "#%% md\n"
    }
   }
  },
  {
   "cell_type": "code",
   "execution_count": 12,
   "outputs": [
    {
     "name": "stderr",
     "output_type": "stream",
     "text": [
      "C:\\Users\\jf631\\miniconda3\\envs\\lumispy\\lib\\site-packages\\hyperspy\\signal.py:3664: UserWarning: You are summing over a non-uniform axis. The result can not be used as an approximation of the integral of the signal. For this functionality, use integrate1D instead.\n",
      "  warnings.warn(\"You are summing over a non-uniform axis. The result \"\n"
     ]
    }
   ],
   "source": [
    "cl_sem_eV = cl_sem.to_eV(inplace=False)\n",
    "cl_sem_eV.plot()"
   ],
   "metadata": {
    "collapsed": false,
    "pycharm": {
     "name": "#%%\n"
    }
   }
  },
  {
   "cell_type": "markdown",
   "source": [
    "## Fitting Gaussian\n",
    "\n",
    "Select the starting parameters"
   ],
   "metadata": {
    "collapsed": false
   }
  },
  {
   "cell_type": "code",
   "execution_count": 13,
   "outputs": [
    {
     "name": "stderr",
     "output_type": "stream",
     "text": [
      "C:\\Users\\jf631\\miniconda3\\envs\\lumispy\\lib\\site-packages\\hyperspy\\signal.py:3664: UserWarning: You are summing over a non-uniform axis. The result can not be used as an approximation of the integral of the signal. For this functionality, use integrate1D instead.\n",
      "  warnings.warn(\"You are summing over a non-uniform axis. The result \"\n"
     ]
    }
   ],
   "source": [
    "cl_sem_eV.plot()"
   ],
   "metadata": {
    "collapsed": false,
    "pycharm": {
     "name": "#%%\n"
    }
   }
  },
  {
   "cell_type": "code",
   "execution_count": 17,
   "outputs": [],
   "source": [
    "####################################\n",
    "#MODEL\n",
    "g1_centre = 2.4   # Guess for centre wavelength\n",
    "g1_max = g1_centre + 0.2      # Max value for centre wavelength\n",
    "g1_min = g1_centre - 0.2     # Min value for centre wavelength\n",
    "\n",
    "g1_fwhm = 0.1            #Guess for FWHM\n",
    "g1_fwhm_max = 0.5       #Maxvalue for FWHM\n",
    "g1_fwhm_min = 0.01         #Minvalue for FWHM\n",
    "\n",
    "g1_h = 5           #Guess for peak Intensity\n",
    "g1_h_max = 50      #Maxvalue for peak Intesity\n",
    "g1_h_min = 0         #Minvalue for peak Intensity\n",
    "\n",
    "bkg_offset = 1  #Background to be substracted"
   ],
   "metadata": {
    "collapsed": false,
    "pycharm": {
     "name": "#%%\n"
    }
   }
  },
  {
   "cell_type": "code",
   "execution_count": 18,
   "outputs": [],
   "source": [
    "m = cl_sem_eV.create_model()\n",
    "\n",
    "#Background offset\n",
    "bkg = hs.model.components1D.Offset()\n",
    "#Gaussian peak\n",
    "g1 = hs.model.components1D.Expression(\n",
    "expression=\"height * exp(-(x - x0) ** 2 * 4 * log(2)/ fwhm ** 2)\",\n",
    "name=\"Perovskite Peak\",\n",
    "position=\"x0\",\n",
    "height=1,\n",
    "fwhm=1,\n",
    "x0=0,\n",
    "module=\"numpy\")\n",
    "#Tweak guessed initial parameters\n",
    "m.extend([g1, bkg])\n",
    "g1.x0.value, g1.x0.bmax, g1.x0.bmin = g1_centre, g1_max, g1_min\n",
    "g1.fwhm.value, g1.fwhm.bmax, g1.fwhm.bmin = g1_fwhm, g1_fwhm_max, g1_fwhm_min\n",
    "g1.height.value, g1.height.bmax, g1.height.bmin = g1_h, g1_h_max, g1_h_min\n",
    "bkg.offset.value = bkg_offset"
   ],
   "metadata": {
    "collapsed": false,
    "pycharm": {
     "name": "#%%\n"
    }
   }
  },
  {
   "cell_type": "markdown",
   "source": [
    "Fit all pixels. `iterpath` sets a continuous trail of fitting (without jumps from line to next)."
   ],
   "metadata": {
    "collapsed": false,
    "pycharm": {
     "name": "#%% md\n"
    }
   }
  },
  {
   "cell_type": "code",
   "execution_count": 20,
   "outputs": [
    {
     "data": {
      "text/plain": "HBox(children=(HTML(value=''), FloatProgress(value=0.0, max=1200.0), HTML(value='')))",
      "application/vnd.jupyter.widget-view+json": {
       "version_major": 2,
       "version_minor": 0,
       "model_id": "d1a06dd0ab114bcaaf5e0f296b28071c"
      }
     },
     "metadata": {},
     "output_type": "display_data"
    },
    {
     "name": "stdout",
     "output_type": "stream",
     "text": [
      "\n"
     ]
    }
   ],
   "source": [
    "#Fit for all the positions\n",
    "m.multifit(bounded=True, show_progressbar=True, iterpath='serpentine')"
   ],
   "metadata": {
    "collapsed": false,
    "pycharm": {
     "name": "#%%\n"
    }
   }
  },
  {
   "cell_type": "code",
   "execution_count": 21,
   "outputs": [
    {
     "data": {
      "text/plain": "Model1D: cathodoluminescence_example\ncurrent_component_values: Perovskite Peak\nActive: True\nParameter Name |  Free |      Value |        Std |        Min |        Max\n============== | ===== | ========== | ========== | ========== | ==========\n          fwhm |  True | 0.11405884 | 0.02670640 |       0.01 |        0.5\n        height |  True | 0.37886470 | 0.07592118 |        0.0 |       50.0\n            x0 |  True | 2.41620713 | 0.01114461 | 2.19999999 |        2.6\n\ncurrent_component_values: Offset\nActive: True\nParameter Name |  Free |      Value |        Std |        Min |        Max\n============== | ===== | ========== | ========== | ========== | ==========\n        offset |  True | -0.0231957 | 0.01193021 |       None |       None\n",
      "text/html": "<h4>Model1D: cathodoluminescence_example</h4><p><b>current_component_values: Perovskite Peak</b><br />Active: True</p><table style=\"width:100%\"><tr><th>Parameter Name</th><th>Free</th>\n            <th>Value</th><th>Std</th><th>Min</th><th>Max</th></tr><tr><td>fwhm</td><td>True</td><td>0.114059</td>\n                    <td>0.0267064</td><td>  0.01</td><td>   0.5</td></tr><tr><td>height</td><td>True</td><td>0.378865</td>\n                    <td>0.0759212</td><td>     0</td><td>    50</td></tr><tr><td>x0</td><td>True</td><td>2.41621</td>\n                    <td>0.0111446</td><td>   2.2</td><td>   2.6</td></tr></table><p><b>current_component_values: Offset</b><br />Active: True</p><table style=\"width:100%\"><tr><th>Parameter Name</th><th>Free</th>\n            <th>Value</th><th>Std</th><th>Min</th><th>Max</th></tr><tr><td>offset</td><td>True</td><td>-0.0231958</td>\n                    <td>0.0119302</td><td></td><td></td></tr></table>"
     },
     "metadata": {},
     "output_type": "display_data"
    }
   ],
   "source": [
    "m.print_current_values()"
   ],
   "metadata": {
    "collapsed": false,
    "pycharm": {
     "name": "#%%\n"
    }
   }
  },
  {
   "cell_type": "code",
   "execution_count": 22,
   "outputs": [
    {
     "name": "stderr",
     "output_type": "stream",
     "text": [
      "C:\\Users\\jf631\\miniconda3\\envs\\lumispy\\lib\\site-packages\\hyperspy\\signal.py:3664: UserWarning: You are summing over a non-uniform axis. The result can not be used as an approximation of the integral of the signal. For this functionality, use integrate1D instead.\n",
      "  warnings.warn(\"You are summing over a non-uniform axis. The result \"\n"
     ]
    }
   ],
   "source": [
    "#Plot the fit on the raw data\n",
    "m.plot(plot_components=True)"
   ],
   "metadata": {
    "collapsed": false,
    "pycharm": {
     "name": "#%%\n"
    }
   }
  },
  {
   "cell_type": "code",
   "execution_count": 23,
   "outputs": [],
   "source": [
    "m_x0 = g1.x0.as_signal()\n",
    "m_x0.plot(cmap='inferno')\n",
    "m_intensity = g1.height.as_signal()\n",
    "m_intensity.plot(cmap='viridis')"
   ],
   "metadata": {
    "collapsed": false,
    "pycharm": {
     "name": "#%%\n"
    }
   }
  },
  {
   "cell_type": "markdown",
   "source": [
    "### Particle segmentation\n",
    "You can do particle segmentation using model fitting:"
   ],
   "metadata": {
    "collapsed": false
   }
  },
  {
   "cell_type": "code",
   "execution_count": 24,
   "outputs": [
    {
     "data": {
      "text/plain": "<matplotlib.image.AxesImage at 0x154b90eb8c8>"
     },
     "execution_count": 24,
     "metadata": {},
     "output_type": "execute_result"
    }
   ],
   "source": [
    "#Make mask to remove region where the intensity is below the mean value:\n",
    "mask_treshold = m_intensity.data.mean()\n",
    "mask = m_intensity.data > mask_treshold #Returns a boolean matrix mask\n",
    "plt.imshow(mask)\n"
   ],
   "metadata": {
    "collapsed": false,
    "pycharm": {
     "name": "#%%\n"
    }
   }
  },
  {
   "cell_type": "markdown",
   "source": [
    "## END\n"
   ],
   "metadata": {
    "collapsed": false,
    "pycharm": {
     "name": "#%% md\n"
    }
   }
  }
 ],
 "metadata": {
  "kernelspec": {
   "name": "python3",
   "language": "python",
   "display_name": "Python 3"
  },
  "language_info": {
   "codemirror_mode": {
    "name": "ipython",
    "version": 3
   },
   "file_extension": ".py",
   "mimetype": "text/x-python",
   "name": "python",
   "nbconvert_exporter": "python",
   "pygments_lexer": "ipython3",
   "version": "3.6.9"
  }
 },
 "nbformat": 4,
 "nbformat_minor": 4
}