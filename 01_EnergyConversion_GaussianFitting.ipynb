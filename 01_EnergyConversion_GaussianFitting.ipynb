{
 "cells": [
  {
   "cell_type": "markdown",
   "metadata": {},
   "source": [
    "# 01: General `lumispy` workflow\n",
    "## Energy conversion and model fitting\n",
    "\n",
    "This notebook shows:\n",
    "\n",
    "- Plotting cathodoluminescence data in different ways\n",
    "- Converting wavelength signal axis to energy signal axis\n",
    "(**If `non-uniform-axes` hyperspy branch is installed.**)\n",
    "- Gaussian fitting"
   ]
  },
  {
   "cell_type": "markdown",
   "metadata": {},
   "source": [
    "Import packages:"
   ]
  },
  {
   "cell_type": "code",
   "execution_count": 2,
   "metadata": {},
   "outputs": [],
   "source": [
    "%matplotlib qt\n",
    "#For pop-up window plots, with interactive functionality. If error, use instead %matplotlib tk \n",
    "import lumispy as lum\n",
    "import os\n",
    "import matplotlib.pyplot as plt"
   ]
  },
  {
   "cell_type": "markdown",
   "metadata": {},
   "source": [
    "## Loading the pre-processed CL-SEM file"
   ]
  },
  {
   "cell_type": "markdown",
   "metadata": {},
   "source": [
    "Load the `.hspy` file, which has already been pre-processed (background subtracted, spike removed and spectral corrected)\n",
    "\n",
    "*You can also leave the path empty. A pop-up window will appear to select the `.hspy` file from the browser.*"
   ]
  },
  {
   "cell_type": "code",
   "execution_count": 3,
   "metadata": {},
   "outputs": [
    {
     "name": "stdout",
     "output_type": "stream",
     "text": [
      "<CLSEMSpectrum, title: cathodoluminescence_example, dimensions: (40, 30|1015)>\n"
     ]
    }
   ],
   "source": [
    "# Load file\n",
    "path = os.path.relpath(\"demo-files/01/01_demo.hspy\")\n",
    "file = lum.load(path)\n",
    "axes = (file.axes_manager.navigation_axes[1].get_axis_dictionary(),\n",
    "        file.axes_manager.navigation_axes[0].get_axis_dictionary(),\n",
    "        file.axes_manager.signal_axes[0].get_axis_dictionary()\n",
    "        )\n",
    "\n",
    "# Create the CL_SEM object with the file data and metadata\n",
    "cl_sem = lum.signals.cl_sem_spectrum.CLSEMSpectrum(file, axes=axes)\n",
    "cl_sem.metadata = file.metadata\n",
    "print(cl_sem)"
   ]
  },
  {
   "cell_type": "code",
   "execution_count": 4,
   "metadata": {},
   "outputs": [
    {
     "data": {
      "text/plain": "├── Acquisition_instrument\n│   ├── CCD\n│   │   ├── amplification = 1\n│   │   ├── binning = 1\n│   │   ├── channels = 1024\n│   │   ├── exposure_time_s = 0.05\n│   │   └── readout_rate_khz = 1\n│   ├── SEM\n│   │   ├── FOV = 8356.175781\n│   │   ├── aperture_um = 100.0\n│   │   ├── beam_acc_voltage_kv = 6.003\n│   │   ├── chamber_pressure_torr = 1.1101e-07\n│   │   ├── dwell_time_scan_s = 0.050000000999999995\n│   │   ├── gun_lens_amps = 1.2\n│   │   ├── obj_lens_amps = 0.326228\n│   │   ├── real_magnification = 8356.1757\n│   │   ├── resolution_x = 256\n│   │   └── resolution_y = 256\n│   ├── Spectrometer\n│   │   ├── central_wavelength_nm = 500.0\n│   │   └── grating = 150.0\n│   └── acquisition_system = cambridge_uk_attolight\n├── General\n│   ├── folder_path = C:\\Users\\jf631\\Documents\\GitHub\\jordiferrero\\nanoDTC\\python_demo_notebooks\\luminescence_demos\\data\\cathodoluminescence_example\n│   └── title = cathodoluminescence_example\n└── Signal\n    ├── background = array([[224.11201, 224.65461, 225.1972 , ..., 771.68262, 772.21087,\n        77 ... 4.     , 654.     , 654.     , ..., 653.     , 654.     ,\n        654.     ]])\n    ├── binned = False\n    ├── cosmic_rays_subtracted_extra_percent = 50\n    ├── cropped_edges = 5\n    ├── grating_corrected = True\n    └── signal_type = CL_SEM",
      "text/html": "<ul style=\"margin: 0px; list-style-position: outside;\">\n                    <details open>\n                    <summary style=\"display: list-item;\">\n                    <li style=\"display: inline;\">\n                    Acquisition_instrument\n                    </li></summary>\n                    <ul style=\"margin: 0px; list-style-position: outside;\">\n                    <details closed>\n                    <summary style=\"display: list-item;\">\n                    <li style=\"display: inline;\">\n                    CCD\n                    </li></summary>\n                    \n    <ul style=\"margin: 0px; list-style-position: outside;\">\n    <li style='margin-left:1em; padding-left: 0.5em'>amplification = 1</li></ul>\n    \n    <ul style=\"margin: 0px; list-style-position: outside;\">\n    <li style='margin-left:1em; padding-left: 0.5em'>binning = 1</li></ul>\n    \n    <ul style=\"margin: 0px; list-style-position: outside;\">\n    <li style='margin-left:1em; padding-left: 0.5em'>channels = 1024</li></ul>\n    \n    <ul style=\"margin: 0px; list-style-position: outside;\">\n    <li style='margin-left:1em; padding-left: 0.5em'>exposure_time_s = 0.05</li></ul>\n    \n    <ul style=\"margin: 0px; list-style-position: outside;\">\n    <li style='margin-left:1em; padding-left: 0.5em'>readout_rate_khz = 1</li></ul>\n    </details></ul><ul style=\"margin: 0px; list-style-position: outside;\">\n                    <details closed>\n                    <summary style=\"display: list-item;\">\n                    <li style=\"display: inline;\">\n                    SEM\n                    </li></summary>\n                    \n    <ul style=\"margin: 0px; list-style-position: outside;\">\n    <li style='margin-left:1em; padding-left: 0.5em'>FOV = 8356.175781</li></ul>\n    \n    <ul style=\"margin: 0px; list-style-position: outside;\">\n    <li style='margin-left:1em; padding-left: 0.5em'>aperture_um = 100.0</li></ul>\n    \n    <ul style=\"margin: 0px; list-style-position: outside;\">\n    <li style='margin-left:1em; padding-left: 0.5em'>beam_acc_voltage_kv = 6.003</li></ul>\n    \n    <ul style=\"margin: 0px; list-style-position: outside;\">\n    <li style='margin-left:1em; padding-left: 0.5em'>chamber_pressure_torr = 1.1101e-07</li></ul>\n    \n    <ul style=\"margin: 0px; list-style-position: outside;\">\n    <li style='margin-left:1em; padding-left: 0.5em'>dwell_time_scan_s = 0.050000000999999995</li></ul>\n    \n    <ul style=\"margin: 0px; list-style-position: outside;\">\n    <li style='margin-left:1em; padding-left: 0.5em'>gun_lens_amps = 1.2</li></ul>\n    \n    <ul style=\"margin: 0px; list-style-position: outside;\">\n    <li style='margin-left:1em; padding-left: 0.5em'>obj_lens_amps = 0.326228</li></ul>\n    \n    <ul style=\"margin: 0px; list-style-position: outside;\">\n    <li style='margin-left:1em; padding-left: 0.5em'>real_magnification = 8356.1757</li></ul>\n    \n    <ul style=\"margin: 0px; list-style-position: outside;\">\n    <li style='margin-left:1em; padding-left: 0.5em'>resolution_x = 256</li></ul>\n    \n    <ul style=\"margin: 0px; list-style-position: outside;\">\n    <li style='margin-left:1em; padding-left: 0.5em'>resolution_y = 256</li></ul>\n    </details></ul><ul style=\"margin: 0px; list-style-position: outside;\">\n                    <details closed>\n                    <summary style=\"display: list-item;\">\n                    <li style=\"display: inline;\">\n                    Spectrometer\n                    </li></summary>\n                    \n    <ul style=\"margin: 0px; list-style-position: outside;\">\n    <li style='margin-left:1em; padding-left: 0.5em'>central_wavelength_nm = 500.0</li></ul>\n    \n    <ul style=\"margin: 0px; list-style-position: outside;\">\n    <li style='margin-left:1em; padding-left: 0.5em'>grating = 150.0</li></ul>\n    </details></ul>\n    <ul style=\"margin: 0px; list-style-position: outside;\">\n    <li style='margin-left:1em; padding-left: 0.5em'>acquisition_system = cambridge_uk_attolight</li></ul>\n    </details></ul><ul style=\"margin: 0px; list-style-position: outside;\">\n                    <details open>\n                    <summary style=\"display: list-item;\">\n                    <li style=\"display: inline;\">\n                    General\n                    </li></summary>\n                    \n    <ul style=\"margin: 0px; list-style-position: outside;\">\n    <li style='margin-left:1em; padding-left: 0.5em'>folder_path = C:\\Users\\jf631\\Documents\\GitHub\\jordiferrero\\nanoDTC\\python_demo_notebooks\\luminescence_demos\\data\\cathodoluminescence_example</li></ul>\n    \n    <ul style=\"margin: 0px; list-style-position: outside;\">\n    <li style='margin-left:1em; padding-left: 0.5em'>title = cathodoluminescence_example</li></ul>\n    </details></ul><ul style=\"margin: 0px; list-style-position: outside;\">\n                    <details open>\n                    <summary style=\"display: list-item;\">\n                    <li style=\"display: inline;\">\n                    Signal\n                    </li></summary>\n                    \n    <ul style=\"margin: 0px; list-style-position: outside;\">\n    <li style='margin-left:1em; padding-left: 0.5em'>background = array([[224.11201, 224.65461, 225.1972 , ..., 771.68262, 772.21087,\n        77 ... 4.     , 654.     , 654.     , ..., 653.     , 654.     ,\n        654.     ]])</li></ul>\n    \n    <ul style=\"margin: 0px; list-style-position: outside;\">\n    <li style='margin-left:1em; padding-left: 0.5em'>binned = False</li></ul>\n    \n    <ul style=\"margin: 0px; list-style-position: outside;\">\n    <li style='margin-left:1em; padding-left: 0.5em'>cosmic_rays_subtracted_extra_percent = 50</li></ul>\n    \n    <ul style=\"margin: 0px; list-style-position: outside;\">\n    <li style='margin-left:1em; padding-left: 0.5em'>cropped_edges = 5</li></ul>\n    \n    <ul style=\"margin: 0px; list-style-position: outside;\">\n    <li style='margin-left:1em; padding-left: 0.5em'>grating_corrected = True</li></ul>\n    \n    <ul style=\"margin: 0px; list-style-position: outside;\">\n    <li style='margin-left:1em; padding-left: 0.5em'>signal_type = CL_SEM</li></ul>\n    </details></ul>"
     },
     "execution_count": 4,
     "metadata": {},
     "output_type": "execute_result"
    }
   ],
   "source": [
    "cl_sem.metadata"
   ]
  },
  {
   "cell_type": "markdown",
   "metadata": {},
   "source": [
    "## Plotting data\n",
    "\n",
    "Plot the hyperspectral data:"
   ]
  },
  {
   "cell_type": "code",
   "execution_count": 5,
   "outputs": [],
   "source": [
    "cl_sem.plot()"
   ],
   "metadata": {
    "collapsed": false,
    "pycharm": {
     "name": "#%%\n"
    }
   }
  },
  {
   "cell_type": "markdown",
   "metadata": {},
   "source": [
    "Plot the average CL spectrum:"
   ]
  },
  {
   "cell_type": "code",
   "execution_count": 6,
   "metadata": {},
   "outputs": [],
   "source": [
    "cl_sem.mean().plot()"
   ]
  },
  {
   "cell_type": "markdown",
   "source": [
    "### Chromatic imaging:\n",
    "\n",
    "Plot the panchromatic image:"
   ],
   "metadata": {
    "collapsed": false
   }
  },
  {
   "cell_type": "code",
   "metadata": {
    "pycharm": {
     "name": "#%%\n"
    }
   },
   "source": [
    "cl_sem.T.mean().plot(cmap='viridis')"
   ],
   "execution_count": 7,
   "outputs": []
  },
  {
   "cell_type": "markdown",
   "source": [
    "Get the colour filtered panchromatic images.\n",
    "Select the energy region to plot as coloured image."
   ],
   "metadata": {
    "collapsed": false,
    "pycharm": {
     "name": "#%% md\n"
    }
   }
  },
  {
   "cell_type": "code",
   "execution_count": 8,
   "outputs": [],
   "source": [
    "import hyperspy.api as hs\n",
    "\n",
    "im = cl_sem.T\n",
    "im.plot()\n",
    "roi1 = hs.roi.SpanROI(left=452, right=634)      #sets a digitalbandfilter\n",
    "im_roi1 = roi1.interactive(im, color=\"green\")"
   ],
   "metadata": {
    "collapsed": false,
    "pycharm": {
     "name": "#%%\n"
    }
   }
  },
  {
   "cell_type": "code",
   "execution_count": 9,
   "outputs": [],
   "source": [
    "im_filtered = roi1(im).mean()\n",
    "\n",
    "roi_width = roi1.right - roi1.left\n",
    "roi_centre = roi1.left + 0.5* roi_width\n",
    "\n",
    "im_filtered.metadata.General.title = \"Colour filtered image of {:.0f} $\\pm$ {:.0f} nm\".format(roi_centre, roi_width)\n",
    "im_filtered.plot(cmap='viridis')"
   ],
   "metadata": {
    "collapsed": false,
    "pycharm": {
     "name": "#%%\n"
    }
   }
  },
  {
   "cell_type": "markdown",
   "source": [
    "## Wavelength to energy conversion\n",
    "\n",
    "If you have installed the `non-uniform-axes` development hyperspy version, this will work:"
   ],
   "metadata": {
    "collapsed": false,
    "pycharm": {
     "name": "#%% md\n"
    }
   }
  },
  {
   "cell_type": "code",
   "execution_count": 11,
   "outputs": [
    {
     "ename": "NotImplementedError",
     "evalue": "Conversion to energy axis works only if the non_uniform_axis branch of hyperspy is used.",
     "output_type": "error",
     "traceback": [
      "\u001B[1;31m---------------------------------------------------------------------------\u001B[0m",
      "\u001B[1;31mNotImplementedError\u001B[0m                       Traceback (most recent call last)",
      "\u001B[1;32m<ipython-input-11-d1c7027f6ce5>\u001B[0m in \u001B[0;36m<module>\u001B[1;34m\u001B[0m\n\u001B[1;32m----> 1\u001B[1;33m \u001B[0mcl_sem_eV\u001B[0m \u001B[1;33m=\u001B[0m \u001B[0mcl_sem\u001B[0m\u001B[1;33m.\u001B[0m\u001B[0mto_eV\u001B[0m\u001B[1;33m(\u001B[0m\u001B[0minplace\u001B[0m\u001B[1;33m=\u001B[0m\u001B[1;32mFalse\u001B[0m\u001B[1;33m)\u001B[0m\u001B[1;33m\u001B[0m\u001B[1;33m\u001B[0m\u001B[0m\n\u001B[0m\u001B[0;32m      2\u001B[0m \u001B[0mcl_sem_eV\u001B[0m\u001B[1;33m.\u001B[0m\u001B[0mplot\u001B[0m\u001B[1;33m(\u001B[0m\u001B[1;33m)\u001B[0m\u001B[1;33m\u001B[0m\u001B[1;33m\u001B[0m\u001B[0m\n\u001B[0;32m      3\u001B[0m \u001B[1;33m\u001B[0m\u001B[0m\n",
      "\u001B[1;32m~\\Documents\\GitHub\\jordiferrero\\lumispy\\lumispy\\signals\\luminescence_spectrum.py\u001B[0m in \u001B[0;36mto_eV\u001B[1;34m(self, inplace, jacobian)\u001B[0m\n\u001B[0;32m     76\u001B[0m         \u001B[1;31m# Check if non_uniform_axis is available in hyperspy version\u001B[0m\u001B[1;33m\u001B[0m\u001B[1;33m\u001B[0m\u001B[1;33m\u001B[0m\u001B[0m\n\u001B[0;32m     77\u001B[0m         \u001B[1;32mif\u001B[0m \u001B[1;32mnot\u001B[0m \u001B[1;34m'axis'\u001B[0m \u001B[1;32min\u001B[0m \u001B[0mgetfullargspec\u001B[0m\u001B[1;33m(\u001B[0m\u001B[0mDataAxis\u001B[0m\u001B[1;33m)\u001B[0m\u001B[1;33m[\u001B[0m\u001B[1;36m0\u001B[0m\u001B[1;33m]\u001B[0m\u001B[1;33m:\u001B[0m\u001B[1;33m\u001B[0m\u001B[1;33m\u001B[0m\u001B[0m\n\u001B[1;32m---> 78\u001B[1;33m             raise NotImplementedError('Conversion to energy axis works only '\n\u001B[0m\u001B[0;32m     79\u001B[0m                          'if the non_uniform_axis branch of hyperspy is used.')\n\u001B[0;32m     80\u001B[0m \u001B[1;33m\u001B[0m\u001B[0m\n",
      "\u001B[1;31mNotImplementedError\u001B[0m: Conversion to energy axis works only if the non_uniform_axis branch of hyperspy is used."
     ]
    }
   ],
   "source": [
    "cl_sem_eV = cl_sem.to_eV(inplace=False)\n",
    "cl_sem_eV.plot()"
   ],
   "metadata": {
    "collapsed": false,
    "pycharm": {
     "name": "#%%\n"
    }
   }
  },
  {
   "cell_type": "markdown",
   "source": [
    "## Fitting Gaussian\n",
    "\n",
    "Select the starting parameters"
   ],
   "metadata": {
    "collapsed": false
   }
  },
  {
   "cell_type": "code",
   "execution_count": 12,
   "outputs": [],
   "source": [
    "cl_sem.plot()"
   ],
   "metadata": {
    "collapsed": false,
    "pycharm": {
     "name": "#%%\n"
    }
   }
  },
  {
   "cell_type": "code",
   "execution_count": 13,
   "outputs": [],
   "source": [
    "####################################\n",
    "#MODEL\n",
    "g1_centre = 513   # Guess for centre wavelength\n",
    "g1_max = g1_centre + 20      # Max value for centre wavelength\n",
    "g1_min = g1_centre - 20      # Min value for centre wavelength\n",
    "\n",
    "g1_fwhm = 50            #Guess for FWHM\n",
    "g1_fwhm_max = 150       #Maxvalue for FWHM\n",
    "g1_fwhm_min = 1         #Minvalue for FWHM\n",
    "\n",
    "g1_h = 15           #Guess for peak Intensity\n",
    "g1_h_max = 40      #Maxvalue for peak Intesity\n",
    "g1_h_min = 0         #Minvalue for peak Intensity\n",
    "\n",
    "bkg_offset = 650  #Background to be substracted"
   ],
   "metadata": {
    "collapsed": false,
    "pycharm": {
     "name": "#%%\n"
    }
   }
  },
  {
   "cell_type": "code",
   "execution_count": 14,
   "outputs": [],
   "source": [
    "m = cl_sem.create_model()\n",
    "\n",
    "#Background offset\n",
    "bkg = hs.model.components1D.Offset()\n",
    "#Gaussian peak\n",
    "g1 = hs.model.components1D.Expression(\n",
    "expression=\"height * exp(-(x - x0) ** 2 * 4 * log(2)/ fwhm ** 2)\",\n",
    "name=\"Perovskite Peak\",\n",
    "position=\"x0\",\n",
    "height=1,\n",
    "fwhm=1,\n",
    "x0=0,\n",
    "module=\"numpy\")\n",
    "#Tweak guessed initial parameters\n",
    "m.extend([g1, bkg])\n",
    "g1.x0.value, g1.x0.bmax, g1.x0.bmin = g1_centre, g1_max, g1_min\n",
    "g1.fwhm.value, g1.fwhm.bmax, g1.fwhm.bmin = g1_fwhm, g1_fwhm_max, g1_fwhm_min\n",
    "g1.height.value, g1.height.bmax, g1.height.bmin = g1_h, g1_h_max, g1_h_min\n",
    "bkg.offset.value = bkg_offset"
   ],
   "metadata": {
    "collapsed": false,
    "pycharm": {
     "name": "#%%\n"
    }
   }
  },
  {
   "cell_type": "code",
   "execution_count": 15,
   "outputs": [
    {
     "name": "stderr",
     "output_type": "stream",
     "text": [
      "C:\\Users\\jf631\\Documents\\GitHub\\jordiferrero\\hyperspy\\hyperspy\\model.py:1328: VisibleDeprecationWarning: The `iterpath` default will change from `'flyback'` to `'serpentine'`in HyperSpy version 2.0. Change `iterpath` to other than None to suppress thiswarning.\n",
      "  warnings.warn(msg, VisibleDeprecationWarning)\n"
     ]
    },
    {
     "data": {
      "text/plain": "HBox(children=(IntProgress(value=0, max=1200), HTML(value='')))",
      "application/vnd.jupyter.widget-view+json": {
       "version_major": 2,
       "version_minor": 0,
       "model_id": "90efd89864294451a694f810340144d1"
      }
     },
     "metadata": {},
     "output_type": "display_data"
    },
    {
     "name": "stdout",
     "output_type": "stream",
     "text": [
      "\n"
     ]
    }
   ],
   "source": [
    "#Fit for all the positions\n",
    "m.multifit(bounded=True, show_progressbar=True)"
   ],
   "metadata": {
    "collapsed": false,
    "pycharm": {
     "name": "#%%\n"
    }
   }
  },
  {
   "cell_type": "code",
   "execution_count": 16,
   "outputs": [
    {
     "data": {
      "text/plain": "Model1D: cathodoluminescence_example\ncurrent_component_values: Perovskite Peak\nActive: True\nParameter Name |  Free |      Value |        Std |        Min |        Max\n============== | ===== | ========== | ========== | ========== | ==========\n          fwhm |  True | 8.71710645 | 4.58140317 |        1.0 |      150.0\n        height |  True | 1.16193845 | 0.52666414 |        0.0 |       40.0\n            x0 |  True | 522.988267 | 1.93341849 |      493.0 |      533.0\n\ncurrent_component_values: Offset\nActive: True\nParameter Name |  Free |      Value |        Std |        Min |        Max\n============== | ===== | ========== | ========== | ========== | ==========\n        offset |  True | -0.1450904 | 0.04813265 |       None |       None\n",
      "text/html": "<h4>Model1D: cathodoluminescence_example</h4><p><b>current_component_values: Perovskite Peak</b><br />Active: True</p><table style=\"width:100%\"><tr><th>Parameter Name</th><th>Free</th>\n            <th>Value</th><th>Std</th><th>Min</th><th>Max</th></tr><tr><td>fwhm</td><td>True</td><td>8.71711</td>\n                    <td>4.5814</td><td>     1</td><td>   150</td></tr><tr><td>height</td><td>True</td><td>1.16194</td>\n                    <td>0.526664</td><td></td><td>    40</td></tr><tr><td>x0</td><td>True</td><td>522.988</td>\n                    <td>1.93342</td><td>   493</td><td>   533</td></tr></table><p><b>current_component_values: Offset</b><br />Active: True</p><table style=\"width:100%\"><tr><th>Parameter Name</th><th>Free</th>\n            <th>Value</th><th>Std</th><th>Min</th><th>Max</th></tr><tr><td>offset</td><td>True</td><td>-0.14509</td>\n                    <td>0.0481327</td><td></td><td></td></tr></table>"
     },
     "metadata": {},
     "output_type": "display_data"
    }
   ],
   "source": [
    "m.print_current_values()"
   ],
   "metadata": {
    "collapsed": false,
    "pycharm": {
     "name": "#%%\n"
    }
   }
  },
  {
   "cell_type": "code",
   "execution_count": 17,
   "outputs": [],
   "source": [
    "#Plot the fit on the raw data\n",
    "m.plot(plot_components=True)"
   ],
   "metadata": {
    "collapsed": false,
    "pycharm": {
     "name": "#%%\n"
    }
   }
  },
  {
   "cell_type": "code",
   "execution_count": 18,
   "outputs": [],
   "source": [
    "m_x0 = g1.x0.as_signal()\n",
    "m_x0.plot(cmap='inferno')\n",
    "m_intensity = g1.height.as_signal()\n",
    "m_intensity.plot(cmap='viridis')"
   ],
   "metadata": {
    "collapsed": false,
    "pycharm": {
     "name": "#%%\n"
    }
   }
  },
  {
   "cell_type": "markdown",
   "source": [
    "### Particle segmentation\n",
    "You can do particle segmentation using model fitting:"
   ],
   "metadata": {
    "collapsed": false
   }
  },
  {
   "cell_type": "code",
   "execution_count": 22,
   "outputs": [
    {
     "data": {
      "text/plain": "<matplotlib.image.AxesImage at 0x2b1c43cb400>"
     },
     "execution_count": 22,
     "metadata": {},
     "output_type": "execute_result"
    }
   ],
   "source": [
    "#Make mask to remove region where the intensity is below the mean value:\n",
    "mask_treshold = m_intensity.data.mean()\n",
    "mask = m_intensity.data > mask_treshold #Returns a boolean matrix mask\n",
    "plt.imshow(mask)\n"
   ],
   "metadata": {
    "collapsed": false,
    "pycharm": {
     "name": "#%%\n"
    }
   }
  },
  {
   "cell_type": "markdown",
   "source": [
    "## END\n"
   ],
   "metadata": {
    "collapsed": false,
    "pycharm": {
     "name": "#%% md\n"
    }
   }
  }
 ],
 "metadata": {
  "kernelspec": {
   "name": "python3",
   "language": "python",
   "display_name": "Python 3"
  },
  "language_info": {
   "codemirror_mode": {
    "name": "ipython",
    "version": 3
   },
   "file_extension": ".py",
   "mimetype": "text/x-python",
   "name": "python",
   "nbconvert_exporter": "python",
   "pygments_lexer": "ipython3",
   "version": "3.6.9"
  }
 },
 "nbformat": 4,
 "nbformat_minor": 4
}