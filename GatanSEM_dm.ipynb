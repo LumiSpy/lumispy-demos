{
 "cells": [
  {
   "cell_type": "markdown",
   "metadata": {},
   "source": [
    "# Demo for LumiSpy package working with Gatan SEM CL data\n",
    "\n",
    "This notebook shows:\n",
    "\n",
    "- Loading a `.dm4/.dm3` file correctly with the LumiSpy load function\n",
    "- Plotting cathodoluminescence data in different ways\n",
    "- Correcting for spectral artefacts"
   ]
  },
  {
   "cell_type": "markdown",
   "metadata": {},
   "source": [
    "Import packages:"
   ]
  },
  {
   "cell_type": "code",
   "execution_count": null,
   "metadata": {},
   "outputs": [],
   "source": [
    "%matplotlib widget \n",
    "# Use '%matplotlib widget' in JupterLab and '%matplotlib notebook' in JupyterNotebook for interactive inline functionality (e.g. on binder)\n",
    "#For pop-up window plots on your local computer, use '%matplotlib tk' or '%matplotlib qt' instead\n",
    "import lumispy as lum\n",
    "import hyperspy.api as hs"
   ]
  },
  {
   "cell_type": "markdown",
   "metadata": {},
   "source": [
    "## Loading .dm4/dm3 files\n",
    "\n",
    "Use the HyperSpy `load` function to load Gatan cathodoluminescence spectrum or spectrum image files.\n",
    "State the relative path to the `Test-spectrum_ZnO-NWs.dm4` file."
   ]
  },
  {
   "cell_type": "code",
   "execution_count": null,
   "metadata": {},
   "outputs": [],
   "source": [
    "# Single spectrum\n",
    "cl_spec = hs.load('demo-files/load_from_GatanFiles/Test-spectrum_ZnO-NWs.dm4')"
   ]
  },
  {
   "cell_type": "markdown",
   "metadata": {},
   "source": [
    "The `signal_type` is automatically recognized as `CL` and the data is saved as a `CLSpectrum` object."
   ]
  },
  {
   "cell_type": "code",
   "execution_count": null,
   "metadata": {},
   "outputs": [],
   "source": [
    "cl_spec"
   ]
  },
  {
   "cell_type": "markdown",
   "metadata": {},
   "source": [
    "If you prefer to use the `CLSEMSpectrum` subclass, you can change the signal_type:"
   ]
  },
  {
   "cell_type": "code",
   "execution_count": null,
   "metadata": {},
   "outputs": [],
   "source": [
    "cl_spec.set_signal_type('CL_SEM')"
   ]
  },
  {
   "cell_type": "code",
   "execution_count": null,
   "metadata": {},
   "outputs": [],
   "source": [
    "cl_spec"
   ]
  },
  {
   "cell_type": "code",
   "execution_count": null,
   "metadata": {},
   "outputs": [],
   "source": [
    "cl_spec.plot()"
   ]
  },
  {
   "cell_type": "markdown",
   "metadata": {},
   "source": [
    "#### Convert from wavelength to energy axis\n",
    "\n",
    "This will work only if you have installed the `non-uniform-axes` HyperSpy development branch (https://github.com/hyperspy/hyperspy/tree/non_uniform_axes):"
   ]
  },
  {
   "cell_type": "code",
   "execution_count": null,
   "metadata": {},
   "outputs": [],
   "source": [
    "cl_spec.to_eV(inplace=True) # replaces the original signal"
   ]
  },
  {
   "cell_type": "code",
   "execution_count": null,
   "metadata": {},
   "outputs": [],
   "source": [
    "cl_spec.plot()"
   ]
  },
  {
   "cell_type": "markdown",
   "metadata": {},
   "source": [
    "### Loading a spectral image\n",
    "\n",
    "Loads a linescan (navigation dimension = 1 and signal dimension = 1)"
   ]
  },
  {
   "cell_type": "code",
   "execution_count": null,
   "metadata": {},
   "outputs": [],
   "source": [
    "cl_linescan = hs.load('demo-files/load_from_GatanFiles/Test-linescan_InGaAs-NWs.dm4')"
   ]
  },
  {
   "cell_type": "markdown",
   "metadata": {},
   "source": [
    "Plot the data, to change the position of the displayed spectrum, drag the line on the navigator or use `left` and `right` arrow keys:"
   ]
  },
  {
   "cell_type": "code",
   "execution_count": null,
   "metadata": {},
   "outputs": [],
   "source": [
    "cl_linescan.plot()"
   ]
  },
  {
   "cell_type": "markdown",
   "metadata": {},
   "source": [
    "## Correction of spectral defects\n",
    "\n",
    "Let's start by removing a simple offset as the signal background:\n",
    "1. Select a region to be used to determine the background: On the signal plot click, drag and release\n",
    "2. You can still move the region or it's boundaries with the mouse and inspect the different spectra using the navigator to make sure the region is right\n",
    "3. Press `Apply`"
   ]
  },
  {
   "cell_type": "code",
   "execution_count": null,
   "metadata": {},
   "outputs": [],
   "source": [
    "cl_linescan.plot()\n",
    "cl_linescan.remove_background(background_type=\"Offset\")"
   ]
  },
  {
   "cell_type": "markdown",
   "metadata": {},
   "source": [
    "There is also a tool for interactive removal of cosmic rays (pixels with sharp spikes), see `Help` for instructions:\n",
    "\n",
    "- TODO: choose data file which includes several spikes"
   ]
  },
  {
   "cell_type": "code",
   "execution_count": null,
   "metadata": {},
   "outputs": [],
   "source": [
    "cl_linescan.plot()\n",
    "cl_linescan.spikes_removal_tool()"
   ]
  },
  {
   "cell_type": "markdown",
   "metadata": {},
   "source": [
    "## Working with the metadata\n",
    "\n",
    "All the microscope & some spectrometer parameters are saved in the metadata (note that currently the Gatan microscope parameters are saved under `TEM` even if acquired with an SEM).\n",
    "\n",
    "Metadata can be accessed via (you can expand/close the nodes by clicking on them):"
   ]
  },
  {
   "cell_type": "code",
   "execution_count": null,
   "metadata": {},
   "outputs": [],
   "source": [
    "cl_spec.metadata"
   ]
  },
  {
   "cell_type": "markdown",
   "metadata": {},
   "source": [
    "The original metadata from the `.dm4` file is available at `original_metadata`:"
   ]
  },
  {
   "cell_type": "code",
   "execution_count": null,
   "metadata": {
    "tags": []
   },
   "outputs": [],
   "source": [
    "cl_spec.original_metadata"
   ]
  },
  {
   "cell_type": "markdown",
   "metadata": {
    "tags": []
   },
   "source": [
    "You can add or change parameters manually using:"
   ]
  },
  {
   "cell_type": "code",
   "execution_count": null,
   "metadata": {},
   "outputs": [],
   "source": [
    "cl_spec.metadata.set_item('General.title', 'demo spectrum')\n",
    "cl_spec.metadata.set_item('General.comment', 'I love using LumiSpy')"
   ]
  },
  {
   "cell_type": "code",
   "execution_count": null,
   "metadata": {},
   "outputs": [],
   "source": [
    "cl_spec.metadata"
   ]
  },
  {
   "cell_type": "markdown",
   "metadata": {},
   "source": [
    "## Saving the manipulated data to the HyperSpy format\n",
    "\n",
    "HyperSpy can not save to `.dm4` files, but supports writing files to the `hdf5` format:"
   ]
  },
  {
   "cell_type": "code",
   "execution_count": null,
   "metadata": {},
   "outputs": [],
   "source": [
    "cl_spec.save('cl_test_spectrum.hspy')"
   ]
  }
 ],
 "metadata": {
  "kernelspec": {
   "display_name": "Python 3",
   "language": "python",
   "name": "python3"
  },
  "language_info": {
   "codemirror_mode": {
    "name": "ipython",
    "version": 3
   },
   "file_extension": ".py",
   "mimetype": "text/x-python",
   "name": "python",
   "nbconvert_exporter": "python",
   "pygments_lexer": "ipython3",
   "version": "3.9.2"
  }
 },
 "nbformat": 4,
 "nbformat_minor": 4
}
