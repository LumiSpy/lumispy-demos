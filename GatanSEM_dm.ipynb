{
 "cells": [
  {
   "cell_type": "markdown",
   "metadata": {},
   "source": [
    "# Demo for LumiSpy package working with Gatan SEM CL data\n",
    "\n",
    "This notebook shows:\n",
    "\n",
    "- Loading a `.dm4/.dm3` file correctly with the lumispy load function\n",
    "- Plotting cathodoluminescence data in different ways\n",
    "- Correcting for spectral defects"
   ]
  },
  {
   "cell_type": "markdown",
   "metadata": {},
   "source": [
    "Import packages:"
   ]
  },
  {
   "cell_type": "code",
   "execution_count": 4,
   "metadata": {},
   "outputs": [],
   "source": [
    "%matplotlib qt \n",
    "#%matplotlib inline\n",
    "import hyperspy.api as hs\n",
    "import lumispy as lum"
   ]
  },
  {
   "cell_type": "markdown",
   "metadata": {},
   "source": [
    "### Loading .dm4/dm3 files"
   ]
  },
  {
   "cell_type": "markdown",
   "metadata": {},
   "source": [
    "Use the `load_hypcard` function to load the AttoLight SEM specific files. State the relative path to the `HYPCard.bin` file."
   ]
  },
  {
   "cell_type": "code",
   "execution_count": 5,
   "metadata": {},
   "outputs": [],
   "source": [
    "cl_spec = hs.load('GatanFiles/Test-spectrum_ZnO-NWs.dm4')"
   ]
  },
  {
   "cell_type": "code",
   "execution_count": 6,
   "metadata": {},
   "outputs": [],
   "source": [
    "cl_spec.plot()"
   ]
  },
  {
   "cell_type": "code",
   "execution_count": 8,
   "metadata": {},
   "outputs": [],
   "source": [
    "cl_linescan = hs.load('GatanFiles/Test-linescan_InGaAs-NWs.dm4')"
   ]
  },
  {
   "cell_type": "code",
   "execution_count": 10,
   "metadata": {},
   "outputs": [],
   "source": [
    "cl_linescan.plot()"
   ]
  },
  {
   "cell_type": "markdown",
   "metadata": {},
   "source": [
    "### Correction of spectral defects\n",
    "\n",
    "Let's start by removing the signal background:"
   ]
  },
  {
   "cell_type": "code",
   "execution_count": null,
   "metadata": {},
   "outputs": [],
   "source": [
    "cl_spec.remove_background(background_type=\"Offset\")"
   ]
  },
  {
   "cell_type": "markdown",
   "metadata": {},
   "source": [
    "There are also corrections for the cosmic rays (pixels with sharp spikes):"
   ]
  },
  {
   "cell_type": "code",
   "execution_count": 13,
   "metadata": {},
   "outputs": [
    {
     "data": {
      "application/vnd.jupyter.widget-view+json": {
       "model_id": "",
       "version_major": 2,
       "version_minor": 0
      },
      "text/plain": [
       "VBox(children=(VBox(children=(Button(description='Show derivative histogram', layout=Layout(width='auto'), sty…"
      ]
     },
     "metadata": {},
     "output_type": "display_data"
    }
   ],
   "source": [
    "#cl_linescan.spikes_removal_tool()"
   ]
  },
  {
   "cell_type": "markdown",
   "metadata": {},
   "source": [
    "### Plotting data\n",
    "\n",
    "Plot the corrected data:"
   ]
  },
  {
   "cell_type": "code",
   "execution_count": 18,
   "metadata": {},
   "outputs": [],
   "source": [
    "cl_spec.plot()"
   ]
  },
  {
   "cell_type": "markdown",
   "metadata": {},
   "source": [
    "### Working with the metadata\n",
    "\n",
    "All the microscope & spectrometer parameters are saved in the metadata. It can be assessed via:"
   ]
  },
  {
   "cell_type": "code",
   "execution_count": 16,
   "metadata": {},
   "outputs": [
    {
     "data": {
      "text/plain": [
       "├── Acquisition_instrument\n",
       "│   └── TEM\n",
       "│       ├── Stage\n",
       "│       │   ├── tilt_alpha = 0.0\n",
       "│       │   ├── tilt_beta = 164.99998474121094\n",
       "│       │   ├── x = 71.00000232458115\n",
       "│       │   ├── y = 54.00000140070915\n",
       "│       │   └── z = 0.4999999073334038\n",
       "│       ├── acquisition_mode = TEM\n",
       "│       ├── beam_current = 0.0\n",
       "│       ├── beam_energy = 5.0\n",
       "│       ├── camera_length = 0.0\n",
       "│       ├── magnification = 10075.4912109375\n",
       "│       └── microscope = Ultra55\n",
       "├── General\n",
       "│   ├── original_filename = Test-spectrum_ZnO-NWs.dm4\n",
       "│   └── title = NW008-1_9k_spec1\n",
       "└── Signal\n",
       "    ├── Noise_properties\n",
       "    │   └── Variance_linear_model\n",
       "    │       ├── gain_factor = 1.0\n",
       "    │       └── gain_offset = 0.0\n",
       "    ├── binned = False\n",
       "    ├── quantity = Intensity (Counts)\n",
       "    └── signal_type = cl_spectrum"
      ]
     },
     "execution_count": 16,
     "metadata": {},
     "output_type": "execute_result"
    }
   ],
   "source": [
    "cl_spec.metadata"
   ]
  },
  {
   "cell_type": "markdown",
   "metadata": {},
   "source": [
    "You can add any other parameter manually using:"
   ]
  },
  {
   "cell_type": "code",
   "execution_count": 23,
   "metadata": {},
   "outputs": [],
   "source": [
    "cl_spec.metadata.set_item('Acquisition_instrument.SEM.acceleration_voltage', 5)\n",
    "cl_spec.metadata.set_item('Acquisition_instrument.SEM.acquisition_mode', 'SEM')"
   ]
  },
  {
   "cell_type": "code",
   "execution_count": 24,
   "metadata": {},
   "outputs": [
    {
     "data": {
      "text/plain": [
       "├── Acquisition_instrument\n",
       "│   ├── SEM\n",
       "│   │   ├── acceleration_voltage = 5\n",
       "│   │   └── acquisition_mode = SEM\n",
       "│   └── TEM\n",
       "│       ├── Stage\n",
       "│       │   ├── tilt_alpha = 0.0\n",
       "│       │   ├── tilt_beta = 164.99998474121094\n",
       "│       │   ├── x = 71.00000232458115\n",
       "│       │   ├── y = 54.00000140070915\n",
       "│       │   └── z = 0.4999999073334038\n",
       "│       ├── acquisition_mode = TEM\n",
       "│       ├── beam_current = 0.0\n",
       "│       ├── beam_energy = 5.0\n",
       "│       ├── camera_length = 0.0\n",
       "│       ├── magnification = 10075.4912109375\n",
       "│       └── microscope = Ultra55\n",
       "├── General\n",
       "│   ├── original_filename = Test-spectrum_ZnO-NWs.dm4\n",
       "│   └── title = NW008-1_9k_spec1\n",
       "└── Signal\n",
       "    ├── Noise_properties\n",
       "    │   └── Variance_linear_model\n",
       "    │       ├── gain_factor = 1.0\n",
       "    │       └── gain_offset = 0.0\n",
       "    ├── binned = False\n",
       "    ├── quantity = Intensity (Counts)\n",
       "    └── signal_type = cl_spectrum"
      ]
     },
     "execution_count": 24,
     "metadata": {},
     "output_type": "execute_result"
    }
   ],
   "source": [
    "cl_spec.metadata"
   ]
  },
  {
   "cell_type": "code",
   "execution_count": null,
   "metadata": {},
   "outputs": [],
   "source": []
  }
 ],
 "metadata": {
  "kernelspec": {
   "display_name": "Python 3",
   "language": "python",
   "name": "python3"
  },
  "language_info": {
   "codemirror_mode": {
    "name": "ipython",
    "version": 3
   },
   "file_extension": ".py",
   "mimetype": "text/x-python",
   "name": "python",
   "nbconvert_exporter": "python",
   "pygments_lexer": "ipython3",
   "version": "3.7.4"
  }
 },
 "nbformat": 4,
 "nbformat_minor": 4
}
